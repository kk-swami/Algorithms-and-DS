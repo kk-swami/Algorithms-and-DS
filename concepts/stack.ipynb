{
 "cells": [
  {
   "cell_type": "markdown",
   "id": "eda14360-793e-4a90-af11-bf2e525ba09e",
   "metadata": {},
   "source": [
    "## Car Fleet\n",
    "https://leetcode.com/problems/car-fleet/"
   ]
  },
  {
   "cell_type": "code",
   "execution_count": 75,
   "id": "6b9a2e5f-2198-49cd-93e6-ba163f772977",
   "metadata": {},
   "outputs": [],
   "source": [
    "from typing import List\n",
    "import math\n",
    "class Solution:\n",
    "    def carFleet(self, target: int, position: List[int], speed: List[int]) -> int:\n",
    "        \n",
    "        stack = []\n",
    "        for item in sorted(zip(position, speed))[::-1]:\n",
    "            time = (target-item[0])/item[1]\n",
    "            if not stack:\n",
    "                stack.append(time)\n",
    "            else:\n",
    "                if time > stack[-1]:\n",
    "                    stack.append(time)\n",
    "        return len(stack)\n",
    "            \n",
    "        \n",
    " \n",
    "        \n",
    "            "
   ]
  },
  {
   "cell_type": "code",
   "execution_count": 76,
   "id": "36176258-f3aa-464e-b9cb-56da0f9325a3",
   "metadata": {},
   "outputs": [],
   "source": [
    "a = Solution()"
   ]
  },
  {
   "cell_type": "code",
   "execution_count": 78,
   "id": "10842743-2e56-41ce-bce0-e2df1723d40d",
   "metadata": {},
   "outputs": [],
   "source": [
    "target = 10\n",
    "position = [8,3,7,4,6,5]\n",
    "speed = [4,4,4,4,4,4]"
   ]
  },
  {
   "cell_type": "code",
   "execution_count": 79,
   "id": "02a2f3f5-3e9b-4d29-8016-81773d4f8a94",
   "metadata": {},
   "outputs": [
    {
     "name": "stdout",
     "output_type": "stream",
     "text": [
      "(8, 4)\n",
      "(7, 4)\n",
      "(6, 4)\n",
      "(5, 4)\n",
      "(4, 4)\n",
      "(3, 4)\n",
      "[0.5, 0.75, 1.0, 1.25, 1.5, 1.75]\n"
     ]
    },
    {
     "data": {
      "text/plain": [
       "6"
      ]
     },
     "execution_count": 79,
     "metadata": {},
     "output_type": "execute_result"
    }
   ],
   "source": [
    "a.carFleet(target, position, speed)"
   ]
  },
  {
   "cell_type": "markdown",
   "id": "6a3215e7-eb5f-4cdc-9447-27ff5c971978",
   "metadata": {},
   "source": [
    "## Reverse polish notation\n",
    "https://leetcode.com/problems/evaluate-reverse-polish-notation/"
   ]
  },
  {
   "cell_type": "code",
   "execution_count": 90,
   "id": "49108d75-b6e3-4973-9de0-60138065d699",
   "metadata": {},
   "outputs": [],
   "source": [
    "class Solution:\n",
    "    def evalRPN(self, tokens: List[str]) -> int:\n",
    "        operator_list = [\"+\", \"-\", \"*\", \"/\"]\n",
    "        \n",
    "        stack = []\n",
    "        for item in tokens:\n",
    "            if item not in operator_list:\n",
    "                stack.append(item)\n",
    "            else:\n",
    "                item2 = stack.pop()\n",
    "                item1 = stack.pop()\n",
    "\n",
    "                stack.append(str(int(eval(item1 + item + item2))))\n",
    "        return int(stack[-1])\n",
    "                \n",
    "            "
   ]
  },
  {
   "cell_type": "code",
   "execution_count": 91,
   "id": "fb8d5183-60fd-4cea-9603-78870f1acb76",
   "metadata": {},
   "outputs": [],
   "source": [
    "a = Solution()"
   ]
  },
  {
   "cell_type": "raw",
   "id": "4055546b-36b5-4e5a-a8a5-ecec58e1e715",
   "metadata": {},
   "source": [
    "tokens = [\"2\",\"1\",\"+\",\"3\",\"*\"]\n",
    "tokens = [\"10\",\"6\",\"9\",\"3\",\"+\",\"-11\",\"*\",\"/\",\"*\",\"17\",\"+\",\"5\",\"+\"]\n",
    "a.evalRPN(tokens)"
   ]
  },
  {
   "cell_type": "markdown",
   "id": "40113c5c-fd14-411a-8619-51b009988aec",
   "metadata": {},
   "source": [
    "## Collisions on a road\n",
    "https://leetcode.com/problems/count-collisions-on-a-road/"
   ]
  },
  {
   "cell_type": "code",
   "execution_count": 114,
   "id": "5ea49fab-f87d-4112-b4b5-8dc741e56c43",
   "metadata": {},
   "outputs": [],
   "source": [
    "class Solution:\n",
    "    def countCollisions(self, directions: str) -> int:\n",
    "        stack = []\n",
    "        collisions = 0\n",
    "        \n",
    "\n",
    "        for i in range(0, len(directions)):\n",
    "            \n",
    "            stack.append(directions[i])\n",
    "            while (len(stack)>1) :\n",
    "                if (stack[-1]=='L') and (stack[-2]=='R'):\n",
    "                    collisions = collisions + 2\n",
    "                    stack.pop()\n",
    "                    stack.pop()\n",
    "                    stack.append('S')\n",
    "                    continue\n",
    "                elif (stack[-1]=='L') and (stack[-2]=='S'):\n",
    "                    collisions = collisions + 1\n",
    "                    stack.pop()\n",
    "                    continue\n",
    "                elif (stack[-1]=='S') and (stack[-2]=='R'):\n",
    "                    collisions = collisions + 1\n",
    "                    stack.pop()\n",
    "                    stack.pop()\n",
    "                    stack.append('S')\n",
    "                    continue\n",
    "                else:\n",
    "                    break\n",
    "        return collisions\n",
    "                    \n",
    "                    \n",
    "                \n",
    "                    \n",
    "            "
   ]
  },
  {
   "cell_type": "code",
   "execution_count": 115,
   "id": "6e073519-a785-4aa0-87a7-75573eea038b",
   "metadata": {},
   "outputs": [],
   "source": [
    "a = Solution()"
   ]
  },
  {
   "cell_type": "code",
   "execution_count": 116,
   "id": "cfd528d6-1d74-4a69-a6eb-c712712d716d",
   "metadata": {},
   "outputs": [
    {
     "name": "stdout",
     "output_type": "stream",
     "text": [
      "0 before ['S']\n",
      "0 after ['S']\n",
      "1 before ['S', 'S']\n",
      "1 after ['S', 'S']\n",
      "2 before ['S', 'S', 'R']\n",
      "2 after ['S', 'S', 'R']\n",
      "3 before ['S', 'S', 'R', 'S']\n",
      "3 after ['S', 'S', 'S']\n",
      "4 before ['S', 'S', 'S', 'S']\n",
      "4 after ['S', 'S', 'S', 'S']\n",
      "5 before ['S', 'S', 'S', 'S', 'R']\n",
      "5 after ['S', 'S', 'S', 'S', 'R']\n",
      "6 before ['S', 'S', 'S', 'S', 'R', 'L']\n",
      "6 after ['S', 'S', 'S', 'S', 'S']\n",
      "7 before ['S', 'S', 'S', 'S', 'S', 'L']\n",
      "7 after ['S', 'S', 'S', 'S', 'S']\n",
      "8 before ['S', 'S', 'S', 'S', 'S', 'R']\n",
      "8 after ['S', 'S', 'S', 'S', 'S', 'R']\n",
      "9 before ['S', 'S', 'S', 'S', 'S', 'R', 'S']\n",
      "9 after ['S', 'S', 'S', 'S', 'S', 'S']\n",
      "10 before ['S', 'S', 'S', 'S', 'S', 'S', 'L']\n",
      "10 after ['S', 'S', 'S', 'S', 'S', 'S']\n",
      "11 before ['S', 'S', 'S', 'S', 'S', 'S', 'L']\n",
      "11 after ['S', 'S', 'S', 'S', 'S', 'S']\n",
      "12 before ['S', 'S', 'S', 'S', 'S', 'S', 'R']\n",
      "12 after ['S', 'S', 'S', 'S', 'S', 'S', 'R']\n",
      "13 before ['S', 'S', 'S', 'S', 'S', 'S', 'R', 'S']\n",
      "13 after ['S', 'S', 'S', 'S', 'S', 'S', 'S']\n",
      "14 before ['S', 'S', 'S', 'S', 'S', 'S', 'S', 'R']\n",
      "14 after ['S', 'S', 'S', 'S', 'S', 'S', 'S', 'R']\n",
      "15 before ['S', 'S', 'S', 'S', 'S', 'S', 'S', 'R', 'S']\n",
      "15 after ['S', 'S', 'S', 'S', 'S', 'S', 'S', 'S']\n",
      "16 before ['S', 'S', 'S', 'S', 'S', 'S', 'S', 'S', 'S']\n",
      "16 after ['S', 'S', 'S', 'S', 'S', 'S', 'S', 'S', 'S']\n",
      "17 before ['S', 'S', 'S', 'S', 'S', 'S', 'S', 'S', 'S', 'R']\n",
      "17 after ['S', 'S', 'S', 'S', 'S', 'S', 'S', 'S', 'S', 'R']\n",
      "18 before ['S', 'S', 'S', 'S', 'S', 'S', 'S', 'S', 'S', 'R', 'L']\n",
      "18 after ['S', 'S', 'S', 'S', 'S', 'S', 'S', 'S', 'S', 'S']\n",
      "19 before ['S', 'S', 'S', 'S', 'S', 'S', 'S', 'S', 'S', 'S', 'R']\n",
      "19 after ['S', 'S', 'S', 'S', 'S', 'S', 'S', 'S', 'S', 'S', 'R']\n",
      "20 before ['S', 'S', 'S', 'S', 'S', 'S', 'S', 'S', 'S', 'S', 'R', 'R']\n",
      "20 after ['S', 'S', 'S', 'S', 'S', 'S', 'S', 'S', 'S', 'S', 'R', 'R']\n",
      "21 before ['S', 'S', 'S', 'S', 'S', 'S', 'S', 'S', 'S', 'S', 'R', 'R', 'R']\n",
      "21 after ['S', 'S', 'S', 'S', 'S', 'S', 'S', 'S', 'S', 'S', 'R', 'R', 'R']\n",
      "22 before ['S', 'S', 'S', 'S', 'S', 'S', 'S', 'S', 'S', 'S', 'R', 'R', 'R', 'R']\n",
      "22 after ['S', 'S', 'S', 'S', 'S', 'S', 'S', 'S', 'S', 'S', 'R', 'R', 'R', 'R']\n",
      "23 before ['S', 'S', 'S', 'S', 'S', 'S', 'S', 'S', 'S', 'S', 'R', 'R', 'R', 'R', 'L']\n",
      "23 after ['S', 'S', 'S', 'S', 'S', 'S', 'S', 'S', 'S', 'S', 'S']\n",
      "24 before ['S', 'S', 'S', 'S', 'S', 'S', 'S', 'S', 'S', 'S', 'S', 'L']\n",
      "24 after ['S', 'S', 'S', 'S', 'S', 'S', 'S', 'S', 'S', 'S', 'S']\n",
      "25 before ['S', 'S', 'S', 'S', 'S', 'S', 'S', 'S', 'S', 'S', 'S', 'R']\n",
      "25 after ['S', 'S', 'S', 'S', 'S', 'S', 'S', 'S', 'S', 'S', 'S', 'R']\n",
      "26 before ['S', 'S', 'S', 'S', 'S', 'S', 'S', 'S', 'S', 'S', 'S', 'R', 'R']\n",
      "26 after ['S', 'S', 'S', 'S', 'S', 'S', 'S', 'S', 'S', 'S', 'S', 'R', 'R']\n",
      "27 before ['S', 'S', 'S', 'S', 'S', 'S', 'S', 'S', 'S', 'S', 'S', 'R', 'R', 'L']\n",
      "27 after ['S', 'S', 'S', 'S', 'S', 'S', 'S', 'S', 'S', 'S', 'S', 'S']\n",
      "28 before ['S', 'S', 'S', 'S', 'S', 'S', 'S', 'S', 'S', 'S', 'S', 'S', 'S']\n",
      "28 after ['S', 'S', 'S', 'S', 'S', 'S', 'S', 'S', 'S', 'S', 'S', 'S', 'S']\n",
      "29 before ['S', 'S', 'S', 'S', 'S', 'S', 'S', 'S', 'S', 'S', 'S', 'S', 'S', 'S']\n",
      "29 after ['S', 'S', 'S', 'S', 'S', 'S', 'S', 'S', 'S', 'S', 'S', 'S', 'S', 'S']\n",
      "30 before ['S', 'S', 'S', 'S', 'S', 'S', 'S', 'S', 'S', 'S', 'S', 'S', 'S', 'S', 'R']\n",
      "30 after ['S', 'S', 'S', 'S', 'S', 'S', 'S', 'S', 'S', 'S', 'S', 'S', 'S', 'S', 'R']\n",
      "31 before ['S', 'S', 'S', 'S', 'S', 'S', 'S', 'S', 'S', 'S', 'S', 'S', 'S', 'S', 'R', 'R']\n",
      "31 after ['S', 'S', 'S', 'S', 'S', 'S', 'S', 'S', 'S', 'S', 'S', 'S', 'S', 'S', 'R', 'R']\n"
     ]
    },
    {
     "data": {
      "text/plain": [
       "20"
      ]
     },
     "execution_count": 116,
     "metadata": {},
     "output_type": "execute_result"
    }
   ],
   "source": [
    "directions = \"SSRSSRLLRSLLRSRSSRLRRRRLLRRLSSRR\"\n",
    "a.countCollisions(directions)"
   ]
  },
  {
   "cell_type": "markdown",
   "id": "1b3ae4e1-6da1-4dbf-b6eb-a395d9b7bf72",
   "metadata": {},
   "source": [
    "https://leetcode.com/problems/largest-rectangle-in-histogram/\n",
    "## Largest rectangle in histogram"
   ]
  },
  {
   "cell_type": "markdown",
   "id": "c2c254f2-da86-461d-adc5-e5d5d5000b74",
   "metadata": {},
   "source": [
    "Intuition : Use stacks - why stacks. If the array is monotonically decreasing (heights <= prev height), at every index, we can compute height and discard that index as the at index i ends there itself\n",
    "\n",
    "Similarly, if array is monotonically increasing, we don't want to discard any index till then end, and for every index finally , we compute area = height[i]*(final index - i) and take max\n",
    "\n",
    "We want a mix of these two situations where heights increase and decrease"
   ]
  },
  {
   "cell_type": "code",
   "execution_count": 13,
   "id": "d0856c6b-245c-4fb9-b042-cd74b1bf9014",
   "metadata": {},
   "outputs": [],
   "source": [
    "from typing import List\n",
    "class Solution:\n",
    "    def largestRectangleArea(self, heights: List[int]) -> int:\n",
    "        \n",
    "        n = len(heights)\n",
    "        \n",
    "        \n",
    "        max_area = heights[0]\n",
    "        \n",
    "        if len(heights)==1:\n",
    "            return max_area\n",
    "        stack = [(0, heights[0])]  ## why initialize with 0 instead of empty ? as we want to compare i with i-1 which is not possible for i=0\n",
    "        \n",
    "        ## here we do the popping\n",
    "        for i in range(1,n):\n",
    "            \n",
    "            if heights[i]>=heights[i-1]:  ## no need to pop, add the current height\n",
    "                stack.append((i, heights[i]))\n",
    "            else:\n",
    "                while (stack) and (stack[-1][1]>heights[i]) :\n",
    "                    j, height = stack.pop()\n",
    "                    max_area = max(max_area, (i-j)*height)\n",
    "                stack.append((j, heights[i]))\n",
    "                \n",
    "        ## at the end of this, we have a strictly monotinic stack at positions\n",
    "        \n",
    "        if stack:\n",
    "            final_index = i + 1\n",
    "            for k in range(0, len(stack)):\n",
    "                j, height = stack[k]\n",
    "                max_area = max(max_area, (final_index-j)*height )\n",
    "        return max_area\n",
    "            \n",
    "        "
   ]
  },
  {
   "cell_type": "code",
   "execution_count": 14,
   "id": "8c7d2b9f-cd0e-4ad3-85b0-0f448552f136",
   "metadata": {},
   "outputs": [],
   "source": [
    "a = Solution()"
   ]
  },
  {
   "cell_type": "code",
   "execution_count": 15,
   "id": "ec17a3ac-d644-4927-a4d0-9e9c8dff26c6",
   "metadata": {},
   "outputs": [
    {
     "data": {
      "text/plain": [
       "3"
      ]
     },
     "execution_count": 15,
     "metadata": {},
     "output_type": "execute_result"
    }
   ],
   "source": [
    "heights = [2,1,2]\n",
    "a.largestRectangleArea(heights)"
   ]
  },
  {
   "cell_type": "code",
   "execution_count": null,
   "id": "500018fa-a8cb-4012-9421-3360f66cf44b",
   "metadata": {},
   "outputs": [],
   "source": []
  }
 ],
 "metadata": {
  "kernelspec": {
   "display_name": "Python 3",
   "language": "python",
   "name": "python3"
  },
  "language_info": {
   "codemirror_mode": {
    "name": "ipython",
    "version": 3
   },
   "file_extension": ".py",
   "mimetype": "text/x-python",
   "name": "python",
   "nbconvert_exporter": "python",
   "pygments_lexer": "ipython3",
   "version": "3.8.8"
  }
 },
 "nbformat": 4,
 "nbformat_minor": 5
}
