{
 "cells": [
  {
   "cell_type": "markdown",
   "id": "ce1211f0-54dd-4e79-af7a-f5d1ea84e764",
   "metadata": {},
   "source": [
    "## Power(x, n)\n",
    "https://leetcode.com/problems/powx-n/"
   ]
  },
  {
   "cell_type": "code",
   "execution_count": 11,
   "id": "9181dfae-8795-4b3d-bd72-2a8659f199bd",
   "metadata": {},
   "outputs": [],
   "source": [
    "class Solution:\n",
    "    def myPow(self, x: float, n: int) -> float:\n",
    "\n",
    "        if x==0:\n",
    "            return float(0)\n",
    "        if x==1:\n",
    "            return float(1)\n",
    "        abs_n = abs(n)\n",
    "\n",
    "\n",
    "        def power(y, k):\n",
    "\n",
    "            if k==0:\n",
    "                return 1\n",
    "            if k==1:\n",
    "                return y\n",
    "            \n",
    "            temp = power(y, k//2)\n",
    "            if k%2==1: ## odd number\n",
    "                \n",
    "                output =  temp*temp * y\n",
    "            else:\n",
    "                output = temp*temp\n",
    "            return output\n",
    "        final_output = power(x, abs_n)\n",
    "        if abs_n != n : ## negative exponent\n",
    "            final_output = 1/final_output\n",
    "        return final_output"
   ]
  },
  {
   "cell_type": "code",
   "execution_count": 12,
   "id": "e5c53dc2-0e33-4d29-9c60-c7d04bd834a9",
   "metadata": {},
   "outputs": [],
   "source": [
    "a = Solution()"
   ]
  },
  {
   "cell_type": "code",
   "execution_count": 13,
   "id": "6f550b72-6b32-4527-a541-035ac8e56471",
   "metadata": {},
   "outputs": [
    {
     "data": {
      "text/plain": [
       "0.0"
      ]
     },
     "execution_count": 13,
     "metadata": {},
     "output_type": "execute_result"
    }
   ],
   "source": [
    "a.myPow(0.00001, 2147483647)"
   ]
  },
  {
   "cell_type": "code",
   "execution_count": null,
   "id": "21e40695-af8e-4a37-b76a-17b1054a1ee0",
   "metadata": {},
   "outputs": [],
   "source": []
  },
  {
   "cell_type": "code",
   "execution_count": null,
   "id": "6f963938-2e69-4fab-9f1b-db7ba1f8bbe6",
   "metadata": {},
   "outputs": [],
   "source": []
  }
 ],
 "metadata": {
  "kernelspec": {
   "display_name": "Python 3",
   "language": "python",
   "name": "python3"
  },
  "language_info": {
   "codemirror_mode": {
    "name": "ipython",
    "version": 3
   },
   "file_extension": ".py",
   "mimetype": "text/x-python",
   "name": "python",
   "nbconvert_exporter": "python",
   "pygments_lexer": "ipython3",
   "version": "3.8.8"
  }
 },
 "nbformat": 4,
 "nbformat_minor": 5
}
