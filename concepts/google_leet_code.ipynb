{
 "cells": [
  {
   "cell_type": "markdown",
   "id": "ea37c985-69f7-4a07-93da-47c6637ba33e",
   "metadata": {},
   "source": [
    "## Race Car\n",
    "https://leetcode.com/problems/race-car/"
   ]
  },
  {
   "cell_type": "code",
   "execution_count": 18,
   "id": "a4139b1f-56b6-4376-a408-be2d54add247",
   "metadata": {},
   "outputs": [],
   "source": [
    "from collections import deque\n",
    "class Solution:\n",
    "    def racecar(self, target: int) -> int:\n",
    "        \n",
    "        queue = deque()\n",
    "        queue.append((0,1,0))  ## position, speed, num_steps\n",
    "        positions_visited = set()\n",
    "        \n",
    "        output = None\n",
    "        num_steps = 0\n",
    "        while len(queue)>0:\n",
    "            curr_position, curr_speed,num_steps = queue.popleft()\n",
    "            print(\"************\", curr_position, curr_speed, num_steps, \"************\")\n",
    "            positions_visited.add((curr_position, curr_speed))\n",
    "            if curr_position==target:\n",
    "                output = num_steps\n",
    "                break\n",
    "            else:\n",
    "                ## if 'A'\n",
    "                \n",
    "                if ((curr_position + curr_speed, 2*curr_speed)) not in positions_visited:\n",
    "                    queue.append((curr_position + curr_speed, 2*curr_speed, num_steps+1))\n",
    "                \n",
    "                \n",
    "                ## if 'R'\n",
    "                if curr_speed >= 0:\n",
    "                    if (curr_position+curr_speed) > target:\n",
    "                        if ((curr_position, -1)) not in positions_visited:\n",
    "                            queue.append((curr_position, -1, num_steps + 1))\n",
    "                else:\n",
    "                    if (curr_position+curr_speed) < target :\n",
    "                        if ((curr_position , 1)) not in positions_visited:\n",
    "                            queue.append((curr_position, 1, num_steps + 1))\n",
    "        return output\n",
    "                \n",
    "                \n",
    "        \n",
    "        \n",
    "            \n",
    "            \n"
   ]
  },
  {
   "cell_type": "code",
   "execution_count": 19,
   "id": "c3872e69-a141-4afb-97e8-b27b073d2dd1",
   "metadata": {},
   "outputs": [
    {
     "name": "stdout",
     "output_type": "stream",
     "text": [
      "************ 0 1 0 ************\n",
      "************ 1 2 1 ************\n",
      "************ 3 4 2 ************\n",
      "************ 7 8 3 ************\n",
      "************ 3 -1 3 ************\n",
      "************ 15 16 4 ************\n",
      "************ 7 -1 4 ************\n",
      "************ 2 -2 4 ************\n",
      "************ 3 1 4 ************\n",
      "************ 31 32 5 ************\n",
      "************ 15 -1 5 ************\n",
      "************ 6 -2 5 ************\n",
      "************ 0 -4 5 ************\n",
      "************ 2 1 5 ************\n",
      "************ 4 2 5 ************\n"
     ]
    },
    {
     "data": {
      "text/plain": [
       "5"
      ]
     },
     "execution_count": 19,
     "metadata": {},
     "output_type": "execute_result"
    }
   ],
   "source": [
    "a = Solution()\n",
    "a.racecar(4)"
   ]
  },
  {
   "cell_type": "markdown",
   "id": "fbe52b74-39b0-4c5e-9a78-ce2e90807916",
   "metadata": {},
   "source": [
    "## Shortest path in grid with obstacles elimination\n",
    "https://leetcode.com/problems/shortest-path-in-a-grid-with-obstacles-elimination/\n",
    "    "
   ]
  },
  {
   "cell_type": "code",
   "execution_count": 51,
   "id": "5fdacab7-b8c5-4f2f-b348-95a990c9f441",
   "metadata": {},
   "outputs": [],
   "source": [
    "from typing import List\n",
    "from collections import deque\n",
    "class Solution:\n",
    "    \n",
    "    def shortestPath2(self, grid: List[List[int]], k: int) -> int:\n",
    "\n",
    "        m, n = len(grid), len(grid[0])\n",
    "        qu = deque()\n",
    "        qu.append((0,0,0,0)) ## i,j, k initial, path_length\n",
    "\n",
    "        visited_positions = set()\n",
    "        output = -1\n",
    "        while len(qu)>0:\n",
    "\n",
    "            i,j, k_utilized, path_length = qu.popleft()\n",
    "            print(i, j, k_utilized, path_length)\n",
    "            if (i,j)== (m-1, n-1):\n",
    "                if k_utilized <= k:\n",
    "                    output = path_length\n",
    "                    break\n",
    "            if (i,j,k_utilized) in visited_positions:\n",
    "                continue\n",
    "            visited_positions.add((i,j,k_utilized))\n",
    "            neighbours = [(i-1,j), (i+1,j), (i,j-1), (i,j+1)]\n",
    "            for i_n, j_n in neighbours:\n",
    "                if (i_n < 0) or (j_n < 0) or (i_n >=m) or (j_n >= n):\n",
    "                    continue \n",
    "                if (i_n, j_n) in visited_positions:\n",
    "                    continue                \n",
    "                if grid[i_n][j_n]==0:\n",
    "                    qu.append((i_n, j_n, k_utilized, path_length + 1))\n",
    "               \n",
    "                if grid[i_n][j_n]==1:\n",
    "                    if k_utilized < k:\n",
    "                        qu.append((i_n, j_n, k_utilized + 1, path_length + 1))\n",
    "        return output\n",
    "    \n",
    "    def shortestPath(self, grid: List[List[int]], k: int) -> int:\n",
    "\n",
    "        m, n = len(grid), len(grid[0])\n",
    "        qu = deque()\n",
    "        qu.append((0,0,k,0)) ## i,j, k_remaining, path_length\n",
    "\n",
    "        visited_positions = set()\n",
    "        output = -1\n",
    "        while len(qu)>0:\n",
    "\n",
    "            i,j, k_remaining, path_length = qu.popleft()\n",
    "            print(i, j, k_remaining, path_length)\n",
    "            if (i,j)== (m-1, n-1):\n",
    "                output = path_length\n",
    "                break\n",
    "            if (i,j) in visited_positions:\n",
    "                continue\n",
    "            visited_positions.add((i,j))\n",
    "            neighbours = [(i-1,j), (i+1,j), (i,j-1), (i,j+1)]\n",
    "            \n",
    "                \n",
    "            for i_n, j_n in neighbours:\n",
    "                if (i_n < 0) or (j_n < 0) or (i_n >=m) or (j_n >= n):\n",
    "                    continue \n",
    "                if (i_n, j_n) in visited_positions:\n",
    "                    continue                \n",
    "                if grid[i_n][j_n]==0:\n",
    "                    \n",
    "                    qu.append((i_n, j_n, k_remaining, path_length + 1))\n",
    "            for i_n , j_n in neighbours:\n",
    "                if (i_n < 0) or (j_n < 0) or (i_n >=m) or (j_n >= n):\n",
    "                    continue \n",
    "                if (i_n, j_n) in visited_positions:\n",
    "                    continue                \n",
    "                if k_remaining>0:\n",
    "                    if grid[i_n][j_n]==1:\n",
    "                        qu.append((i_n, j_n, k_remaining-1, path_length + 1))\n",
    "        return output\n",
    "                \n",
    "\n",
    "\n",
    "\n",
    "        \n"
   ]
  },
  {
   "cell_type": "code",
   "execution_count": 52,
   "id": "3f563920-7165-447f-9b3e-d52760223f01",
   "metadata": {},
   "outputs": [],
   "source": [
    "a = Solution()"
   ]
  },
  {
   "cell_type": "code",
   "execution_count": 54,
   "id": "f147eeba-8597-4dcd-9fe5-56c9ad080127",
   "metadata": {},
   "outputs": [
    {
     "name": "stdout",
     "output_type": "stream",
     "text": [
      "0 0 0 0\n",
      "1 0 1 1\n",
      "0 1 0 1\n",
      "0 0 1 2\n",
      "2 0 1 2\n",
      "1 1 1 2\n",
      "0 0 0 2\n",
      "0 2 0 2\n",
      "0 1 1 3\n",
      "3 0 1 3\n",
      "2 1 1 3\n",
      "0 1 1 3\n",
      "2 1 1 3\n",
      "1 2 1 3\n",
      "1 2 0 3\n",
      "0 1 0 3\n",
      "0 0 1 4\n",
      "0 2 1 4\n",
      "2 0 1 4\n",
      "4 0 1 4\n",
      "2 0 1 4\n",
      "2 2 1 4\n",
      "0 2 1 4\n",
      "2 2 1 4\n",
      "0 2 0 4\n",
      "2 2 0 4\n",
      "1 1 1 4\n",
      "1 2 1 5\n",
      "0 1 1 5\n",
      "3 0 1 5\n",
      "4 1 1 5\n",
      "1 2 1 5\n",
      "2 1 1 5\n",
      "1 2 0 5\n",
      "3 2 1 5\n",
      "2 1 0 5\n",
      "4 0 1 6\n",
      "4 2 1 6\n"
     ]
    },
    {
     "data": {
      "text/plain": [
       "6"
      ]
     },
     "execution_count": 54,
     "metadata": {},
     "output_type": "execute_result"
    }
   ],
   "source": [
    "grid = [[0,1,0,0,0,1,0,0],[0,1,0,1,0,1,0,1],[0,0,0,1,0,0,1,0]]\n",
    "grid = [[0,0,0],[1,1,0],[0,0,0],[0,1,1],[0,0,0]]\n",
    "k = 1\n",
    "a.shortestPath2(grid, k)"
   ]
  },
  {
   "cell_type": "code",
   "execution_count": null,
   "id": "438ab419-3fe9-4625-beef-fb6d7480a95e",
   "metadata": {},
   "outputs": [],
   "source": [
    "from collections import deque\n",
    "class Solution:\n",
    "\n",
    "                \n",
    "\n",
    "\n",
    "\n",
    "        \n"
   ]
  },
  {
   "cell_type": "code",
   "execution_count": 55,
   "id": "e476af9c-1614-42c2-9845-4c72b0979409",
   "metadata": {},
   "outputs": [],
   "source": [
    "start= 1\n",
    "end = 10\n",
    "new_set = set(range(start, end, 1))"
   ]
  },
  {
   "cell_type": "code",
   "execution_count": 56,
   "id": "077dc5f8-8e19-4c4a-b8ff-ae25b855f642",
   "metadata": {},
   "outputs": [
    {
     "data": {
      "text/plain": [
       "{1, 2, 3, 4, 5, 6, 7, 8, 9}"
      ]
     },
     "execution_count": 56,
     "metadata": {},
     "output_type": "execute_result"
    }
   ],
   "source": [
    "new_set"
   ]
  },
  {
   "cell_type": "markdown",
   "id": "2c7c833b-2828-41aa-9cf6-1227104b354f",
   "metadata": {},
   "source": [
    "## Stock Price fluctuation\n",
    "https://leetcode.com/problems/stock-price-fluctuation/"
   ]
  },
  {
   "cell_type": "code",
   "execution_count": 57,
   "id": "7edfb051-f6fb-4c1e-967f-685408a6afde",
   "metadata": {},
   "outputs": [
    {
     "ename": "SyntaxError",
     "evalue": "invalid syntax (<ipython-input-57-e56f2d6af1a7>, line 4)",
     "output_type": "error",
     "traceback": [
      "\u001b[1;36m  File \u001b[1;32m\"<ipython-input-57-e56f2d6af1a7>\"\u001b[1;36m, line \u001b[1;32m4\u001b[0m\n\u001b[1;33m    def __init__(self, price = None, timestamp = None left = None, right = None):\u001b[0m\n\u001b[1;37m                                                      ^\u001b[0m\n\u001b[1;31mSyntaxError\u001b[0m\u001b[1;31m:\u001b[0m invalid syntax\n"
     ]
    }
   ],
   "source": [
    "import heapq\n",
    "class LinkedList:\n",
    "    \n",
    "    def __init__(self, price = None, timestamp = None left = None, right = None):\n",
    "        \n",
    "        self.price = price\n",
    "        self.timestamp = timestamp\n",
    "        self.left = left\n",
    "        self.right = right\n",
    "        \n",
    "\n",
    "class StockPrice:\n",
    "    \n",
    "    def __init__(self):\n",
    "        \n",
    "        self.time_stamp_hash = {}\n",
    "        self.current_time_stamp = 0\n",
    "        self.maximum_heap = []\n",
    "        self.minimum_heap = []\n",
    "        \n",
    "\n",
    "\n",
    "        \n",
    "        \n",
    "        \n",
    "        \n",
    "        \n",
    "    def update(self, timestamp : int, price : int) -> None:\n",
    "        \n",
    "            \n",
    "        self.time_stamp_hash[timestamp] = price\n",
    "        heapq.heappush(self.maximum_heap, (-price, timestamp))\n",
    "        heapq.heappush(self.minimum_heap, (price, timestamp))\n",
    "\n",
    "        self.current_time_stamp = max(self.current_time_stamp, timestamp)\n",
    "\n",
    "    \n",
    "    def current(self) -> int\n",
    "        return self.time_stamp_hash[self.current_time_stamp]\n",
    "    \n",
    "    def maximum(self) -> int\n",
    "        while self.time_stamp_hash[self.maximum_heap[0][1]] != -self.maximum_heap[0][0]:\n",
    "            heapq.heappop(self.maximum_heap)\n",
    "        return -self.maximum_heap[0][0]\n",
    "    \n",
    "    def minimum(self) -> int\n",
    "        while self.time_stamp_hash[self.minimum_heap[0][1]] != self.minimum_heap[0][0]:\n",
    "            heapq.heappop(self.minimum_heap)\n",
    "        return self.minimum_heap[0][0]"
   ]
  },
  {
   "cell_type": "markdown",
   "id": "bcfe4712-ff00-467b-8dc3-673bd9211e80",
   "metadata": {},
   "source": [
    "## Logger rate limiter\n",
    "https://leetcode.com/problems/logger-rate-limiter/\n",
    "    "
   ]
  },
  {
   "cell_type": "code",
   "execution_count": null,
   "id": "052a9d4a-bb7e-4509-af64-b2705f7f8ca0",
   "metadata": {},
   "outputs": [],
   "source": [
    "class Logger:\n",
    "\n",
    "    def __init__(self):\n",
    "        self.message_timestamp = {}\n",
    "        \n",
    "\n",
    "    def shouldPrintMessage(self, timestamp: int, message: str) -> bool:\n",
    "        \n",
    "        if message not in self.message_timestamp.keys():\n",
    "            self.message_timestamp[message] = timestamp\n",
    "            return True\n",
    "        else:\n",
    "            if timestamp >= (self.message_timestamp[message]+10):\n",
    "                self.message_timestamp[message] = timestamp\n",
    "                return True\n",
    "            else:\n",
    "                return False\n",
    "                \n",
    "            "
   ]
  },
  {
   "cell_type": "markdown",
   "id": "eb0ac79f-4967-4125-a6bc-6a4a40643cd6",
   "metadata": {},
   "source": [
    "## Leaves of binary tree\n",
    "https://leetcode.com/problems/find-leaves-of-binary-tree/"
   ]
  },
  {
   "cell_type": "code",
   "execution_count": 2,
   "id": "eb3769fd-5e21-418a-83ba-02a230fc6a2d",
   "metadata": {},
   "outputs": [],
   "source": [
    "class TreeNode:\n",
    "    \n",
    "    def __init__(self, val=None, left=None, right=None):\n",
    "        self.val = val\n",
    "        self.left = left\n",
    "        self.right = right"
   ]
  },
  {
   "cell_type": "code",
   "execution_count": 1,
   "id": "aaff1d9f-d74a-41e7-99c9-f13f83b86d12",
   "metadata": {},
   "outputs": [],
   "source": [
    "class TreeNode:\n",
    "    \n",
    "    def __init__(self, val=None, left=None, right=None):\n",
    "        self.val = val\n",
    "        self.left = left\n",
    "        self.right = right\n",
    "\n",
    "def deserialize(string):\n",
    "    if string == '{}':\n",
    "        return None\n",
    "    nodes = [None if val == 'null' else TreeNode(int(val))\n",
    "             for val in string.strip('[]{}').split(',')]\n",
    "    kids = nodes[::-1]\n",
    "    root = kids.pop()\n",
    "    for node in nodes:\n",
    "        if node:\n",
    "            if kids: node.left  = kids.pop()\n",
    "            if kids: node.right = kids.pop()\n",
    "    return root"
   ]
  },
  {
   "cell_type": "code",
   "execution_count": 141,
   "id": "bfdc9a22-9251-4c95-94ac-b8018dc8bb62",
   "metadata": {},
   "outputs": [],
   "source": [
    "from typing import Optional\n",
    "class Solution:\n",
    "    \n",
    "    def findLeaves(self, root : Optional[TreeNode]):\n",
    "        output = []\n",
    "        curr_list = []\n",
    "        \n",
    "        def dfs(node):\n",
    "            print(\"begin\", node.val, output, curr_list)\n",
    "\n",
    "            if node.left is not None:\n",
    "                if (not node.left.left and not node.left.right): ## node.left is a leaf node\n",
    "                    curr_list.append(node.left.val)\n",
    "                    node.left = None\n",
    "                    return\n",
    "                else:\n",
    "                    dfs(node.left)\n",
    "\n",
    "            if node.right is not None:\n",
    "                if (not node.right.left and not node.right.right): ## node.left is a leaf node\n",
    "                    curr_list.append(node.right.val)\n",
    "                    node.right = None  \n",
    "                    return\n",
    "                else:\n",
    "                    dfs(node.right)\n",
    "            print(\"end\", node.val, output, curr_list)\n",
    "\n",
    "        \n",
    "        while root is not None:\n",
    "            if (not root.left) and (not root.right):\n",
    "                output.append([root.val])\n",
    "                break\n",
    "            dfs(root)\n",
    "            print(\"********\")\n",
    "            \n",
    "            output.append(curr_list.copy())\n",
    "            curr_list = []\n",
    "        return output\n",
    "            \n",
    "            \n",
    "        \n",
    "        "
   ]
  },
  {
   "cell_type": "code",
   "execution_count": 150,
   "id": "3dc5e51a-1526-45e8-9fea-bd855c65efdd",
   "metadata": {},
   "outputs": [],
   "source": [
    "\n",
    "t = deserialize('{[1,2,3,4,5]}')"
   ]
  },
  {
   "cell_type": "code",
   "execution_count": 142,
   "id": "ff312fc6-3d83-4363-9384-4c1c81cb171e",
   "metadata": {},
   "outputs": [],
   "source": [
    "a = Solution()"
   ]
  },
  {
   "cell_type": "markdown",
   "id": "230f2dc4-907f-49dd-9c73-f758dc2d4a94",
   "metadata": {},
   "source": [
    "## My Calendar\n",
    "https://leetcode.com/problems/my-calendar-i/"
   ]
  },
  {
   "cell_type": "code",
   "execution_count": 178,
   "id": "b4515e96-a1e0-4ae0-aed3-322c8b067588",
   "metadata": {},
   "outputs": [],
   "source": [
    "class MyCalendar:\n",
    "\n",
    "    def __init__(self):\n",
    "        self.interval = []\n",
    "        \n",
    "\n",
    "    def book(self, start: int, end: int) -> bool:\n",
    "        n = len(self.interval)\n",
    "        if n==0:\n",
    "            self.interval.append([start, end])\n",
    "            return True\n",
    "        else:\n",
    "            l = 0\n",
    "            \n",
    "            r = n - 1\n",
    "            res = -1\n",
    "            while l <= r:\n",
    "                print(l,r)\n",
    "                m = l + ((r-l)//2)\n",
    "                if self.interval[m][1]<=start: ## possible solution\n",
    "                    res = max(res, m)\n",
    "                    l = m + 1\n",
    "\n",
    "                else:\n",
    "                    r = m - 1\n",
    "            print(\"res\", res)\n",
    "            if res==-1: ## couldn't find a single interval whose end position <= start\n",
    "                if end <= self.interval[0][0]: ## intersection\n",
    "                    self.interval = [(start, end)] + self.interval\n",
    "                    return True\n",
    "                else:\n",
    "                    \n",
    "                    return False\n",
    "            else:\n",
    "                if res==(n-1):\n",
    "                    self.interval = self.interval + [(start, end)]\n",
    "                    return True\n",
    "                else:\n",
    "                    if end > self.interval[res+1][0]: ##intersection\n",
    "                        return False\n",
    "                    else:\n",
    "                        print(\"**res**\",res,self.interval[0:(res+1)])\n",
    "                        self.interval = self.interval[0:(res+1)] + [(start,end)] + self.interval[(res+1):n]\n",
    "                        return True"
   ]
  },
  {
   "cell_type": "code",
   "execution_count": 173,
   "id": "a4e124a3-f127-41ff-a6f9-e4651756d36a",
   "metadata": {},
   "outputs": [],
   "source": []
  },
  {
   "cell_type": "markdown",
   "id": "6e314501-aa1c-4f27-aea7-0a514bab640f",
   "metadata": {},
   "source": [
    "intervals = [47,50],[33,41],[39,45],[33,42],[25,32],[26,35],[19,25],[3,8],[8,13],[18,27]\n",
    "count = 0\n",
    "myCalendar = MyCalendar()\n",
    "for interval in intervals:\n",
    "    print(\"*****\", count)\n",
    "    print(interval)\n",
    "    output = myCalendar.book(interval[0], interval[1])\n",
    "    print(output)\n",
    "    print(myCalendar.interval)\n",
    "    count = count + 1"
   ]
  },
  {
   "cell_type": "markdown",
   "id": "86d83b03-f3b6-49dd-8199-3fb94dddd659",
   "metadata": {},
   "source": [
    "## My calendar 2\n",
    "https://leetcode.com/problems/my-calendar-ii/"
   ]
  },
  {
   "cell_type": "code",
   "execution_count": 263,
   "id": "a429c659-0d93-4fa4-8f2a-406a5893c826",
   "metadata": {},
   "outputs": [],
   "source": [
    "class MyCalendarTwo:\n",
    "\n",
    "    def __init__(self):\n",
    "        self.start_end = []\n",
    "        \n",
    "    def binary_search(self, target=None, typ=\"start\"):\n",
    "        print(\"inside binary search\", target, typ)\n",
    "        temp = self.start_end.copy()\n",
    "        self.n = len(self.start_end)\n",
    "        print(self.start_end)\n",
    "        l = 0\n",
    "        r = self.n-1\n",
    "     \n",
    "        \n",
    "        res = -1 ## find largest point such that res <= target\n",
    "        while (l<=r):\n",
    "            \n",
    "            m = l + ((r-l)//2)\n",
    "            \n",
    "            if temp[m][0]>target: ## move to left, not a valid solution\n",
    "                r = m - 1\n",
    "            else:\n",
    "                res = max(res, m)\n",
    "                l = m + 1\n",
    "        print(\"res\")\n",
    "        if res==-1: ## target before the start_end\n",
    "            if typ=='start':\n",
    "                temp = [[target, 1]] + temp\n",
    "            else:\n",
    "                temp = [[target, -1]] + temp\n",
    "        else:\n",
    "            if res > temp[-1][0]: ## target after start_end\n",
    "                if typ=='start':\n",
    "                    temp = temp + [[target, 1]]\n",
    "                else:\n",
    "                    temp = temp + [[target, -1]]\n",
    "            else:\n",
    "                if temp[res][0]==target:\n",
    "                    if typ=='start':\n",
    "                        temp[res][1] = temp[res][1] + 1\n",
    "                        \n",
    "                    else:\n",
    "                        temp[res][1] = temp[res][1] - 1\n",
    "                else:\n",
    "                    if typ=='start':\n",
    "                        temp = temp[0:(res + 1)] + [[target,1]] + temp[(res+1):self.n] \n",
    "                    else:\n",
    "                        temp = temp[0:(res + 1)] + [[target,-1]] + temp[(res+1):self.n]\n",
    "        \n",
    "        print(\"final before\", temp)\n",
    "        if typ!=\"start\":\n",
    "            if self.check(temp):\n",
    "                self.start_end = temp\n",
    "                return True\n",
    "            else:\n",
    "                return False\n",
    "        print(\"final\", temp)\n",
    "    \n",
    "    def check(self, l):\n",
    "        cum_sum = 0\n",
    "        for i in range(0, len(l)):\n",
    "            cum_sum = cum_sum + l[i][1]\n",
    "            if abs(cum_sum)>=3:\n",
    "                return False\n",
    "        return True\n",
    "\n",
    "    def book(self, start: int, end: int) -> bool:\n",
    "        print(\"inside book\", start, end)\n",
    "        self.n = len(self.start_end)\n",
    "        if len(self.start_end)==0:\n",
    "            self.start_end.append([start, 1])\n",
    "            self.start_end.append([end, -1])\n",
    "            return True\n",
    "        else:\n",
    "            out1 = self.binary_search(start, \"start\")\n",
    "\n",
    "            out2 = self.binary_search( end, \"end\")\n",
    "            if out2==False:\n",
    "                return False\n",
    "            else:\n",
    "                return True\n",
    "\n",
    "            \n",
    "        "
   ]
  },
  {
   "cell_type": "code",
   "execution_count": null,
   "id": "cc2a29ab-f1dd-4cf8-9e3f-acab98274e83",
   "metadata": {},
   "outputs": [],
   "source": []
  },
  {
   "cell_type": "code",
   "execution_count": 282,
   "id": "3ce71c3e-94e4-4dd2-8b67-955e2ab9438f",
   "metadata": {},
   "outputs": [],
   "source": [
    "obj = MyCalendarTwo()"
   ]
  },
  {
   "cell_type": "code",
   "execution_count": 272,
   "id": "129ceabc-f6b4-44bb-af33-ffff2a476883",
   "metadata": {},
   "outputs": [],
   "source": [
    "meetings  = [[47,50],[1,10],[27,36],[40,47],[20,27],[15,23],[10,18],[27,36],[17,25],[8,17],[24,33],[23,28],[21,27],[47,50],[14,21],[26,32],[16,21],[2,7],[24,33],[6,13],[44,50],[33,39],[30,36],[6,15],[21,27],[49,50],[38,45],[4,12],[46,50],[13,21]]"
   ]
  },
  {
   "cell_type": "code",
   "execution_count": 303,
   "id": "271cb218-c655-4d1e-9f9d-e66b0596feeb",
   "metadata": {},
   "outputs": [],
   "source": [
    "from sortedcontainers import SortedDict\n",
    "class MyCalendarTwo2:\n",
    "\n",
    "    def __init__(self):\n",
    "        self.events = SortedDict()\n",
    "        \n",
    "\n",
    "\n",
    "\n",
    "    def book(self, start: int, end: int) -> bool:\n",
    "        if start in self.events:\n",
    "            self.events[start] = self.events[start] + 1\n",
    "        else:\n",
    "            self.events[start] = 1\n",
    "\n",
    "        if end in self.events:\n",
    "            self.events[end] = self.events[start] - 1\n",
    "        else:\n",
    "            self.events[end] = -1\n",
    "            \n",
    "        cumsum = 0\n",
    "        for event in self.events:\n",
    "            cumsum += self.events[event]\n",
    "            \n",
    "            if cumsum > 2: \n",
    "                # This event cannot be booked hence don't add it to map\n",
    "                self.events[start] = self.events[start] - 1\n",
    "                self.events[end] = self.events[end] + 1\n",
    "                \n",
    "                if self.events[start] == 0: del self.events[start]\n",
    "                if self.events[end] == 0: del self.events[end]\n",
    "                return False\n",
    "        return True\n",
    "\n",
    "            \n",
    "        "
   ]
  },
  {
   "cell_type": "markdown",
   "id": "85e9041e-166d-4ca3-84f7-47b2867399ef",
   "metadata": {},
   "source": [
    "## My calendar 3\n",
    "https://leetcode.com/problems/my-calendar-iii"
   ]
  },
  {
   "cell_type": "code",
   "execution_count": 314,
   "id": "c6ac6eaa-a9c6-4c2a-9ebb-63039a73200c",
   "metadata": {},
   "outputs": [],
   "source": [
    "from sortedcontainers import SortedDict\n",
    "class MyCalendarThree:\n",
    "\n",
    "    def __init__(self):\n",
    "        self.events = SortedDict()\n",
    "        \n",
    "\n",
    "    def book(self, startTime: int, endTime: int) -> int:\n",
    "        if startTime not in self.events:\n",
    "            self.events[startTime] = 1\n",
    "        else:\n",
    "            self.events[startTime] = self.events[startTime]  + 1\n",
    "        if endTime not in self.events:\n",
    "            self.events[endTime] = -1\n",
    "        else:\n",
    "            self.events[endTime] = self.events[endTime]  - 1\n",
    "        cum_sum = 0\n",
    "        max_value = 0\n",
    "        for key in self.events:\n",
    "            cum_sum = cum_sum + self.events[key]\n",
    "            max_value = max(max_value, cum_sum)\n",
    "        return max_value\n",
    "        \n",
    "\n",
    "\n",
    "# Your MyCalendarThree object will be instantiated and called as such:\n",
    "# obj = MyCalendarThree()\n",
    "# param_1 = obj.book(startTime,endTime)"
   ]
  },
  {
   "cell_type": "markdown",
   "id": "b3b43b4e-216c-4482-a9d1-348e5bfc57cf",
   "metadata": {},
   "source": [
    "https://leetcode.com/problems/range-module/\n",
    "## Range Module"
   ]
  },
  {
   "cell_type": "code",
   "execution_count": 198,
   "id": "918feb85-5073-4f94-8185-2260d83c9e7b",
   "metadata": {},
   "outputs": [],
   "source": [
    "from sortedcontainers import SortedDict\n",
    "import bisect\n",
    "class RangeModule:\n",
    "\n",
    "    def __init__(self):\n",
    "        self.range_tracker = SortedDict()\n",
    "\n",
    "    def addRange(self, left: int, right: int) -> None:\n",
    "        if left in self.range_tracker:\n",
    "            self.range_tracker[left] = self.range_tracker[left] + 1\n",
    "        else:\n",
    "            self.range_tracker[left] = 1\n",
    "\n",
    "        if right in self.range_tracker:\n",
    "            self.range_tracker[right] = self.range_tracker[right] - 1\n",
    "        else:\n",
    "            self.range_tracker[right] = -1\n",
    "            \n",
    "    def queryRange2(self, left:int, right:int) -> bool : ## returns true if any interval in left-right is true\n",
    "        print(\"inside query range 2\")\n",
    "        keys = list(self.range_tracker.keys())\n",
    "        if len(keys)==0:\n",
    "            return False\n",
    "        if (right<keys[0]) or  (left>keys[-1]):\n",
    "            return False\n",
    "        else:\n",
    "            index = bisect.bisect_left(keys, left)\n",
    "            cumsum = 0\n",
    "            if keys[index]  in self.range_tracker:\n",
    "                if index>0:\n",
    "                    index=index-1\n",
    "            print(keys[index:])\n",
    "            for key in keys[index:]:\n",
    "                print(key, cumsum)\n",
    "                if key >= right:\n",
    "                    break\n",
    "                cumsum = cumsum + self.range_tracker[key]\n",
    "                if cumsum>0:\n",
    "                    return True\n",
    "                else:\n",
    "                    pass\n",
    "            return False\n",
    "\n",
    "    def queryRange(self, left: int, right: int) -> bool: ## returns true if every interval in left-right is there in query\n",
    "        print(\"inside query range\")\n",
    "        keys = list(self.range_tracker.keys())\n",
    "        if len(keys)==0: return False\n",
    "        \n",
    "        if (left<keys[0]) or (right>keys[-1]):\n",
    "            return False\n",
    "        \n",
    "        else:\n",
    "            index = bisect.bisect_left(keys, left)\n",
    "            print(\"index\", index)\n",
    "            cumsum = 0\n",
    "            if keys[index] not in self.range_tracker:\n",
    "                if index>0:\n",
    "                    index=index-1\n",
    "            for key in keys[index:]:\n",
    "                if key >= right:\n",
    "                    break\n",
    "                cumsum = cumsum + self.range_tracker[key]\n",
    "                if cumsum<=0:\n",
    "                    return False\n",
    "                else:\n",
    "                    pass\n",
    "                print(key, cumsum)\n",
    "            return True\n",
    "                    \n",
    "                \n",
    "            \n",
    "            \n",
    "        \n",
    "        \n",
    "        \n",
    "\n",
    "    def removeRange(self, left: int, right: int) -> None:\n",
    "        if self.queryRange(left, right):\n",
    "            if left in self.range_tracker:\n",
    "                self.range_tracker[left] = self.range_tracker[left] - 1\n",
    "            else:\n",
    "                self.range_tracker[left] = -1\n",
    "\n",
    "            if right in self.range_tracker:\n",
    "                self.range_tracker[right] = self.range_tracker[right]+  1\n",
    "            else:\n",
    "                self.range_tracker[right] = 1\n",
    "        \n",
    "        \n",
    "        "
   ]
  },
  {
   "cell_type": "code",
   "execution_count": 72,
   "id": "622b20d8-9a38-4dd2-b7c7-68863c473bed",
   "metadata": {},
   "outputs": [],
   "source": [
    "import bisect\n",
    "class RangeModule:\n",
    "\n",
    "    def __init__(self):\n",
    "        self.track = [] ## stores start,end, start, end and so on\n",
    "        \n",
    "\n",
    "    def addRange(self, left: int, right: int) -> None:\n",
    "\n",
    "        start = bisect.bisect_left(self.track, left)  ## finds index of start and end to add a range\n",
    "        end = bisect.bisect_right(self.track, right)\n",
    "        \n",
    "        subtrack = []\n",
    "        ## don't add if index is odd  - why ? this means existing index is good enough . for example if your array is[2,4,6,7]ie intervals 2-4 and 6-7 and we add 3-5, 3 is added at position 1 which is odd (means between existing interval, no need to additionally consider)\n",
    "        if start % 2 == 0:\n",
    "            subtrack.append(left)\n",
    "        if end % 2 == 0:\n",
    "            subtrack.append(right)\n",
    "\t\t\t\n",
    "        self.track[start:end] = subtrack\n",
    "        \n",
    "\n",
    "\n",
    "    def queryRange(self, left: int, right: int) -> bool:\n",
    "        ## not that here we use bisect_right for start, end bisect_end for left. basically we want to check within an existing range to see if it exists, so right of existing start, and left of existing bisect_end\n",
    "        ## If start is odd, means start within an existing index. if e. if start==end, means both are within same interval\n",
    "        start = bisect.bisect_right(self.track, left)\n",
    "        end = bisect.bisect_left(self.track, right)\n",
    "\t\t\n",
    "        return start == end and start % 2 == 1\n",
    "\n",
    "    def removeRange(self, left: int, right: int) -> None:\n",
    "        start = bisect.bisect_left(self.track, left)\n",
    "        end = bisect.bisect_right(self.track, right)\n",
    "        \n",
    "        subtrack = []\n",
    "        if start % 2 == 1:\n",
    "            subtrack.append(left)\n",
    "        if end % 2 == 1:\n",
    "            subtrack.append(right)\n",
    "\t\t\t\n",
    "        self.track[start:end] = subtrack\n",
    "            \n",
    "\n",
    "\n",
    "# Your RangeModule object will be instantiated and called as such:\n",
    "# obj = RangeModule()\n",
    "# obj.addRange(left,right)\n",
    "# param_2 = obj.queryRange(left,right)\n",
    "# obj.removeRange(left,right)"
   ]
  },
  {
   "cell_type": "code",
   "execution_count": 73,
   "id": "1c464c49-24de-464a-a7b8-4a359bfc440f",
   "metadata": {},
   "outputs": [],
   "source": [
    "a = RangeModule()\n"
   ]
  },
  {
   "cell_type": "code",
   "execution_count": 200,
   "id": "ac8b6468-322b-4a44-9571-595bd4650721",
   "metadata": {},
   "outputs": [
    {
     "name": "stdout",
     "output_type": "stream",
     "text": [
      "inside query range\n"
     ]
    }
   ],
   "source": [
    "a.removeRange(4,8)"
   ]
  },
  {
   "cell_type": "code",
   "execution_count": 74,
   "id": "0152ae13-00d1-42cb-af41-9723f2445543",
   "metadata": {},
   "outputs": [],
   "source": [
    "a.addRange(1,10)"
   ]
  },
  {
   "cell_type": "code",
   "execution_count": 75,
   "id": "c336b381-0867-4e65-9bee-a50e3a7fb44a",
   "metadata": {},
   "outputs": [],
   "source": [
    "a.addRange(2,5)"
   ]
  },
  {
   "cell_type": "code",
   "execution_count": 76,
   "id": "014b3734-0158-44ef-92b0-310a600341dc",
   "metadata": {},
   "outputs": [
    {
     "data": {
      "text/plain": [
       "[[1, 10], [2, 10]]"
      ]
     },
     "execution_count": 76,
     "metadata": {},
     "output_type": "execute_result"
    }
   ],
   "source": [
    "a.range_tracker"
   ]
  },
  {
   "cell_type": "code",
   "execution_count": 203,
   "id": "31a92997-6ae2-49a9-9650-84dc3b808426",
   "metadata": {},
   "outputs": [
    {
     "data": {
      "text/plain": [
       "SortedDict({1: 1, 10: -1})"
      ]
     },
     "execution_count": 203,
     "metadata": {},
     "output_type": "execute_result"
    }
   ],
   "source": [
    "a.range_tracker"
   ]
  },
  {
   "cell_type": "code",
   "execution_count": 206,
   "id": "630af98d-4148-4ad5-ae1f-e6535399fcd9",
   "metadata": {},
   "outputs": [],
   "source": [
    "a.addRange(2,3)"
   ]
  },
  {
   "cell_type": "code",
   "execution_count": 116,
   "id": "6ae5dea0-674e-4cdc-acfa-e3be32ef350b",
   "metadata": {},
   "outputs": [],
   "source": [
    "aa = [0,5,7,10]\n",
    "left = 3\n",
    "right = 12"
   ]
  },
  {
   "cell_type": "code",
   "execution_count": 117,
   "id": "f82ba557-8f9f-40b9-ab3e-b19df0cc5103",
   "metadata": {},
   "outputs": [],
   "source": [
    "start = bisect.bisect_left(aa, left)\n",
    "end = bisect.bisect_right(aa, right)"
   ]
  },
  {
   "cell_type": "code",
   "execution_count": 118,
   "id": "4dbbe324-2e6f-4ad0-a9d7-4ee9087b9b58",
   "metadata": {},
   "outputs": [
    {
     "name": "stdout",
     "output_type": "stream",
     "text": [
      "4\n"
     ]
    }
   ],
   "source": [
    "print(end)"
   ]
  },
  {
   "cell_type": "code",
   "execution_count": 119,
   "id": "5f3bb828-c97a-415f-bfe2-7f1f8dc3f2ac",
   "metadata": {},
   "outputs": [],
   "source": [
    "subtrack = []\n",
    "subtrack.append([3])"
   ]
  },
  {
   "cell_type": "code",
   "execution_count": 120,
   "id": "d76a5c34-1082-472c-93b1-8dafdc312b48",
   "metadata": {},
   "outputs": [
    {
     "data": {
      "text/plain": [
       "[5, 7, 10]"
      ]
     },
     "execution_count": 120,
     "metadata": {},
     "output_type": "execute_result"
    }
   ],
   "source": [
    "aa[start:end]"
   ]
  },
  {
   "cell_type": "code",
   "execution_count": 103,
   "id": "33dec67d-8877-4b94-bec8-0e92687f847c",
   "metadata": {},
   "outputs": [],
   "source": [
    "start = bisect.bisect_left(aa, left)\n",
    "end = bisect.bisect_right(aa, right)\n",
    "\n",
    "subtrack = []\n",
    "if start % 2 == 0:\n",
    "    subtrack.append(left)\n",
    "if end % 2 == 0:\n",
    "    subtrack.append(right)\n",
    "\t\t\t"
   ]
  },
  {
   "cell_type": "code",
   "execution_count": 104,
   "id": "e9be082c-c2f9-4080-9aa7-9ef94fb72fed",
   "metadata": {},
   "outputs": [
    {
     "data": {
      "text/plain": [
       "[0, 5, 7, 10]"
      ]
     },
     "execution_count": 104,
     "metadata": {},
     "output_type": "execute_result"
    }
   ],
   "source": [
    "aa[start:end]"
   ]
  },
  {
   "cell_type": "code",
   "execution_count": 89,
   "id": "4c9ea0a4-b669-41fc-974e-0f4b673b6924",
   "metadata": {},
   "outputs": [
    {
     "data": {
      "text/plain": [
       "[11, 12]"
      ]
     },
     "execution_count": 89,
     "metadata": {},
     "output_type": "execute_result"
    }
   ],
   "source": [
    "subtrack"
   ]
  },
  {
   "cell_type": "code",
   "execution_count": 47,
   "id": "de85f03b-9aed-419c-abe8-086024036ae7",
   "metadata": {},
   "outputs": [
    {
     "data": {
      "text/plain": [
       "1"
      ]
     },
     "execution_count": 47,
     "metadata": {},
     "output_type": "execute_result"
    }
   ],
   "source": [
    "import bisect\n",
    "bisect.bisect_left(first, start)"
   ]
  },
  {
   "cell_type": "code",
   "execution_count": 48,
   "id": "b60769c9-a7e4-49cd-83b2-932bbd9a0c9c",
   "metadata": {},
   "outputs": [
    {
     "data": {
      "text/plain": [
       "1"
      ]
     },
     "execution_count": 48,
     "metadata": {},
     "output_type": "execute_result"
    }
   ],
   "source": [
    "bisect.bisect_right(second, end)"
   ]
  },
  {
   "cell_type": "code",
   "execution_count": 49,
   "id": "577d1a6b-093e-40e4-89a2-eec66cf307fe",
   "metadata": {},
   "outputs": [
    {
     "data": {
      "text/plain": [
       "[]"
      ]
     },
     "execution_count": 49,
     "metadata": {},
     "output_type": "execute_result"
    }
   ],
   "source": [
    "aa[1:1]"
   ]
  },
  {
   "cell_type": "code",
   "execution_count": 37,
   "id": "d5c48b62-e86e-48ea-98ae-7419f3693f27",
   "metadata": {},
   "outputs": [],
   "source": [
    "fst, snd = zip(*aa)\n"
   ]
  },
  {
   "cell_type": "code",
   "execution_count": 209,
   "id": "fe00866d-48da-4e9c-86eb-cde58670d763",
   "metadata": {},
   "outputs": [
    {
     "data": {
      "text/plain": [
       "SortedDict({1: 1, 2: 0, 3: 0, 10: -1})"
      ]
     },
     "execution_count": 209,
     "metadata": {},
     "output_type": "execute_result"
    }
   ],
   "source": [
    "a.range_tracker"
   ]
  },
  {
   "cell_type": "code",
   "execution_count": 152,
   "id": "3e5618f8-c4f5-4041-9575-21b9a95ea0d4",
   "metadata": {},
   "outputs": [],
   "source": [
    "a.addRange(8,9)"
   ]
  },
  {
   "cell_type": "code",
   "execution_count": 153,
   "id": "a6593d67-81b1-4f92-92a9-399566882b18",
   "metadata": {},
   "outputs": [
    {
     "data": {
      "text/plain": [
       "SortedDict({6: 1, 7: -1, 8: 1, 9: -1})"
      ]
     },
     "execution_count": 153,
     "metadata": {},
     "output_type": "execute_result"
    }
   ],
   "source": [
    "a.range_tracker"
   ]
  },
  {
   "cell_type": "code",
   "execution_count": 119,
   "id": "b4e90ac7-c7a7-4f3a-b1c1-77a9e46a1b79",
   "metadata": {},
   "outputs": [
    {
     "data": {
      "text/plain": [
       "SortedDict({10: 1, 14: -1, 16: 1, 20: -1})"
      ]
     },
     "execution_count": 119,
     "metadata": {},
     "output_type": "execute_result"
    }
   ],
   "source": [
    "a.range_tracker"
   ]
  },
  {
   "cell_type": "code",
   "execution_count": 154,
   "id": "a9fc751d-d431-45bf-854d-84a93825e8d9",
   "metadata": {},
   "outputs": [
    {
     "name": "stdout",
     "output_type": "stream",
     "text": [
      "inside query 1 3\n",
      "keys [6, 7, 8, 9]\n",
      "boo\n"
     ]
    }
   ],
   "source": [
    "a.removeRange(1,3)"
   ]
  },
  {
   "cell_type": "code",
   "execution_count": 156,
   "id": "8a94ebed-52a4-4969-bd81-fce44a34a1c1",
   "metadata": {},
   "outputs": [],
   "source": [
    "a.addRange(1,8)"
   ]
  },
  {
   "cell_type": "code",
   "execution_count": 157,
   "id": "0f8c7733-9606-4860-8c24-fe69b8467bde",
   "metadata": {},
   "outputs": [
    {
     "data": {
      "text/plain": [
       "SortedDict({1: 1, 6: 1, 7: -1, 8: 0, 9: -1})"
      ]
     },
     "execution_count": 157,
     "metadata": {},
     "output_type": "execute_result"
    }
   ],
   "source": [
    "a.range_tracker"
   ]
  },
  {
   "cell_type": "code",
   "execution_count": 159,
   "id": "09c0c7f2-093b-456b-b420-ec897bfa016b",
   "metadata": {},
   "outputs": [
    {
     "name": "stdout",
     "output_type": "stream",
     "text": [
      "inside query 2 9\n",
      "keys [1, 6, 7, 8, 9]\n",
      "index 1\n",
      "[6, 7, 8, 9]\n",
      "here\n",
      "[6, 7, 8, 9]\n",
      "key 6\n",
      "cumsum 1\n",
      "key 7\n",
      "cumsum 0\n"
     ]
    },
    {
     "data": {
      "text/plain": [
       "False"
      ]
     },
     "execution_count": 159,
     "metadata": {},
     "output_type": "execute_result"
    }
   ],
   "source": [
    "a.queryRange(2,9)"
   ]
  },
  {
   "cell_type": "code",
   "execution_count": 140,
   "id": "ca495520-8948-4361-a758-4f652bff47e9",
   "metadata": {},
   "outputs": [
    {
     "name": "stdout",
     "output_type": "stream",
     "text": [
      "inside query 13 15\n",
      "keys [10, 14, 16, 20]\n",
      "index 1\n",
      "[14, 16, 20]\n",
      "here\n",
      "[14, 16, 20]\n",
      "key 14\n",
      "cumsum -1\n"
     ]
    },
    {
     "data": {
      "text/plain": [
       "False"
      ]
     },
     "execution_count": 140,
     "metadata": {},
     "output_type": "execute_result"
    }
   ],
   "source": [
    "a.queryRange(13,15)"
   ]
  },
  {
   "cell_type": "code",
   "execution_count": 136,
   "id": "a739cd03-4e3b-46cb-ac2a-6e51dbc5bd87",
   "metadata": {},
   "outputs": [
    {
     "data": {
      "text/plain": [
       "True"
      ]
     },
     "execution_count": 136,
     "metadata": {},
     "output_type": "execute_result"
    }
   ],
   "source": [
    "16 in a.range_tracker"
   ]
  },
  {
   "cell_type": "code",
   "execution_count": 141,
   "id": "65aaaa65-d4a1-4966-89db-f4b67060ce79",
   "metadata": {},
   "outputs": [
    {
     "name": "stdout",
     "output_type": "stream",
     "text": [
      "inside query 16 17\n",
      "keys [10, 14, 16, 20]\n",
      "index 2\n",
      "[16, 20]\n",
      "here\n",
      "[16, 20]\n",
      "key 16\n",
      "cumsum 1\n",
      "key 20\n",
      "breaking\n"
     ]
    },
    {
     "data": {
      "text/plain": [
       "True"
      ]
     },
     "execution_count": 141,
     "metadata": {},
     "output_type": "execute_result"
    }
   ],
   "source": [
    "a.queryRange(16,17)"
   ]
  },
  {
   "cell_type": "code",
   "execution_count": 89,
   "id": "c7f60df2-15d7-46d3-93b2-b4aacdb0347e",
   "metadata": {},
   "outputs": [],
   "source": [
    "a.addRange(10,180)"
   ]
  },
  {
   "cell_type": "code",
   "execution_count": 90,
   "id": "359b9703-ee95-48b5-a242-fe8c8f2a3fc7",
   "metadata": {},
   "outputs": [],
   "source": [
    "a.addRange(150,200)"
   ]
  },
  {
   "cell_type": "code",
   "execution_count": 91,
   "id": "f99a8bcf-e0e7-4b27-817e-107a7d90f854",
   "metadata": {},
   "outputs": [],
   "source": [
    "a.addRange(250,500)"
   ]
  },
  {
   "cell_type": "code",
   "execution_count": 92,
   "id": "b04ed758-a00a-4d7d-9cf0-f55412260347",
   "metadata": {},
   "outputs": [
    {
     "name": "stdout",
     "output_type": "stream",
     "text": [
      "inside query 50 100\n",
      "keys [10, 150, 180, 200, 250, 500]\n",
      "index 1\n",
      "[150, 180, 200, 250, 500]\n",
      "10 0\n"
     ]
    },
    {
     "data": {
      "text/plain": [
       "True"
      ]
     },
     "execution_count": 92,
     "metadata": {},
     "output_type": "execute_result"
    }
   ],
   "source": [
    "a.queryRange(50,100)"
   ]
  },
  {
   "cell_type": "code",
   "execution_count": 85,
   "id": "669c7348-66d8-49f5-8cdd-f1762f6f60b4",
   "metadata": {},
   "outputs": [
    {
     "data": {
      "text/plain": [
       "SortedDict({10: 1, 150: 1, 180: -1, 200: -1, 250: 1, 500: -1})"
      ]
     },
     "execution_count": 85,
     "metadata": {},
     "output_type": "execute_result"
    }
   ],
   "source": [
    "a.range_tracker"
   ]
  },
  {
   "cell_type": "code",
   "execution_count": 21,
   "id": "24533d15-13d2-49dd-a1a1-3f9241b8228a",
   "metadata": {},
   "outputs": [
    {
     "ename": "AttributeError",
     "evalue": "'SortedList' object has no attribute 'keys'",
     "output_type": "error",
     "traceback": [
      "\u001b[1;31m---------------------------------------------------------------------------\u001b[0m",
      "\u001b[1;31mAttributeError\u001b[0m                            Traceback (most recent call last)",
      "\u001b[1;32m<ipython-input-21-987cf108996b>\u001b[0m in \u001b[0;36m<module>\u001b[1;34m\u001b[0m\n\u001b[1;32m----> 1\u001b[1;33m \u001b[0mb\u001b[0m\u001b[1;33m.\u001b[0m\u001b[0mkeys\u001b[0m\u001b[1;33m(\u001b[0m\u001b[1;33m)\u001b[0m\u001b[1;33m\u001b[0m\u001b[1;33m\u001b[0m\u001b[0m\n\u001b[0m",
      "\u001b[1;31mAttributeError\u001b[0m: 'SortedList' object has no attribute 'keys'"
     ]
    }
   ],
   "source": [
    "b.keys()"
   ]
  },
  {
   "cell_type": "markdown",
   "id": "68e4302a-17de-48e7-b40d-cc3492b96c95",
   "metadata": {},
   "source": [
    "## Earliest moment when everyone becomes friends\n",
    "https://leetcode.com/problems/the-earliest-moment-when-everyone-become-friends/"
   ]
  },
  {
   "cell_type": "code",
   "execution_count": 211,
   "id": "061c1aa4-8ea0-4caf-b355-4f74057fe845",
   "metadata": {},
   "outputs": [],
   "source": [
    "from typing import List\n",
    "class Solution:\n",
    "\n",
    "    def find(self, res):\n",
    "\n",
    "        p = res\n",
    "        while self.parents[p] != p:\n",
    "            p = self.parents[p]\n",
    "\n",
    "        ## rank compression\n",
    "        while self.parents[res] != res:\n",
    "            temp = self.parents[res]\n",
    "            self.parents[res] = p\n",
    "            res = temp\n",
    "        return p\n",
    "            \n",
    "    def union(self, u1, u2):\n",
    "        p1 = self.find(u1)\n",
    "        p2 = self.find(u2)\n",
    "        if p1==p2: ## cycle\n",
    "            return\n",
    "        else:\n",
    "            if self.rank[p2]<=self.rank[p1]:\n",
    "                self.parents[p2] = p1\n",
    "                self.rank[p1] = self.rank[p1] + self.rank[p2]\n",
    "                self.max_rank = max(self.max_rank, self.rank[p1])\n",
    "            else:\n",
    "                self.parents[p1] = p2\n",
    "                self.rank[p2] = self.rank[p1] + self.rank[p2]\n",
    "                self.max_rank = max(self.max_rank, self.rank[p2])\n",
    "        \n",
    "        return\n",
    "\n",
    "    \n",
    "    \n",
    "    def earliestAcq(self, logs: List[List[int]], n: int) -> int:\n",
    "        self.parents = list(range(0, n))\n",
    "        self.rank = [1]*n\n",
    "        self.max_rank = 1\n",
    "\n",
    "        logs = sorted(logs, key = lambda x : x[0])\n",
    "        for log in logs:\n",
    "            u1, u2 = log[1], log[2]\n",
    "  \n",
    "            self.union(u1, u2)\n",
    "            if self.max_rank==n: ## all have same parents\n",
    "                return log[0]\n",
    "        return -1\n"
   ]
  },
  {
   "cell_type": "code",
   "execution_count": 212,
   "id": "42a87f11-1028-4ade-ae63-cb3f11adad4e",
   "metadata": {},
   "outputs": [],
   "source": [
    "a = Solution()"
   ]
  },
  {
   "cell_type": "code",
   "execution_count": 213,
   "id": "fef23ead-78ef-4f4b-9e1f-d94b1ebc5260",
   "metadata": {},
   "outputs": [],
   "source": [
    "logs = [[20190101,0,1],[20190104,3,4],[20190107,2,3],[20190211,1,5],[20190224,2,4],[20190301,0,3],[20190312,1,2],[20190322,4,5]]\n",
    "n = 6"
   ]
  },
  {
   "cell_type": "code",
   "execution_count": 216,
   "id": "f271d39d-b572-4e30-95e7-21b8f79ce8de",
   "metadata": {},
   "outputs": [],
   "source": [
    "logs = [[0,2,0],[1,0,1],[3,0,3],[4,1,2],[7,3,1]]\n",
    "n = 4"
   ]
  },
  {
   "cell_type": "code",
   "execution_count": 217,
   "id": "4035ab54-3207-4d90-abe7-cd91eb434d62",
   "metadata": {},
   "outputs": [
    {
     "data": {
      "text/plain": [
       "3"
      ]
     },
     "execution_count": 217,
     "metadata": {},
     "output_type": "execute_result"
    }
   ],
   "source": [
    "a.earliestAcq(logs, n)"
   ]
  },
  {
   "cell_type": "code",
   "execution_count": 219,
   "id": "2b582384-5c97-4a10-be06-8064deea2b5e",
   "metadata": {},
   "outputs": [
    {
     "data": {
      "text/plain": [
       "[1, 1, 4, 1]"
      ]
     },
     "execution_count": 219,
     "metadata": {},
     "output_type": "execute_result"
    }
   ],
   "source": [
    "a.rank"
   ]
  },
  {
   "cell_type": "code",
   "execution_count": 225,
   "id": "f6c6c2a4-b16b-4abf-9e91-79ed6a3bd1f3",
   "metadata": {},
   "outputs": [
    {
     "data": {
      "text/plain": [
       "2"
      ]
     },
     "execution_count": 225,
     "metadata": {},
     "output_type": "execute_result"
    }
   ],
   "source": [
    "bisect.bisect_left([[0,1], [2,3]], [4,])"
   ]
  },
  {
   "cell_type": "raw",
   "id": "58e89e8f-44d9-4db3-b0a5-a2d53f8cfe70",
   "metadata": {},
   "source": [
    "## step by step directions from binary tree to another\n",
    "https://leetcode.com/problems/step-by-step-directions-from-a-binary-tree-node-to-another/"
   ]
  },
  {
   "cell_type": "code",
   "execution_count": 21,
   "id": "b0297fb0-ead2-42c7-98c2-10a3761b7014",
   "metadata": {},
   "outputs": [],
   "source": [
    "from typing import Optional\n",
    "class Solution:\n",
    "    def getDirections(self, root: Optional[TreeNode], startValue: int, destValue: int) -> str:\n",
    "        \n",
    "        \n",
    "        output = {}\n",
    "        \n",
    "        def get_lca(node):\n",
    "            \n",
    "            if node is None:\n",
    "                return None\n",
    "            if node.val in [startValue, destValue]:\n",
    "                return node\n",
    "            left = get_lca(node.left)\n",
    "            right = get_lca(node.right)\n",
    "            if left and right:\n",
    "                return node\n",
    "            else:\n",
    "                if left:\n",
    "                    return left\n",
    "                else:\n",
    "                    return right\n",
    "                \n",
    "        def dfs(node, curr_path):\n",
    "            \n",
    "            if node is None:\n",
    "                return\n",
    "            if node.val==startValue:\n",
    "                output['start'] = curr_path\n",
    "            if node.val==destValue:\n",
    "                output['end'] = curr_path\n",
    "                \n",
    "            if node.left:\n",
    "                dfs(node.left, curr_path + 'L')\n",
    "            if node.right:\n",
    "                dfs(node.right, curr_path + 'R')\n",
    "            return\n",
    "            \n",
    "            \n",
    "        lca = get_lca(root)\n",
    "\n",
    "        \n",
    "        dfs(lca, \"\")\n",
    "        if output['start']==\"\":\n",
    "            return output[\"end\"]\n",
    "        elif output['end']==\"\":\n",
    "            return \"U\"*len(output['start'])\n",
    "        else:\n",
    "            return \"U\"*len(output['start']) + output['end']\n",
    "\n",
    "            \n",
    "            \n",
    "                \n",
    "            \n",
    "            \n",
    "        "
   ]
  },
  {
   "cell_type": "code",
   "execution_count": 13,
   "id": "92f19f59-192d-4bda-a849-a9e70151f82c",
   "metadata": {},
   "outputs": [],
   "source": [
    "class TreeNode:\n",
    "    \n",
    "    def __init__(self, val=None, left=None, right=None):\n",
    "        self.val = val\n",
    "        self.left = left\n",
    "        self.right = right\n",
    "\n",
    "def deserialize(string):\n",
    "    if string == '{}':\n",
    "        return None\n",
    "    nodes = [None if val == 'null' else TreeNode(int(val))\n",
    "             for val in string.strip('[]{}').split(',')]\n",
    "    kids = nodes[::-1]\n",
    "    root = kids.pop()\n",
    "    for node in nodes:\n",
    "        if node:\n",
    "            if kids: node.left  = kids.pop()\n",
    "            if kids: node.right = kids.pop()\n",
    "    return root"
   ]
  },
  {
   "cell_type": "code",
   "execution_count": 22,
   "id": "91a199ee-8b96-42f9-bf62-c3f7736a8f1f",
   "metadata": {},
   "outputs": [],
   "source": [
    "a = Solution()"
   ]
  },
  {
   "cell_type": "code",
   "execution_count": 18,
   "id": "ed6d017a-db1f-42fa-93f4-e55236c15b28",
   "metadata": {},
   "outputs": [],
   "source": [
    "t = deserialize('{[5,8,3,1,null,4,7,6,null,null,null,null,null,null,2]}')\n",
    "startValue = 4\n",
    "destValue = 3"
   ]
  },
  {
   "cell_type": "code",
   "execution_count": 23,
   "id": "0755a7a2-0774-4dc1-ab85-b5cdf2a5b0e0",
   "metadata": {},
   "outputs": [],
   "source": [
    "t = deserialize('{[1,2,3]}')\n",
    "startValue = 1\n",
    "destValue = 2"
   ]
  },
  {
   "cell_type": "code",
   "execution_count": 25,
   "id": "1f7b36ae-d599-4746-972e-5646c88c1971",
   "metadata": {},
   "outputs": [],
   "source": [
    "t = deserialize('{[5,1,2,3,null,6,4]}')\n",
    "startValue = 3\n",
    "destValue = 6"
   ]
  },
  {
   "cell_type": "code",
   "execution_count": 26,
   "id": "53dd34d6-bf95-4d04-a178-e85410c2ee05",
   "metadata": {},
   "outputs": [
    {
     "name": "stdout",
     "output_type": "stream",
     "text": [
      "{'start': 'LL', 'end': 'RL'}\n"
     ]
    },
    {
     "data": {
      "text/plain": [
       "'UURL'"
      ]
     },
     "execution_count": 26,
     "metadata": {},
     "output_type": "execute_result"
    }
   ],
   "source": [
    "a.getDirections(t, startValue, destValue)"
   ]
  },
  {
   "cell_type": "code",
   "execution_count": null,
   "id": "a7bbee63-a377-48be-b79d-9f6b8f871d1d",
   "metadata": {},
   "outputs": [],
   "source": []
  },
  {
   "cell_type": "code",
   "execution_count": 29,
   "id": "f4bb2c21-d7d5-42a9-ba8a-75ac48e9ab58",
   "metadata": {},
   "outputs": [],
   "source": [
    "output = {'end' : 'R', 'start' : 'RL'}"
   ]
  },
  {
   "cell_type": "code",
   "execution_count": 34,
   "id": "c750fad8-067e-44cc-93a8-3945746c74fe",
   "metadata": {},
   "outputs": [
    {
     "name": "stdout",
     "output_type": "stream",
     "text": [
      "\n"
     ]
    }
   ],
   "source": [
    "m = max(len(output['start']), len(output['end']))\n",
    "print()\n",
    "for i in range(0,m):\n",
    "    if (i>=len(output['start'])) or (i>=len(output['end'])):\n",
    "        break\n",
    "    if output['start'][i] != output['end'][i]:\n",
    "        break"
   ]
  },
  {
   "cell_type": "code",
   "execution_count": 37,
   "id": "fd645d89-d8d9-46c2-97fa-1019950a213c",
   "metadata": {},
   "outputs": [
    {
     "data": {
      "text/plain": [
       "''"
      ]
     },
     "execution_count": 37,
     "metadata": {},
     "output_type": "execute_result"
    }
   ],
   "source": [
    "output['start'][1:]\n",
    "output['end'][1:]"
   ]
  },
  {
   "cell_type": "markdown",
   "id": "794208eb-64e6-44ec-b0a2-c33170794fb4",
   "metadata": {},
   "source": [
    "https://leetcode.com/problems/number-of-good-paths/\n",
    "## Number of good paths\n",
    "\n",
    "DFS Solution"
   ]
  },
  {
   "cell_type": "code",
   "execution_count": 34,
   "id": "fe948ce6-84b4-4f61-b3de-042c7ecf8c88",
   "metadata": {},
   "outputs": [],
   "source": [
    "from typing import List\n",
    "from collections import Counter\n",
    "class Solution:\n",
    "    def numberOfGoodPaths(self, vals: List[int], edges: List[List[int]]) -> int:\n",
    "\n",
    "        self.adjacency_list = {}\n",
    "        for start,end in edges:\n",
    "            if start in self.adjacency_list:\n",
    "                self.adjacency_list[start].append(end)\n",
    "            else:\n",
    "                self.adjacency_list[start] = [end]\n",
    "            if end in self.adjacency_list:\n",
    "                self.adjacency_list[end].append(start)\n",
    "            else:\n",
    "                self.adjacency_list[end] = [start]\n",
    "\n",
    "        num_good_paths = [0] ## initialize to 0, we will add solo nodes later\n",
    "        \n",
    "        \n",
    "        def dfs(index, val, curr_set):\n",
    "            if index in curr_set:\n",
    "                return\n",
    "            curr_set.add(index)\n",
    "            if vals[index]>val:\n",
    "                return\n",
    "            if vals[index]==val:\n",
    "                num_good_paths[0] = num_good_paths[0] + 1\n",
    "\n",
    "            for n in self.adjacency_list[index]:\n",
    "                dfs(n, val, curr_set)\n",
    "            return\n",
    "        \n",
    "        val_count = dict(Counter(vals))\n",
    "        for i in range(0, len(vals)):\n",
    "            print(i)\n",
    "            if val_count[vals[i]]>1:\n",
    "                if  i in self.adjacency_list:\n",
    "                    for j in self.adjacency_list[i]:\n",
    "                        dfs(j, vals[i], set([i]))\n",
    "        return int(num_good_paths[0]/2) + len(vals)\n",
    "                \n"
   ]
  },
  {
   "cell_type": "markdown",
   "id": "6d34abe3-01b1-4dc0-b6f1-f1a5f4721ec0",
   "metadata": {},
   "source": [
    "Union find solution "
   ]
  },
  {
   "cell_type": "code",
   "execution_count": 145,
   "id": "95247dad-d6b3-4fdd-9092-b77a5c69c5d2",
   "metadata": {},
   "outputs": [],
   "source": [
    "from typing import List\n",
    "from collections import Counter, defaultdict\n",
    "class Solution:\n",
    "    \n",
    "    def find(self, res):\n",
    "        p = res\n",
    "        while p != self.parent[p]:\n",
    "            p = self.parent[p]\n",
    "        \n",
    "        ## path compression\n",
    "        while res != self.parent[res]:\n",
    "            temp = self.parent[res]\n",
    "            self.parent[res] = p\n",
    "            res = temp\n",
    "        return p\n",
    "        \n",
    "    \n",
    "    def union(self, u, v):\n",
    "        print(\"inside union\", u, v)\n",
    "        p1 = self.find(u)\n",
    "        p2 = self.find(v)\n",
    "        if p1==p2:\n",
    "            return\n",
    "        else:\n",
    "            if self.parent[p1]<=self.parent[p2]:\n",
    "                self.parent[p1] = p2\n",
    "                self.rank[p2] = self.rank[p2] + self.rank[p1]\n",
    "            else:\n",
    "                self.parent[p2] = p1\n",
    "                self.rank[p1] = self.rank[p2] + self.rank[p1]\n",
    "        print(\"finished union\", u, v)\n",
    "        return\n",
    "                \n",
    "\n",
    "                                                        \n",
    "                \n",
    "    def numberOfGoodPaths(self, vals: List[int], edges: List[List[int]]) -> int:\n",
    "        \n",
    "        n = len(vals)\n",
    "        self.parent = list(range(0,n))\n",
    "        self.rank = [1]*n\n",
    "        \n",
    "        \n",
    "        v2node = {}\n",
    "        for i in range(0, n):\n",
    "            val = vals[i]\n",
    "            if val in v2node.keys():\n",
    "                v2node[val].append(i)\n",
    "            else:\n",
    "                v2node[val] = [i]\n",
    "                \n",
    "        adjacency_list = {}\n",
    "        for u,v in edges:\n",
    "            if u in adjacency_list.keys():\n",
    "                adjacency_list[u].append(v)\n",
    "            else:\n",
    "                adjacency_list[u] = [v]\n",
    "\n",
    "            if v in adjacency_list.keys():\n",
    "                adjacency_list[v].append(u)\n",
    "            else:\n",
    "                adjacency_list[v] = [u]\n",
    "                \n",
    "        values = sorted(v2node.keys())\n",
    "        ##total = 0\n",
    "        total = len(vals)\n",
    "        ## in increasing order of values\n",
    "        print(\"v2node\", v2node)\n",
    "        print(\"adjacency_list\", adjacency_list)\n",
    "        for val in values:\n",
    "            print(\"val\", val)\n",
    "            for node in v2node[val]: ## go through every node which has that particular value\n",
    "                if node in adjacency_list:\n",
    "                    print(\"node\", node)\n",
    "                    \n",
    "                    for n in adjacency_list[node]: ## going through the connected node of every node which had the val\n",
    "                        print(\"n\", n)\n",
    "                        if vals[n]<=val:  ## merge two nodes only if no higher node\n",
    "                            self.union(node, n)\n",
    "            ## finished processing that particular value and updated the merged tree\n",
    "            print(\"self.parent\", self.parent)\n",
    "            print(\"self.rank\", self.rank)\n",
    "            cnt = Counter()\n",
    "            for node in v2node[val]:\n",
    "                p = self.find(node) ## finding parent\n",
    "                print(\"node\", \"p\", node, p)\n",
    "                cnt[p] = cnt[p] + 1\n",
    "            for key in cnt.keys():\n",
    "                if cnt[key]>1:\n",
    "                    total  = total + ((cnt[key])*(cnt[key]-1)/2)\n",
    "            ##    total = total + cnt[p]\n",
    "            print(\"cnt\", cnt)\n",
    "            print(\"total\", total)\n",
    "        return total\n",
    "                \n",
    "                            \n",
    "            \n",
    "                            \n",
    "                \n",
    "                "
   ]
  },
  {
   "cell_type": "code",
   "execution_count": null,
   "id": "a48fafaa-b4d0-4704-a806-81f1bd2e4c0f",
   "metadata": {},
   "outputs": [],
   "source": [
    "vals = [1,3,2,1,3]\n",
    "edges = [[0,1],[0,2],[2,3],[2,4]]\n",
    "a = Solution()\n",
    "a.numberOfGoodPaths(vals, edges)"
   ]
  },
  {
   "cell_type": "markdown",
   "id": "52ee030a-8c21-4753-88e3-e01c66048a83",
   "metadata": {},
   "source": [
    "## Amount of new area painted each day\n",
    "https://leetcode.com/problems/amount-of-new-area-painted-each-day/"
   ]
  },
  {
   "cell_type": "code",
   "execution_count": 26,
   "id": "19038020-0cb8-476b-a9e8-946060c32fe7",
   "metadata": {},
   "outputs": [],
   "source": [
    "from typing import List\n",
    "import bisect\n",
    "class Solution:\n",
    "    \n",
    "    \n",
    "    def add_range(self, interval): ## creates a sorted list from new interval in format [start_1, end_1, start_2, end_2 and so on]\n",
    "        start, end = interval\n",
    "        start_index = bisect.bisect_left(self.sorted_list, start)\n",
    "        end_index = bisect.bisect_right(self.sorted_list, end)\n",
    "        \n",
    "        sub = []\n",
    "        if start_index%2==0: ## even , needs to be inserted\n",
    "            sub.append(start)\n",
    "        if end_index%2==0: \n",
    "            sub.append(end)\n",
    "            \n",
    "        self.sorted_list[start_index:end_index] = sub\n",
    "        \n",
    "    def return_area(self):\n",
    "        \n",
    "        area = 0\n",
    "        for i in range(0, len(self.sorted_list),2):\n",
    "            area = area + self.sorted_list[i+1] - self.sorted_list[i]\n",
    "        return area\n",
    "            \n",
    "        \n",
    "        \n",
    "    def amountPainted(self, paint: List[List[int]]) -> List[int]:\n",
    "        \n",
    "        self.sorted_list = []\n",
    "        self.prev_area_painted = 0\n",
    "        \n",
    "        \n",
    "        n = len(paint)\n",
    "        output = []\n",
    "        for i in range(0, n):\n",
    "            self.add_range(paint[i])\n",
    "            new_area_painted = self.return_area()\n",
    "            output.append(new_area_painted - self.prev_area_painted)\n",
    "            self.prev_area_painted = new_area_painted\n",
    "            \n",
    "        return output\n",
    "            \n",
    "        \n",
    "        "
   ]
  },
  {
   "cell_type": "code",
   "execution_count": 27,
   "id": "7b0b425b-c8ca-4eff-8fcc-490e2294ade5",
   "metadata": {},
   "outputs": [],
   "source": [
    "a = Solution()"
   ]
  },
  {
   "cell_type": "code",
   "execution_count": 32,
   "id": "05059d5b-8f10-4a2d-83f8-a39eba8d319e",
   "metadata": {},
   "outputs": [],
   "source": [
    "paint = [[1,4],[4,7],[5,8]]"
   ]
  },
  {
   "cell_type": "code",
   "execution_count": 33,
   "id": "024464fd-acae-4bf3-801e-8be26c953b11",
   "metadata": {},
   "outputs": [
    {
     "data": {
      "text/plain": [
       "[3, 3, 1]"
      ]
     },
     "execution_count": 33,
     "metadata": {},
     "output_type": "execute_result"
    }
   ],
   "source": [
    "a.amountPainted(paint)"
   ]
  },
  {
   "cell_type": "markdown",
   "id": "18d7517e-bb3a-491d-b317-8d7f89f6767c",
   "metadata": {},
   "source": [
    "##  Sort Integers by power value\n",
    "https://leetcode.com/problems/sort-integers-by-the-power-value/\n"
   ]
  },
  {
   "cell_type": "code",
   "execution_count": 116,
   "id": "97ab7ece-0de6-4147-b884-fad7a2d6443e",
   "metadata": {},
   "outputs": [],
   "source": [
    "class Solution:\n",
    "    \n",
    "    def get_power(self, i):\n",
    "        \n",
    "        if i in self.output:\n",
    "            return self.output[i]\n",
    "        \n",
    "        if i%2==0:\n",
    "            self.output[i] = 1 + self.get_power(int(i/2))\n",
    "        else:\n",
    "            self.output[i] = 1 + self.get_power(3*i + 1)\n",
    "        return self.output[i]\n",
    "    \n",
    "    def getKth(self, lo: int, hi: int, k: int) -> int:\n",
    "        self.output = {}\n",
    "        self.output[0] = 0\n",
    "        self.output[1] = 0\n",
    "        \n",
    " \n",
    "                \n",
    "        output_index = []\n",
    "        for j in range(lo, hi+1):\n",
    "            tmp = self.get_power(j)\n",
    "            print(\"one iteration done\", j, tmp, output)\n",
    "            output_index.append([tmp, j])\n",
    "            print(self.output)\n",
    "\n",
    "        \n",
    "        output_index = sorted(output_index, key=lambda x : (x[0], x[1]))\n",
    "        print(\"output_index\", output_index)\n",
    "        return output_index[k-1][1]\n",
    "            \n",
    "        \n",
    "                \n",
    "                "
   ]
  },
  {
   "cell_type": "code",
   "execution_count": null,
   "id": "5901226d-e9c8-4b20-8e20-f6a7e53ab569",
   "metadata": {},
   "outputs": [],
   "source": []
  },
  {
   "cell_type": "code",
   "execution_count": 117,
   "id": "d4112503-2b6b-4fb4-9949-be01682a3145",
   "metadata": {},
   "outputs": [
    {
     "name": "stdout",
     "output_type": "stream",
     "text": [
      "one iteration done 7 16 [0, 1, 2, -1, 3, -1, -1, -1, 4, -1, -1]\n",
      "{0: 0, 1: 0, 2: 1, 4: 2, 8: 3, 16: 4, 5: 5, 10: 6, 20: 7, 40: 8, 13: 9, 26: 10, 52: 11, 17: 12, 34: 13, 11: 14, 22: 15, 7: 16}\n",
      "one iteration done 8 3 [0, 1, 2, -1, 3, -1, -1, -1, 4, -1, -1]\n",
      "{0: 0, 1: 0, 2: 1, 4: 2, 8: 3, 16: 4, 5: 5, 10: 6, 20: 7, 40: 8, 13: 9, 26: 10, 52: 11, 17: 12, 34: 13, 11: 14, 22: 15, 7: 16}\n",
      "one iteration done 9 19 [0, 1, 2, -1, 3, -1, -1, -1, 4, -1, -1]\n",
      "{0: 0, 1: 0, 2: 1, 4: 2, 8: 3, 16: 4, 5: 5, 10: 6, 20: 7, 40: 8, 13: 9, 26: 10, 52: 11, 17: 12, 34: 13, 11: 14, 22: 15, 7: 16, 14: 17, 28: 18, 9: 19}\n",
      "one iteration done 10 6 [0, 1, 2, -1, 3, -1, -1, -1, 4, -1, -1]\n",
      "{0: 0, 1: 0, 2: 1, 4: 2, 8: 3, 16: 4, 5: 5, 10: 6, 20: 7, 40: 8, 13: 9, 26: 10, 52: 11, 17: 12, 34: 13, 11: 14, 22: 15, 7: 16, 14: 17, 28: 18, 9: 19}\n",
      "one iteration done 11 14 [0, 1, 2, -1, 3, -1, -1, -1, 4, -1, -1]\n",
      "{0: 0, 1: 0, 2: 1, 4: 2, 8: 3, 16: 4, 5: 5, 10: 6, 20: 7, 40: 8, 13: 9, 26: 10, 52: 11, 17: 12, 34: 13, 11: 14, 22: 15, 7: 16, 14: 17, 28: 18, 9: 19}\n",
      "output_index [[3, 8], [6, 10], [14, 11], [16, 7], [19, 9]]\n"
     ]
    },
    {
     "data": {
      "text/plain": [
       "7"
      ]
     },
     "execution_count": 117,
     "metadata": {},
     "output_type": "execute_result"
    }
   ],
   "source": [
    "a = Solution()\n",
    "a.getKth(lo = 7, hi = 11, k = 4)"
   ]
  },
  {
   "cell_type": "markdown",
   "id": "267a7866-992a-411d-91f7-8bdf5e5c8b91",
   "metadata": {},
   "source": [
    "https://leetcode.com/problems/detonate-the-maximum-bombs/\n",
    "## Detonate the maximum bombs"
   ]
  },
  {
   "cell_type": "code",
   "execution_count": 236,
   "id": "9de33d03-159d-422e-9007-f7bd820edc8f",
   "metadata": {},
   "outputs": [],
   "source": [
    "import math\n",
    "class Solution:\n",
    "    \n",
    "    def dist(self, i ,j):\n",
    "        x_dist = abs(self.bombs[i][0] - self.bombs[j][0])\n",
    "        y_dist = abs(self.bombs[i][1] - self.bombs[j][1])\n",
    "        return math.sqrt(x_dist**2 + y_dist**2)\n",
    "        \n",
    "    def maximumDetonation(self, bombs: List[List[int]]) -> int:\n",
    "        max_value = [-1]*len(bombs)\n",
    "        n = len(bombs)\n",
    "        self.bombs = bombs\n",
    "        \n",
    "        ## create adjacency list (isn't this an n**2 operation)\n",
    "        bombs = sorted(bombs)\n",
    "        \n",
    "        bombs_graph = {}\n",
    "        for i in range(0, n):\n",
    "            for j in range(i+1, n):\n",
    "                if i==j:\n",
    "                    continue\n",
    "                dist = self.dist(i, j)\n",
    "                if dist<=self.bombs[i][2]:\n",
    "                    if i not in bombs_graph:\n",
    "                        bombs_graph[i] = [j]\n",
    "                    else:\n",
    "                        bombs_graph[i].append(j)\n",
    "                if dist<=self.bombs[j][2]:\n",
    "                    if j not in bombs_graph:\n",
    "                        bombs_graph[j] = [i]\n",
    "                    else:\n",
    "                        bombs_graph[j].append(i)\n",
    "        \n",
    "        \n",
    "        def dfs(i, s):\n",
    "            print(i, visited_bombs, s)\n",
    "            if i in visited_bombs:\n",
    "                return\n",
    "            visited_bombs.add(i)\n",
    "            s = s + str(i)\n",
    "            if i in bombs_graph:\n",
    "                for n in bombs_graph[i]:\n",
    "                    dfs(n, s)\n",
    "        print(bombs_graph)\n",
    "        cnt = 0\n",
    "        for node in bombs_graph.keys():\n",
    "            if cnt==1:\n",
    "                break\n",
    "            visited_bombs = set()\n",
    "            dfs(node, \"\")\n",
    "            max_value[node] = len(visited_bombs)\n",
    "            cnt = cnt + 1\n",
    "        print(max_value)\n",
    "        return max(max_value)\n",
    "        \n",
    "                \n",
    "            "
   ]
  },
  {
   "cell_type": "code",
   "execution_count": 203,
   "id": "19986320-6829-41dd-b572-8b2d2f32c568",
   "metadata": {},
   "outputs": [],
   "source": []
  },
  {
   "cell_type": "code",
   "execution_count": 237,
   "id": "cfd190e1-7820-4348-bc2d-457723a009bd",
   "metadata": {},
   "outputs": [],
   "source": [
    "a = Solution()"
   ]
  },
  {
   "cell_type": "code",
   "execution_count": 235,
   "id": "18f60665-a74f-471c-9654-2865e4dd400e",
   "metadata": {},
   "outputs": [
    {
     "data": {
      "text/plain": [
       "True"
      ]
     },
     "execution_count": 235,
     "metadata": {},
     "output_type": "execute_result"
    }
   ],
   "source": [
    "'a' in 'ba'"
   ]
  },
  {
   "cell_type": "code",
   "execution_count": 238,
   "id": "ba558ddd-9e99-4173-8fc8-e1bdd1454f5c",
   "metadata": {},
   "outputs": [],
   "source": [
    "bombs = [[1,2,3],[2,3,1],[3,4,2],[4,5,3],[5,6,4]]"
   ]
  },
  {
   "cell_type": "code",
   "execution_count": 239,
   "id": "6d1060df-8653-49ef-a260-4093236d2f15",
   "metadata": {},
   "outputs": [
    {
     "name": "stdout",
     "output_type": "stream",
     "text": [
      "{0: [1, 2], 2: [1, 3], 3: [1, 2, 4], 4: [2, 3]}\n",
      "0 set() \n",
      "1 {0} 0\n",
      "2 {0, 1} 0\n",
      "1 {0, 1, 2} 02\n",
      "3 {0, 1, 2} 02\n",
      "1 {0, 1, 2, 3} 023\n",
      "2 {0, 1, 2, 3} 023\n",
      "4 {0, 1, 2, 3} 023\n",
      "2 {0, 1, 2, 3, 4} 0234\n",
      "3 {0, 1, 2, 3, 4} 0234\n",
      "[5, -1, -1, -1, -1]\n"
     ]
    },
    {
     "data": {
      "text/plain": [
       "5"
      ]
     },
     "execution_count": 239,
     "metadata": {},
     "output_type": "execute_result"
    }
   ],
   "source": [
    "a.maximumDetonation(bombs)"
   ]
  },
  {
   "cell_type": "code",
   "execution_count": 280,
   "id": "aa79e121-4499-4f6a-9b43-3c384b88bfcc",
   "metadata": {},
   "outputs": [],
   "source": [
    "from collections import deque\n",
    "import math\n",
    "class Solution:\n",
    "\n",
    "    def distance(self, i, j):\n",
    "        x_dist = abs(self.bombs[i][0]-self.bombs[j][0])\n",
    "        y_dist = abs(self.bombs[i][1]-self.bombs[j][1])\n",
    "        return math.sqrt(x_dist**2 + y_dist**2)\n",
    "\n",
    "    def bfs(self, node):\n",
    "        q = deque()\n",
    "        q.append(node)\n",
    "        nodes_visited = set()\n",
    "        while len(q)>0:\n",
    "            curr_node = q.popleft()\n",
    "            nodes_visited.add(curr_node)\n",
    "\n",
    "            if curr_node in self.adjacency_list:\n",
    "                for neighbor in  self.adjacency_list[curr_node]:\n",
    "                    if neighbor not in nodes_visited:\n",
    "                        q.append(neighbor)\n",
    "        return len(nodes_visited)\n",
    "\n",
    "\n",
    "    def maximumDetonation(self, bombs: List[List[int]]) -> int:\n",
    "\n",
    "        n  = len(bombs)\n",
    "        self.bombs = bombs\n",
    "        self.adjacency_list = {}\n",
    "        for i in range(0,n):\n",
    "            for j in range(i+1, n):\n",
    "                dist = self.distance(i,j)\n",
    "                if dist <= self.bombs[i][2]:\n",
    "                    if i not in self.adjacency_list:\n",
    "                        self.adjacency_list[i] = [j]\n",
    "                    else:\n",
    "                        self.adjacency_list[i].append(j)\n",
    "                if dist <= self.bombs[j][2]:\n",
    "                    if j not in self.adjacency_list:\n",
    "                        self.adjacency_list[j] = [i]\n",
    "                    else:\n",
    "                        self.adjacency_list[j].append(i)\n",
    "        max_output = 1\n",
    "        for node in self.adjacency_list:\n",
    "            output = self.bfs(node)\n",
    "\n",
    "            max_output = max(max_output, output)\n",
    "        return max_output\n",
    "\n",
    "                \n",
    "\n"
   ]
  },
  {
   "cell_type": "code",
   "execution_count": 278,
   "id": "1817f2ed-7d06-4c59-8d04-b977ca159ccc",
   "metadata": {},
   "outputs": [],
   "source": [
    "a = Solution()\n",
    "bombs = [[1,2,3],[2,3,1],[3,4,2],[4,5,3],[5,6,4]]\n"
   ]
  },
  {
   "cell_type": "code",
   "execution_count": 279,
   "id": "b5599d6f-7335-4aa5-ab4d-eb373b96c801",
   "metadata": {},
   "outputs": [
    {
     "name": "stdout",
     "output_type": "stream",
     "text": [
      "adjacency_list {0: [1, 2], 2: [1, 3], 3: [1, 2, 4], 4: [2, 3]}\n",
      "0 5\n",
      "***********\n",
      "2 4\n",
      "***********\n",
      "3 4\n",
      "***********\n",
      "4 4\n",
      "***********\n"
     ]
    },
    {
     "data": {
      "text/plain": [
       "5"
      ]
     },
     "execution_count": 279,
     "metadata": {},
     "output_type": "execute_result"
    }
   ],
   "source": [
    "a.maximumDetonation(bombs)"
   ]
  },
  {
   "cell_type": "code",
   "execution_count": 281,
   "id": "9540423a-2aaf-4184-8a51-4bbe52fb0288",
   "metadata": {},
   "outputs": [],
   "source": [
    "## test"
   ]
  },
  {
   "cell_type": "markdown",
   "id": "30bf190e-e427-4210-ab78-d3effd4f3911",
   "metadata": {},
   "source": [
    "https://leetcode.com/problems/maximum-and-sum-of-array/\n",
    "## Maximum AND sum of array\n"
   ]
  },
  {
   "cell_type": "markdown",
   "id": "01de05f8-15f7-45fa-be4c-c9525d033e2b",
   "metadata": {},
   "source": [
    "We try a DP solution, Why DP ? look at the constraints, they are 1 <= numSlots <= 9 and  1 <= n <= 2 * numSlots . So a very limited set to try out , suggests DP"
   ]
  },
  {
   "cell_type": "markdown",
   "id": "843edb74-517c-4b71-a30b-fd176385eb95",
   "metadata": {},
   "source": [
    "Let's define the DP now\n",
    "At every step, you have a current state (number of slots still available) and current numbers, number of numbers still available\n",
    "Given a current state, you pick one number and put it in one available slot which maximizes the and sum and save it\n",
    "\n",
    "How do you represent current state ? One choice is to start with string '2' * number_of_slots If a slot becomes 1, like 212, it means second position has only one slot available, if it becomes 0, that means that slot is completely occupied"
   ]
  },
  {
   "cell_type": "code",
   "execution_count": 316,
   "id": "4b06c9df-05b6-449d-ace0-b222e29a91ce",
   "metadata": {},
   "outputs": [],
   "source": [
    "class Solution:\n",
    "    def maximumANDSum(self, nums: List[int], numSlots: int) -> int:\n",
    "\n",
    "        n = len(nums)\n",
    "        state = '2'*numSlots\n",
    "        \n",
    "        dp_cache = {}\n",
    "        \n",
    "        def dp(i, curr_state):\n",
    "            print(\"inside dp\")\n",
    "            print(i, curr_state)\n",
    "            \n",
    "            if i==n:\n",
    "                return 0 ## terminating condition. Why 0 ? Because all numbers are done, there is no new and sum\n",
    "            if (i, curr_state) in dp_cache.keys():\n",
    "                return dp_cache[(i, curr_state)]\n",
    "\n",
    "            max_val = 0\n",
    "            for j in range(0, len(curr_state)): ## \n",
    "                if curr_state[j]=='0': ## current slot filled\n",
    "                    continue\n",
    "                temp = nums[i] & (j+1)\n",
    "                new_state = curr_state[0:j] + str(int(curr_state[j])-1) + curr_state[j+1:]\n",
    "                outp = dp(i+1, new_state)\n",
    "                max_val = max(max_val, outp + temp)\n",
    "            dp_cache[(i, curr_state)] = max_val\n",
    "            return max_val\n",
    "        dp(0, state)\n",
    "        self.dp_cache = dp_cache\n",
    "        return dp_cache[(0, state)]\n",
    "            \n",
    "            \n",
    "        \n",
    "        "
   ]
  },
  {
   "cell_type": "code",
   "execution_count": 315,
   "id": "6a0be6a5-bfee-40b8-a78e-312f1a9085f1",
   "metadata": {},
   "outputs": [
    {
     "data": {
      "text/plain": [
       "1"
      ]
     },
     "execution_count": 315,
     "metadata": {},
     "output_type": "execute_result"
    }
   ],
   "source": [
    "3&1"
   ]
  },
  {
   "cell_type": "code",
   "execution_count": 317,
   "id": "4cb626dd-9d20-4fe3-92f5-07cec36b633b",
   "metadata": {},
   "outputs": [
    {
     "name": "stdout",
     "output_type": "stream",
     "text": [
      "inside dp\n",
      "0 222\n",
      "inside dp\n",
      "1 122\n",
      "inside dp\n",
      "2 022\n",
      "inside dp\n",
      "3 012\n",
      "inside dp\n",
      "4 002\n",
      "inside dp\n",
      "5 001\n",
      "inside dp\n",
      "6 000\n",
      "inside dp\n",
      "4 011\n",
      "inside dp\n",
      "5 001\n",
      "inside dp\n",
      "5 010\n",
      "inside dp\n",
      "6 000\n",
      "inside dp\n",
      "3 021\n",
      "inside dp\n",
      "4 011\n",
      "inside dp\n",
      "4 020\n",
      "inside dp\n",
      "5 010\n",
      "inside dp\n",
      "2 112\n",
      "inside dp\n",
      "3 012\n",
      "inside dp\n",
      "3 102\n",
      "inside dp\n",
      "4 002\n",
      "inside dp\n",
      "4 101\n",
      "inside dp\n",
      "5 001\n",
      "inside dp\n",
      "5 100\n",
      "inside dp\n",
      "6 000\n",
      "inside dp\n",
      "3 111\n",
      "inside dp\n",
      "4 011\n",
      "inside dp\n",
      "4 101\n",
      "inside dp\n",
      "4 110\n",
      "inside dp\n",
      "5 010\n",
      "inside dp\n",
      "5 100\n",
      "inside dp\n",
      "2 121\n",
      "inside dp\n",
      "3 021\n",
      "inside dp\n",
      "3 111\n",
      "inside dp\n",
      "3 120\n",
      "inside dp\n",
      "4 020\n",
      "inside dp\n",
      "4 110\n",
      "inside dp\n",
      "1 212\n",
      "inside dp\n",
      "2 112\n",
      "inside dp\n",
      "2 202\n",
      "inside dp\n",
      "3 102\n",
      "inside dp\n",
      "3 201\n",
      "inside dp\n",
      "4 101\n",
      "inside dp\n",
      "4 200\n",
      "inside dp\n",
      "5 100\n",
      "inside dp\n",
      "2 211\n",
      "inside dp\n",
      "3 111\n",
      "inside dp\n",
      "3 201\n",
      "inside dp\n",
      "3 210\n",
      "inside dp\n",
      "4 110\n",
      "inside dp\n",
      "4 200\n",
      "inside dp\n",
      "1 221\n",
      "inside dp\n",
      "2 121\n",
      "inside dp\n",
      "2 211\n",
      "inside dp\n",
      "2 220\n",
      "inside dp\n",
      "3 120\n",
      "inside dp\n",
      "3 210\n"
     ]
    },
    {
     "data": {
      "text/plain": [
       "9"
      ]
     },
     "execution_count": 317,
     "metadata": {},
     "output_type": "execute_result"
    }
   ],
   "source": [
    "nums = [1,2,3,4,5,6]\n",
    "numSlots = 3\n",
    "a = Solution()\n",
    "a.maximumANDSum(nums, numSlots)\n"
   ]
  },
  {
   "cell_type": "code",
   "execution_count": 318,
   "id": "a9e58a5e-3f00-4867-9f2b-0d986a785081",
   "metadata": {},
   "outputs": [
    {
     "data": {
      "text/plain": [
       "{(5, '001'): 2,\n",
       " (4, '002'): 3,\n",
       " (5, '010'): 2,\n",
       " (4, '011'): 3,\n",
       " (3, '012'): 3,\n",
       " (4, '020'): 2,\n",
       " (3, '021'): 3,\n",
       " (2, '022'): 6,\n",
       " (5, '100'): 0,\n",
       " (4, '101'): 3,\n",
       " (3, '102'): 3,\n",
       " (4, '110'): 3,\n",
       " (3, '111'): 3,\n",
       " (2, '112'): 6,\n",
       " (3, '120'): 3,\n",
       " (2, '121'): 6,\n",
       " (1, '122'): 8,\n",
       " (4, '200'): 1,\n",
       " (3, '201'): 3,\n",
       " (2, '202'): 6,\n",
       " (3, '210'): 3,\n",
       " (2, '211'): 6,\n",
       " (1, '212'): 8,\n",
       " (2, '220'): 5,\n",
       " (1, '221'): 8,\n",
       " (0, '222'): 9}"
      ]
     },
     "execution_count": 318,
     "metadata": {},
     "output_type": "execute_result"
    }
   ],
   "source": [
    "a.dp_cache"
   ]
  },
  {
   "cell_type": "code",
   "execution_count": 297,
   "id": "064e649e-bf56-4d40-ab29-e2e9f6aba87b",
   "metadata": {},
   "outputs": [],
   "source": [
    "j = 1"
   ]
  },
  {
   "cell_type": "code",
   "execution_count": 298,
   "id": "7934911d-2971-4325-a79b-ac77697a3f55",
   "metadata": {},
   "outputs": [
    {
     "ename": "SyntaxError",
     "evalue": "invalid syntax (<ipython-input-298-1bd0e943ad23>, line 1)",
     "output_type": "error",
     "traceback": [
      "\u001b[1;36m  File \u001b[1;32m\"<ipython-input-298-1bd0e943ad23>\"\u001b[1;36m, line \u001b[1;32m1\u001b[0m\n\u001b[1;33m    curr_state[(0:j)] + [str(j-1)] + curr_state[(j+1:)]\u001b[0m\n\u001b[1;37m                 ^\u001b[0m\n\u001b[1;31mSyntaxError\u001b[0m\u001b[1;31m:\u001b[0m invalid syntax\n"
     ]
    }
   ],
   "source": [
    "curr_state[(0:j)] + [str(j-1)] + curr_state[(j+1:)]"
   ]
  },
  {
   "cell_type": "code",
   "execution_count": 299,
   "id": "37ec2003-0862-414f-ac44-bfeb6d6a19e8",
   "metadata": {},
   "outputs": [
    {
     "data": {
      "text/plain": [
       "'2'"
      ]
     },
     "execution_count": 299,
     "metadata": {},
     "output_type": "execute_result"
    }
   ],
   "source": [
    "curr_state[0:j]"
   ]
  },
  {
   "cell_type": "code",
   "execution_count": 300,
   "id": "eef5d05d-9b09-463f-9f43-6caccdb82aae",
   "metadata": {},
   "outputs": [
    {
     "data": {
      "text/plain": [
       "'202'"
      ]
     },
     "execution_count": 300,
     "metadata": {},
     "output_type": "execute_result"
    }
   ],
   "source": [
    "curr_state[0:j] + str(j-1) + curr_state[j+1:]"
   ]
  },
  {
   "cell_type": "code",
   "execution_count": 301,
   "id": "2bb6dba2-edbd-4e86-b591-8e03d1914d7e",
   "metadata": {},
   "outputs": [
    {
     "data": {
      "text/plain": [
       "'212'"
      ]
     },
     "execution_count": 301,
     "metadata": {},
     "output_type": "execute_result"
    }
   ],
   "source": [
    "curr_state[0:j] + str(int(curr_state[j])-1) + curr_state[j+1:]"
   ]
  },
  {
   "cell_type": "code",
   "execution_count": null,
   "id": "cde0acc5-b2e9-491d-b4d3-b73903f77cb7",
   "metadata": {},
   "outputs": [],
   "source": []
  }
 ],
 "metadata": {
  "kernelspec": {
   "display_name": "Python 3",
   "language": "python",
   "name": "python3"
  },
  "language_info": {
   "codemirror_mode": {
    "name": "ipython",
    "version": 3
   },
   "file_extension": ".py",
   "mimetype": "text/x-python",
   "name": "python",
   "nbconvert_exporter": "python",
   "pygments_lexer": "ipython3",
   "version": "3.8.8"
  }
 },
 "nbformat": 4,
 "nbformat_minor": 5
}
