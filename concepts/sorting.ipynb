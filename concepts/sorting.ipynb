{
 "cells": [
  {
   "cell_type": "markdown",
   "id": "0c1d2474-952d-4388-bbc0-2b2dfdb29238",
   "metadata": {},
   "source": [
    "##                                                 Sorting"
   ]
  },
  {
   "cell_type": "markdown",
   "id": "b8902583-560e-4680-a5d9-68f6d7e94e9e",
   "metadata": {},
   "source": [
    "### What is sorting ?"
   ]
  },
  {
   "cell_type": "markdown",
   "id": "3d3c2266-f24c-4035-a64d-888e50c3c7d2",
   "metadata": {},
   "source": [
    "1) arranging elements in a list or array according to some property. All elements in list have to be of same data type for sorting to happen\n",
    "2) What are advantages of sorting\n",
    "    1) Presentation : For example, a website might allow you to sort hotels by increasing price, or decreasing rating , or something like that\n",
    "    2) Compute time : In an unsorted list, finding an element is O(n). In a sorted list, it is O(log n)\n",
    "    3) Sorting cab be done on integers/float, strings (in lexicographical/like a dictionary), complex data types such as hotels in the example above\n",
    "    \n",
    "3) For illustration, typically, we take a list of integers and try to arrange in ascending order"
   ]
  },
  {
   "cell_type": "markdown",
   "id": "fbde23f3-92ce-4cea-8ee7-8001352cfa7b",
   "metadata": {},
   "source": [
    "### Types of sorting algorithms"
   ]
  },
  {
   "cell_type": "markdown",
   "id": "56226507-95a7-4eff-a3f3-9303ff29cef7",
   "metadata": {},
   "source": [
    "many types - bubble sort, insertion sort, merge sort, quick sort, selection sort, heap sort, radix sort, counting sort\n",
    "\n",
    "Sorting algorithms are classified based on \n",
    "1) Time complexity : Is it O(n**2), O(nlogn)m etc as a function of array size n\n",
    "2) Space complexity : Is it O(1) (inplace sorting / constant memory) or is it a function of n?\n",
    "3) Stability : Lets say you have cards 2 diamond, 6 clubs, 6 hearts, and 10 spades, and want to sort by rank/number ? either 6 hearts or 6 club can appear first A stable sorting algorithm preserves the original order in input list in the output after sorting given ties. For example, if 6 clubs is before 6 hearts in original list, even after sorting , a stable sorting algorithm will put 6 club instead of 6 hearts\n",
    "4) Internal or external sort - \n",
    "    Internal sort : if all records are in memory/RAM\n",
    "    External sort : Records can be on disk (better if you have a tonne of data)\n",
    "5) Recursive vs non recursive\n",
    "    Quick and merge sort are recursive\n",
    "    insertion and selection sort are non recursive"
   ]
  },
  {
   "cell_type": "markdown",
   "id": "20fcc3a0-ec07-4e29-95ed-44c434387e85",
   "metadata": {},
   "source": [
    "## Selection sort"
   ]
  },
  {
   "cell_type": "markdown",
   "id": "a8eb8804-96a8-4d5e-8feb-f9d47bd2ccef",
   "metadata": {},
   "source": [
    "1) simplest, most intuitive sorting scenario\n",
    "2) Pseudocode in words : at every step of loop i (i from 0 to n-1), scan all elements from i to n-1, find minimum, and swap the i element with the min. keep repeating. this ensures that the left side of the list keeps getting sorted in increasing order, and the right side has unsorted, till sorting ends\n",
    "    i) Loop: i from over 0 to n-2 (n-2 since if all n-2 elements are sorted, n-1 is automatically sorted)\n",
    "            {\n",
    "                imin = i\n",
    "                for j in i+1:n-1:\n",
    "                    if A[j]<A[imin]:\n",
    "                        imin = j\n",
    "                temp = A[i]\n",
    "                A[i] = A[imin]\n",
    "                A[imin] = temp\n",
    "              }\n",
    "        \n",
    "        take the mininum of list - move to new array\n",
    "        replace minimum in original list as some very large integer to prevent counting it again\n",
    "        repeat until all positions in new array are filled\n",
    "    iii) in end, assign a to b\n",
    "\n",
    "3) Classification :\n",
    "    1) Slow - Time complexity : O(n**2)\n",
    "    2) Space complexity : O(1) ## in place, no extra memory\n",
    "    3) unstable - can change order of ties\n",
    "    4) non-recursive\n",
    "\n",
    "    "
   ]
  },
  {
   "cell_type": "markdown",
   "id": "146228f6-f57b-49f0-bf65-2500307834e6",
   "metadata": {},
   "source": [
    "Example\n",
    "1) Input : step 1 : [2,7,4,1,5,3]\n",
    "2) Step 2 : [1,7,4,2,5,3]  (swap 2 in first position in prev step with minimum value in elements after it)\n",
    "3) step 3 : [1,2,4,7,5,3]  (swap 7 in  second position in prev step with minimum value after it)...\n",
    "4) step 4 : [1,2,3,7,5,4]\n",
    "5) step 5 : [1,2,3,4,5,7]\n",
    "6) step 6 : [1,2,3,4,5,7]\n",
    "\n",
    "Done\n",
    "\n",
    "At every step, note that the first part of the array keeps getting the lower elements in sorted order, and second part of array is unsorted"
   ]
  },
  {
   "cell_type": "code",
   "execution_count": 3,
   "id": "3115b562-fba9-4e85-8a84-39893715a134",
   "metadata": {},
   "outputs": [],
   "source": [
    "def selection_sort(nums):\n",
    "    n = len(nums)\n",
    "    print(\"step initial\")\n",
    "    print(nums)\n",
    "    for i in range(0,n-1):\n",
    "        print(\"step {0}\".format(i))\n",
    "        print(nums)\n",
    "\n",
    "        index_min = i\n",
    "        value = nums[i]\n",
    "        for j in range(i+1,n):\n",
    "            if nums[j]<value:\n",
    "                index_min = j\n",
    "                value = nums[j]\n",
    "        temp = nums[i]\n",
    "        nums[i] = value\n",
    "        nums[index_min] = temp\n",
    "    return nums\n",
    "            "
   ]
  },
  {
   "cell_type": "code",
   "execution_count": 5,
   "id": "f685228c-4a38-4469-928a-a59d81c6abfe",
   "metadata": {},
   "outputs": [
    {
     "data": {
      "text/plain": [
       "[0, 1, 2, 2, 5]"
      ]
     },
     "execution_count": 5,
     "metadata": {},
     "output_type": "execute_result"
    }
   ],
   "source": [
    "selection_sort([0,2,1,2,5])"
   ]
  },
  {
   "cell_type": "markdown",
   "id": "8f0aa6d5-74fe-4644-8f1e-a4d1e5ec9d54",
   "metadata": {},
   "source": [
    "## Bubble sort"
   ]
  },
  {
   "cell_type": "markdown",
   "id": "2e33b0a3-3db5-4fa7-a416-e75bb093c373",
   "metadata": {},
   "source": [
    "1) elements \"bubble\" from left to right, after every step, highest elements keep going to the right\n",
    "2) Pseudocode in words : scan the element from left multiple times (like a bubble).when scanning array, compare element at adjacent position, if element at current position is > element at next position . swap two elements. rinse and repeat\n",
    "3) \n",
    "    i) Loop: i from over 0 to n-1 \n",
    "            {\n",
    "                flag = 0\n",
    "                for j in 0 to (n-k-1):  ## as all parts after n-k-1 is still sorted\n",
    "                    {\n",
    "                        if A[j]>A[j+1]:\n",
    "                            swap(A[j],A[j+1])\n",
    "                            flag = 1\n",
    "                     }\n",
    "                 if flag==0:\n",
    "                     break (break out of outer loop if array is already sorted)\n",
    "              }\n",
    "        \n",
    "        take the mininum of list - move to new array\n",
    "        replace minimum in original list as some very large integer to prevent counting it again\n",
    "        repeat until all positions in new array are filled\n",
    "    iii) in end, assign a to b\n",
    "    \n",
    "4) Classification :\n",
    "    1) Slow - Time complexity : worse case : O(n**2), average case : O(n**2), best case : O(n) (already sorted list)\n",
    "    2) Space complexity : O(1) ## in place, no extra memory\n",
    "    3) stable - does not change order of ties\n",
    "    4) non-recursive\n"
   ]
  },
  {
   "cell_type": "markdown",
   "id": "435c28e2-d7e5-43df-8572-cd50ef9a6111",
   "metadata": {},
   "source": [
    "Example\n",
    "1) Input : step 1 : [2,7,4,1,5,3]\n",
    "2) Step 2 : [2,4,1,5,3,7]  (bubble 7 up)\n",
    "3) step 3 : [2,1,4,3,5,7]  (bubble 4 up partly , then bubble 5 up)...\n",
    "4) step 4 : [1,2,3,4,5,7]\n",
    "\n",
    "\n",
    "Done\n",
    "\n",
    "At every step, note that the first part of the array keeps getting the lower elements in sorted order, and second part of array is unsorted"
   ]
  },
  {
   "cell_type": "code",
   "execution_count": 14,
   "id": "e63e5603-0a56-4a2a-9f16-158c1f1bce49",
   "metadata": {},
   "outputs": [],
   "source": [
    "def bubble_sort(nums):\n",
    "    n = len(nums)\n",
    "    print(\"step initial\")\n",
    "    print(nums)\n",
    "    for i in range(0,n-2):\n",
    "        print(\"step {0}\".format(i))\n",
    "        flag = 0\n",
    "        for j in range(0, n-i-1):\n",
    "            if nums[j]>nums[j+1]:\n",
    "                temp = nums[j]\n",
    "                nums[j] = nums[j+1]\n",
    "                nums[j+1] = temp\n",
    "                flag=1\n",
    "        print(nums)\n",
    "        if flag==0: ## already sorted no swaps\n",
    "            break\n",
    "            \n",
    "\n",
    "    return nums"
   ]
  },
  {
   "cell_type": "code",
   "execution_count": 15,
   "id": "7dc1f87b-ce85-4eab-84d3-a6fa2fe2a861",
   "metadata": {},
   "outputs": [
    {
     "name": "stdout",
     "output_type": "stream",
     "text": [
      "step initial\n",
      "[2, 7, 4, 1, 5, 3]\n",
      "step 0\n",
      "[2, 4, 1, 5, 3, 7]\n",
      "step 1\n",
      "[2, 1, 4, 3, 5, 7]\n",
      "step 2\n",
      "[1, 2, 3, 4, 5, 7]\n",
      "step 3\n",
      "[1, 2, 3, 4, 5, 7]\n"
     ]
    },
    {
     "data": {
      "text/plain": [
       "[1, 2, 3, 4, 5, 7]"
      ]
     },
     "execution_count": 15,
     "metadata": {},
     "output_type": "execute_result"
    }
   ],
   "source": [
    "bubble_sort([2,7,4,1,5,3])"
   ]
  },
  {
   "cell_type": "markdown",
   "id": "f76ac411-2490-4f2e-ac62-d74a5627a4bd",
   "metadata": {},
   "source": [
    "### References"
   ]
  },
  {
   "cell_type": "markdown",
   "id": "e0372c55-9956-438b-a4a4-b11b93719971",
   "metadata": {},
   "source": [
    "1) https://www.youtube.com/watch?v=pkkFqlG0Hds&list=PL2_aWCzGMAwKedT2KfDMB9YA5DgASZb3U&index=1"
   ]
  },
  {
   "cell_type": "code",
   "execution_count": null,
   "id": "b285c8bb-7b89-401b-a2cc-7a2ddd558026",
   "metadata": {},
   "outputs": [],
   "source": []
  }
 ],
 "metadata": {
  "kernelspec": {
   "display_name": "Python 3",
   "language": "python",
   "name": "python3"
  },
  "language_info": {
   "codemirror_mode": {
    "name": "ipython",
    "version": 3
   },
   "file_extension": ".py",
   "mimetype": "text/x-python",
   "name": "python",
   "nbconvert_exporter": "python",
   "pygments_lexer": "ipython3",
   "version": "3.8.8"
  }
 },
 "nbformat": 4,
 "nbformat_minor": 5
}
