{
 "cells": [
  {
   "cell_type": "markdown",
   "id": "0c1d2474-952d-4388-bbc0-2b2dfdb29238",
   "metadata": {},
   "source": [
    "##                                                 Sorting"
   ]
  },
  {
   "cell_type": "markdown",
   "id": "b8902583-560e-4680-a5d9-68f6d7e94e9e",
   "metadata": {},
   "source": [
    "### What is sorting ?"
   ]
  },
  {
   "cell_type": "markdown",
   "id": "3d3c2266-f24c-4035-a64d-888e50c3c7d2",
   "metadata": {},
   "source": [
    "1) arranging elements in a list or array according to some property. All elements in list have to be of same data type for sorting to happen\n",
    "2) What are advantages of sorting\n",
    "    1) Presentation : For example, a website might allow you to sort hotels by increasing price, or decreasing rating , or something like that\n",
    "    2) Compute time : In an unsorted list, finding an element is O(n). In a sorted list, it is O(log n)\n",
    "    3) Sorting cab be done on integers/float, strings (in lexicographical/like a dictionary), complex data types such as hotels in the example above\n",
    "    \n",
    "3) For illustration, typically, we take a list of integers and try to arrange in ascending order"
   ]
  },
  {
   "cell_type": "markdown",
   "id": "fbde23f3-92ce-4cea-8ee7-8001352cfa7b",
   "metadata": {},
   "source": [
    "### Types of sorting algorithms"
   ]
  },
  {
   "cell_type": "markdown",
   "id": "56226507-95a7-4eff-a3f3-9303ff29cef7",
   "metadata": {},
   "source": [
    "many types - bubble sort, insertion sort, merge sort, quick sort, selection sort, heap sort, radix sort, counting sort\n",
    "\n",
    "Sorting algorithms are classified based on \n",
    "1) Time complexity : Is it O(n**2), O(nlogn)m etc as a function of array size n\n",
    "2) Space complexity : Is it O(1) (inplace sorting / constant memory) or is it a function of n?\n",
    "3) Stability : Lets say you have cards 2 diamond, 6 clubs, 6 hearts, and 10 spades, and want to sort by rank/number ? either 6 hearts or 6 club can appear first A stable sorting algorithm preserves the original order in input list in the output after sorting given ties. For example, if 6 clubs is before 6 hearts in original list, even after sorting , a stable sorting algorithm will put 6 club instead of 6 hearts\n",
    "4) Internal or external sort - \n",
    "    Internal sort : if all records are in memory/RAM\n",
    "    External sort : Records can be on disk (better if you have a tonne of data)\n",
    "5) Recursive vs non recursive\n",
    "    Quick and merge sort are recursive\n",
    "    insertion and selection sort are non recursive"
   ]
  },
  {
   "cell_type": "markdown",
   "id": "0a6642c8-a413-4d47-af15-7e073c0b132d",
   "metadata": {},
   "source": [
    "![sorting_algos_complexity_comparison](./pictures/sorting_comparison_geeks_for_geeks.PNG \"sorting comparison\")  \n"
   ]
  },
  {
   "cell_type": "markdown",
   "id": "20fcc3a0-ec07-4e29-95ed-44c434387e85",
   "metadata": {},
   "source": [
    "## Selection sort"
   ]
  },
  {
   "cell_type": "markdown",
   "id": "a8eb8804-96a8-4d5e-8feb-f9d47bd2ccef",
   "metadata": {},
   "source": [
    "1) simplest, most intuitive sorting scenario\n",
    "2) Pseudocode in words : at every step of loop i (i from 0 to n-1), scan all elements from i to n-1, find minimum, and swap the i element with the min. keep repeating. this ensures that the left side of the list keeps getting sorted in increasing order, and the right side has unsorted, till sorting ends\n",
    "    i) Loop: i from over 0 to n-2 (n-2 since if all n-2 elements are sorted, n-1 is automatically sorted)\n",
    "            {\n",
    "                imin = i\n",
    "                for j in i+1:n-1:\n",
    "                    if A[j]<A[imin]:\n",
    "                        imin = j\n",
    "                temp = A[i]\n",
    "                A[i] = A[imin]\n",
    "                A[imin] = temp\n",
    "              }\n",
    "        \n",
    "        take the mininum of list - move to new array\n",
    "        replace minimum in original list as some very large integer to prevent counting it again\n",
    "        repeat until all positions in new array are filled\n",
    "    iii) in end, assign a to b\n",
    "\n",
    "3) Classification :\n",
    "    1) Slow - Time complexity : O(n**2), In fact even in best case its O(n**2)\n",
    "    2) Space complexity : O(1) ## in place, no extra memory\n",
    "    3) unstable - can change order of ties\n",
    "    4) non-recursive\n",
    "\n",
    "    "
   ]
  },
  {
   "cell_type": "markdown",
   "id": "146228f6-f57b-49f0-bf65-2500307834e6",
   "metadata": {},
   "source": [
    "Example\n",
    "1) Input : step 1 : [2,7,4,1,5,3]\n",
    "2) Step 2 : [1,7,4,2,5,3]  (swap 2 in first position in prev step with minimum value in elements after it)\n",
    "3) step 3 : [1,2,4,7,5,3]  (swap 7 in  second position in prev step with minimum value after it)...\n",
    "4) step 4 : [1,2,3,7,5,4]\n",
    "5) step 5 : [1,2,3,4,5,7]\n",
    "6) step 6 : [1,2,3,4,5,7]\n",
    "\n",
    "Done\n",
    "\n",
    "At every step, note that the first part of the array keeps getting the lower elements in sorted order, and second part of array is unsorted"
   ]
  },
  {
   "cell_type": "code",
   "execution_count": 16,
   "id": "3115b562-fba9-4e85-8a84-39893715a134",
   "metadata": {},
   "outputs": [],
   "source": [
    "def selection_sort(nums):\n",
    "    n = len(nums)\n",
    "    print(\"step initial\")\n",
    "    print(nums)\n",
    "    for i in range(0,n-1):\n",
    "        print(\"step {0}\".format(i))\n",
    "        print(nums)\n",
    "\n",
    "        index_min = i\n",
    "        value = nums[i]\n",
    "        for j in range(i+1,n):\n",
    "            if nums[j]<value:\n",
    "                index_min = j\n",
    "                value = nums[j]\n",
    "        temp = nums[i]\n",
    "        nums[i] = value\n",
    "        nums[index_min] = temp\n",
    "    return nums\n",
    "            "
   ]
  },
  {
   "cell_type": "code",
   "execution_count": 17,
   "id": "f685228c-4a38-4469-928a-a59d81c6abfe",
   "metadata": {},
   "outputs": [
    {
     "name": "stdout",
     "output_type": "stream",
     "text": [
      "step initial\n",
      "[2, 7, 4, 1, 5, 3]\n",
      "step 0\n",
      "[2, 7, 4, 1, 5, 3]\n",
      "step 1\n",
      "[1, 7, 4, 2, 5, 3]\n",
      "step 2\n",
      "[1, 2, 4, 7, 5, 3]\n",
      "step 3\n",
      "[1, 2, 3, 7, 5, 4]\n",
      "step 4\n",
      "[1, 2, 3, 4, 5, 7]\n"
     ]
    },
    {
     "data": {
      "text/plain": [
       "[1, 2, 3, 4, 5, 7]"
      ]
     },
     "execution_count": 17,
     "metadata": {},
     "output_type": "execute_result"
    }
   ],
   "source": [
    "selection_sort([2,7,4,1,5,3])"
   ]
  },
  {
   "cell_type": "markdown",
   "id": "8f0aa6d5-74fe-4644-8f1e-a4d1e5ec9d54",
   "metadata": {},
   "source": [
    "## Bubble sort"
   ]
  },
  {
   "cell_type": "markdown",
   "id": "2e33b0a3-3db5-4fa7-a416-e75bb093c373",
   "metadata": {},
   "source": [
    "1) elements \"bubble\" from left to right, after every step, highest elements keep going to the right\n",
    "2) Pseudocode in words : scan the element from left multiple times (like a bubble).when scanning array, compare element at adjacent position, if element at current position is > element at next position . swap two elements. rinse and repeat\n",
    "3) \n",
    "    i) Loop: i from over 0 to n-1 \n",
    "            {\n",
    "                flag = 0\n",
    "                for j in 0 to (n-k-1):  ## as all parts after n-k-1 is still sorted\n",
    "                    {\n",
    "                        if A[j]>A[j+1]:\n",
    "                            swap(A[j],A[j+1])\n",
    "                            flag = 1\n",
    "                     }\n",
    "                 if flag==0:\n",
    "                     break (break out of outer loop if array is already sorted)\n",
    "              }\n",
    "        \n",
    "        take the mininum of list - move to new array\n",
    "        replace minimum in original list as some very large integer to prevent counting it again\n",
    "        repeat until all positions in new array are filled\n",
    "    iii) in end, assign a to b\n",
    "    \n",
    "4) Classification :\n",
    "    1) Slow - Time complexity : worse case : O(n**2), average case : O(n**2), best case : O(n) (already sorted list)\n",
    "    2) Space complexity : O(1) ## in place, no extra memory\n",
    "    3) stable - does not change order of ties\n",
    "    4) non-recursive\n"
   ]
  },
  {
   "cell_type": "markdown",
   "id": "435c28e2-d7e5-43df-8572-cd50ef9a6111",
   "metadata": {},
   "source": [
    "Example\n",
    "1) Input : step 1 : [2,7,4,1,5,3]\n",
    "2) Step 2 : [2,4,1,5,3,7]  (bubble 7 up)\n",
    "3) step 3 : [2,1,4,3,5,7]  (bubble 4 up partly , then bubble 5 up)...\n",
    "4) step 4 : [1,2,3,4,5,7]\n",
    "\n",
    "\n",
    "Done\n",
    "\n",
    "\n",
    "Note that at every step, the last part of the array is sorted , and keeps growing in reverse order"
   ]
  },
  {
   "cell_type": "code",
   "execution_count": 14,
   "id": "e63e5603-0a56-4a2a-9f16-158c1f1bce49",
   "metadata": {},
   "outputs": [],
   "source": [
    "def bubble_sort(nums):\n",
    "    n = len(nums)\n",
    "    print(\"step initial\")\n",
    "    print(nums)\n",
    "    for i in range(0,n-2):\n",
    "        print(\"step {0}\".format(i))\n",
    "        flag = 0\n",
    "        for j in range(0, n-i-1):\n",
    "            if nums[j]>nums[j+1]:\n",
    "                temp = nums[j]\n",
    "                nums[j] = nums[j+1]\n",
    "                nums[j+1] = temp\n",
    "                flag=1\n",
    "        print(nums)\n",
    "        if flag==0: ## already sorted no swaps\n",
    "            break\n",
    "            \n",
    "\n",
    "    return nums"
   ]
  },
  {
   "cell_type": "markdown",
   "id": "680dd9f6-03e1-4c6a-a8fd-65411dfe6417",
   "metadata": {},
   "source": [
    "## Insertion sort"
   ]
  },
  {
   "cell_type": "markdown",
   "id": "88ba8082-8af0-415d-b84d-a12ca9c764c1",
   "metadata": {},
   "source": [
    "1) think of list having two parts, first part sorted, second part unsorted. At every step, you pick first element from unsorted part and insert in right position in sorted part\n",
    "\n",
    "2) Pseudocode in words : Start with first element (element in zeroth index) being in sorted part, all the other elements unsorted. One at a time , pick first element from unsorted part, and keep swapping with elements in sorted part till right position is acheived (don't exactly need to swap every single time till right position is reached, you just find the right position to insert, and insert the value in unsorted position in that position, while doing so, all other values are moved one position to the right)\n",
    "3) \n",
    "    i) Loop: i from 1 to n-1 (since zeroth element is already \"sorted\" initially\n",
    "            {\n",
    "                value = A[i]\n",
    "                hole_position = i\n",
    "                while (A[hole_position-1]>value) and (hole_position >= 1):  ## if array is already sorted to left, this while loop is not entered into\n",
    "                    temp = A[hole_position-1]\n",
    "                    A[hole_position] = temp\n",
    "                    hole_position = hole_position-1\n",
    "                A[hole_position] = value\n",
    "start with a \"hole\" position which is current index in loop, keep moving that whole position till right position is reached\n",
    "4) Classification :\n",
    "    1) Slow - Time complexity : worse case (reverse sorted): O(n**2), average case : O(n**2), best case : O(n) (already sorted list)\n",
    "    2) Space complexity : O(1) ## in place, no extra memory\n",
    "    3) stable - does not change order of ties\n",
    "    4) non-recursive\n",
    "\n",
    "\n",
    "even though this is also O(n**2)  theoretically, Practically, it is faster in general than bubble and selection sort as you don't do as many swaps and comparisons"
   ]
  },
  {
   "cell_type": "markdown",
   "id": "32c4cfc3-dadf-47ff-bab1-0f9d545db618",
   "metadata": {},
   "source": [
    "Example\n",
    "1) Input : step 1 : [2,7,4,1,5,3]\n",
    "2) Step 2 : [2,7,4,1,5,3]  (hole in index 1, first two elements are already sorted, won't enter while loop, so no swaps)\n",
    "3) step 3 : [2,4,7,1,5,3]  (hole at index 2, 4 inserted at right position)...\n",
    "4) step 4 : [1,2,4,7,5,3] (hole at index 3, 1 moved till inserted at right position)\n",
    "5) step 5 : [1,2,4,5,7,3]\n",
    "6) step 6 : [1,2,3,4,5,7]\n",
    "\n",
    "\n",
    "Done\n",
    "\n",
    "\n",
    "\n",
    "\n",
    "At every step, note that similar to selection sort, the first part of the array keeps getting the lower elements in sorted order, and second part of array is unsorted. However the approach is different, as in selection sort we first find minimum of unsorted position and swap, in insertion we take first element of unsorted position (hole) and move it to right position"
   ]
  },
  {
   "cell_type": "code",
   "execution_count": 5,
   "id": "7dc1f87b-ce85-4eab-84d3-a6fa2fe2a861",
   "metadata": {},
   "outputs": [],
   "source": [
    "def insertion_sort(nums):\n",
    "    n = len(nums)\n",
    "    print(\"step initial\")\n",
    "    print(nums)\n",
    "    for i in range(1,n):\n",
    "        print(\"step {0}\".format(i-1))\n",
    "        value = nums[i]\n",
    "        hole = i\n",
    "        while ((hole>0) and (nums[hole-1]>value)):\n",
    "            nums[hole] = nums[hole-1]\n",
    "            hole = hole-1\n",
    "        nums[hole] = value\n",
    "        print(nums)\n",
    "    return nums"
   ]
  },
  {
   "cell_type": "code",
   "execution_count": 6,
   "id": "bbfbc80b-5404-4416-9cdc-b2543ada1a84",
   "metadata": {},
   "outputs": [
    {
     "name": "stdout",
     "output_type": "stream",
     "text": [
      "step initial\n",
      "[2, 7, 4, 1, 5, 3]\n",
      "step 0\n",
      "[2, 7, 4, 1, 5, 3]\n",
      "step 1\n",
      "[2, 4, 7, 1, 5, 3]\n",
      "step 2\n",
      "[1, 2, 4, 7, 5, 3]\n",
      "step 3\n",
      "[1, 2, 4, 5, 7, 3]\n",
      "step 4\n",
      "[1, 2, 3, 4, 5, 7]\n"
     ]
    },
    {
     "data": {
      "text/plain": [
       "[1, 2, 3, 4, 5, 7]"
      ]
     },
     "execution_count": 6,
     "metadata": {},
     "output_type": "execute_result"
    }
   ],
   "source": [
    "insertion_sort([2,7,4,1,5,3])"
   ]
  },
  {
   "cell_type": "markdown",
   "id": "06ff304b-5c13-4de0-973b-01bcda3949a7",
   "metadata": {},
   "source": [
    "## Merge sort"
   ]
  },
  {
   "cell_type": "markdown",
   "id": "ae05554d-4a4b-4dc7-abc5-2e3d91230470",
   "metadata": {},
   "source": [
    "1) Very different technique from the earlier three techniques we looked at  - selection, bubble and insertion sort which rely on swapping in different ways. This technique is a recursion and divide and conquer algorithm\n",
    "2) Has best case, average case and worst case time complexity of O(nlogn), so much faster . Space complexity O(n), not in place\n",
    "3) Intuition : recursive algorithm. Basic merge sort algorithm is to divide array into two equal halves (if length odd, one half will have one more element). Do merge sort of left half, merge sort of right half, and merge sorted left half and sorted right half. Note that if you have have two sorted left and right halves, merging can be done by pair wise comparison and is O(n)\n",
    "4) Pseudocode in words : \n",
    "Divide array into two roughly equal halves, left and right. Call merge sort of left, merge sort of right, and then merge the sorted left and right halves. For the last step (the merge), start with 3 counters, one for left array i , one for right array j , and one for position in main array k . Compare left[i] with right[j], which ever is smaller, replace in main_array[k]. Increment k , increment i or j whichever was replaced. If one array gets over before the other, just put all elements of remaining array in the main_array\n",
    "5) Pseudocode :\n",
    "    Mergesort(A):\n",
    "        n = len(A)\n",
    "        if n<2:\n",
    "            pass\n",
    "        else:\n",
    "            left = A[0:int(n/2)]   O(n) operation\n",
    "            right = A[int(n/2):]\n",
    "            left = Mergesort(left) - recursive call\n",
    "            right = Mergesort(right) - recursive call\n",
    "            merge(left, right,A) - O(n)\n",
    "        return A\n",
    "6) Time complexity : Let merge sort have time complexity T(n)\n",
    "Therefore T(n) = c*n (for the left and right assignments and merge ) + 2*T(n/2) (recursion of right and left respectively)\n",
    "\n",
    "T(n) = 2*T(n/2) + c*n\n",
    "     = 2*(2T(n/4) + c*n/2) + c*n\n",
    "     = 4*T(n/4) + 2*c*n\n",
    "     = 8*T(n/8) + 3*c*n...\n",
    "     = 2^k * T(n/(2**k)) + k*c*n\n",
    "     \n",
    "T(1) = c (as we immediately exit). Therefore k = log2(n) at this point when n=1\n",
    "T(n) = 2^(log2(n)) + c + c*n*log2(n) = c1*log2(n) + nc + c = theta(nlogn) and also O(nlogn)\n",
    "\n",
    "Therefore in both average and worse case, it is of order nlog2(n)\n",
    "\n",
    "7) Space complexity : the left and right arrays are extra memories\n",
    "Every step : we need size n. If we delete at end of every step, memory remains n.\n",
    "Otherwise,if we don't clear after every step. memory becomes n*log(n) as there are log n steps\n",
    "\n",
    "If we clear after every step, extra memory will be n+ (n/2) + (n/4)...\n",
    "we will have log n terms, but even if we take till infinity, time will be n\n",
    "\n",
    "4) Classification :\n",
    "    1) Fast - Time complexity : worse case  O(nlogn), average case : O(nlogn), best case : O(nlogn) (already sorted list)\n",
    "    2) Space complexity : Not inplace sorting algorithm unlike earlier sorting algorithms, since new array is created, O(n) ## needs creation of new left and right arrays every time\n",
    "    3) stable - does not change order of ties\n",
    "    4) recursive\n",
    "\n",
    "\n",
    "5) "
   ]
  },
  {
   "cell_type": "markdown",
   "id": "de4b206c-9efa-4f50-ac8c-61ff6742edcf",
   "metadata": {},
   "source": [
    "Example\n",
    "1) Input : step 1 : [2,7,4,1,5,3]\n",
    "2) Step 2 :\n",
    "    left array = [2,7,4]  \n",
    "        call merge sort:\n",
    "        left array = [2] - Done\n",
    "        right array = [7,4]\n",
    "            left array = [7]\n",
    "            right array = [4]\n",
    "            merge = [4,7]\n",
    "        merge = [2,4,7]\n",
    "    \n",
    "    \n",
    "    right array = [1,5,3]\n",
    "        call merge sort:\n",
    "        left array = [1] : Done\n",
    "        right array = [5,3]\n",
    "            left array = [5]\n",
    "            right array = [3]\n",
    "            merge = [3,5]\n",
    "         merge = [1,3,5]\n",
    "    merge = [1,2,3,4,5,7]\n",
    "\n",
    "\n",
    "Done\n",
    "\n",
    "\n",
    "\n",
    "\n",
    "Note recursion at every step"
   ]
  },
  {
   "cell_type": "markdown",
   "id": "799472ce-b7fa-4c67-a02d-21f0b096e554",
   "metadata": {},
   "source": [
    "\n"
   ]
  },
  {
   "cell_type": "code",
   "execution_count": 10,
   "id": "ffafec51-c22f-4ab6-9b11-d8efa8b85d3d",
   "metadata": {},
   "outputs": [],
   "source": [
    "def merge(left, right, nums):\n",
    "    i = 0\n",
    "    j = 0\n",
    "    k = 0\n",
    "    while( (i <= len(left)-1) and (j <= len(right)-1)):\n",
    "        if left[i]<=right[j]:\n",
    "            nums[k] = left[i]\n",
    "            i = i+1\n",
    "        else:\n",
    "            nums[k] = right[j]\n",
    "            j = j+1\n",
    "        k = k + 1\n",
    "    while(i <= len(left)-1):  ## this is entered if right list gets finished before left\n",
    "        nums[k] = left[i]\n",
    "        i = i+1\n",
    "        k = k+1\n",
    "    while(j <= len(right)-1):  ## this is entered if left list gets finished before right\n",
    "        nums[k] = right[j]\n",
    "        j = j+1\n",
    "        k = k+1    \n",
    "    return nums\n",
    "    \n",
    "\n",
    "def merge_sort(nums):\n",
    "    n = len(nums)\n",
    "    print(\"step initial\")\n",
    "    print(nums)\n",
    "    if n<=1:\n",
    "        return nums\n",
    "    else:\n",
    "        left = nums[0:int(n/2)]\n",
    "        right = nums[int(n/2):]\n",
    "        left = merge_sort(left)\n",
    "        right = merge_sort(right)\n",
    "        nums = merge(left, right, nums)\n",
    "        return nums\n",
    "    \n"
   ]
  },
  {
   "cell_type": "code",
   "execution_count": 12,
   "id": "423b2b6d-bcfc-4a7d-8273-b73a36f34614",
   "metadata": {},
   "outputs": [
    {
     "name": "stdout",
     "output_type": "stream",
     "text": [
      "step initial\n",
      "[2, 7, 4, 1, 5, 3, 1]\n",
      "step initial\n",
      "[2, 7, 4]\n",
      "step initial\n",
      "[2]\n",
      "step initial\n",
      "[7, 4]\n",
      "step initial\n",
      "[7]\n",
      "step initial\n",
      "[4]\n",
      "step initial\n",
      "[1, 5, 3, 1]\n",
      "step initial\n",
      "[1, 5]\n",
      "step initial\n",
      "[1]\n",
      "step initial\n",
      "[5]\n",
      "step initial\n",
      "[3, 1]\n",
      "step initial\n",
      "[3]\n",
      "step initial\n",
      "[1]\n"
     ]
    },
    {
     "data": {
      "text/plain": [
       "[1, 1, 2, 3, 4, 5, 7]"
      ]
     },
     "execution_count": 12,
     "metadata": {},
     "output_type": "execute_result"
    }
   ],
   "source": [
    "merge_sort([2,7,4,1,5,3,1])"
   ]
  },
  {
   "cell_type": "markdown",
   "id": "ccbc0ab6-a56f-43f6-84e9-a6e2a45bb3ad",
   "metadata": {},
   "source": [
    "## Quick sort"
   ]
  },
  {
   "cell_type": "markdown",
   "id": "6554063e-c061-4faf-8ff0-fdbac1f6f17e",
   "metadata": {},
   "source": [
    "1) Recursive divide and conquer algorithm similar to merge sort. \n",
    "2) Average case time complexity is O(nlogn) similar to merge sort, worse case time complexity is O(n^2), worse than merge sort. However, it is in place, so space complexity is O(log n)\n",
    "3) Using a randomized version of quick sort, the worse case solution can almost always be avoided\n",
    "4) Most programming languages implement sort using quick sort (Note that python is an exception, uses Timsort, a hybrid of merge and insertion sort)\n",
    "5) Pseudocode in words - at every iteration, pick a pivot (can be value at last index). and partition in place such that all elements less than pivot are in left , all elements greater than pivot in right . Take elements in left, pick pivot, repeat. similarly, pick element in right , take pivot repeat. till length of array is 1 after picking pivot. Since all element positions in parition are done in place, this is O(1) in space complexity\n",
    "6) Pseudocode : \n",
    "    quicksort(A, start_index, end_index):\n",
    "        if start_index >= end_index:\n",
    "            return A ## terminating condition\n",
    "        else:\n",
    "            pivot_position = partition(A, start_index, end_index)\n",
    "            quicksort(A, start_index, pivot_position-1) ## quicksort of left\n",
    "            quicksort(A, pivot_position+1, end_index)\n",
    "        return A\n",
    "\n",
    "\n",
    "\n",
    "6) Time complexity : Let quick sort have time complexity T(n)\n",
    "Therefore T(n) = c*n (partition function) + 2*T(n/2) (in best case, when pivot is the median of the array in every partition) if n>1. If n=1, (T(1) = c)  - This recurrence relation is same as the one we got for merge sort. This is O(nlogn)\n",
    "\n",
    "\n",
    "\n",
    "T(n) = 2*T(n/2) + c*n\n",
    "     = 2*(2T(n/4) + c*n/2) + c*n\n",
    "     = 4*T(n/4) + 2*c*n\n",
    "     = 8*T(n/8) + 3*c*n...\n",
    "     = 2^k * T(n/(2**k)) + k*c*n\n",
    "     \n",
    "T(1) = c (as we immediately exit). Therefore k = log2(n) at this point when n=1\n",
    "T(n) = 2^(log2(n)) + c + c*n*log2(n) = c1*log2(n) + nc + c = theta(nlogn) and also O(nlogn)\n",
    "\n",
    "Therefore in best case, it is of order nlog2(n)\n",
    "\n",
    "For worse case:\n",
    "\n",
    "At every stage, pivot is picked as the largest or smallest element\n",
    "T(n) = T(n-1) + c*n (n>1)\n",
    "T(1) = c1\n",
    "\n",
    "T(n) = T(n-2) + c*(n-1 + n-2)\n",
    "     = T(n-3) + c*(n-1 + n-2 + n-3)....\n",
    "      ~O(n**2)\n",
    "\n",
    "\n",
    "For average case : partition can happen anywhere randomly at position i, so left half will have i-1 elements, right n-i\n",
    "Take an expectation of this\n",
    "T(1) = c1\n",
    "T(n) = c*n (for partitions) + (1/n)*\\sum_{i:0,n-1}(T(i-1) + T(n-i))\n",
    "\n",
    "If we solve this, we get O(nlogn)\n",
    "\n",
    "\n",
    "Space Complexity : on average case is O(logn), in worst case O(n). Why ? Each step/recursion in quick sort is O(1) (constant time). On average, since there are logn recursions, log(n)*c = log(n)\n",
    "\n",
    "4) Classification :\n",
    "    1) Fast - Time complexity : worse case  O(n**2), average case : O(nlogn), best case : O(nlogn) (already sorted list). Worse case can almost always be avoided by using randomized version of quicksort\n",
    "    2) Space complexity :  inplace sorting algorithm , so O(1)\n",
    "    3) unstable - does not change order of ties\n",
    "    4) recursive"
   ]
  },
  {
   "cell_type": "markdown",
   "id": "323b96af-0ec2-410a-9480-f486bc6ba1ef",
   "metadata": {},
   "source": []
  },
  {
   "cell_type": "code",
   "execution_count": 12,
   "id": "b79f4465-7d52-4b98-b0e4-05a21da78426",
   "metadata": {},
   "outputs": [],
   "source": [
    "def partition_in_place(nums, start, end):\n",
    "    pivot = nums[end]\n",
    "    ## print(\"pivot\", pivot)\n",
    "    j = start\n",
    "    for i in range(start, end):\n",
    "        print(i, nums)\n",
    "        print(\"j\", j)\n",
    "        if nums[i]<=pivot:\n",
    "            \n",
    "            temp = nums[j]\n",
    "            nums[j] = nums[i]\n",
    "            nums[i] = temp\n",
    "            ## print(\"inside\")\n",
    "            ## print(nums)\n",
    "            j = j + 1\n",
    "        else:\n",
    "            pass\n",
    "        ## print(i, j)\n",
    "    temp = nums[j]\n",
    "    nums[j] = pivot\n",
    "    nums[end] = temp\n",
    "    return j\n",
    "        \n",
    "            \n",
    "        "
   ]
  },
  {
   "cell_type": "code",
   "execution_count": 13,
   "id": "894a7354-0ce3-4498-8771-3bd015f99eef",
   "metadata": {},
   "outputs": [
    {
     "name": "stdout",
     "output_type": "stream",
     "text": [
      "0 [9, 4, 2, 7]\n",
      "j 0\n",
      "1 [9, 4, 2, 7]\n",
      "j 0\n",
      "2 [4, 9, 2, 7]\n",
      "j 1\n",
      "[4, 2, 7, 9]\n"
     ]
    }
   ],
   "source": [
    "nums = [9,4,2,7]\n",
    "aa = partition_in_place(nums,0,len(nums)-1 )\n",
    "print(nums)"
   ]
  },
  {
   "cell_type": "code",
   "execution_count": 32,
   "id": "3e4464fb-6f9a-4be2-8f28-795235ee11c0",
   "metadata": {},
   "outputs": [
    {
     "name": "stdout",
     "output_type": "stream",
     "text": [
      "2\n"
     ]
    }
   ],
   "source": [
    "print(aa)"
   ]
  },
  {
   "cell_type": "code",
   "execution_count": null,
   "id": "1d27eb96-39ca-4bed-9f44-75452df3f0c5",
   "metadata": {},
   "outputs": [],
   "source": []
  },
  {
   "cell_type": "code",
   "execution_count": 5,
   "id": "dc15b925-fbb3-4842-aa14-38a2737b19e1",
   "metadata": {},
   "outputs": [],
   "source": [
    "def quick_sort(nums, start_index, end_index):\n",
    "    if start_index >= end_index:\n",
    "        pass\n",
    "    else:\n",
    "        pivot_position = partition_in_place(nums, start_index, end_index) ## returns pivot position , and also partitions nums in place\n",
    "        quick_sort(nums, start_index, pivot_position-1)\n",
    "        quick_sort(nums, pivot_position+1, end_index)\n",
    "        \n"
   ]
  },
  {
   "cell_type": "code",
   "execution_count": 38,
   "id": "8f44824e-127f-4c23-a634-5dd6d52725e3",
   "metadata": {},
   "outputs": [],
   "source": [
    "nums = [2,7,4,1,5,3,1]\n",
    "quick_sort(nums, 0, len(nums)-1)"
   ]
  },
  {
   "cell_type": "code",
   "execution_count": 39,
   "id": "0a3ddd56-3fa1-414b-bb4c-01cd054314cb",
   "metadata": {},
   "outputs": [
    {
     "data": {
      "text/plain": [
       "[1, 1, 2, 3, 4, 5, 7]"
      ]
     },
     "execution_count": 39,
     "metadata": {},
     "output_type": "execute_result"
    }
   ],
   "source": [
    "nums"
   ]
  },
  {
   "cell_type": "markdown",
   "id": "bc41fa5a-e739-4e6c-8885-420eb6d26506",
   "metadata": {},
   "source": [
    "## Heap sort"
   ]
  },
  {
   "cell_type": "markdown",
   "id": "cf9042a6-d0f8-4be3-90e6-ae57d830932e",
   "metadata": {},
   "source": [
    "2) Average case, best and worse case time complexity is O(nlogn) similar to merge sort, and quicksort . Building a heap is O(n) if heapify is used, if regular inserting one element at a time is used, it is O(nlogn). Once heap is built, deleting all elements is O(nlogn). So overall O(nlogn). Space complexity is O(1), everything done inplace, no additional memory blocks created.\n",
    "3) Thus space complexity wise it is better than merge sort, and even quick sort, and time complexity wise, worse case is O(nlogn) which is comparable to merge sort and better than quick sort. However, in practice quick sort is usually prefered\n",
    "\n",
    "4) Pseudocode in words -Two step. Step 1) is building a max heap using heapify. Step 2 is deleting elements from max heap . at the end you get a sorted array. \n",
    "6) Pseudocode : \n",
    "\n",
    "    heapify(A, n, i):\n",
    "        max_index = i\n",
    "        left_child_index = 2*i + 1\n",
    "        right_child_index = 2*i+1\n",
    "        \n",
    "        if (left_child_index <= n) and (A[i] <= A[left_child_index]):\n",
    "            max_index = left_child_index\n",
    "        else:\n",
    "            pass\n",
    "            \n",
    "        if (right_child_index <= n) and (A[max_index] <= A[right_child_index]):  ## note - here max_index can be i or     ## left_child_index depending on prev step\n",
    "        \n",
    "            max_index = right_child_index\n",
    "        else:\n",
    "            pass\n",
    "        if max_index != i:\n",
    "            swap(A[i], A[max_index])\n",
    "        heapify(A, n, max_index)\n",
    "            \n",
    "    heapsort(A):\n",
    "        n = len(A)\n",
    "        \n",
    "        ## the build max heap part\n",
    "        for i in range(n/2,-1,1): ## starting with one level above leaf nodes (since leaf nodes don't need heapify to be applied)\n",
    "            heapify(A,n,i)\n",
    "            \n",
    "        ## the delete part\n",
    "        for i in  range(n,-1,2):\n",
    "            swap(A[i],A[0])  \n",
    "            heapify(A,i,1) ## heapify at first position, but only first i elements of array\n",
    "         \n",
    "        if start_index >= end_index:\n",
    "            return A ## terminating condition\n",
    "        else:\n",
    "            pivot_position = partition(A, start_index, end_index)\n",
    "            quicksort(A, start_index, pivot_position-1) ## quicksort of left\n",
    "            quicksort(A, pivot_position+1, end_index)\n",
    "        return A\n",
    "\n",
    "\n",
    "\n",
    "\n",
    "\n",
    "4) Classification :\n",
    "    1) Fast - Time complexity : worse case  O(nlogn), average case : O(nlogn), best case : O(nlogn) \n",
    "    2) Space complexity :  inplace sorting algorithm , so O(1)\n",
    "    3) unstable - why ? during heapify, comparing parent with children, if both children have same value, either can be chosen\n",
    "    4) not really recursive but uses heapify which is recursive"
   ]
  },
  {
   "cell_type": "code",
   "execution_count": 42,
   "id": "cac54e82-698f-4fd0-959d-f24b1feb36a5",
   "metadata": {},
   "outputs": [],
   "source": [
    "## Implementation - 0 indexing\n",
    "\n",
    "def leftChild(i):\n",
    "    return 2*i + 1\n",
    "def rightChild(i):\n",
    "    return 2*i + 2\n",
    "def returnParent(i):\n",
    "    if i%2 == 0: ##even\n",
    "        return ( (i//2) - 1)\n",
    "    else:\n",
    "        return i//2\n",
    "\n",
    "def returnIsLeaf(A, n, i):\n",
    "    if leftChild(i)>n or rightChild(i)>n:\n",
    "        return True\n",
    "    else:\n",
    "        return False\n",
    "    \n",
    "def swap(A, pos1, pos2):\n",
    "    A[pos1], A[pos2] = A[pos2], A[pos1]\n",
    "def maxHeapify(A, n, i):  ## heapify first n elements of A (using 1 indexing) at position i\n",
    "    if returnIsLeaf(A, n, i)==False: ## confirm not a leaf node\n",
    "        maximum = i\n",
    "        if A[leftChild(i)]>A[maximum]:\n",
    "            maximum = leftChild(i)\n",
    "        if A[rightChild(i)]>A[maximum]:\n",
    "            maximum = rightChild(i)     \n",
    "        if maximum != i:\n",
    "            swap(A, i, maximum)\n",
    "            maxHeapify(A, n, maximum)\n",
    "            \n",
    "    \n",
    "\n",
    "def heapSort(A):## assume 1 indexing, empty position at 0 to account for 0 position\n",
    "\n",
    "    n = len(A)\n",
    "    \n",
    "    ##build max Heap\n",
    "    for i in range(n//2 -1,-1,-1): ## n//2 because you start with non-leaf nodes\n",
    "        maxHeapify(A, n, i)\n",
    "    print(A)\n",
    "    ## delete 1 by 1 from beginning\n",
    "    for i in range(n-1,-1,-1):\n",
    "        print(i)\n",
    "        swap(A, i, 0)\n",
    "        print(A)\n",
    "        maxHeapify(A, i-1, 0)\n",
    "        print(A)\n",
    "        \n",
    "\n",
    "    \n",
    "    \n",
    "        \n",
    "    "
   ]
  },
  {
   "cell_type": "code",
   "execution_count": 43,
   "id": "052ef563-58bb-43c2-b2be-7bd91b0da680",
   "metadata": {},
   "outputs": [
    {
     "name": "stdout",
     "output_type": "stream",
     "text": [
      "[7, 5, 4, 1, 2, 3, 1]\n",
      "6\n",
      "[1, 5, 4, 1, 2, 3, 7]\n",
      "[5, 2, 4, 1, 1, 3, 7]\n",
      "5\n",
      "[3, 2, 4, 1, 1, 5, 7]\n",
      "[4, 2, 3, 1, 1, 5, 7]\n",
      "4\n",
      "[1, 2, 3, 1, 4, 5, 7]\n",
      "[3, 2, 1, 1, 4, 5, 7]\n",
      "3\n",
      "[1, 2, 1, 3, 4, 5, 7]\n",
      "[2, 1, 1, 3, 4, 5, 7]\n",
      "2\n",
      "[1, 1, 2, 3, 4, 5, 7]\n",
      "[1, 1, 2, 3, 4, 5, 7]\n",
      "1\n",
      "[1, 1, 2, 3, 4, 5, 7]\n",
      "[1, 1, 2, 3, 4, 5, 7]\n",
      "0\n",
      "[1, 1, 2, 3, 4, 5, 7]\n",
      "[1, 1, 2, 3, 4, 5, 7]\n"
     ]
    }
   ],
   "source": [
    "nums = [2,7,4,1,5,3,1]\n",
    "heapSort(nums)"
   ]
  },
  {
   "cell_type": "markdown",
   "id": "16b0313c-fa47-4ed4-8f2e-98da366b0c27",
   "metadata": {},
   "source": [
    "## Count sort"
   ]
  },
  {
   "cell_type": "markdown",
   "id": "eff2af76-e8c8-4893-88a8-d7189710e4e1",
   "metadata": {},
   "source": [
    "1) Cannot be applied to all sort problems. If values in array are positive, and within a tight range (ie you have all values in list between 10 and 50 , for example, with duplicates allowed, then count sort is an O(n+k) time complexity, O(n+k) space complexity solution. where k is the number of unique values in the range (in the list above , this is 41)\n",
    "2) Makes sense in cases where k <<n. If k >> n, lets say k is n**2 or higher, this is obviously an inefficient method, and other previous methods make sense\n",
    "3) This method doesn't require any swapping , unlike all the methods seen above\n",
    "4) Because it uses a temporary inplace array, it is not an inplace algorithm\n",
    "\n",
    "5) Pseudocode in words -Two step. \n",
    "Step 1) In O(n) time, get count of each of the k unique values the list can take. (Count is stored in an array of length k, where position j is count of jth unique value in array - very similar to an ordered hash map)\n",
    "Step 2) Do some arithmetic to get final array. basically since the count vector above is already in ascending order of keys, we just need to space element at position j in count array count(j) times in order to get final array\n",
    "This is done by first getting the count vector, then getting a cumsum on the count vector. The cumsum value of a specific element indicates the end index - 1 of the specific element.\n",
    "Step 3) .Create new array to store sorted value, same size as n (original array). go back to original array. start from last element j (this is to maintain stable sort). For the element, see what the index in the cumsum vector is, subtract 1, and put the element in new array at the index. Decrement j by 1, keep traversing till you end\n",
    "\n",
    "Because you traverse arrays linearly (both the original array of length n and the new count array of length k, time complexity is O(n+k). Because you create temp arrays of length k, and new array of length n to store final sorted value, space complexity is also O(n+k)\n",
    "\n",
    "6) Pseudocode : \n",
    "    countsort(A, k):\n",
    "        ## step 1 - create count array\n",
    "        count_array = [0]*k\n",
    "        For i in range(n):\n",
    "            count_array[A[i]] = count_array[A[i]] + 1\n",
    "            \n",
    "         ## step 2 - cum sum: (which gives end_index + 1 for every element in final sorted list)\n",
    "         temp = 0\n",
    "         for j in range(k):\n",
    "             count_array[j] = count_array[j] + temp\n",
    "             temp = count_array[j]\n",
    "             \n",
    "             \n",
    "          ## step 3 - create new array of size n to contain sorted array and populate it\n",
    "          b = [0]*n\n",
    "          \n",
    "          for i in range(reverse(n)):\n",
    "              count_array[A[i]] = count_array[A[i]]-1\n",
    "              b[count_array[A[i]]] = A[i]\n",
    "              \n",
    "              \n",
    "           ## step 4 - you can do a final step where you copy all elements from sorted array b back to original array a\n",
    "              \n",
    "              \n",
    "             \n",
    "         \n",
    "            \n",
    "\n",
    "   \n",
    "\n",
    "\n",
    "\n",
    "4) Classification :\n",
    "    1) Fast if k << n- Time complexity : worse case  O(n+k), average case : O(n+k), best case : O(n+k) \n",
    "    2) Space complexity :  O(n+k)\n",
    "    3) stable -\n",
    "    4) non recursive, non swapping"
   ]
  },
  {
   "cell_type": "markdown",
   "id": "1b951994-3e7f-446d-9827-fa3fe6e5cde3",
   "metadata": {},
   "source": [
    "Example\n",
    "1) Input : step 1 : [2,7,4,1,5,3,1]\n",
    "2) Step 1 : histogram : [0,2,1,1,1,1,0,1]  ## value at index i is count of element in original array.\n",
    "3) step 2 : cumsum [0,2,3,4,5,6,6,7]  \n",
    "4) step 3 : create sorted array - first create empty array of same size as input [0,0,0,0,0,0,0]\n",
    "                start with last element of original array : which is 1\n",
    "                Look at value at 1th index in cumsum which is 2. Subtract cumsum to get [0,1,3,4,5,6,6,7]\n",
    "                At 1th index in new array, populate 1 = [0,1,0,0,0,0,0]\n",
    "                \n",
    "                Go to second last element of original array which is 3.\n",
    "                Look at value at 3rd index in cumsum which is 4. Subtract 1 to cumsum at that position to get [0,1,3,3,5,6,6,7]\n",
    "                At 3rd index of new array, populate 3 => [0,1,0,3,4,5,7] and so on\n",
    "            \n",
    "            \n",
    "6) step 6 : [1,2,3,4,5,7]"
   ]
  },
  {
   "cell_type": "markdown",
   "id": "2e908731-a3cf-489b-b6cb-70682108e77e",
   "metadata": {},
   "source": [
    "https://www.geeksforgeeks.org/counting-sort/"
   ]
  },
  {
   "cell_type": "code",
   "execution_count": 1,
   "id": "6ab28755-9e74-4ab1-9364-ffa165104a44",
   "metadata": {},
   "outputs": [],
   "source": [
    "def count_sort(A):\n",
    "    k = max(A)+1\n",
    "    n = len(A)\n",
    "    \n",
    "    ## step 1 - creating histogram of unique values\n",
    "    count_array = [0]*k\n",
    "    for i in range(n):\n",
    "        count_array[A[i]] = count_array[A[i]] + 1\n",
    "    \n",
    "    ## step 2 - cumsum\n",
    "    temp = 0\n",
    "    for i in range(k):\n",
    "        count_array[i] = count_array[i] +  temp\n",
    "        temp = count_array[i]\n",
    "        \n",
    "    ## step 3 - using cumsum to get indices in original array\n",
    "    sorted_array = [0]*n\n",
    "    for i in range(n-1,-1,-1):\n",
    "        count_array[A[i]] = count_array[A[i]]-1\n",
    "        sorted_array[count_array[A[i]]] = A[i]\n",
    "    return sorted_array\n",
    "        \n",
    "        \n",
    "        "
   ]
  },
  {
   "cell_type": "code",
   "execution_count": 2,
   "id": "a5249d1b-f515-4180-b588-4b984fb25d56",
   "metadata": {},
   "outputs": [
    {
     "data": {
      "text/plain": [
       "[1, 1, 2, 3, 4, 5, 7]"
      ]
     },
     "execution_count": 2,
     "metadata": {},
     "output_type": "execute_result"
    }
   ],
   "source": [
    "count_sort([2,7,4,1,5,3,1])"
   ]
  },
  {
   "cell_type": "code",
   "execution_count": 1,
   "id": "ad97515e-e8e8-4ae1-b7ca-30e7b3c6d936",
   "metadata": {},
   "outputs": [],
   "source": [
    "leftChild,3,4,5]"
   ]
  },
  {
   "cell_type": "code",
   "execution_count": 4,
   "id": "04c94e90-2005-4484-8f07-3fb8cc6993e1",
   "metadata": {},
   "outputs": [],
   "source": [
    "a = [None,1,2,3,4,5]"
   ]
  },
  {
   "cell_type": "markdown",
   "id": "d48f728f-e9ec-4f8c-a42c-5828717907b0",
   "metadata": {},
   "source": [
    "## Radix sort"
   ]
  },
  {
   "cell_type": "markdown",
   "id": "b4bd4f03-fe12-4bc1-84aa-127dcb22a38b",
   "metadata": {},
   "source": [
    "1) Variation/Modification of count sort. Multi pass count sort, where each pass takes care of one significant digit\n",
    "2) Therefore, time complexity is O(n*k), where k is the number of significant digits of the largest element element in list\n",
    "3) Space complexity - O(n+k)\n",
    "4) disadv - Makes assumptions that data is in a range of elements - either numbers or strings.can be applied only where the constituents of elements are either digits or letters. This is why methods like quicksort are preferred as they are more generic\n",
    "5) This method doesn't require any swapping , so stable sort\n",
    "6) Because it uses a temporary inplace array, it is not an inplace algorithm\n",
    "\n",
    "5) Pseudocode in words -Two step. \n",
    "Step 1) Start with most least significant digit. Do count sort only on that position and sort all elements. (This requires initializing a list of length 10 - characters 0-9)\n",
    "Step 2) Repeat until the largest significant digits are used\n",
    "\n",
    "6) Code : \n",
    "\n",
    "    countSort(A, k, pos):\n",
    "        \n",
    "        ## create histogram\n",
    "        count_array = [0]*k\n",
    "        n = len(A)\n",
    "        for i in range(n):\n",
    "            digit = (A[i]//10**pos)%10  ## if i = 0 you want right most digit, so its just A remainder 10 , If i = 1, you want second digit from right, so you first chop the last digit, by taking quotient of A//10, and then take remainder\n",
    "            \n",
    "            count_array[digit] = count_array[digit] + 1\n",
    "            \n",
    "         ## create cumsum which gives end index + 1 of each position in sorted array\n",
    "         temp = 0\n",
    "         for i in range(k):\n",
    "             count_array[i] = count_array[i] + temp\n",
    "             temp = count_array[i]\n",
    "             \n",
    "         ## create new array of length n, and populate after iterating from reverse of original array\n",
    "         sorted_array = [0]*n\n",
    "         for i in range(n-1,-1,-1):\n",
    "             digit =  (A[i]//10**pos)%10 \n",
    "             count_array[digit] = count_array[digit]-1\n",
    "             sorted_array[count_array[digit]] = A[i]\n",
    "          \n",
    "         ## copy finally back to original array and return\n",
    "         for i in range(n):\n",
    "             A[i] = sorted_array[i]\n",
    "        return A\n",
    "    radixsort(A, k):\n",
    "        \n",
    "        for i in range(0,max_significant_digit):\n",
    "            countSort(A, k, i )  ## at each step, sort numbers in A based on countsort of that level's significant digit, starting with left to right\n",
    "\n",
    "   \n",
    "              \n",
    "             \n",
    "         \n",
    "            \n",
    "   \n",
    "\n",
    "\n",
    "\n",
    "4) Classification :\n",
    "    1) Fast if k << n- Time complexity : worse case  O(n+k), average case : O(n+k), best case : O(n+k) \n",
    "    2) Space complexity :  O(n+k)\n",
    "    3) stable -\n",
    "    4) non recursive, non swapping"
   ]
  },
  {
   "cell_type": "code",
   "execution_count": 21,
   "id": "645f662d-fc8c-4431-b441-68bc0f69ea12",
   "metadata": {},
   "outputs": [],
   "source": [
    "def count_sort_radix(A, k, pos):\n",
    "    n = len(A)\n",
    "    \n",
    "    ## step 1 - creating histogram of unique values\n",
    "    count_array = [0]*k\n",
    "    for i in range(n):\n",
    "        digit = (A[i]//(10**pos))%10\n",
    "        count_array[digit] = count_array[digit] + 1\n",
    "    \n",
    "    ## step 2 - cumsum\n",
    "    temp = 0\n",
    "    for i in range(k):\n",
    "        count_array[i] = count_array[i] +  temp\n",
    "        temp = count_array[i]\n",
    "    ## step 3 - using cumsum to get indices in original array\n",
    "    sorted_array = [0]*n\n",
    "    for i in range(n-1,-1,-1):\n",
    "        digit = (A[i]//(10**pos))%10\n",
    "        count_array[digit] = count_array[digit]-1\n",
    "        sorted_array[count_array[digit]] = A[i]\n",
    "    return sorted_array\n",
    "\n",
    "\n",
    "def radix_sort(A, k):\n",
    "    max_pos = max([len(str(x)) for x in A])\n",
    "    for i in range(0,max_pos):\n",
    "        A = count_sort_radix(A, k, i)\n",
    "    return A"
   ]
  },
  {
   "cell_type": "code",
   "execution_count": 22,
   "id": "bd01a5ec-cc8a-4e8d-a093-3faf0a9ea590",
   "metadata": {},
   "outputs": [
    {
     "data": {
      "text/plain": [
       "[1, 1, 2, 3, 4, 5, 7, 27, 111]"
      ]
     },
     "execution_count": 22,
     "metadata": {},
     "output_type": "execute_result"
    }
   ],
   "source": [
    "A = [2,7,4,1,27,5,3,111,1]\n",
    "radix_sort(A, 10)"
   ]
  },
  {
   "cell_type": "code",
   "execution_count": 20,
   "id": "64bf389c-a94e-49e3-ab57-bdb3fe784698",
   "metadata": {},
   "outputs": [
    {
     "data": {
      "text/plain": [
       "[2, 7, 4, 1, 27, 5, 3, 111, 1]"
      ]
     },
     "execution_count": 20,
     "metadata": {},
     "output_type": "execute_result"
    }
   ],
   "source": [
    "A"
   ]
  },
  {
   "cell_type": "markdown",
   "id": "f76ac411-2490-4f2e-ac62-d74a5627a4bd",
   "metadata": {},
   "source": [
    "### References"
   ]
  },
  {
   "cell_type": "markdown",
   "id": "e0372c55-9956-438b-a4a4-b11b93719971",
   "metadata": {},
   "source": [
    "1) https://www.youtube.com/watch?v=pkkFqlG0Hds&list=PL2_aWCzGMAwKedT2KfDMB9YA5DgASZb3U&index=1\n",
    "2) https://www.geeksforgeeks.org/analysis-of-different-sorting-techniques/\n",
    "3) https://fullyunderstood.com/pseudocodes/heap-sort/#:~:text=Steps%20to%20perform%20heap%20sort%3A&text=Once%20the%20heap%20is%20ready,in%20the%20array%20are%20sorted."
   ]
  },
  {
   "cell_type": "code",
   "execution_count": 25,
   "id": "b285c8bb-7b89-401b-a2cc-7a2ddd558026",
   "metadata": {},
   "outputs": [],
   "source": [
    "def check(A):\n",
    "    for i in range(len(A)):\n",
    "        A[i] = 2"
   ]
  },
  {
   "cell_type": "code",
   "execution_count": 26,
   "id": "e4cd5a5b-4923-4ebc-a136-6b8362bd093e",
   "metadata": {},
   "outputs": [],
   "source": [
    "A = [1,2,3]"
   ]
  },
  {
   "cell_type": "code",
   "execution_count": 27,
   "id": "cd0f09ef-805c-4b37-8990-d758327572fb",
   "metadata": {},
   "outputs": [],
   "source": [
    "check(A)"
   ]
  },
  {
   "cell_type": "code",
   "execution_count": 28,
   "id": "30c845b8-9f5b-4b55-84aa-a5c3cda9359f",
   "metadata": {},
   "outputs": [
    {
     "data": {
      "text/plain": [
       "[2, 2, 2]"
      ]
     },
     "execution_count": 28,
     "metadata": {},
     "output_type": "execute_result"
    }
   ],
   "source": [
    "A"
   ]
  },
  {
   "cell_type": "code",
   "execution_count": null,
   "id": "0cb7f796-d215-4dc3-aac8-d2e73a867ea2",
   "metadata": {},
   "outputs": [],
   "source": []
  }
 ],
 "metadata": {
  "kernelspec": {
   "display_name": "Python 3",
   "language": "python",
   "name": "python3"
  },
  "language_info": {
   "codemirror_mode": {
    "name": "ipython",
    "version": 3
   },
   "file_extension": ".py",
   "mimetype": "text/x-python",
   "name": "python",
   "nbconvert_exporter": "python",
   "pygments_lexer": "ipython3",
   "version": "3.8.8"
  }
 },
 "nbformat": 4,
 "nbformat_minor": 5
}
