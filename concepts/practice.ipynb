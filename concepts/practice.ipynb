{
 "cells": [
  {
   "cell_type": "markdown",
   "id": "598eafe8-7e5a-4333-8802-ebf42d402536",
   "metadata": {},
   "source": [
    "https://leetcode.com/problems/daily-temperatures/\n",
    "\n"
   ]
  },
  {
   "cell_type": "code",
   "execution_count": 13,
   "id": "520617ef-9c7d-4b18-91de-957516ce023d",
   "metadata": {},
   "outputs": [],
   "source": [
    "from typing import List\n",
    "class Solution:\n",
    "    def dailyTemperatures(self, temperatures: List[int]) -> List[int]:\n",
    "        n = len(temperatures)\n",
    "        output = [0]*n\n",
    "        stack = []\n",
    "        for i in range(n):\n",
    "            print(i, temperatures[i])\n",
    "            if not stack:\n",
    "                stack.append([i, temperatures[i]])\n",
    "                print(\"stack normal init\", stack)\n",
    "            else:\n",
    "                if temperatures[i]<=stack[-1][1]:\n",
    "                    stack.append([i, temperatures[i] ])\n",
    "                    print(\"stack normal\", stack)\n",
    "                    \n",
    "                else:\n",
    "                    while (stack) and (temperatures[i] >= stack[-1][1]):\n",
    "                        output[stack[-1][0]] = i - stack[-1][0]\n",
    "                        print(\"output\", output)\n",
    "                        print(\"stack before\", stack)\n",
    "                        stack.pop()\n",
    "                        print(\"stack after\", stack)\n",
    "                    stack.append([i, temperatures[i] ])\n",
    "        return output\n",
    "                        \n",
    "                        "
   ]
  },
  {
   "cell_type": "code",
   "execution_count": 14,
   "id": "bce940d0-ee18-4de9-8186-022a4ddde506",
   "metadata": {},
   "outputs": [],
   "source": [
    "a = Solution()"
   ]
  },
  {
   "cell_type": "markdown",
   "id": "2784412d-0e3e-48f8-9e50-2dade7d6a8fe",
   "metadata": {},
   "source": [
    "temperatures = [73,74,75,71,69,72,76,73]\n",
    "a.dailyTemperatures(temperatures)"
   ]
  },
  {
   "cell_type": "markdown",
   "id": "39d71980-e641-453b-8277-2e8f6b1fb4fc",
   "metadata": {},
   "source": [
    "https://leetcode.com/problems/next-permutation/"
   ]
  },
  {
   "cell_type": "code",
   "execution_count": 67,
   "id": "4843867e-7c14-49dc-ba5d-19d423e03c66",
   "metadata": {},
   "outputs": [],
   "source": [
    "class Solution:\n",
    "    def nextPermutation(self, nums: List[int]) -> None:\n",
    "        \n",
    "        def swap(i, j):\n",
    "            temp = nums[j]\n",
    "            nums[j] = nums[i]\n",
    "            nums[i] = temp\n",
    "            \n",
    "        def reverse(beg, end):\n",
    "            while beg <= end:\n",
    "                swap(beg, end)\n",
    "                beg = beg + 1\n",
    "                end = end - 1\n",
    "                \n",
    "        n = len(nums)\n",
    "        found = False\n",
    "        for i in range(n-1,0,-1):\n",
    "            if nums[i]>nums[i-1]: ## a break\n",
    "                reverse(i, n-1)\n",
    "  \n",
    "                max_index = i\n",
    "                for k in range(i, n, 1):\n",
    "                    if nums[k]>nums[i-1]:\n",
    "                        max_index = k\n",
    "                        print(max_index)\n",
    "                        print(nums[max_index])\n",
    "                        break\n",
    "                swap(i-1, max_index)\n",
    "                found = True\n",
    "                break\n",
    "\n",
    "        if found==False: ## list in descending order\n",
    "            nums.sort()\n",
    "        return nums\n",
    "                    \n",
    "                    "
   ]
  },
  {
   "cell_type": "code",
   "execution_count": 68,
   "id": "26813062-d0d8-44ce-bb9d-973f4c67cc01",
   "metadata": {},
   "outputs": [],
   "source": [
    "b = Solution()"
   ]
  },
  {
   "cell_type": "code",
   "execution_count": 46,
   "id": "d6eac83c-b204-4894-8100-58d00e17280b",
   "metadata": {},
   "outputs": [],
   "source": []
  },
  {
   "cell_type": "code",
   "execution_count": 70,
   "id": "1ca19116-491c-4d5e-a549-9f06be8f670c",
   "metadata": {},
   "outputs": [],
   "source": []
  },
  {
   "cell_type": "code",
   "execution_count": null,
   "id": "b630329b-0fba-4aa3-82d2-a7a4dd662177",
   "metadata": {},
   "outputs": [],
   "source": [
    "[1,7,3,8,9,9]"
   ]
  },
  {
   "cell_type": "code",
   "execution_count": 71,
   "id": "1ee888dd-2e0e-4def-8138-1fc083598b32",
   "metadata": {},
   "outputs": [
    {
     "name": "stdout",
     "output_type": "stream",
     "text": [
      "inside 2\n",
      "after reversing\n",
      "[1, 7, 3, 8, 9, 9]\n",
      "3\n",
      "8\n"
     ]
    },
    {
     "data": {
      "text/plain": [
       "[1, 8, 3, 7, 9, 9]"
      ]
     },
     "execution_count": 71,
     "metadata": {},
     "output_type": "execute_result"
    }
   ],
   "source": [
    "b.nextPermutation(numbers)"
   ]
  },
  {
   "cell_type": "markdown",
   "id": "ae08eecd-e421-4a68-a246-26e494027696",
   "metadata": {},
   "source": [
    "## merge sort implementation"
   ]
  },
  {
   "cell_type": "code",
   "execution_count": 7,
   "id": "7ae60676-5bd8-4250-8928-be247d3350ff",
   "metadata": {},
   "outputs": [
    {
     "data": {
      "text/plain": [
       "2"
      ]
     },
     "execution_count": 7,
     "metadata": {},
     "output_type": "execute_result"
    }
   ],
   "source": [
    "5//2"
   ]
  },
  {
   "cell_type": "code",
   "execution_count": 28,
   "id": "58dccc16-232c-4319-bdb9-55a3ce28e8dc",
   "metadata": {},
   "outputs": [],
   "source": [
    "def merge(left, right, l):\n",
    "    print(\"inside merge\")\n",
    "    print(\"inside merge left\", left)\n",
    "    print(\"inside merge right\", right)\n",
    "    n_left = len(left)\n",
    "    n_right = len(right)\n",
    "    n = len(l)\n",
    "    \n",
    "    i_l = i_r = i = 0\n",
    "    \n",
    "    if n_left==0: \n",
    "        print(\"merge output\", right)\n",
    "        return right\n",
    "    if n_right==0:\n",
    "        print(\"merge output\", left)\n",
    "        return left\n",
    "    \n",
    "    output = l[:]\n",
    "    while (i_l < n_left) and (i_r < n_right) and (i < n):\n",
    "        if left[i_l] < right[i_r]:\n",
    "            output[i] = left[i_l]\n",
    "            i_l = i_l + 1\n",
    "            i = i + 1\n",
    "        else:\n",
    "            output[i] = right[i_r]\n",
    "            i_r = i_r + 1\n",
    "            i = i + 1\n",
    "    if (i_l < n_left) and (i < n): ## right finished\n",
    "        while (i_l < n_left) and (i < n):\n",
    "            output[i] = left[i_l]\n",
    "            i_l = i_l + 1\n",
    "            i = i + 1\n",
    "    if (i_r < n_right) and (i < n): ## right finished\n",
    "        while (i_r < n_right) and (i < n):\n",
    "            output[i] = right[i_r]\n",
    "            i_r = i_r + 1\n",
    "            i = i + 1            \n",
    "    print(\"merge output\", output)\n",
    "    return output\n",
    "\n",
    "def merge_sort(l):\n",
    "    n = len(l)\n",
    "    if n<=1:\n",
    "        return l\n",
    "    left = l[0:(n//2)]\n",
    "    right = l[(n//2):]\n",
    "    left = merge_sort(left)\n",
    "    right = merge_sort(right)\n",
    "    print(\"left\", left)\n",
    "    print(\"right\", right)\n",
    "    output = merge(left, right, l)\n",
    "    return output\n"
   ]
  },
  {
   "cell_type": "code",
   "execution_count": 30,
   "id": "4f6c7a0e-a3d3-43dd-8ff3-82cd04c75de7",
   "metadata": {},
   "outputs": [
    {
     "name": "stdout",
     "output_type": "stream",
     "text": [
      "left [5]\n",
      "right [4]\n",
      "inside merge\n",
      "inside merge left [5]\n",
      "inside merge right [4]\n",
      "merge output [4, 5]\n",
      "left [2]\n",
      "right [0]\n",
      "inside merge\n",
      "inside merge left [2]\n",
      "inside merge right [0]\n",
      "merge output [0, 2]\n",
      "left [1]\n",
      "right [0, 2]\n",
      "inside merge\n",
      "inside merge left [1]\n",
      "inside merge right [0, 2]\n",
      "merge output [0, 1, 2]\n",
      "left [4, 5]\n",
      "right [0, 1, 2]\n",
      "inside merge\n",
      "inside merge left [4, 5]\n",
      "inside merge right [0, 1, 2]\n",
      "merge output [0, 1, 2, 4, 5]\n"
     ]
    }
   ],
   "source": [
    "aa = merge_sort([5,4,1,2,0])"
   ]
  },
  {
   "cell_type": "code",
   "execution_count": 31,
   "id": "cf869acf-e303-4c6e-9bc3-0a58f5c9c70a",
   "metadata": {},
   "outputs": [
    {
     "data": {
      "text/plain": [
       "[0, 1, 2, 4, 5]"
      ]
     },
     "execution_count": 31,
     "metadata": {},
     "output_type": "execute_result"
    }
   ],
   "source": [
    "aa"
   ]
  },
  {
   "cell_type": "markdown",
   "id": "ef6cff74-cf79-4494-a85c-e6faba655511",
   "metadata": {},
   "source": [
    "https://leetcode.com/problems/subarray-product-less-than-k/"
   ]
  },
  {
   "cell_type": "markdown",
   "id": "746f1845-aacf-4856-baa3-1199a978dfb4",
   "metadata": {},
   "source": [
    "Given an array of integers nums and an integer k, return the number of contiguous subarrays where the product of all the elements in the subarray is strictly less than k"
   ]
  },
  {
   "cell_type": "code",
   "execution_count": 23,
   "id": "8f9481db-14e2-4119-87ff-580a60eb25df",
   "metadata": {},
   "outputs": [],
   "source": [
    "from typing import List\n",
    "class Solution:\n",
    "    def numSubarrayProductLessThanK(self, nums: List[int], k: int) -> int:\n",
    "        n = len(nums)\n",
    "        product = 1\n",
    "        output = 0\n",
    "        left_index = 0\n",
    "        for right_index, val in enumerate(nums):\n",
    "            product = product*val\n",
    "            \n",
    "            while (product >= k):\n",
    "                product = product/nums[left_index]\n",
    "                left_index = left_index + 1\n",
    "            output = output + (right_index-left_index) + 1\n",
    "        return output\n",
    "            \n",
    "            \n",
    "                \n",
    "            \n",
    "\n",
    "                    \n",
    "                \n",
    "                    \n",
    "        \n",
    "        "
   ]
  },
  {
   "cell_type": "code",
   "execution_count": 24,
   "id": "0bec8ba8-1fe6-4b48-b555-585b77173292",
   "metadata": {},
   "outputs": [],
   "source": [
    "a = Solution()"
   ]
  },
  {
   "cell_type": "code",
   "execution_count": 27,
   "id": "0d85b5e6-3cc5-49e6-b1d8-361a84f12708",
   "metadata": {},
   "outputs": [
    {
     "data": {
      "text/plain": [
       "5"
      ]
     },
     "execution_count": 27,
     "metadata": {},
     "output_type": "execute_result"
    }
   ],
   "source": [
    "a.numSubarrayProductLessThanK([10,5,4], 100)"
   ]
  },
  {
   "cell_type": "code",
   "execution_count": 39,
   "id": "de43538e-768f-4c42-b60e-715623cf48ec",
   "metadata": {},
   "outputs": [],
   "source": [
    "class Solution:\n",
    "    def nextPermutation(self, nums: List[int]) -> None:\n",
    "        n = len(nums)\n",
    "        \n",
    "        def swap(i, j):\n",
    "            temp = nums[i]\n",
    "            nums[i] = nums[j]\n",
    "            nums[j] = temp\n",
    "            \n",
    "        def reverse(i, j):\n",
    "            \n",
    "            while (i <= j):\n",
    "                swap(i, j)\n",
    "                i = i + 1\n",
    "                j = j - 1\n",
    "                \n",
    "        \n",
    "        found_value = False\n",
    "        print(\"nums before\", nums)\n",
    "        for k in range(n-1, 0, -1):\n",
    "            if nums[k-1]<nums[k]:\n",
    "                found_value = True\n",
    "                for m in range(k, n):\n",
    "                    if nums[m]>nums[k-1]:\n",
    "                        val = m\n",
    "                swap(k-1, val)\n",
    "                print(\"nums after swapping\", nums)\n",
    "                reverse(k,n-1)\n",
    "                break\n",
    "        if not found_value:\n",
    "            reverse(0, n-1)\n",
    "        return nums\n",
    "                \n",
    "                \n",
    "            \n",
    "        "
   ]
  },
  {
   "cell_type": "code",
   "execution_count": 40,
   "id": "f47bfe83-ff40-4070-8c4e-b06924ae9956",
   "metadata": {},
   "outputs": [],
   "source": [
    "a = Solution()\n",
    "\n",
    "\n"
   ]
  },
  {
   "cell_type": "code",
   "execution_count": 43,
   "id": "e3808dd2-7630-48e8-86ba-c80113a97bf7",
   "metadata": {},
   "outputs": [],
   "source": [
    "numbers = [1,2,7,9,6,4,1]\n",
    "## numbers = [1,7,9,9,8,3]"
   ]
  },
  {
   "cell_type": "code",
   "execution_count": 46,
   "id": "bb766a65-75cc-4946-aef6-7ce0323965bc",
   "metadata": {},
   "outputs": [
    {
     "name": "stdout",
     "output_type": "stream",
     "text": [
      "nums before [3, 2, 1]\n"
     ]
    },
    {
     "data": {
      "text/plain": [
       "[1, 2, 3]"
      ]
     },
     "execution_count": 46,
     "metadata": {},
     "output_type": "execute_result"
    }
   ],
   "source": [
    "a.nextPermutation([3,2,1])"
   ]
  },
  {
   "cell_type": "code",
   "execution_count": null,
   "id": "07ca8728-f532-481f-8e5d-fa500f6950c2",
   "metadata": {},
   "outputs": [],
   "source": [
    "left_index = 1\n",
    "right_index = 2\n",
    "product = 10\n",
    "\n",
    "\n",
    "[5,2]\n",
    "[2]\n",
    "\n",
    "\n"
   ]
  },
  {
   "cell_type": "markdown",
   "id": "9bf8ec1a-57d8-4e1d-bc87-c49c86181cc4",
   "metadata": {},
   "source": [
    "## Game of Life"
   ]
  },
  {
   "cell_type": "markdown",
   "id": "bd4ddc29-4b3c-42c7-b46c-6d06d486e13c",
   "metadata": {},
   "source": [
    "https://leetcode.com/problems/game-of-life/\n",
    "\n",
    "According to Wikipedia's article: \"The Game of Life, also known simply as Life, is a cellular automaton devised by the British mathematician John Horton Conway in 1970.\"\n",
    "\n",
    "The board is made up of an m x n grid of cells, where each cell has an initial state: live (represented by a 1) or dead (represented by a 0). Each cell interacts with its eight neighbors (horizontal, vertical, diagonal) using the following four rules (taken from the above Wikipedia article):\n",
    "\n",
    "Any live cell with fewer than two live neighbors dies as if caused by under-population.\n",
    "Any live cell with two or three live neighbors lives on to the next generation.\n",
    "Any live cell with more than three live neighbors dies, as if by over-population.\n",
    "Any dead cell with exactly three live neighbors becomes a live cell, as if by reproduction.\n",
    "The next state is created by applying the above rules simultaneously to every cell in the current state, where births and deaths occur simultaneously. Given the current state of the m x n grid board, return the next state.\n"
   ]
  },
  {
   "cell_type": "code",
   "execution_count": 9,
   "id": "00e9dd42-c659-4f15-a9e1-d38fab1873d9",
   "metadata": {},
   "outputs": [],
   "source": [
    "from typing import List\n",
    "class Solution:\n",
    "    def gameOfLife(self, board: List[List[int]]) -> None:\n",
    "        \"\"\"\n",
    "        Do not return anything, modify board in-place instead.\n",
    "        \"\"\"\n",
    "        m, n = len(board), len(board[0])\n",
    "        \n",
    "        for i in range(0, m):\n",
    "            for j in range(0, n):\n",
    "                board[i][j] = [board[i][j], -1] ## creating a tuple, first entry is old value, second is new\n",
    "                \n",
    "        for i in range(0, m):\n",
    "            for j in range(0, n):\n",
    "                if board[i][j][0]==1: ## live cell\n",
    "                    number_of_live_neighbours = 0\n",
    "                    for k in range(i-1, i+2):\n",
    "                        for l in range(j-1, j+2):\n",
    "                            if (k >= 0) and (l >=0) and (k < m) and (l < n):\n",
    "                                if (k==i) and (l==j):\n",
    "                                    pass\n",
    "                                else:\n",
    "                                    if board[k][l][0]==1:\n",
    "                                        number_of_live_neighbours = number_of_live_neighbours + 1\n",
    "                    if number_of_live_neighbours in [2,3]:\n",
    "                        board[i][j][1] = 1\n",
    "                    else:\n",
    "                        board[i][j][1] = 0\n",
    "                        \n",
    "                    \n",
    "                else: ## dead cell\n",
    "                    number_of_live_neighbours = 0\n",
    "                    for k in range(i-1, i+2):\n",
    "                        for l in range(j-1, j+2):\n",
    "                            if (k >= 0) and (l >=0) and (k < m) and (l < n):\n",
    "                                if (k==i) and (l==j):\n",
    "                                    pass\n",
    "                                else:\n",
    "                                    if board[k][l][0]==1:\n",
    "                                        number_of_live_neighbours = number_of_live_neighbours + 1\n",
    "                    if number_of_live_neighbours in [3]:\n",
    "                        board[i][j][1] = 1\n",
    "                    else:\n",
    "                        board[i][j][1] = 0\n",
    "                    \n",
    " \n",
    "        for i in range(0, m):\n",
    "            for j in range(0, n):\n",
    "                board[i][j] = board[i][j][1] ## assigning to new value\n",
    "        return board\n",
    "                \n",
    "        "
   ]
  },
  {
   "cell_type": "code",
   "execution_count": 10,
   "id": "e2000e68-91a6-44f0-881e-83e5f25339b1",
   "metadata": {},
   "outputs": [],
   "source": [
    "a = Solution()"
   ]
  },
  {
   "cell_type": "code",
   "execution_count": 11,
   "id": "8fd3089a-aa4e-4ef1-a7da-ab0b9e021fdf",
   "metadata": {},
   "outputs": [],
   "source": [
    "board = [[0,1,0],[0,0,1],[1,1,1],[0,0,0]]"
   ]
  },
  {
   "cell_type": "code",
   "execution_count": 12,
   "id": "0a4b9c64-21e9-41f2-9d08-8719dc18ac7e",
   "metadata": {},
   "outputs": [
    {
     "data": {
      "text/plain": [
       "[[0, 0, 0], [1, 0, 1], [0, 1, 1], [0, 1, 0]]"
      ]
     },
     "execution_count": 12,
     "metadata": {},
     "output_type": "execute_result"
    }
   ],
   "source": [
    "a.gameOfLife(board)"
   ]
  },
  {
   "cell_type": "markdown",
   "id": "214b55d2-0709-41f6-9d29-06f6f35059e7",
   "metadata": {},
   "source": [
    "## Plus One"
   ]
  },
  {
   "cell_type": "markdown",
   "id": "a0c2d2b7-18fa-4487-b357-828b09853fba",
   "metadata": {},
   "source": [
    "https://leetcode.com/problems/plus-one/\n",
    "\n",
    "You are given a large integer represented as an integer array digits, where each digits[i] is the ith digit of the integer. The digits are ordered from most significant to least significant in left-to-right order. The large integer does not contain any leading 0's.\n",
    "\n",
    "Increment the large integer by one and return the resulting array of digits.\n",
    "\n",
    " \n",
    "\n",
    "Example 1:\n",
    "\n",
    "Input: digits = [1,2,3]\n",
    "Output: [1,2,4]\n",
    "Explanation: The array represents the integer 123.\n",
    "Incrementing by one gives 123 + 1 = 124.\n",
    "Thus, the result should be [1,2,4]."
   ]
  },
  {
   "cell_type": "code",
   "execution_count": 24,
   "id": "89e3b7c5-e7d9-4335-902a-e50653983b49",
   "metadata": {},
   "outputs": [],
   "source": [
    "class Solution:\n",
    "    def plusOne(self, digits: List[int]) -> List[int]:\n",
    "        number = str(int(str(\"\".join([str(x) for x in digits]))) + 1)\n",
    "        outlist = []\n",
    "        for i in number:\n",
    "            outlist.append(int(i))\n",
    "        return outlist\n",
    "        "
   ]
  },
  {
   "cell_type": "code",
   "execution_count": 25,
   "id": "1b02adbd-dc21-4443-b3d9-5631149b4477",
   "metadata": {},
   "outputs": [],
   "source": [
    "a = Solution()"
   ]
  },
  {
   "cell_type": "code",
   "execution_count": 27,
   "id": "8fb9bb33-6704-46f1-9539-0e9dd4af9315",
   "metadata": {},
   "outputs": [],
   "source": [
    "digits = [9,9,9]"
   ]
  },
  {
   "cell_type": "code",
   "execution_count": 28,
   "id": "ddea32ee-27c8-4597-88f2-3833bb0fed77",
   "metadata": {},
   "outputs": [
    {
     "data": {
      "text/plain": [
       "[1, 0, 0, 0]"
      ]
     },
     "execution_count": 28,
     "metadata": {},
     "output_type": "execute_result"
    }
   ],
   "source": [
    "a.plusOne(digits)"
   ]
  },
  {
   "cell_type": "code",
   "execution_count": 18,
   "id": "ae74952f-1963-4c03-b73e-260c1e329114",
   "metadata": {},
   "outputs": [
    {
     "data": {
      "text/plain": [
       "[4, 3, 2, 1]"
      ]
     },
     "execution_count": 18,
     "metadata": {},
     "output_type": "execute_result"
    }
   ],
   "source": [
    "digits"
   ]
  },
  {
   "cell_type": "code",
   "execution_count": 19,
   "id": "a1c40372-5482-4ed5-885b-23958659b03b",
   "metadata": {},
   "outputs": [
    {
     "ename": "TypeError",
     "evalue": "sequence item 0: expected str instance, int found",
     "output_type": "error",
     "traceback": [
      "\u001b[1;31m---------------------------------------------------------------------------\u001b[0m",
      "\u001b[1;31mTypeError\u001b[0m                                 Traceback (most recent call last)",
      "\u001b[1;32m<ipython-input-19-960fceb10c65>\u001b[0m in \u001b[0;36m<module>\u001b[1;34m\u001b[0m\n\u001b[1;32m----> 1\u001b[1;33m \u001b[1;34m\"\"\u001b[0m\u001b[1;33m.\u001b[0m\u001b[0mjoin\u001b[0m\u001b[1;33m(\u001b[0m\u001b[0mdigits\u001b[0m\u001b[1;33m)\u001b[0m\u001b[1;33m\u001b[0m\u001b[1;33m\u001b[0m\u001b[0m\n\u001b[0m",
      "\u001b[1;31mTypeError\u001b[0m: sequence item 0: expected str instance, int found"
     ]
    }
   ],
   "source": [
    "\"\".join(digits)"
   ]
  },
  {
   "cell_type": "markdown",
   "id": "6511aff1-9dc9-4ca5-908c-0b2dbef7b970",
   "metadata": {},
   "source": [
    "https://leetcode.com/problems/add-two-numbers/"
   ]
  },
  {
   "cell_type": "code",
   "execution_count": 29,
   "id": "c3cfea05-71f1-4e66-85d5-64df0cc73828",
   "metadata": {},
   "outputs": [],
   "source": [
    "class ListNode:\n",
    "    def __init__(self, val=0, next=None):\n",
    "        self.val = val\n",
    "        self.next = next"
   ]
  },
  {
   "cell_type": "code",
   "execution_count": 34,
   "id": "5168d0ad-bcfa-4552-b162-8f6a4456b5fd",
   "metadata": {},
   "outputs": [],
   "source": [
    "head = ListNode(val = 3)\n",
    "for i in [4,2]:\n",
    "    temp = ListNode(val = i, next = head)\n",
    "    head = temp\n",
    "    "
   ]
  },
  {
   "cell_type": "code",
   "execution_count": 46,
   "id": "84a682fd-f0a8-4cef-9eb3-c3a5f9293090",
   "metadata": {},
   "outputs": [],
   "source": [
    "def convert_ll_to_int(l):\n",
    "\n",
    "    s = \"\"\n",
    "    while l is not None:\n",
    "        s = s + str(l.val)\n",
    "        l = l.next\n",
    "    return int(s)"
   ]
  },
  {
   "cell_type": "code",
   "execution_count": 74,
   "id": "0c8ee428-eef6-4e6d-9c91-e979132cdd8c",
   "metadata": {},
   "outputs": [],
   "source": [
    "from typing import Optional\n",
    "class Solution:\n",
    "    def addTwoNumbers(self, l1: Optional[ListNode], l2: Optional[ListNode]) -> Optional[ListNode]:\n",
    "        \n",
    "        def convert_ll_to_int(l):\n",
    "            \n",
    "            s = \"\"\n",
    "            while l is not None:\n",
    "                s = s + str(l.val)\n",
    "                l = l.next\n",
    "            return int(s)\n",
    "        \n",
    "        def convert_int_to_ll(num):\n",
    "            \n",
    "            num = str(num)\n",
    "            head = ListNode(val = int(num[0]))\n",
    "            for i in list(num)[1:]:\n",
    "                temp = ListNode(val = int(i))\n",
    "                temp.next = head\n",
    "                head = temp\n",
    "            return head\n",
    "        \n",
    "        return convert_int_to_ll(convert_ll_to_int(l1) + convert_ll_to_int(l2))"
   ]
  },
  {
   "cell_type": "code",
   "execution_count": 47,
   "id": "c2aa870a-2371-4599-8071-ad4599bc4258",
   "metadata": {},
   "outputs": [
    {
     "data": {
      "text/plain": [
       "243"
      ]
     },
     "execution_count": 47,
     "metadata": {},
     "output_type": "execute_result"
    }
   ],
   "source": [
    "convert_ll_to_int(head)"
   ]
  },
  {
   "cell_type": "code",
   "execution_count": 43,
   "id": "a1c9f5ed-00f2-472c-931e-7fdac3d5ea10",
   "metadata": {},
   "outputs": [
    {
     "data": {
      "text/plain": [
       "4"
      ]
     },
     "execution_count": 43,
     "metadata": {},
     "output_type": "execute_result"
    }
   ],
   "source": [
    "head.next.val"
   ]
  },
  {
   "cell_type": "code",
   "execution_count": 48,
   "id": "8aa8766b-5490-467a-98e9-be5f7ddd2659",
   "metadata": {},
   "outputs": [],
   "source": [
    "b = '123'"
   ]
  },
  {
   "cell_type": "code",
   "execution_count": 76,
   "id": "1d4ebb32-042b-4c0b-9bff-5214c3566578",
   "metadata": {},
   "outputs": [
    {
     "data": {
      "text/plain": [
       "{(0, 1, 0)}"
      ]
     },
     "execution_count": 76,
     "metadata": {},
     "output_type": "execute_result"
    }
   ],
   "source": [
    "set([(0,1,0), (0,1,0)])"
   ]
  },
  {
   "cell_type": "code",
   "execution_count": 59,
   "id": "814f64e5-ce28-489e-a6bb-85b4b6351936",
   "metadata": {},
   "outputs": [
    {
     "data": {
      "text/plain": [
       "'321'"
      ]
     },
     "execution_count": 59,
     "metadata": {},
     "output_type": "execute_result"
    }
   ],
   "source": [
    "b[::-1]"
   ]
  },
  {
   "cell_type": "code",
   "execution_count": 78,
   "id": "44f21600-bf24-4dd5-9e80-eb4a15fc8fd2",
   "metadata": {},
   "outputs": [
    {
     "data": {
      "text/plain": [
       "(1, 2, 3)"
      ]
     },
     "execution_count": 78,
     "metadata": {},
     "output_type": "execute_result"
    }
   ],
   "source": [
    "tuple([1,2,3])"
   ]
  },
  {
   "cell_type": "code",
   "execution_count": 64,
   "id": "e7465209-5cfd-414d-bbad-0e6e403f9f40",
   "metadata": {},
   "outputs": [],
   "source": [
    "def convert_int_to_ll(num):\n",
    "\n",
    "    num_reverse = str(num)[::-1]\n",
    "    head = ListNode(val = int(num_reverse[0]))\n",
    "    for i in list(num_reverse)[1:]:\n",
    "        temp = ListNode(val = int(i))\n",
    "        temp.next = head\n",
    "        head = temp\n",
    "    return head"
   ]
  },
  {
   "cell_type": "code",
   "execution_count": 71,
   "id": "ed7b1976-8a98-4f3c-9aa8-7a3e81acfe0a",
   "metadata": {},
   "outputs": [],
   "source": [
    "bb = convert_int_to_ll(708)"
   ]
  },
  {
   "cell_type": "code",
   "execution_count": 72,
   "id": "07371668-6866-4cfd-a0f2-d97444be03e5",
   "metadata": {},
   "outputs": [
    {
     "data": {
      "text/plain": [
       "7"
      ]
     },
     "execution_count": 72,
     "metadata": {},
     "output_type": "execute_result"
    }
   ],
   "source": [
    "bb.val"
   ]
  },
  {
   "cell_type": "code",
   "execution_count": 70,
   "id": "e0cee3ab-4b6d-4fee-9067-04a74cddd582",
   "metadata": {},
   "outputs": [
    {
     "ename": "AttributeError",
     "evalue": "'NoneType' object has no attribute 'val'",
     "output_type": "error",
     "traceback": [
      "\u001b[1;31m---------------------------------------------------------------------------\u001b[0m",
      "\u001b[1;31mAttributeError\u001b[0m                            Traceback (most recent call last)",
      "\u001b[1;32m<ipython-input-70-c5b80291bd5c>\u001b[0m in \u001b[0;36m<module>\u001b[1;34m\u001b[0m\n\u001b[1;32m----> 1\u001b[1;33m \u001b[0mbb\u001b[0m\u001b[1;33m.\u001b[0m\u001b[0mnext\u001b[0m\u001b[1;33m.\u001b[0m\u001b[0mnext\u001b[0m\u001b[1;33m.\u001b[0m\u001b[0mnext\u001b[0m\u001b[1;33m.\u001b[0m\u001b[0mval\u001b[0m\u001b[1;33m\u001b[0m\u001b[1;33m\u001b[0m\u001b[0m\n\u001b[0m",
      "\u001b[1;31mAttributeError\u001b[0m: 'NoneType' object has no attribute 'val'"
     ]
    }
   ],
   "source": [
    "bb.next.next.next.val"
   ]
  },
  {
   "cell_type": "code",
   "execution_count": 79,
   "id": "415203ab-7566-4ed1-baf0-57153d635f32",
   "metadata": {},
   "outputs": [],
   "source": [
    "l = [3,2,1]"
   ]
  },
  {
   "cell_type": "code",
   "execution_count": 80,
   "id": "8bfbd9bb-f274-4f07-88f7-6aab999ad028",
   "metadata": {},
   "outputs": [
    {
     "ename": "TypeError",
     "evalue": "'NoneType' object is not iterable",
     "output_type": "error",
     "traceback": [
      "\u001b[1;31m---------------------------------------------------------------------------\u001b[0m",
      "\u001b[1;31mTypeError\u001b[0m                                 Traceback (most recent call last)",
      "\u001b[1;32m<ipython-input-80-48e9e9b31804>\u001b[0m in \u001b[0;36m<module>\u001b[1;34m\u001b[0m\n\u001b[1;32m----> 1\u001b[1;33m \u001b[0mtuple\u001b[0m\u001b[1;33m(\u001b[0m\u001b[0ml\u001b[0m\u001b[1;33m.\u001b[0m\u001b[0msort\u001b[0m\u001b[1;33m(\u001b[0m\u001b[1;33m)\u001b[0m\u001b[1;33m)\u001b[0m\u001b[1;33m\u001b[0m\u001b[1;33m\u001b[0m\u001b[0m\n\u001b[0m",
      "\u001b[1;31mTypeError\u001b[0m: 'NoneType' object is not iterable"
     ]
    }
   ],
   "source": [
    "tuple(l.sort())"
   ]
  },
  {
   "cell_type": "code",
   "execution_count": null,
   "id": "abf55419-0562-482b-ad7c-0a81c4de9556",
   "metadata": {},
   "outputs": [],
   "source": [
    "class Solution:\n",
    "    def threeSum(self, nums: List[int]) -> List[List[int]]:\n",
    "        n = len(nums)\n",
    "        first_dict = {}\n",
    "        output = []\n",
    "        \n",
    "        for i in range(0, n):\n",
    "            if nums[i] in first_dict.keys():\n",
    "                first_dict[nums[i]].append(i)\n",
    "            else:\n",
    "                first_dict[nums[i]] = [i]\n",
    "            for j in range(0, n):\n",
    "                if i==j:\n",
    "                    continue\n",
    "                else:\n",
    "                    target = 0 -(nums[i] + nums[j])\n",
    "                    if target in first_dict.keys():\n",
    "                        for k in first_dict[target]:\n",
    "                            if (k != i) and (k != j):\n",
    "                                l = [nums[i], nums[j], nums[k]]\n",
    "                                l.sorted()\n",
    "                                output.append(tuple(l))\n",
    "                                break\n",
    "        output = list(set(output))\n",
    "        output = [list(x) for x in output]\n",
    "                                \n",
    "                    \n",
    "        "
   ]
  },
  {
   "cell_type": "markdown",
   "id": "2ab7504d-bf85-4a3c-8645-e43c63eb077a",
   "metadata": {},
   "source": [
    "https://leetcode.com/problems/remove-duplicate-letters/"
   ]
  },
  {
   "cell_type": "code",
   "execution_count": 62,
   "id": "e2f7f463-1446-4de3-8c45-ae8e4f9a9cbb",
   "metadata": {},
   "outputs": [],
   "source": [
    "class Solution:\n",
    "    def removeDuplicateLetters(self, s:str) -> str:\n",
    "        last_position_dict = {}\n",
    "        n = len(s)\n",
    "        for i in range(0, n):\n",
    "            last_position_dict[s[i]] = i ##\n",
    "            \n",
    "        stack = []\n",
    "        \n",
    "        for i in range(0, n):\n",
    "            temp_char = s[i]\n",
    "            if not stack:\n",
    "                stack.append(temp_char)\n",
    "            else:\n",
    "                if temp_char in stack:\n",
    "                    continue\n",
    "                else:\n",
    "                    while (stack) and (temp_char<stack[-1]) and (last_position_dict[stack[-1]]>i):\n",
    "                        stack.pop()\n",
    "                    stack.append(temp_char)\n",
    "        return \"\".join(stack)\n",
    "                        \n",
    "                \n",
    "            "
   ]
  },
  {
   "cell_type": "code",
   "execution_count": 63,
   "id": "caad3dea-b5b0-4d84-929e-277b1091b98a",
   "metadata": {},
   "outputs": [],
   "source": [
    "a = Solution()"
   ]
  },
  {
   "cell_type": "code",
   "execution_count": 61,
   "id": "0519e894-67a0-4fd3-b15e-f8f3ea44bdf0",
   "metadata": {},
   "outputs": [
    {
     "data": {
      "text/plain": [
       "['a', 'c', 'd', 'b']"
      ]
     },
     "execution_count": 61,
     "metadata": {},
     "output_type": "execute_result"
    }
   ],
   "source": [
    "a.removeDuplicateLetters('cbacdcbc')"
   ]
  },
  {
   "cell_type": "code",
   "execution_count": 52,
   "id": "6c068d6e-3a1e-4745-812d-be05af009292",
   "metadata": {},
   "outputs": [],
   "source": [
    "class Solution:\n",
    "    def removeDuplicateLetters(self, s: str) -> str:\n",
    "        last_position_dict = {}\n",
    "        n = len(s)\n",
    "        for i in range(0, n):\n",
    "            last_position_dict[s[i]] = i ## for every unique character in string, this will overwrite last position\n",
    "            \n",
    "        stack = []\n",
    "        for i in range(0, n):\n",
    "            if len(stack)==0:\n",
    "                stack.append(s[i])\n",
    "            else:\n",
    "\n",
    "                if (s[i]>stack[-1]) and (s[i] not in stack):\n",
    "                    stack.append(s[i])\n",
    "                else:\n",
    "                    cnt = i-1\n",
    "                    while (len(stack)>0) and (s[i]<stack[-1]) and (cnt >= 0)  :\n",
    "\n",
    "                        if last_position_dict[stack[-1]]>cnt:\n",
    "                            stack.pop()\n",
    "                            cnt = cnt - 1\n",
    "                        else:\n",
    "                            break\n",
    "                    if s[i] not in stack:\n",
    "                        stack.append(s[i])\n",
    "        return \"\".join(stack)\n",
    "\n",
    "        \n",
    "                \n",
    "                "
   ]
  },
  {
   "cell_type": "code",
   "execution_count": 53,
   "id": "ef6d6ba1-81c7-4a43-98f8-7ac38cf7e327",
   "metadata": {},
   "outputs": [],
   "source": [
    "a = Solution()"
   ]
  },
  {
   "cell_type": "code",
   "execution_count": 54,
   "id": "0a889b0d-1063-44d1-8065-a4a553c36e35",
   "metadata": {},
   "outputs": [
    {
     "data": {
      "text/plain": [
       "'acdb'"
      ]
     },
     "execution_count": 54,
     "metadata": {},
     "output_type": "execute_result"
    }
   ],
   "source": [
    "a.removeDuplicateLetters('cbacdcbc')"
   ]
  },
  {
   "cell_type": "code",
   "execution_count": 3,
   "id": "f9edd679-abde-4404-b825-46f9cfae413c",
   "metadata": {},
   "outputs": [],
   "source": [
    "s = 'bcabc'\n",
    "last_position_dict = {}\n",
    "n = len(s)\n",
    "for i in range(0, n):\n",
    "    last_position_dict[s[i]] = i ## for every unique character in string, this will overwrite last position"
   ]
  },
  {
   "cell_type": "code",
   "execution_count": null,
   "id": "4dee565e-9736-4590-a574-4c70fc5d2764",
   "metadata": {},
   "outputs": [],
   "source": [
    "['b','c']"
   ]
  },
  {
   "cell_type": "code",
   "execution_count": 4,
   "id": "77e0fe44-47b3-4645-8806-c8eed7703423",
   "metadata": {},
   "outputs": [
    {
     "data": {
      "text/plain": [
       "{'b': 3, 'c': 4, 'a': 2}"
      ]
     },
     "execution_count": 4,
     "metadata": {},
     "output_type": "execute_result"
    }
   ],
   "source": [
    "last_position_dict"
   ]
  },
  {
   "cell_type": "code",
   "execution_count": 85,
   "id": "c0cf72aa-97f4-4a17-8887-cbd955e631a2",
   "metadata": {},
   "outputs": [],
   "source": [
    "nums  = [0,1,1,1,1,-2,-2,-2,-2]"
   ]
  },
  {
   "cell_type": "code",
   "execution_count": 2,
   "id": "09cbe4f3-da22-4946-a4f3-8549195aed21",
   "metadata": {},
   "outputs": [
    {
     "name": "stdout",
     "output_type": "stream",
     "text": [
      "1\n",
      "2\n",
      "3\n",
      "4\n"
     ]
    }
   ],
   "source": [
    "s = '1234'\n",
    "for i in range(0, len(s)):\n",
    "    print(s[i])"
   ]
  },
  {
   "cell_type": "code",
   "execution_count": 86,
   "id": "13caf38b-0875-44fd-b84f-51199d78ab43",
   "metadata": {},
   "outputs": [],
   "source": [
    "cnt = dict(Counter(nums))\n",
    "deduped = []\n",
    "for key in cnt.keys():\n",
    "    if cnt[key]>=3:\n",
    "        deduped = deduped + [key]*3\n",
    "    else:\n",
    "        deduped = deduped + [key]*cnt[key]"
   ]
  },
  {
   "cell_type": "code",
   "execution_count": 87,
   "id": "123d3c8a-6d4b-491d-ac8a-9a0e88c31077",
   "metadata": {},
   "outputs": [
    {
     "data": {
      "text/plain": [
       "[0, 1, 1, 1, -2, -2, -2]"
      ]
     },
     "execution_count": 87,
     "metadata": {},
     "output_type": "execute_result"
    }
   ],
   "source": [
    "deduped"
   ]
  },
  {
   "cell_type": "markdown",
   "id": "de87a07b-8627-49f2-922c-9ffc46c57406",
   "metadata": {},
   "source": [
    "https://leetcode.com/problems/best-time-to-buy-and-sell-stock/"
   ]
  },
  {
   "cell_type": "code",
   "execution_count": 21,
   "id": "8451dd74-0cbe-4171-852d-43fd8a357aee",
   "metadata": {},
   "outputs": [],
   "source": [
    "from typing import List\n",
    "class Solution:\n",
    "    def maxProfit(self, prices : List[int]) -> int:\n",
    "        profit = 0\n",
    "        n = len(prices)\n",
    "        i_buying, buying_price = -1, float(\"inf\")\n",
    "        i_selling, selling_price = -1, float(\"-inf\")\n",
    "        \n",
    "        for i in range(0, n):\n",
    "            curr_price = prices[i]\n",
    "            if curr_price < buying_price:\n",
    "                buying_price = curr_price\n",
    "                i_buying = i\n",
    "            else:\n",
    "                selling_price = curr_price\n",
    "                i_selling = i\n",
    "                if (i_selling > i_buying) and (selling_price > buying_price):\n",
    "                    profit  = max(profit, selling_price-buying_price)\n",
    "        return profit"
   ]
  },
  {
   "cell_type": "code",
   "execution_count": 20,
   "id": "13cc732a-2206-4e50-9c42-6f9c1879ce3d",
   "metadata": {},
   "outputs": [],
   "source": [
    "a = Solution()"
   ]
  },
  {
   "cell_type": "code",
   "execution_count": 22,
   "id": "0a2adde0-becb-4f46-9b62-042a3201b0b8",
   "metadata": {},
   "outputs": [
    {
     "data": {
      "text/plain": [
       "5"
      ]
     },
     "execution_count": 22,
     "metadata": {},
     "output_type": "execute_result"
    }
   ],
   "source": [
    "a.maxProfit([7,1,5,3,6,4])"
   ]
  },
  {
   "cell_type": "markdown",
   "id": "8bbb7cea-5e95-4c72-9b1a-fba5f7b2cd04",
   "metadata": {},
   "source": [
    "https://leetcode.com/problems/best-time-to-buy-and-sell-stock-ii/"
   ]
  },
  {
   "cell_type": "code",
   "execution_count": 14,
   "id": "82ceeee5-5fab-4372-b9a0-4b66fce993f0",
   "metadata": {},
   "outputs": [],
   "source": [
    "from typing import List\n",
    "class Solution:\n",
    "    def maxProfit(self, prices: List[int]) -> int:\n",
    "        n = len(prices)\n",
    "        profit = 0\n",
    "        val_low = prices[0]\n",
    "\n",
    "        for i in range(1, n):\n",
    "            if prices[i]>val_low:\n",
    "                profit = profit + (prices[i]-val_low)\n",
    "            val_low = prices[i]\n",
    "        return profit\n",
    "                \n",
    "            "
   ]
  },
  {
   "cell_type": "code",
   "execution_count": 15,
   "id": "80e169e8-6c59-461a-bb3c-5a4e85b30917",
   "metadata": {},
   "outputs": [],
   "source": [
    "a = Solution()"
   ]
  },
  {
   "cell_type": "code",
   "execution_count": 17,
   "id": "70406a00-a050-44ff-9317-32e2ded3fc6e",
   "metadata": {},
   "outputs": [],
   "source": [
    "prices = [1,2,3,7, 2]"
   ]
  },
  {
   "cell_type": "code",
   "execution_count": 18,
   "id": "3452a39c-ae73-49d4-95d5-52ba1b4d4ae0",
   "metadata": {},
   "outputs": [
    {
     "name": "stdout",
     "output_type": "stream",
     "text": [
      "1 2 1\n",
      "2 3 2\n",
      "3 7 6\n",
      "4 2 6\n"
     ]
    },
    {
     "data": {
      "text/plain": [
       "6"
      ]
     },
     "execution_count": 18,
     "metadata": {},
     "output_type": "execute_result"
    }
   ],
   "source": [
    "a.maxProfit(prices)"
   ]
  },
  {
   "cell_type": "markdown",
   "id": "f5683bb8-17f0-4c5e-b645-a894ec05af72",
   "metadata": {},
   "source": [
    "https://leetcode.com/problems/house-robber/"
   ]
  },
  {
   "cell_type": "code",
   "execution_count": 41,
   "id": "ce5088ad-1691-4010-b35b-eeedd603c7ad",
   "metadata": {},
   "outputs": [],
   "source": [
    "from typing import List\n",
    "class Solution:\n",
    "    def rob(self, nums: List[int]) -> int:\n",
    "        n = len(nums)\n",
    "        profit = [0]*n\n",
    "        profit[0] = nums[0]\n",
    "        if len(nums)==1:\n",
    "            return profit[0]\n",
    "        profit[1] = max(nums[0], nums[1])\n",
    "        \n",
    "        for i in range(2, n):\n",
    "            profit[i] = max(profit[i-1], profit[i-2] + nums[i])\n",
    "        return profit[n-1]\n",
    "            "
   ]
  },
  {
   "cell_type": "code",
   "execution_count": 42,
   "id": "09ac4df0-8856-4991-b16c-b7148cdeb5ce",
   "metadata": {},
   "outputs": [],
   "source": [
    "a = Solution()"
   ]
  },
  {
   "cell_type": "code",
   "execution_count": 43,
   "id": "8c5f97d7-7d78-422d-9625-f3430e44e035",
   "metadata": {},
   "outputs": [
    {
     "name": "stdout",
     "output_type": "stream",
     "text": [
      "[1, 2, 4, 4]\n"
     ]
    },
    {
     "data": {
      "text/plain": [
       "4"
      ]
     },
     "execution_count": 43,
     "metadata": {},
     "output_type": "execute_result"
    }
   ],
   "source": [
    "nums = [1,2,3,1]\n",
    "a.rob(nums)"
   ]
  },
  {
   "cell_type": "markdown",
   "id": "84b13210-2fe1-45f1-a801-454f6c8ff8f5",
   "metadata": {},
   "source": [
    "https://leetcode.com/problems/maximum-level-sum-of-a-binary-tree/"
   ]
  },
  {
   "cell_type": "code",
   "execution_count": 13,
   "id": "9c822ba2-a1c4-4255-a116-99c457cba369",
   "metadata": {},
   "outputs": [],
   "source": [
    "class TreeNode:\n",
    "    def __init__(self, val=0, left=None, right=None):\n",
    "        self.val = val\n",
    "        self.left = left\n",
    "        self.right = right"
   ]
  },
  {
   "cell_type": "code",
   "execution_count": 14,
   "id": "8fb86f23-01a2-4103-bcfb-5be9a63702d5",
   "metadata": {},
   "outputs": [],
   "source": [
    "def deserialize(string):\n",
    "    if string == '{}':\n",
    "        return None\n",
    "    nodes = [None if val == 'null' else TreeNode(int(val))\n",
    "             for val in string.strip('[]{}').split(',')]\n",
    "    kids = nodes[::-1]\n",
    "    root = kids.pop()\n",
    "    for node in nodes:\n",
    "        if node:\n",
    "            if kids: node.left  = kids.pop()\n",
    "            if kids: node.right = kids.pop()\n",
    "    return root"
   ]
  },
  {
   "cell_type": "code",
   "execution_count": 29,
   "id": "5e34d525-70a7-4cb6-8734-0b70503af7b8",
   "metadata": {},
   "outputs": [],
   "source": [
    "from typing import Optional\n",
    "from collections import deque\n",
    "class Solution:\n",
    "    def maxLevelSum(self, root: Optional[TreeNode]) -> int:\n",
    "        level = 0\n",
    "        a = deque()\n",
    "        a.append(root)\n",
    "        sumlist = []\n",
    "        \n",
    "        while a:\n",
    "            num_current_level = len(a)\n",
    "            temp_sum = 0\n",
    "            print(num_current_level)\n",
    "            for i in range(0, num_current_level):\n",
    "                output = a.popleft()\n",
    "                if output.val:\n",
    "                    temp_sum = temp_sum + output.val\n",
    "                if output.left:\n",
    "                    a.append(output.left)\n",
    "                if output.right:\n",
    "                    a.append(output.right)\n",
    "            sumlist.append(temp_sum)\n",
    "        return sumlist.index(max(sumlist)) + 1\n",
    "        \n",
    "        \n",
    "        \n",
    "                \n",
    "            \n",
    "            \n",
    "        "
   ]
  },
  {
   "cell_type": "code",
   "execution_count": 30,
   "id": "e20c2575-6cbf-4bdb-a0ef-d254aa1f00b3",
   "metadata": {},
   "outputs": [],
   "source": [
    "a = Solution()"
   ]
  },
  {
   "cell_type": "code",
   "execution_count": 32,
   "id": "f0189034-abd4-4988-9754-84c6307a70d4",
   "metadata": {},
   "outputs": [],
   "source": [
    "p = deserialize('{[989,null,10250,98693,-89388,null,null,null,-32127]}')"
   ]
  },
  {
   "cell_type": "code",
   "execution_count": 33,
   "id": "839948ea-76c4-4e96-af13-094762561ad1",
   "metadata": {},
   "outputs": [
    {
     "name": "stdout",
     "output_type": "stream",
     "text": [
      "1\n",
      "1\n",
      "2\n",
      "1\n"
     ]
    },
    {
     "data": {
      "text/plain": [
       "2"
      ]
     },
     "execution_count": 33,
     "metadata": {},
     "output_type": "execute_result"
    }
   ],
   "source": [
    "a.maxLevelSum(p)"
   ]
  },
  {
   "cell_type": "code",
   "execution_count": 6,
   "id": "88556763-73e2-4f90-8953-0904e69569dd",
   "metadata": {},
   "outputs": [],
   "source": [
    "a = [1,2,3,1]"
   ]
  },
  {
   "cell_type": "code",
   "execution_count": 7,
   "id": "eab6e922-9eab-49b5-a402-af84ef38ce99",
   "metadata": {},
   "outputs": [
    {
     "data": {
      "text/plain": [
       "2"
      ]
     },
     "execution_count": 7,
     "metadata": {},
     "output_type": "execute_result"
    }
   ],
   "source": [
    "a.index(max(a))"
   ]
  },
  {
   "cell_type": "markdown",
   "id": "9df3573e-3759-496c-9561-5992a38830af",
   "metadata": {},
   "source": [
    "https://leetcode.com/problems/perfect-squares/"
   ]
  },
  {
   "cell_type": "code",
   "execution_count": 6,
   "id": "db29be90-48e0-4b96-8051-e3999f266fa6",
   "metadata": {},
   "outputs": [],
   "source": [
    "import numpy as np\n",
    "class Solution:\n",
    "    def numSquares(self, n: int) -> int:\n",
    "        output = [n]*(n+1)\n",
    "        output[0] = 0\n",
    "        output[1] = 1\n",
    "        if n==1:\n",
    "            return 1\n",
    "        \n",
    "        for i in range(1, n+1):\n",
    "            for j in range(1, i+1):\n",
    "                if j**2 > i:\n",
    "                    break\n",
    "                output[i] = min(output[i], 1 + output[i-j**2])\n",
    "        return output[n]\n",
    "                \n",
    "                \n",
    "                \n",
    "            "
   ]
  },
  {
   "cell_type": "code",
   "execution_count": 7,
   "id": "6e5e30f2-a1f2-42e9-bb9f-065adb734c98",
   "metadata": {},
   "outputs": [],
   "source": [
    "a = Solution()"
   ]
  },
  {
   "cell_type": "code",
   "execution_count": 12,
   "id": "7cc45e0f-0e29-469b-97f0-79c27253bd28",
   "metadata": {},
   "outputs": [
    {
     "data": {
      "text/plain": [
       "2"
      ]
     },
     "execution_count": 12,
     "metadata": {},
     "output_type": "execute_result"
    }
   ],
   "source": [
    "a.numSquares(65)"
   ]
  },
  {
   "cell_type": "markdown",
   "id": "3ca1d44d-eda3-425e-8aaf-aff9810812e1",
   "metadata": {},
   "source": [
    "https://leetcode.com/problems/validate-binary-search-tree/"
   ]
  },
  {
   "cell_type": "code",
   "execution_count": 17,
   "id": "b4bb22f4-ef16-4bec-854b-82bd0f91bc6e",
   "metadata": {},
   "outputs": [],
   "source": [
    "# Definition for a binary tree node.\n",
    "# class TreeNode:\n",
    "#     def __init__(self, val=0, left=None, right=None):\n",
    "#         self.val = val\n",
    "#         self.left = left\n",
    "#         self.right = right\n",
    "from typing import Optional\n",
    "class Solution:\n",
    "    def isValidBST(self, root: Optional[TreeNode]) -> bool:\n",
    "        \n",
    "        output = [True]\n",
    "        def dfs(node, min_value, max_value):\n",
    "            if (node.val <= min_value) or (node.val => max_value):\n",
    "                output[0] = False\n",
    "            else:\n",
    "                if node.left:\n",
    "                    dfs(node.left, min_value, node.val)\n",
    "                if node.right:\n",
    "                    dfs(node.right, node.val, max_value)\n",
    "                \n",
    "        dfs(root, float(\"-inf\"), float(\"inf\"))\n",
    "        return output[0]\n",
    "            \n",
    "            "
   ]
  },
  {
   "cell_type": "code",
   "execution_count": 19,
   "id": "a253cc86-11a9-4d77-b456-38414f422cec",
   "metadata": {},
   "outputs": [
    {
     "data": {
      "text/plain": [
       "True"
      ]
     },
     "execution_count": 19,
     "metadata": {},
     "output_type": "execute_result"
    }
   ],
   "source": [
    "float(\"-inf\") < 10"
   ]
  },
  {
   "cell_type": "markdown",
   "id": "0419795a-5e20-40f5-9c85-43e265847291",
   "metadata": {},
   "source": [
    "https://leetcode.com/problems/spiral-matrix/\n",
    "\n",
    "Given an m x n matrix, return all elements of the matrix in spiral order"
   ]
  },
  {
   "cell_type": "code",
   "execution_count": 27,
   "id": "9558408e-9620-41a4-8368-ff1421454d5b",
   "metadata": {},
   "outputs": [],
   "source": [
    "from typing import List\n",
    "class Solution:\n",
    "    def spiralOrder(self, matrix: List[List[int]]) -> List[int]:\n",
    "        outlist = []\n",
    "        m, n = len(matrix), len(matrix[0])\n",
    "        direction_list = ['right', 'down', 'left', 'up']\n",
    "        \n",
    "        i,j = 0,0\n",
    "        arr = [[0]*n for i in range(0, m)] \n",
    "        arr[0][0] = 1\n",
    "        direction = 'right'\n",
    "        outlist.append(matrix[i][j])\n",
    "        \n",
    "        if m*n==1:\n",
    "            return outlist\n",
    "        \n",
    "        \n",
    "        \n",
    "        while True:\n",
    "            if direction=='right':\n",
    "                if ((j+1)==(n)):\n",
    "                    direction = 'down'\n",
    "                    i = i + 1\n",
    "                    arr[i][j] = 1\n",
    "                else:\n",
    "                    if arr[i][j+1]==1:\n",
    "                        direction = 'down'\n",
    "                        i = i + 1\n",
    "                        arr[i][j] = 1\n",
    "                    else:\n",
    "                        j = j + 1\n",
    "                        arr[i][j] = 1\n",
    "            elif direction=='down':\n",
    "                if ((i+1)==(m)):\n",
    "                    direction = 'left'\n",
    "                    j = j-1\n",
    "                    arr[i][j] = 1\n",
    "                else:\n",
    "                    if arr[i+1][j]==1:\n",
    "                        direction = 'left'\n",
    "                        j = j-1\n",
    "                        arr[i][j] = 1\n",
    "                    else:\n",
    "                        i = i + 1\n",
    "                        arr[i][j] = 1\n",
    "            elif direction=='left':\n",
    "                if ((j-1)==(-1)):\n",
    "                    direction = 'up'\n",
    "                    i = i - 1\n",
    "                    arr[i][j] = 1\n",
    "                else:\n",
    "                    if arr[i][j-1]==1:\n",
    "                        direction = 'up'\n",
    "                        i = i - 1\n",
    "                        arr[i][j] = 1\n",
    "                    else:\n",
    "                        j = j - 1\n",
    "                        arr[i][j] = 1   \n",
    "            elif direction=='up':\n",
    "                if ((i-1)==(-1)): \n",
    "                    direction = 'right'\n",
    "                    j = j + 1\n",
    "                    arr[i][j] = 1\n",
    "                else:\n",
    "                    if arr[i-1][j]==1:\n",
    "                        direction = 'right'\n",
    "                        j = j + 1\n",
    "                        arr[i][j] = 1\n",
    "                    else:\n",
    "                        i = i - 1\n",
    "                        arr[i][j] = 1  \n",
    "\n",
    "            outlist.append(matrix[i][j])\n",
    "            if len(outlist)==m*n:\n",
    "                break\n",
    "        return outlist\n",
    "                        \n",
    "\n",
    "                \n"
   ]
  },
  {
   "cell_type": "code",
   "execution_count": 28,
   "id": "e35a65cc-bb2f-4e9d-8c1b-308e2b853e5b",
   "metadata": {},
   "outputs": [],
   "source": [
    "a = Solution()"
   ]
  },
  {
   "cell_type": "code",
   "execution_count": 64,
   "id": "f3d8c4e6-30de-444e-9b2b-10b4ffc41631",
   "metadata": {},
   "outputs": [],
   "source": [
    "matrix = [[1,2,3],[4,5,6],[7,8,9]]\n",
    "matrix = [[1,2,3,4],[5,6,7,8],[9,10,11,12],[13,14,15,16]]\n",
    "## matrix = [[2]]"
   ]
  },
  {
   "cell_type": "code",
   "execution_count": 45,
   "id": "4aa99945-43a2-4812-a98e-dd3f15d1f25b",
   "metadata": {},
   "outputs": [
    {
     "data": {
      "text/plain": [
       "[[13, 14, 15, 16], [9, 10, 11, 12], [5, 6, 7, 8], [1, 2, 3, 4]]"
      ]
     },
     "execution_count": 45,
     "metadata": {},
     "output_type": "execute_result"
    }
   ],
   "source": []
  },
  {
   "cell_type": "code",
   "execution_count": 33,
   "id": "45ee8fb4-261b-4c17-bd80-cbf266a74ca1",
   "metadata": {},
   "outputs": [
    {
     "data": {
      "text/plain": [
       "[2]"
      ]
     },
     "execution_count": 33,
     "metadata": {},
     "output_type": "execute_result"
    }
   ],
   "source": [
    "a.spiralOrder(matrix)"
   ]
  },
  {
   "cell_type": "code",
   "execution_count": 36,
   "id": "f992da38-b620-4158-930e-dfe154d07a13",
   "metadata": {},
   "outputs": [
    {
     "data": {
      "text/plain": [
       "[1, 2, 3, 4]"
      ]
     },
     "execution_count": 36,
     "metadata": {},
     "output_type": "execute_result"
    }
   ],
   "source": [
    "matrix[0]"
   ]
  },
  {
   "cell_type": "code",
   "execution_count": 37,
   "id": "4e93a73d-0de0-418e-8578-50c1f977837a",
   "metadata": {},
   "outputs": [],
   "source": [
    "a = matrix.pop(0)"
   ]
  },
  {
   "cell_type": "code",
   "execution_count": 39,
   "id": "547e62b6-86f4-423f-9769-501170496ecd",
   "metadata": {},
   "outputs": [
    {
     "data": {
      "text/plain": [
       "[[5, 6, 7, 8], [9, 10, 11, 12]]"
      ]
     },
     "execution_count": 39,
     "metadata": {},
     "output_type": "execute_result"
    }
   ],
   "source": [
    "matrix"
   ]
  },
  {
   "cell_type": "code",
   "execution_count": null,
   "id": "5cf0c3dd-4f8b-4909-85c2-62d7e413af03",
   "metadata": {},
   "outputs": [],
   "source": []
  },
  {
   "cell_type": "code",
   "execution_count": 10,
   "id": "58a82cbe-ac37-4720-8b05-8b0db1edcb9a",
   "metadata": {},
   "outputs": [],
   "source": [
    "arr = [[0]*n for i in range(0, m)] "
   ]
  },
  {
   "cell_type": "code",
   "execution_count": 11,
   "id": "9ac6fdd8-3c1b-44ab-9e33-fb04b2cc60de",
   "metadata": {},
   "outputs": [
    {
     "data": {
      "text/plain": [
       "[[0, 0, 0, 0], [0, 0, 0, 0], [0, 0, 0, 0]]"
      ]
     },
     "execution_count": 11,
     "metadata": {},
     "output_type": "execute_result"
    }
   ],
   "source": [
    "arr"
   ]
  },
  {
   "cell_type": "markdown",
   "id": "e762a8d8-bbf1-4793-be67-77c43aaeacb3",
   "metadata": {},
   "source": [
    "result = []\n",
    "\n",
    "while matrix and matrix[0]:\n",
    "    if matrix[0]:\n",
    "        result += matrix.pop(0)\n",
    "        print(\"step 0\")\n",
    "        print(\"matrix\", matrix)\n",
    "        print(\"result\", result)\n",
    "\n",
    "    if matrix and matrix[0]:\n",
    "        for row in matrix:\n",
    "            result.append(row.pop())\n",
    "            print(\"step 1\")\n",
    "            print(\"matrix\", matrix)\n",
    "            print(\"result\", result)\n",
    "\n",
    "    if matrix and matrix[-1]:\n",
    "        result += matrix.pop()[::-1]\n",
    "        print(\"step 2\")\n",
    "        print(\"matrix\", matrix)\n",
    "        print(\"result\", result)\n",
    "\n",
    "    if matrix and matrix[0]:\n",
    "        for row in matrix[::-1]:\n",
    "            result.append(row.pop(0))\n",
    "            print(\"step 3\")\n",
    "            print(\"matrix\", matrix)\n",
    "            print(\"result\", result)\n",
    "\n",
    "\n",
    "print(\"final\")\n",
    "print(result)"
   ]
  },
  {
   "cell_type": "code",
   "execution_count": 66,
   "id": "d7fcb852-d3c0-49c9-8fe6-61d0842552e4",
   "metadata": {},
   "outputs": [],
   "source": [
    "def spiralOrder(matrix: List[List[int]]) -> List[int]:\n",
    "    res = [] \n",
    "    helper(matrix,0,0,res)\n",
    "    return res\n",
    "\n",
    "\n",
    "def helper(matrix,i,j,res):\n",
    "    print(i, j)\n",
    "    if i < 0 or i >= len(matrix) or j < 0 or j>=len(matrix[0]) or matrix[i][j] == '#':\n",
    "        print(\"failed condition !!\")\n",
    "        return\n",
    "    print(\"after return\")\n",
    "\n",
    "    res.append(matrix[i][j])\n",
    "    print(\"res\", res)\n",
    "    matrix[i][j] = '#'\n",
    "\n",
    "    #are we going up? - yes? then go till one value greater than i\n",
    "    #example -> when we are in the outer boundary of the matrix, i = 0\n",
    "    # so go up (use this loop to increment j) until we reach (0,1) or (i, i+1)\n",
    "    if j+1>=i:\n",
    "        helper(matrix,i,j+1,res)\n",
    "        print(\"condition 0 executed\")\n",
    "    helper(matrix,i+1,j,res)\n",
    "    print(\"condition 1 executed\")\n",
    "    helper(matrix,i,j-1,res)\n",
    "    print(\"condition 2 executed\")\n",
    "    helper(matrix,i-1,j,res)\n",
    "    print(\"condition 3 executed\")"
   ]
  },
  {
   "cell_type": "code",
   "execution_count": 67,
   "id": "74ef9310-32de-42dd-be1f-31be0b3b31a1",
   "metadata": {},
   "outputs": [
    {
     "data": {
      "text/plain": [
       "[[1, 2, 3, 4], [5, 6, 7, 8], [9, 10, 11, 12], [13, 14, 15, 16]]"
      ]
     },
     "execution_count": 67,
     "metadata": {},
     "output_type": "execute_result"
    }
   ],
   "source": [
    "matrix"
   ]
  },
  {
   "cell_type": "markdown",
   "id": "281b6db6-e261-4677-a297-34315f938292",
   "metadata": {},
   "source": [
    "https://leetcode.com/problems/longest-substring-without-repeating-characters/"
   ]
  },
  {
   "cell_type": "code",
   "execution_count": 90,
   "id": "93a6df2e-165e-4c7b-ba58-0a5bfb7d0f38",
   "metadata": {},
   "outputs": [],
   "source": [
    "class Solution:\n",
    "    def lengthOfLongestSubstring(self, s: str) -> int:\n",
    "        \n",
    "        max_count = 0\n",
    "        if len(s)==0:\n",
    "            return 0\n",
    "        \n",
    "        hm = {}\n",
    "        i = 0\n",
    "        count = 0\n",
    "        while i < len(s):\n",
    "            if s[i] not in hm.keys():\n",
    "                hm[s[i]] = i ## storing index where location occured\n",
    "                count = count + 1\n",
    "                i = i + 1\n",
    "\n",
    "            else:\n",
    "                s = s[((hm[s[i]])+1) : ]\n",
    "                hm = {}\n",
    "                count = 0\n",
    "                i = 0\n",
    "            max_count = max(max_count, count)\n",
    "        return max_count\n",
    "                "
   ]
  },
  {
   "cell_type": "code",
   "execution_count": 91,
   "id": "52e35f80-5739-4e04-96cc-e1be4ea3935e",
   "metadata": {},
   "outputs": [],
   "source": [
    "a = Solution()"
   ]
  },
  {
   "cell_type": "code",
   "execution_count": 94,
   "id": "2ea606ea-3091-42e6-96a6-6d92f654a39e",
   "metadata": {},
   "outputs": [
    {
     "name": "stdout",
     "output_type": "stream",
     "text": [
      "0 bbbb\n",
      "1 bbbb\n",
      "0 bbb\n",
      "1 bbb\n",
      "0 bb\n",
      "1 bb\n",
      "0 b\n"
     ]
    },
    {
     "data": {
      "text/plain": [
       "1"
      ]
     },
     "execution_count": 94,
     "metadata": {},
     "output_type": "execute_result"
    }
   ],
   "source": [
    "a.lengthOfLongestSubstring('bbbb')"
   ]
  },
  {
   "cell_type": "code",
   "execution_count": 83,
   "id": "aab0da7a-5119-4015-a766-744b343991fe",
   "metadata": {},
   "outputs": [
    {
     "data": {
      "text/plain": [
       "'b'"
      ]
     },
     "execution_count": 83,
     "metadata": {},
     "output_type": "execute_result"
    }
   ],
   "source": [
    "'bb'[0]"
   ]
  },
  {
   "cell_type": "code",
   "execution_count": 95,
   "id": "0f01719f-8bba-4658-a83e-f4764bed5241",
   "metadata": {},
   "outputs": [],
   "source": [
    "from collections import Counter"
   ]
  },
  {
   "cell_type": "code",
   "execution_count": 96,
   "id": "4ded505f-81ad-41b3-9c07-330ec10895a2",
   "metadata": {},
   "outputs": [],
   "source": [
    "a = Counter([1,1,1,2,2,3])"
   ]
  },
  {
   "cell_type": "code",
   "execution_count": 97,
   "id": "82232001-c5aa-46b0-9346-8e91f2488969",
   "metadata": {},
   "outputs": [
    {
     "data": {
      "text/plain": [
       "Counter({1: 3, 2: 2, 3: 1})"
      ]
     },
     "execution_count": 97,
     "metadata": {},
     "output_type": "execute_result"
    }
   ],
   "source": [
    "a"
   ]
  },
  {
   "cell_type": "code",
   "execution_count": 98,
   "id": "e8796c6c-fe6a-452f-9298-13dd80fed7fe",
   "metadata": {},
   "outputs": [
    {
     "data": {
      "text/plain": [
       "[(1, 3), (2, 2), (3, 1)]"
      ]
     },
     "execution_count": 98,
     "metadata": {},
     "output_type": "execute_result"
    }
   ],
   "source": [
    "a.most_common()"
   ]
  },
  {
   "cell_type": "markdown",
   "id": "2c4b95d2-a995-4eea-b46c-9caac0c09c37",
   "metadata": {},
   "source": [
    "https://leetcode.com/problems/maximum-subarray/"
   ]
  },
  {
   "cell_type": "code",
   "execution_count": 4,
   "id": "5d75e063-9997-40a5-abed-e5eac18415b8",
   "metadata": {},
   "outputs": [],
   "source": [
    "from typing import List\n",
    "class Solution:\n",
    "    def maxSubArray(self, nums: List[int]) -> int:\n",
    "        n = len(nums)\n",
    "        maxSum = None\n",
    "        currSum = None\n",
    "        \n",
    "        for i in range(0, n):\n",
    "            if i==0:\n",
    "                maxSum = nums[i]\n",
    "                currSum = nums[i]\n",
    "            else:\n",
    "                if currSum<0:\n",
    "                    currSum = 0\n",
    "                currSum = currSum + nums[i]\n",
    "                maxSum = max(maxSum, currSum)\n",
    "        return maxSum\n",
    "                \n",
    "                "
   ]
  },
  {
   "cell_type": "code",
   "execution_count": 5,
   "id": "addc4b02-e632-4c52-b607-5dde99244c3d",
   "metadata": {},
   "outputs": [],
   "source": [
    "a = Solution()"
   ]
  },
  {
   "cell_type": "code",
   "execution_count": 6,
   "id": "9ddff73d-0f8a-4808-8f4e-adf7e8c865af",
   "metadata": {},
   "outputs": [
    {
     "data": {
      "text/plain": [
       "6"
      ]
     },
     "execution_count": 6,
     "metadata": {},
     "output_type": "execute_result"
    }
   ],
   "source": [
    "nums = [-2, 1, -3, 4, -1, 2, 1, -5, 4]\n",
    "a.maxSubArray(nums)"
   ]
  },
  {
   "cell_type": "markdown",
   "id": "20bff993-44fa-4a1f-a2da-d3038fcebeaf",
   "metadata": {},
   "source": [
    "https://leetcode.com/problems/combination-sum/"
   ]
  },
  {
   "cell_type": "code",
   "execution_count": null,
   "id": "943abca9-695a-4e5a-9265-bdd1a6a9b638",
   "metadata": {},
   "outputs": [],
   "source": [
    "class Solution:\n",
    "    def combinationSum(self, candidates: List[int], target: int) -> List[List[int]]:\n",
    "        candidates.sort()\n",
    "        n = len(candidates)\n",
    "        output = []\n",
    "        \n",
    "        def dfs(curr_list, total, index):\n",
    "            \n",
    "            if (index > (n-1)) or (total > target):\n",
    "                return\n",
    "            \n",
    "            if (total==target):\n",
    "                output.append(curr_list.copy())\n",
    "            \n",
    "            curr_list.append(candidates[index])\n",
    "            total = total + candidates[index]\n",
    "            dfs(curr_list, total, index)\n",
    "            \n",
    "            curr_list.pop()\n",
    "            total = total - candidates[index]\n",
    "            dfs(curr_list, total, index+1)\n",
    "            \n",
    "        \n",
    "        \n",
    "        \n",
    "        \n",
    "        dfs([], 0, 0)"
   ]
  },
  {
   "cell_type": "markdown",
   "id": "bf883d82-0536-4461-a6de-1f5a879423d1",
   "metadata": {},
   "source": [
    "https://leetcode.com/problems/group-anagrams/"
   ]
  },
  {
   "cell_type": "code",
   "execution_count": 19,
   "id": "877d5326-5946-4d3d-b547-874e80f27d4c",
   "metadata": {},
   "outputs": [],
   "source": [
    "class Solution:\n",
    "    def groupAnagrams(self, strs: List[str]) -> List[List[str]]:\n",
    "        \n",
    "        outdict = {}\n",
    "        for st in strs:\n",
    "            sort_st = \"\".join(sorted(st))\n",
    "            if sort_st in outdict:\n",
    "                outdict[sort_st].append(st)\n",
    "            else:\n",
    "                outdict[sort_st] = [st]\n",
    "        outlist = []\n",
    "        for key in outdict.keys():\n",
    "            outlist.append(outdict[key])\n",
    "        return outlist\n",
    "            \n",
    "            \n",
    "        "
   ]
  },
  {
   "cell_type": "code",
   "execution_count": 20,
   "id": "6320ba3e-04da-4041-baea-55e2766b3181",
   "metadata": {},
   "outputs": [],
   "source": [
    "a = Solution()"
   ]
  },
  {
   "cell_type": "code",
   "execution_count": 21,
   "id": "bbbbb88b-8d2a-4e27-a4a5-6757953e5131",
   "metadata": {},
   "outputs": [],
   "source": [
    "strs = [\"eat\",\"tea\",\"tan\",\"ate\",\"nat\",\"bat\"]"
   ]
  },
  {
   "cell_type": "code",
   "execution_count": 23,
   "id": "1efc3239-3cc2-4415-a9a1-8306e8cb6236",
   "metadata": {},
   "outputs": [],
   "source": [
    "strs = [\"\"]"
   ]
  },
  {
   "cell_type": "code",
   "execution_count": 24,
   "id": "87af22f2-153c-4c11-9eb1-9f3fe8bc0899",
   "metadata": {},
   "outputs": [
    {
     "data": {
      "text/plain": [
       "[['']]"
      ]
     },
     "execution_count": 24,
     "metadata": {},
     "output_type": "execute_result"
    }
   ],
   "source": [
    "a.groupAnagrams(strs)"
   ]
  },
  {
   "cell_type": "code",
   "execution_count": 14,
   "id": "779c86cd-6bf8-4c8f-bed5-050c48eed2b5",
   "metadata": {},
   "outputs": [
    {
     "ename": "TypeError",
     "evalue": "unhashable type: 'dict'",
     "output_type": "error",
     "traceback": [
      "\u001b[1;31m---------------------------------------------------------------------------\u001b[0m",
      "\u001b[1;31mTypeError\u001b[0m                                 Traceback (most recent call last)",
      "\u001b[1;32m<ipython-input-14-a8a3ff7bb1de>\u001b[0m in \u001b[0;36m<module>\u001b[1;34m\u001b[0m\n\u001b[0;32m      1\u001b[0m \u001b[0moutdict\u001b[0m \u001b[1;33m=\u001b[0m \u001b[1;33m{\u001b[0m\u001b[1;33m}\u001b[0m\u001b[1;33m\u001b[0m\u001b[1;33m\u001b[0m\u001b[0m\n\u001b[1;32m----> 2\u001b[1;33m \u001b[0moutdict\u001b[0m\u001b[1;33m[\u001b[0m\u001b[0mdict\u001b[0m\u001b[1;33m(\u001b[0m\u001b[0mCounter\u001b[0m\u001b[1;33m(\u001b[0m\u001b[1;34m\"abc\"\u001b[0m\u001b[1;33m)\u001b[0m\u001b[1;33m)\u001b[0m\u001b[1;33m]\u001b[0m \u001b[1;33m=\u001b[0m \u001b[1;33m[\u001b[0m\u001b[1;34m'abc'\u001b[0m\u001b[1;33m]\u001b[0m\u001b[1;33m\u001b[0m\u001b[1;33m\u001b[0m\u001b[0m\n\u001b[0m",
      "\u001b[1;31mTypeError\u001b[0m: unhashable type: 'dict'"
     ]
    }
   ],
   "source": [
    "outdict = {}\n",
    "outdict[dict(Counter(\"abc\"))] = ['abc']"
   ]
  },
  {
   "cell_type": "code",
   "execution_count": 16,
   "id": "214d7944-cade-4890-9d2e-38e8c4821b4c",
   "metadata": {},
   "outputs": [],
   "source": [
    "aa = sorted('bac')"
   ]
  },
  {
   "cell_type": "code",
   "execution_count": 17,
   "id": "6f64942a-e045-4277-9bdf-63bb624f6729",
   "metadata": {},
   "outputs": [
    {
     "data": {
      "text/plain": [
       "['a', 'b', 'c']"
      ]
     },
     "execution_count": 17,
     "metadata": {},
     "output_type": "execute_result"
    }
   ],
   "source": [
    "aa"
   ]
  },
  {
   "cell_type": "markdown",
   "id": "0a32f46d-038f-40e7-acbe-9ebdd4b756ab",
   "metadata": {},
   "source": [
    "https://leetcode.com/problems/longest-substring-without-repeating-characters/"
   ]
  },
  {
   "cell_type": "code",
   "execution_count": 66,
   "id": "c90a3437-33f4-4771-bf7f-c9417053f2e1",
   "metadata": {},
   "outputs": [],
   "source": [
    "class Solution:\n",
    "    def lengthOfLongestSubstring(self, s: str) -> int:\n",
    "        n = len(s)\n",
    "        if n==0:\n",
    "            return 0\n",
    "        \n",
    "        lpt = rpt = 0\n",
    "        output_val = 0\n",
    "        curr_value = 0\n",
    "        \n",
    "        output_dict = {}\n",
    "        se = set()\n",
    "        for cnt, value in enumerate(s):\n",
    "            print(\"before\", cnt, value, s, se , output_dict)\n",
    "            if value not in se:\n",
    "                output_dict[value] = cnt\n",
    "                se.add(value)\n",
    "                rpt = rpt + 1\n",
    "                \n",
    "            else:\n",
    "                lpt = output_dict[value] + 1\n",
    "                output_dict[value] = cnt\n",
    "                rpt = rpt + 1\n",
    "                print(\"here\", s[lpt : (rpt + 1)])\n",
    "                se = set(s[lpt : (rpt)])\n",
    "                \n",
    "            output_val = max(output_val, rpt - lpt)\n",
    "            print(\"after\", cnt, value, s, se , output_dict)\n",
    "        return output_val\n",
    "                \n",
    "                \n",
    "                \n",
    "                \n",
    "            \n",
    "            \n",
    "            "
   ]
  },
  {
   "cell_type": "code",
   "execution_count": 67,
   "id": "0771821c-870c-461f-9e48-9a240c1bdbd1",
   "metadata": {},
   "outputs": [],
   "source": [
    "a = Solution()"
   ]
  },
  {
   "cell_type": "code",
   "execution_count": 69,
   "id": "520304c9-a0f0-45a6-bb84-88eb813e5d8d",
   "metadata": {},
   "outputs": [
    {
     "name": "stdout",
     "output_type": "stream",
     "text": [
      "before 0 a abcabcbb set() {}\n",
      "after 0 a abcabcbb {'a'} {'a': 0}\n",
      "before 1 b abcabcbb {'a'} {'a': 0}\n",
      "after 1 b abcabcbb {'a', 'b'} {'a': 0, 'b': 1}\n",
      "before 2 c abcabcbb {'a', 'b'} {'a': 0, 'b': 1}\n",
      "after 2 c abcabcbb {'a', 'b', 'c'} {'a': 0, 'b': 1, 'c': 2}\n",
      "before 3 a abcabcbb {'a', 'b', 'c'} {'a': 0, 'b': 1, 'c': 2}\n",
      "here bcab\n",
      "after 3 a abcabcbb {'a', 'b', 'c'} {'a': 3, 'b': 1, 'c': 2}\n",
      "before 4 b abcabcbb {'a', 'b', 'c'} {'a': 3, 'b': 1, 'c': 2}\n",
      "here cabc\n",
      "after 4 b abcabcbb {'a', 'b', 'c'} {'a': 3, 'b': 4, 'c': 2}\n",
      "before 5 c abcabcbb {'a', 'b', 'c'} {'a': 3, 'b': 4, 'c': 2}\n",
      "here abcb\n",
      "after 5 c abcabcbb {'a', 'b', 'c'} {'a': 3, 'b': 4, 'c': 5}\n",
      "before 6 b abcabcbb {'a', 'b', 'c'} {'a': 3, 'b': 4, 'c': 5}\n",
      "here cbb\n",
      "after 6 b abcabcbb {'b', 'c'} {'a': 3, 'b': 6, 'c': 5}\n",
      "before 7 b abcabcbb {'b', 'c'} {'a': 3, 'b': 6, 'c': 5}\n",
      "here b\n",
      "after 7 b abcabcbb {'b'} {'a': 3, 'b': 7, 'c': 5}\n"
     ]
    },
    {
     "data": {
      "text/plain": [
       "3"
      ]
     },
     "execution_count": 69,
     "metadata": {},
     "output_type": "execute_result"
    }
   ],
   "source": [
    "a.lengthOfLongestSubstring('abcabcbb')"
   ]
  },
  {
   "cell_type": "code",
   "execution_count": 79,
   "id": "95b2d3a9-0ce5-4ae6-9b99-83be8f5f5d4d",
   "metadata": {},
   "outputs": [],
   "source": [
    "class Solution:\n",
    "    def lengthOfLongestSubstring(self, s: str) -> int:\n",
    "        \n",
    "        seen = {}\n",
    "        left = 0\n",
    "        curr_max = 0 \n",
    "        for index, letter in enumerate(s):\n",
    "            print(\"before\", index, letter, seen, left)\n",
    "            if letter in seen and left <= seen[letter]:\n",
    "                left = seen[letter] + 1   \n",
    "            else:\n",
    "                curr_max = max(curr_max, index - left + 1)\n",
    "            \n",
    "            seen[letter] = index\n",
    "            print(\"after\", index, letter, seen, left)\n",
    "    \n",
    "    \n",
    "        return curr_max"
   ]
  },
  {
   "cell_type": "code",
   "execution_count": 80,
   "id": "48fd9d56-4d6d-4fd4-8dd5-9595a9165c12",
   "metadata": {},
   "outputs": [],
   "source": [
    "b = Solution()"
   ]
  },
  {
   "cell_type": "code",
   "execution_count": 81,
   "id": "e06bd27b-8ed4-48a0-a975-9f7a829c8fa6",
   "metadata": {},
   "outputs": [
    {
     "name": "stdout",
     "output_type": "stream",
     "text": [
      "before 0 a {} 0\n",
      "after 0 a {'a': 0} 0\n",
      "before 1 b {'a': 0} 0\n",
      "after 1 b {'a': 0, 'b': 1} 0\n",
      "before 2 c {'a': 0, 'b': 1} 0\n",
      "after 2 c {'a': 0, 'b': 1, 'c': 2} 0\n",
      "before 3 b {'a': 0, 'b': 1, 'c': 2} 0\n",
      "after 3 b {'a': 0, 'b': 3, 'c': 2} 2\n",
      "before 4 a {'a': 0, 'b': 3, 'c': 2} 2\n",
      "after 4 a {'a': 4, 'b': 3, 'c': 2} 2\n",
      "before 5 d {'a': 4, 'b': 3, 'c': 2} 2\n",
      "after 5 d {'a': 4, 'b': 3, 'c': 2, 'd': 5} 2\n",
      "before 6 f {'a': 4, 'b': 3, 'c': 2, 'd': 5} 2\n",
      "after 6 f {'a': 4, 'b': 3, 'c': 2, 'd': 5, 'f': 6} 2\n"
     ]
    },
    {
     "data": {
      "text/plain": [
       "5"
      ]
     },
     "execution_count": 81,
     "metadata": {},
     "output_type": "execute_result"
    }
   ],
   "source": [
    "b.lengthOfLongestSubstring('abcbadf')"
   ]
  },
  {
   "cell_type": "markdown",
   "id": "fd3ed5d2-dac7-42f4-ac97-aa80b1e13a48",
   "metadata": {},
   "source": [
    "https://leetcode.com/problems/remove-duplicates-from-sorted-array/\n"
   ]
  },
  {
   "cell_type": "code",
   "execution_count": 85,
   "id": "d20f3b56-84b5-4b9f-bb49-4b58c9ba4955",
   "metadata": {},
   "outputs": [],
   "source": [
    "class Solution:\n",
    "    def removeDuplicates(self, nums : List[int]) -> int:\n",
    "        \n",
    "        n = len(nums)\n",
    "        k = 1\n",
    "        for i in range(1, n):\n",
    "            if nums[i] != nums[i-1]:\n",
    "                nums[k] = nums[i]\n",
    "                k = k + 1\n",
    "        return k\n",
    "                \n",
    "                "
   ]
  },
  {
   "cell_type": "code",
   "execution_count": 89,
   "id": "26b30f6d-fb84-4ccf-a3ed-bdcac8675217",
   "metadata": {},
   "outputs": [],
   "source": [
    "nums = [0,0,2,2,3,3,4]\n"
   ]
  },
  {
   "cell_type": "code",
   "execution_count": 87,
   "id": "f28952d8-3f00-43a6-abf8-1eb10d1107e6",
   "metadata": {},
   "outputs": [],
   "source": [
    "a = Solution()"
   ]
  },
  {
   "cell_type": "code",
   "execution_count": 90,
   "id": "33ad1f25-9a11-46f1-a954-8d93b444b906",
   "metadata": {},
   "outputs": [
    {
     "data": {
      "text/plain": [
       "4"
      ]
     },
     "execution_count": 90,
     "metadata": {},
     "output_type": "execute_result"
    }
   ],
   "source": [
    "a.removeDuplicates(nums)"
   ]
  },
  {
   "cell_type": "markdown",
   "id": "9f1a8194-b225-4816-b708-9d77d7d32a1a",
   "metadata": {},
   "source": [
    "## permutation in string"
   ]
  },
  {
   "cell_type": "markdown",
   "id": "bdf57cb9-a20a-4823-8568-9b8b6f4acd16",
   "metadata": {},
   "source": [
    "https://leetcode.com/problems/permutation-in-string/"
   ]
  },
  {
   "cell_type": "markdown",
   "id": "b8bd4a79-7e68-453b-b899-80157117e055",
   "metadata": {},
   "source": [
    "Given two strings s1 and s2, return true if s2 contains a permutation of s1, or false otherwise.\n",
    "\n",
    "In other words, return true if one of s1's permutations is the substring of s2."
   ]
  },
  {
   "cell_type": "code",
   "execution_count": 123,
   "id": "e209498b-ebbb-4b51-b819-f26f6681d4d9",
   "metadata": {},
   "outputs": [],
   "source": [
    "from collections import Counter\n",
    "class Solution:\n",
    "    def checkInclusion(self, s1: str, s2: str) -> bool:\n",
    "        n1 = len(s1)\n",
    "        n2 = len(s2)\n",
    "        \n",
    "        output = False\n",
    "        if n1 > n2:\n",
    "            return output\n",
    "        \n",
    "        count_s1 = dict(Counter(s1))\n",
    "        count_s2_sub = None\n",
    "        \n",
    "        for i in range(0, len(s2)):\n",
    "            \n",
    "            right_boundary = n1 + i\n",
    "            sub_string = s2[i:right_boundary]\n",
    "            print(i, sub_string)\n",
    "            if len(sub_string)<n1:\n",
    "                return output\n",
    "            else:\n",
    "                if not count_s2_sub:\n",
    "                    count_s2_sub = dict(Counter(sub_string))\n",
    "                else:\n",
    "                    if s2[right_boundary-1] in count_s2_sub.keys():\n",
    "                        count_s2_sub[s2[right_boundary-1]] = count_s2_sub[s2[right_boundary-1]] + 1\n",
    "                    else:\n",
    "                        count_s2_sub[s2[right_boundary-1]] = 1\n",
    "                    count_s2_sub[s2[i-1]] = count_s2_sub[s2[i-1]] - 1\n",
    "                    if count_s2_sub[s2[i-1]]==0:\n",
    "                        del count_s2_sub[s2[i-1]]\n",
    "                if count_s1 == count_s2_sub:\n",
    "                    return True\n",
    "        return output\n",
    "                    \n",
    "                        \n",
    "                \n",
    "            "
   ]
  },
  {
   "cell_type": "code",
   "execution_count": 124,
   "id": "416f3ae9-80c2-41e2-84ee-c49ceb9ce958",
   "metadata": {},
   "outputs": [],
   "source": [
    "a = Solution()"
   ]
  },
  {
   "cell_type": "code",
   "execution_count": 128,
   "id": "441c8300-da8e-4f73-8f8b-79c6000c0def",
   "metadata": {},
   "outputs": [],
   "source": [
    "s1 = \"abcd\"\n",
    "s2 = \"eidbacooo\""
   ]
  },
  {
   "cell_type": "code",
   "execution_count": 129,
   "id": "5330f7c7-51c3-4646-81ec-a71e799d0c9e",
   "metadata": {},
   "outputs": [
    {
     "name": "stdout",
     "output_type": "stream",
     "text": [
      "count_s1 {'a': 1, 'b': 1, 'c': 1, 'd': 1}\n",
      "0 eidb\n",
      "count_s2_sub {'e': 1, 'i': 1, 'd': 1, 'b': 1}\n",
      "1 idba\n",
      "count_s2_sub {'i': 1, 'd': 1, 'b': 1, 'a': 1}\n",
      "2 dbac\n",
      "count_s2_sub {'d': 1, 'b': 1, 'a': 1, 'c': 1}\n"
     ]
    },
    {
     "data": {
      "text/plain": [
       "True"
      ]
     },
     "execution_count": 129,
     "metadata": {},
     "output_type": "execute_result"
    }
   ],
   "source": [
    "a.checkInclusion(s1, s2)"
   ]
  },
  {
   "cell_type": "markdown",
   "id": "41fd204c-140d-4c87-bb25-0969265507db",
   "metadata": {},
   "source": [
    "## LRU cache"
   ]
  },
  {
   "cell_type": "markdown",
   "id": "cebea995-3efc-4963-a02a-c5ef464e4886",
   "metadata": {},
   "source": [
    "https://leetcode.com/problems/lru-cache/"
   ]
  },
  {
   "cell_type": "code",
   "execution_count": null,
   "id": "504f96a9-5965-4084-9bc0-e3a5ef629329",
   "metadata": {},
   "outputs": [],
   "source": [
    "from collections import deque\n",
    "\n",
    "class LRUCache:\n",
    "\n",
    "    def __init__(self, capacity: int):\n",
    "        self.capacity = capacity\n",
    "        self.hash = {}\n",
    "        self.last_key = None\n",
    "        self.q = deque()\n",
    "        \n",
    "\n",
    "    def get(self, key: int) -> int:\n",
    "        if key in self.hash.keys():\n",
    "            return self.hash[key]\n",
    "        else:\n",
    "            return -1\n",
    "        \n",
    "        \n",
    "\n",
    "    def put(self, key: int, value: int) -> None:\n",
    "        \n",
    "        self.q.push(value)\n",
    "        self.hash[key] = value\n",
    "        if len(self.q) > self.capacity:\n",
    "            lru_key = self.leftpop()\n",
    "            del self.hash[lru_key] \n",
    "            \n",
    "        \n",
    "        \n",
    "        if len(self.hash) > self.capacity:\n",
    "            del self.hash[self.last_key]\n",
    "        "
   ]
  },
  {
   "cell_type": "markdown",
   "id": "586204ae-1477-4fb0-91ee-d29a54919a7a",
   "metadata": {},
   "source": [
    "## Perfect squares\n",
    "https://leetcode.com/problems/perfect-squares/"
   ]
  },
  {
   "cell_type": "code",
   "execution_count": 6,
   "id": "be11b0b1-26c9-4ca8-813a-ed61c594fbfa",
   "metadata": {},
   "outputs": [],
   "source": [
    "import numpy as np\n",
    "class Solution:\n",
    "    def numSquares_memoization(self, n: int) -> int:\n",
    "        \n",
    "        output = [None]*(n+1)\n",
    "        output[0] = 0\n",
    "        output[1] = 1\n",
    "        \n",
    "        def numsquares_n_recursive(k):\n",
    "            \n",
    "            if output[k]:\n",
    "                return output[k]\n",
    "            else:\n",
    "                output[k] = k\n",
    "                \n",
    "            for i in range(1,k):\n",
    "                if i**2 > k:\n",
    "                    break\n",
    "                elif i**2 == k:\n",
    "                    output[k] = 1\n",
    "                else:\n",
    "                    output[k] = min(output[k], 1 +  numsquares_n_recursive(k - i**2))\n",
    "            \n",
    "            return output[k]\n",
    "        numsquares_n_recursive(n)\n",
    "        return output[n]\n",
    "    \n",
    "    \n",
    "    def numSquares_tabulation(self, n: int) -> int:\n",
    "        \n",
    "        output = [n]*(n+1)\n",
    "        output[0] = 0\n",
    "        output[1] = 1\n",
    "        \n",
    "        for i in range(2, n+1):\n",
    "            for target in range(1, i+1):\n",
    "                if target**2 > i:\n",
    "                    break\n",
    "                elif target**2==i::\n",
    "                    output[i] = 1\n",
    "                    break\n",
    "                else:\n",
    "                    output[i] = min(output[i], 1 + output[i - target**2])\n",
    "        \n",
    "        def numsquares_n_recursive(k):\n",
    "            \n",
    "            if output[k]:\n",
    "                return output[k]\n",
    "            else:\n",
    "                output[k] = k\n",
    "                \n",
    "            for i in range(1,k):\n",
    "                if i**2 > k:\n",
    "                    break\n",
    "                elif i**2 == k:\n",
    "                    output[k] = 1\n",
    "                else:\n",
    "                    output[k] = min(output[k], 1 +  numsquares_n_recursive(k - i**2))\n",
    "            \n",
    "            return output[k]\n",
    "        numsquares_n_recursive(n)\n",
    "        return output[n]\n",
    "                    \n",
    "                    \n",
    "                "
   ]
  },
  {
   "cell_type": "markdown",
   "id": "98e1ed44-4d35-426e-8423-53f4f97ae71d",
   "metadata": {},
   "source": [
    "## Coin Change\n",
    "https://leetcode.com/problems/coin-change/\n",
    "    "
   ]
  },
  {
   "cell_type": "code",
   "execution_count": 8,
   "id": "3f4f2a1d-0059-48c2-8f90-089bf8b72e4b",
   "metadata": {},
   "outputs": [
    {
     "data": {
      "text/plain": [
       "3"
      ]
     },
     "execution_count": 8,
     "metadata": {},
     "output_type": "execute_result"
    }
   ],
   "source": [
    "class Solution:\n",
    "    def coinChange_memoization(self, coins: List[int], amount: int) -> int:\n",
    "        output = [None]*(amount + 1)\n",
    "        output[0] = 0\n",
    "        \n",
    "        def recursive(k):\n",
    "            if output[k]:\n",
    "                return output[k]\n",
    "            if k in coins:\n",
    "                output[k] = 1\n",
    "                return 1\n",
    "            else:\n",
    "                for coin in coins:\n",
    "                    if output[k]:\n",
    "                        output[k] = min(output[k], 1 + recursive(k-coin))\n",
    "                    else:\n",
    "                        output[k] = 1 + recursive(k-coin)\n",
    "            return output[k]\n",
    "        recursive(amount)\n",
    "        if output[output]:\n",
    "            return output[amount]\n",
    "        else:\n",
    "            return -1\n",
    "                \n",
    "    \n",
    "    def coinChange_tabulation(self, coins: List[int], amount: int) -> int:\n",
    "        output = [None]*(amount + 1)\n",
    "        output[0] = 0\n",
    "        \n",
    "        for i in range(1, amount+1):\n",
    "            if i in coins:\n",
    "                output[i] = 1\n",
    "            else:\n",
    "                for coin in coins:\n",
    "                    if i<coin:\n",
    "                        continue\n",
    "                    else:\n",
    "                        if output[i-coin]:\n",
    "                            output[i] = min(output[i], 1 + output[i-coin])\n",
    "        return output[amount]\n",
    "                    \n",
    "        \n",
    "        \n",
    "        "
   ]
  },
  {
   "cell_type": "markdown",
   "id": "1e23ced9-f819-4b8e-a9c8-84b24fa99a79",
   "metadata": {},
   "source": [
    "## Partition Labels\n",
    "https://leetcode.com/problems/partition-labels/\n",
    "                "
   ]
  },
  {
   "cell_type": "code",
   "execution_count": 53,
   "id": "8f0f95cf-6df8-4e18-a4ed-33f6809407cb",
   "metadata": {},
   "outputs": [],
   "source": [
    "from typing import List\n",
    "class Solution:\n",
    "    def partitionLabels(self, s: str) -> List[int]:\n",
    "        \n",
    "        \n",
    "        ## creates a dictionary, which for every character stores the last position\n",
    "        outlist = []\n",
    "        last_position_dict = {}\n",
    "        for cnt, value in enumerate(s):\n",
    "            last_position_dict[value] = cnt  \n",
    "            \n",
    "        print(\"last_position_dict\", last_position_dict)\n",
    "            \n",
    "        current_left_pointer = None\n",
    "        current_right_pointer = None\n",
    "        curr_substr_length = 0\n",
    "        \n",
    "        for i in range(0, len(s)):\n",
    "            \n",
    "           \n",
    "            char = s[i]\n",
    "            print(i, char)\n",
    "            print(\"current_left_pointer\", current_left_pointer)\n",
    "            if current_right_pointer:\n",
    "                if i > current_right_pointer:\n",
    "                    print(\"inside\",i, curr_substr_length)\n",
    "                    outlist.append(curr_substr_length)\n",
    "                    current_right_pointer = None\n",
    "                    curr_substr_length = 0\n",
    "                    current_left_pointer = None\n",
    "                    \n",
    "            print(\"here1, current_left_pointer\", current_left_pointer)\n",
    "            if current_left_pointer is None:\n",
    "                current_left_pointer = i\n",
    "            if (current_right_pointer is None) or (last_position_dict[char]>current_right_pointer):\n",
    "                current_right_pointer = last_position_dict[char]\n",
    "            print(i, current_left_pointer, current_right_pointer)\n",
    "            curr_substr_length = max(curr_substr_length, current_right_pointer - current_left_pointer + 1)\n",
    "            print(s[current_left_pointer : (current_right_pointer + 1)])\n",
    "            print(\"outside, curr_substr_length\", curr_substr_length)\n",
    "        if curr_substr_length >0:\n",
    "            outlist.append(curr_substr_length)\n",
    "        return outlist\n",
    "            \n",
    "            \n",
    "            \n",
    "            \n",
    "        "
   ]
  },
  {
   "cell_type": "code",
   "execution_count": 52,
   "id": "3b2e86a6-af1e-4e06-b31a-1b410c3419c1",
   "metadata": {},
   "outputs": [],
   "source": [
    "x = 0\n",
    "if x is None:\n",
    "    print(True)"
   ]
  },
  {
   "cell_type": "code",
   "execution_count": 54,
   "id": "ae2a552d-71de-4b9b-9d25-6bf0e6fa68de",
   "metadata": {},
   "outputs": [],
   "source": [
    "a = Solution()\n"
   ]
  },
  {
   "cell_type": "code",
   "execution_count": 55,
   "id": "7ce692cf-bb5a-477c-8cc1-54ca72b727ca",
   "metadata": {},
   "outputs": [
    {
     "name": "stdout",
     "output_type": "stream",
     "text": [
      "last_position_dict {'e': 8, 'c': 9, 'b': 6, 'd': 7}\n",
      "0 e\n",
      "current_left_pointer None\n",
      "here1, current_left_pointer None\n",
      "0 0 8\n",
      "eccbbbbde\n",
      "outside, curr_substr_length 9\n",
      "1 c\n",
      "current_left_pointer 0\n",
      "here1, current_left_pointer 0\n",
      "1 0 9\n",
      "eccbbbbdec\n",
      "outside, curr_substr_length 10\n",
      "2 c\n",
      "current_left_pointer 0\n",
      "here1, current_left_pointer 0\n",
      "2 0 9\n",
      "eccbbbbdec\n",
      "outside, curr_substr_length 10\n",
      "3 b\n",
      "current_left_pointer 0\n",
      "here1, current_left_pointer 0\n",
      "3 0 9\n",
      "eccbbbbdec\n",
      "outside, curr_substr_length 10\n",
      "4 b\n",
      "current_left_pointer 0\n",
      "here1, current_left_pointer 0\n",
      "4 0 9\n",
      "eccbbbbdec\n",
      "outside, curr_substr_length 10\n",
      "5 b\n",
      "current_left_pointer 0\n",
      "here1, current_left_pointer 0\n",
      "5 0 9\n",
      "eccbbbbdec\n",
      "outside, curr_substr_length 10\n",
      "6 b\n",
      "current_left_pointer 0\n",
      "here1, current_left_pointer 0\n",
      "6 0 9\n",
      "eccbbbbdec\n",
      "outside, curr_substr_length 10\n",
      "7 d\n",
      "current_left_pointer 0\n",
      "here1, current_left_pointer 0\n",
      "7 0 9\n",
      "eccbbbbdec\n",
      "outside, curr_substr_length 10\n",
      "8 e\n",
      "current_left_pointer 0\n",
      "here1, current_left_pointer 0\n",
      "8 0 9\n",
      "eccbbbbdec\n",
      "outside, curr_substr_length 10\n",
      "9 c\n",
      "current_left_pointer 0\n",
      "here1, current_left_pointer 0\n",
      "9 0 9\n",
      "eccbbbbdec\n",
      "outside, curr_substr_length 10\n"
     ]
    },
    {
     "data": {
      "text/plain": [
       "[10]"
      ]
     },
     "execution_count": 55,
     "metadata": {},
     "output_type": "execute_result"
    }
   ],
   "source": [
    "a.partitionLabels('eccbbbbdec')"
   ]
  },
  {
   "cell_type": "markdown",
   "id": "b274a4f6-f5ae-409e-8def-4bdb6e52299d",
   "metadata": {},
   "source": [
    "https://leetcode.com/problems/combination-sum/\n",
    "\n",
    "Given an array of distinct integers candidates and a target integer target, return a list of all unique combinations of candidates where the chosen numbers sum to target. You may return the combinations in any order.\n",
    "\n",
    "The same number may be chosen from candidates an unlimited number of times. Two combinations are unique if the \n",
    "frequency\n",
    " of at least one of the chosen numbers is different."
   ]
  },
  {
   "cell_type": "code",
   "execution_count": 8,
   "id": "b901a861-35e0-46b6-8c71-91828be7c78a",
   "metadata": {},
   "outputs": [],
   "source": [
    "from typing import List\n",
    "\n",
    "class Solution:\n",
    "    def combinationSum(self, candidates: List[int], target: int) -> List[List[int]]:\n",
    "        candidates.sort()\n",
    "        n = len(candidates)\n",
    "        output = []\n",
    "        \n",
    "        \n",
    "        def dfs(i, curr_list, sum_curr_list):\n",
    "            if (i>=(n)):                 ## exiting conditions, can happen in 3 cases - i reaches edge of list, sum equal to target , sum > target\n",
    "                return\n",
    "            \n",
    "            if (sum_curr_list==target):\n",
    "                output.append(curr_list.copy())\n",
    "                return\n",
    "            \n",
    "            if (sum_curr_list > target):\n",
    "                return\n",
    "            \n",
    "            ## including current_element\n",
    "            sum_curr_list = sum_curr_list + candidates[i]\n",
    "            curr_list.append(candidates[i])\n",
    "            dfs(i, curr_list, sum_curr_list)  ## notice we don't move the pointer unless return happens\n",
    "            \n",
    "            ## excluding current_element\n",
    "            sum_curr_list = sum_curr_list - candidates[i]\n",
    "            curr_list.pop()\n",
    "            dfs(i+1, curr_list, sum_curr_list)\n",
    "            \n",
    "        dfs(0, [], 0)\n",
    "        return output\n",
    "            \n",
    "            \n",
    "                \n",
    "\n",
    "                \n",
    "            \n",
    "            "
   ]
  },
  {
   "cell_type": "code",
   "execution_count": 9,
   "id": "a7ba827d-9d05-4a56-bd00-003f74fb47ad",
   "metadata": {},
   "outputs": [],
   "source": [
    "a = Solution()"
   ]
  },
  {
   "cell_type": "code",
   "execution_count": 12,
   "id": "50165c39-ccf4-4962-9267-fc8611b0b54b",
   "metadata": {},
   "outputs": [
    {
     "name": "stdout",
     "output_type": "stream",
     "text": [
      "0 [] 0\n",
      "0 [2] 2\n",
      "0 [2, 2] 4\n",
      "0 [2, 2, 2] 6\n",
      "0 [2, 2, 2, 2] 8\n",
      "1 [2, 2, 2] 6\n",
      "1 [2, 2, 2, 3] 9\n",
      "2 [2, 2, 2] 6\n",
      "2 [2, 2, 2, 5] 11\n",
      "3 [2, 2, 2] 6\n",
      "1 [2, 2] 4\n",
      "1 [2, 2, 3] 7\n",
      "1 [2, 2, 3, 3] 10\n",
      "2 [2, 2, 3] 7\n",
      "2 [2, 2, 3, 5] 12\n",
      "3 [2, 2, 3] 7\n",
      "2 [2, 2] 4\n",
      "2 [2, 2, 5] 9\n",
      "3 [2, 2] 4\n",
      "1 [2] 2\n",
      "1 [2, 3] 5\n",
      "1 [2, 3, 3] 8\n",
      "2 [2, 3] 5\n",
      "2 [2, 3, 5] 10\n",
      "3 [2, 3] 5\n",
      "2 [2] 2\n",
      "2 [2, 5] 7\n",
      "2 [2, 5, 5] 12\n",
      "3 [2, 5] 7\n",
      "3 [2] 2\n",
      "1 [] 0\n",
      "1 [3] 3\n",
      "1 [3, 3] 6\n",
      "1 [3, 3, 3] 9\n",
      "2 [3, 3] 6\n",
      "2 [3, 3, 5] 11\n",
      "3 [3, 3] 6\n",
      "2 [3] 3\n",
      "2 [3, 5] 8\n",
      "3 [3] 3\n",
      "2 [] 0\n",
      "2 [5] 5\n",
      "2 [5, 5] 10\n",
      "3 [5] 5\n",
      "3 [] 0\n"
     ]
    },
    {
     "data": {
      "text/plain": [
       "[[2, 2, 2, 2], [2, 3, 3], [3, 5]]"
      ]
     },
     "execution_count": 12,
     "metadata": {},
     "output_type": "execute_result"
    }
   ],
   "source": [
    "candidates = [2,3,5]\n",
    "target = 8\n",
    "\n",
    "a.combinationSum(candidates, target)"
   ]
  },
  {
   "cell_type": "markdown",
   "id": "8bf36bf6-b73d-4cd1-91e2-b5720e5caa8e",
   "metadata": {},
   "source": [
    "## Number of islands\n",
    "https://leetcode.com/problems/number-of-islands/\n",
    "    "
   ]
  },
  {
   "cell_type": "code",
   "execution_count": 40,
   "id": "be85185b-9380-4a7d-97d1-3e892db125a4",
   "metadata": {},
   "outputs": [],
   "source": [
    "class Solution:\n",
    "    def numIslands(self, grid: List[List[str]]) -> int:\n",
    "        num_rows, num_columns = len(grid), len(grid[0])\n",
    "        \n",
    "        already_visited = set()\n",
    "        num_islands = [0]\n",
    "        \n",
    "        def dfs(i,j):\n",
    "            print(\"inside dfs before\")\n",
    "            print((i,j))\n",
    "            if (i<0) or (j<0) or (i>=num_rows) or (j>=num_columns):\n",
    "                return\n",
    "            if (i,j) in already_visited:\n",
    "                return\n",
    "            if grid[i][j]==\"0\":\n",
    "                return\n",
    "            print(\"inside dfs after\")\n",
    "            \n",
    "            already_visited.add((i,j))\n",
    "            neighbours = [(i-1,j), (i+1,j), (i,j-1), (i,j+1)]\n",
    "            for neighbour in neighbours:\n",
    "                print(\"current node\", (i,j), \"neighbour\", neighbour)\n",
    "                dfs(neighbour[0], neighbour[1])\n",
    "            \n",
    "        \n",
    "        for i in range(0, num_rows):\n",
    "            for j in range(0, num_columns):\n",
    "                if grid[i][j]==\"1\":\n",
    "                    print(i,j)\n",
    "                    print(\"already_visited\", already_visited)\n",
    "                    if (i,j) not in already_visited:\n",
    "                        dfs(i, j)\n",
    "                        num_islands[0] = num_islands[0]+1\n",
    "                        print(\"num_islands outside\", num_islands)\n",
    "                        \n",
    "        return num_islands[0]\n",
    "            "
   ]
  },
  {
   "cell_type": "code",
   "execution_count": 41,
   "id": "b6f54fae-ead3-4ac4-a6fb-5281073d95bb",
   "metadata": {},
   "outputs": [],
   "source": [
    "a = Solution()"
   ]
  },
  {
   "cell_type": "code",
   "execution_count": 42,
   "id": "5d0e6e06-c3e7-4b3e-918a-3005c2b29de6",
   "metadata": {},
   "outputs": [],
   "source": [
    "grid = [\n",
    "  [\"1\",\"1\",\"1\",\"1\",\"0\"],\n",
    "  [\"1\",\"1\",\"0\",\"1\",\"0\"],\n",
    "  [\"1\",\"1\",\"0\",\"0\",\"0\"],\n",
    "  [\"0\",\"0\",\"0\",\"0\",\"0\"]\n",
    "]"
   ]
  },
  {
   "cell_type": "code",
   "execution_count": 43,
   "id": "38316f69-4025-4772-bbbf-3761c4ed7e6e",
   "metadata": {},
   "outputs": [
    {
     "name": "stdout",
     "output_type": "stream",
     "text": [
      "0 0\n",
      "already_visited set()\n",
      "inside dfs before\n",
      "(0, 0)\n",
      "inside dfs after\n",
      "current node (0, 0) neighbour (-1, 0)\n",
      "inside dfs before\n",
      "(-1, 0)\n",
      "current node (0, 0) neighbour (1, 0)\n",
      "inside dfs before\n",
      "(1, 0)\n",
      "inside dfs after\n",
      "current node (1, 0) neighbour (0, 0)\n",
      "inside dfs before\n",
      "(0, 0)\n",
      "current node (1, 0) neighbour (2, 0)\n",
      "inside dfs before\n",
      "(2, 0)\n",
      "inside dfs after\n",
      "current node (2, 0) neighbour (1, 0)\n",
      "inside dfs before\n",
      "(1, 0)\n",
      "current node (2, 0) neighbour (3, 0)\n",
      "inside dfs before\n",
      "(3, 0)\n",
      "current node (2, 0) neighbour (2, -1)\n",
      "inside dfs before\n",
      "(2, -1)\n",
      "current node (2, 0) neighbour (2, 1)\n",
      "inside dfs before\n",
      "(2, 1)\n",
      "inside dfs after\n",
      "current node (2, 1) neighbour (1, 1)\n",
      "inside dfs before\n",
      "(1, 1)\n",
      "inside dfs after\n",
      "current node (1, 1) neighbour (0, 1)\n",
      "inside dfs before\n",
      "(0, 1)\n",
      "inside dfs after\n",
      "current node (0, 1) neighbour (-1, 1)\n",
      "inside dfs before\n",
      "(-1, 1)\n",
      "current node (0, 1) neighbour (1, 1)\n",
      "inside dfs before\n",
      "(1, 1)\n",
      "current node (0, 1) neighbour (0, 0)\n",
      "inside dfs before\n",
      "(0, 0)\n",
      "current node (0, 1) neighbour (0, 2)\n",
      "inside dfs before\n",
      "(0, 2)\n",
      "inside dfs after\n",
      "current node (0, 2) neighbour (-1, 2)\n",
      "inside dfs before\n",
      "(-1, 2)\n",
      "current node (0, 2) neighbour (1, 2)\n",
      "inside dfs before\n",
      "(1, 2)\n",
      "current node (0, 2) neighbour (0, 1)\n",
      "inside dfs before\n",
      "(0, 1)\n",
      "current node (0, 2) neighbour (0, 3)\n",
      "inside dfs before\n",
      "(0, 3)\n",
      "inside dfs after\n",
      "current node (0, 3) neighbour (-1, 3)\n",
      "inside dfs before\n",
      "(-1, 3)\n",
      "current node (0, 3) neighbour (1, 3)\n",
      "inside dfs before\n",
      "(1, 3)\n",
      "inside dfs after\n",
      "current node (1, 3) neighbour (0, 3)\n",
      "inside dfs before\n",
      "(0, 3)\n",
      "current node (1, 3) neighbour (2, 3)\n",
      "inside dfs before\n",
      "(2, 3)\n",
      "current node (1, 3) neighbour (1, 2)\n",
      "inside dfs before\n",
      "(1, 2)\n",
      "current node (1, 3) neighbour (1, 4)\n",
      "inside dfs before\n",
      "(1, 4)\n",
      "current node (0, 3) neighbour (0, 2)\n",
      "inside dfs before\n",
      "(0, 2)\n",
      "current node (0, 3) neighbour (0, 4)\n",
      "inside dfs before\n",
      "(0, 4)\n",
      "current node (1, 1) neighbour (2, 1)\n",
      "inside dfs before\n",
      "(2, 1)\n",
      "current node (1, 1) neighbour (1, 0)\n",
      "inside dfs before\n",
      "(1, 0)\n",
      "current node (1, 1) neighbour (1, 2)\n",
      "inside dfs before\n",
      "(1, 2)\n",
      "current node (2, 1) neighbour (3, 1)\n",
      "inside dfs before\n",
      "(3, 1)\n",
      "current node (2, 1) neighbour (2, 0)\n",
      "inside dfs before\n",
      "(2, 0)\n",
      "current node (2, 1) neighbour (2, 2)\n",
      "inside dfs before\n",
      "(2, 2)\n",
      "current node (1, 0) neighbour (1, -1)\n",
      "inside dfs before\n",
      "(1, -1)\n",
      "current node (1, 0) neighbour (1, 1)\n",
      "inside dfs before\n",
      "(1, 1)\n",
      "current node (0, 0) neighbour (0, -1)\n",
      "inside dfs before\n",
      "(0, -1)\n",
      "current node (0, 0) neighbour (0, 1)\n",
      "inside dfs before\n",
      "(0, 1)\n",
      "num_islands outside [1]\n",
      "0 1\n",
      "already_visited {(0, 1), (2, 1), (0, 0), (1, 1), (0, 3), (2, 0), (0, 2), (1, 0), (1, 3)}\n",
      "0 2\n",
      "already_visited {(0, 1), (2, 1), (0, 0), (1, 1), (0, 3), (2, 0), (0, 2), (1, 0), (1, 3)}\n",
      "0 3\n",
      "already_visited {(0, 1), (2, 1), (0, 0), (1, 1), (0, 3), (2, 0), (0, 2), (1, 0), (1, 3)}\n",
      "1 0\n",
      "already_visited {(0, 1), (2, 1), (0, 0), (1, 1), (0, 3), (2, 0), (0, 2), (1, 0), (1, 3)}\n",
      "1 1\n",
      "already_visited {(0, 1), (2, 1), (0, 0), (1, 1), (0, 3), (2, 0), (0, 2), (1, 0), (1, 3)}\n",
      "1 3\n",
      "already_visited {(0, 1), (2, 1), (0, 0), (1, 1), (0, 3), (2, 0), (0, 2), (1, 0), (1, 3)}\n",
      "2 0\n",
      "already_visited {(0, 1), (2, 1), (0, 0), (1, 1), (0, 3), (2, 0), (0, 2), (1, 0), (1, 3)}\n",
      "2 1\n",
      "already_visited {(0, 1), (2, 1), (0, 0), (1, 1), (0, 3), (2, 0), (0, 2), (1, 0), (1, 3)}\n"
     ]
    },
    {
     "data": {
      "text/plain": [
       "1"
      ]
     },
     "execution_count": 43,
     "metadata": {},
     "output_type": "execute_result"
    }
   ],
   "source": [
    "a.numIslands(grid)"
   ]
  },
  {
   "cell_type": "markdown",
   "id": "26d50fde-e05b-49b4-8e0e-160a6a95dbee",
   "metadata": {},
   "source": [
    "https://leetcode.com/problems/lru-cache/\n",
    "## LRU cache"
   ]
  },
  {
   "cell_type": "code",
   "execution_count": 2,
   "id": "a04e69cf-018b-455a-9ad9-7589d24e12e3",
   "metadata": {},
   "outputs": [],
   "source": [
    "from typing import Optional\n",
    "class Node:\n",
    "    def __init__(self, value:Optional[int], left=None, right=None, key=None ):\n",
    "        \n",
    "        self.key = key\n",
    "        self.value = value\n",
    "        self.left = left\n",
    "        self.right = right"
   ]
  },
  {
   "cell_type": "code",
   "execution_count": null,
   "id": "1944f79e-81ae-48cb-8d0f-fddf1eab38a2",
   "metadata": {},
   "outputs": [],
   "source": [
    "class LRUCache:\n",
    "    \n",
    "    def __init__(self, capacity:int):\n",
    "        \n",
    "        self.capacity = capacity\n",
    "        self.hash_map = {}\n",
    "        self.left_node = Node(key=None)\n",
    "        self.right_node = Node(key=None)\n",
    "        \n",
    "        self.left_node.right = self.right_node\n",
    "        self.right_node.left = self.left_node\n",
    "        \n",
    "    def delete(self, key):\n",
    "        left_to_key = self.hash_map[key].left\n",
    "        right_to_key = self.hash_map[key].right\n",
    "        \n",
    "        left_to_key.right = right_to_key\n",
    "        right_to_key.left = left_to_key\n",
    "        \n",
    "        del self.hash_map[key]\n",
    "        \n",
    "    def delete_oldest(self):\n",
    "        \n",
    "        left_to_key = self.left\n",
    "        right_to_key = self.right.right\n",
    "        key = self.right.key\n",
    "        \n",
    "        left_to_key.right = right_to_key\n",
    "        right_to_key.left = left_to_key    \n",
    "        del self.hash_map[key]\n",
    "        \n",
    "    \n",
    "    def add(self, key, value): ## adding at right most\n",
    "        node = Node(value=value, key=key)\n",
    "        prev_node = self.right_node.left\n",
    "        self.node.right = self.right_node\n",
    "        self.right_node.left = node\n",
    "        \n",
    "        self.node.left = prev_node\n",
    "        prev_node.right = node\n",
    "        self.hash_map[key] = node\n",
    "    \n",
    "    def get(self, key):\n",
    "        if key not in self.hash_map:\n",
    "            return -1\n",
    "        else:\n",
    "            value = self.hash_map[key].value\n",
    "            self.delete(key)\n",
    "            self.add(key, value)\n",
    "        \n",
    "        \n",
    "    def put(self, key, value):\n",
    "        \n",
    "        if key not in self.hash_map:\n",
    "            \n",
    "            self.add(key, value)\n",
    "            if len(self.hash_map)>self.capacity:\n",
    "                self.delete()\n",
    "            \n",
    "        else:\n",
    "            self.delete(key)\n",
    "            self.add(key, value)\n",
    "        "
   ]
  },
  {
   "cell_type": "code",
   "execution_count": 18,
   "id": "7308c18a-15dd-4a2d-88bb-0f45f9b8d8fc",
   "metadata": {},
   "outputs": [],
   "source": [
    "class TrieNode:\n",
    "\n",
    "    def __init__(self, end_of_word=False, map_dict=None):\n",
    "        if not map_dict:\n",
    "            self.map_dict = {}\n",
    "        self.end_of_word = False"
   ]
  },
  {
   "cell_type": "code",
   "execution_count": 19,
   "id": "8b663c45-ced2-433b-af97-aff4c9789255",
   "metadata": {},
   "outputs": [],
   "source": [
    "a = TrieNode()"
   ]
  },
  {
   "cell_type": "code",
   "execution_count": 20,
   "id": "ff1c9b56-7090-47e1-a804-dd6b4459f80d",
   "metadata": {},
   "outputs": [
    {
     "data": {
      "text/plain": [
       "{}"
      ]
     },
     "execution_count": 20,
     "metadata": {},
     "output_type": "execute_result"
    }
   ],
   "source": [
    "a.map_dict"
   ]
  },
  {
   "cell_type": "code",
   "execution_count": 21,
   "id": "f26daca0-6999-42c6-b605-794f7d8c83d0",
   "metadata": {},
   "outputs": [],
   "source": [
    "a.map_dict['a'] = TrieNode()"
   ]
  },
  {
   "cell_type": "code",
   "execution_count": 22,
   "id": "03bde2fe-26a7-47d1-8848-3a774f82f308",
   "metadata": {},
   "outputs": [
    {
     "data": {
      "text/plain": [
       "dict_keys(['a'])"
      ]
     },
     "execution_count": 22,
     "metadata": {},
     "output_type": "execute_result"
    }
   ],
   "source": [
    "a.map_dict.keys()"
   ]
  },
  {
   "cell_type": "code",
   "execution_count": 23,
   "id": "b8d4d460-a083-40c7-b2dd-f0bc4d9e3422",
   "metadata": {},
   "outputs": [
    {
     "data": {
      "text/plain": [
       "dict_keys([])"
      ]
     },
     "execution_count": 23,
     "metadata": {},
     "output_type": "execute_result"
    }
   ],
   "source": [
    "a.map_dict['a'].map_dict.keys()"
   ]
  },
  {
   "cell_type": "code",
   "execution_count": 12,
   "id": "66dd6c2f-a520-4cd7-bd68-638b147981a7",
   "metadata": {},
   "outputs": [
    {
     "data": {
      "text/plain": [
       "{'a': <__main__.TrieNode at 0x261be6a70d0>}"
      ]
     },
     "execution_count": 12,
     "metadata": {},
     "output_type": "execute_result"
    }
   ],
   "source": [
    "a.map_dict['a'].map_dict"
   ]
  },
  {
   "cell_type": "code",
   "execution_count": 13,
   "id": "b2b945cc-c95d-46b9-9ea5-a932afdb0627",
   "metadata": {},
   "outputs": [
    {
     "data": {
      "text/plain": [
       "{'a': <__main__.TrieNode at 0x261be6a70d0>}"
      ]
     },
     "execution_count": 13,
     "metadata": {},
     "output_type": "execute_result"
    }
   ],
   "source": [
    "a.map_dict"
   ]
  },
  {
   "cell_type": "code",
   "execution_count": 15,
   "id": "069ef0d0-e249-44df-b103-2749c5e7d0c7",
   "metadata": {},
   "outputs": [],
   "source": [
    "a.map_dict['a'].map_dict['b'] = 'hello'"
   ]
  },
  {
   "cell_type": "code",
   "execution_count": 17,
   "id": "e076f47d-6bde-4e7c-86f9-ffab342dd1ba",
   "metadata": {},
   "outputs": [
    {
     "data": {
      "text/plain": [
       "dict_keys(['a', 'b'])"
      ]
     },
     "execution_count": 17,
     "metadata": {},
     "output_type": "execute_result"
    }
   ],
   "source": [
    "a.map_dict.keys()"
   ]
  },
  {
   "cell_type": "code",
   "execution_count": null,
   "id": "0507321a-8c4f-428c-9cf9-ac18a9e539c6",
   "metadata": {},
   "outputs": [],
   "source": [
    "# Definition for singly-linked list.\n",
    "from typing import Optional\n",
    "class ListNode:\n",
    "    def __init__(self, val=0, next=None):\n",
    "        self.val = val\n",
    "        self.next = next\n",
    "        \n",
    "class Solution:       \n",
    "    def reorderList(self, head: Optional[ListNode]) -> None:\n",
    "        \n",
    "        first = head\n",
    "        second = head.next\n",
    "        \n",
    "        if second is None:\n",
    "            return first\n",
    "        else:\n",
    "            while second.next is not None:\n",
    "                first = first.next\n",
    "                second = second.next.next\n",
    "        \n",
    "        second = first.next ## break the LL into two parts\n",
    "        first.next = None\n",
    "        \n",
    "        ## Now reverse second\n",
    "        prev = None\n",
    "        node = second\n",
    "        while node:\n",
    "            temp = node.next\n",
    "            node.next = prev\n",
    "            prev = node\n",
    "            node = temp\n",
    "        \n",
    "        first = head\n",
    "        second = prev\n",
    "        while second:\n",
    "            temp_1 = first.next\n",
    "            temp_2 = second.next\n",
    "            head.next = second\n",
    "            second.next = temp_1\n",
    "            first = temp_1\n",
    "            second = temp_2\n",
    "            \n",
    "            \n",
    "            \n",
    "        "
   ]
  },
  {
   "cell_type": "markdown",
   "id": "38444cf4-1533-4096-bf8c-a0972dcd1b82",
   "metadata": {},
   "source": [
    "https://leetcode.com/problems/permutation-in-string/\n",
    "Return True if s2 contains a permutation of s1"
   ]
  },
  {
   "cell_type": "code",
   "execution_count": 1,
   "id": "c0073cc2-a9df-4bcd-beae-2b9e1651d95b",
   "metadata": {},
   "outputs": [],
   "source": [
    "from collections import Counter\n",
    "class Solution:\n",
    "    def checkInclusion(self, s1: str, s2: str) -> bool:\n",
    "        \n",
    "        n1 = len(s1)\n",
    "        n2 = len(s2)\n",
    "        \n",
    "        if n1>n2:\n",
    "            return False\n",
    "        \n",
    "        count_dict_n1 = dict(Counter(s1))\n",
    "        \n",
    "        for i in range(0, n2):\n",
    "            if (i+n1)>n2:\n",
    "                return False\n",
    "            s2_sub_string = s2[i : (i + n1)]\n",
    "            if dict(Counter(s2))--count_dict_n1:\n",
    "                return True\n",
    "            else:\n",
    "                return False\n",
    "                "
   ]
  },
  {
   "cell_type": "code",
   "execution_count": 32,
   "id": "2f666336-044c-4ef2-9286-d366ec9a8494",
   "metadata": {},
   "outputs": [],
   "source": [
    "from typing import List\n",
    "class Solution:\n",
    "    \n",
    "    def is_palindrome(self, x):\n",
    "        if x==\"\":\n",
    "            return False\n",
    "        if x==x[::-1]:\n",
    "            return True\n",
    "        else:\n",
    "            return False\n",
    "        \n",
    "    def partition(self, s: str) -> List[List[str]]:\n",
    "        \n",
    "        output = []\n",
    "        n = len(s)\n",
    "        \n",
    "        \n",
    "        def dfs(i, curr_list, st):\n",
    "            print(i, curr_list, st)\n",
    "            \n",
    "            if (i==(n-1)):\n",
    "                st = st + s[i]\n",
    "                if self.is_palindrome(st):\n",
    "                    curr_list.append(st)\n",
    "                    output.append(curr_list.copy())\n",
    "                    curr_list.pop()\n",
    "                else:\n",
    "                    pass\n",
    "                print(\"output\", output)\n",
    "                return\n",
    "            \n",
    "            st = st + s[i]\n",
    "            print(\"before is_palindrome\", st)\n",
    "            if self.is_palindrome(st):\n",
    "                ## split string\n",
    "                print(\"inside is_palidrome\",i)\n",
    "                curr_list.append(st)\n",
    "                dfs(i+1, curr_list, \"\" )\n",
    "                print(\"inside is_palidrome after dfs\",i)\n",
    "                curr_list.pop()\n",
    "            ## whether palindrome or not a palindrome - don't pop\n",
    "            print(\"outside is_palidrome\", i, st, curr_list)\n",
    "            dfs(i+1, curr_list, st)\n",
    "\n",
    "        \n",
    "        dfs(0, [], \"\")\n",
    "        \n",
    "        return output\n",
    "        \n",
    "        \n",
    "        "
   ]
  },
  {
   "cell_type": "code",
   "execution_count": 33,
   "id": "6faf9219-d3f9-4486-a868-4059a950f579",
   "metadata": {},
   "outputs": [],
   "source": [
    "a = Solution()"
   ]
  },
  {
   "cell_type": "code",
   "execution_count": 34,
   "id": "e4ff0cd7-5ee6-4112-86ce-19464d5abfec",
   "metadata": {},
   "outputs": [
    {
     "name": "stdout",
     "output_type": "stream",
     "text": [
      "0 [] \n",
      "before is_palindrome a\n",
      "inside is_palidrome 0\n",
      "1 ['a'] \n",
      "before is_palindrome a\n",
      "inside is_palidrome 1\n",
      "2 ['a', 'a'] \n",
      "output [['a', 'a', 'b']]\n",
      "inside is_palidrome after dfs 1\n",
      "outside is_palidrome 1 a ['a']\n",
      "2 ['a'] a\n",
      "output [['a', 'a', 'b']]\n",
      "inside is_palidrome after dfs 0\n",
      "outside is_palidrome 0 a []\n",
      "1 [] a\n",
      "before is_palindrome aa\n",
      "inside is_palidrome 1\n",
      "2 ['aa'] \n",
      "output [['a', 'a', 'b'], ['aa', 'b']]\n",
      "inside is_palidrome after dfs 1\n",
      "outside is_palidrome 1 aa []\n",
      "2 [] aa\n",
      "output [['a', 'a', 'b'], ['aa', 'b']]\n"
     ]
    },
    {
     "data": {
      "text/plain": [
       "[['a', 'a', 'b'], ['aa', 'b']]"
      ]
     },
     "execution_count": 34,
     "metadata": {},
     "output_type": "execute_result"
    }
   ],
   "source": [
    "a.partition('aab')"
   ]
  },
  {
   "cell_type": "code",
   "execution_count": null,
   "id": "e11c2810-32fe-4302-ab32-8f3c86abcfa1",
   "metadata": {},
   "outputs": [],
   "source": []
  }
 ],
 "metadata": {
  "kernelspec": {
   "display_name": "Python 3",
   "language": "python",
   "name": "python3"
  },
  "language_info": {
   "codemirror_mode": {
    "name": "ipython",
    "version": 3
   },
   "file_extension": ".py",
   "mimetype": "text/x-python",
   "name": "python",
   "nbconvert_exporter": "python",
   "pygments_lexer": "ipython3",
   "version": "3.8.8"
  }
 },
 "nbformat": 4,
 "nbformat_minor": 5
}
