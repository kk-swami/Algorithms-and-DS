{
 "cells": [
  {
   "cell_type": "markdown",
   "id": "598eafe8-7e5a-4333-8802-ebf42d402536",
   "metadata": {},
   "source": [
    "https://leetcode.com/problems/daily-temperatures/\n",
    "\n"
   ]
  },
  {
   "cell_type": "code",
   "execution_count": 13,
   "id": "520617ef-9c7d-4b18-91de-957516ce023d",
   "metadata": {},
   "outputs": [],
   "source": [
    "from typing import List\n",
    "class Solution:\n",
    "    def dailyTemperatures(self, temperatures: List[int]) -> List[int]:\n",
    "        n = len(temperatures)\n",
    "        output = [0]*n\n",
    "        stack = []\n",
    "        for i in range(n):\n",
    "            print(i, temperatures[i])\n",
    "            if not stack:\n",
    "                stack.append([i, temperatures[i]])\n",
    "                print(\"stack normal init\", stack)\n",
    "            else:\n",
    "                if temperatures[i]<=stack[-1][1]:\n",
    "                    stack.append([i, temperatures[i] ])\n",
    "                    print(\"stack normal\", stack)\n",
    "                    \n",
    "                else:\n",
    "                    while (stack) and (temperatures[i] >= stack[-1][1]):\n",
    "                        output[stack[-1][0]] = i - stack[-1][0]\n",
    "                        print(\"output\", output)\n",
    "                        print(\"stack before\", stack)\n",
    "                        stack.pop()\n",
    "                        print(\"stack after\", stack)\n",
    "                    stack.append([i, temperatures[i] ])\n",
    "        return output\n",
    "                        \n",
    "                        "
   ]
  },
  {
   "cell_type": "code",
   "execution_count": 14,
   "id": "bce940d0-ee18-4de9-8186-022a4ddde506",
   "metadata": {},
   "outputs": [],
   "source": [
    "a = Solution()"
   ]
  },
  {
   "cell_type": "markdown",
   "id": "2784412d-0e3e-48f8-9e50-2dade7d6a8fe",
   "metadata": {},
   "source": [
    "temperatures = [73,74,75,71,69,72,76,73]\n",
    "a.dailyTemperatures(temperatures)"
   ]
  },
  {
   "cell_type": "markdown",
   "id": "39d71980-e641-453b-8277-2e8f6b1fb4fc",
   "metadata": {},
   "source": [
    "https://leetcode.com/problems/next-permutation/"
   ]
  },
  {
   "cell_type": "code",
   "execution_count": 67,
   "id": "4843867e-7c14-49dc-ba5d-19d423e03c66",
   "metadata": {},
   "outputs": [],
   "source": [
    "class Solution:\n",
    "    def nextPermutation(self, nums: List[int]) -> None:\n",
    "        \n",
    "        def swap(i, j):\n",
    "            temp = nums[j]\n",
    "            nums[j] = nums[i]\n",
    "            nums[i] = temp\n",
    "            \n",
    "        def reverse(beg, end):\n",
    "            while beg <= end:\n",
    "                swap(beg, end)\n",
    "                beg = beg + 1\n",
    "                end = end - 1\n",
    "                \n",
    "        n = len(nums)\n",
    "        found = False\n",
    "        for i in range(n-1,0,-1):\n",
    "            if nums[i]>nums[i-1]: ## a break\n",
    "                reverse(i, n-1)\n",
    "  \n",
    "                max_index = i\n",
    "                for k in range(i, n, 1):\n",
    "                    if nums[k]>nums[i-1]:\n",
    "                        max_index = k\n",
    "                        print(max_index)\n",
    "                        print(nums[max_index])\n",
    "                        break\n",
    "                swap(i-1, max_index)\n",
    "                found = True\n",
    "                break\n",
    "\n",
    "        if found==False: ## list in descending order\n",
    "            nums.sort()\n",
    "        return nums\n",
    "                    \n",
    "                    "
   ]
  },
  {
   "cell_type": "code",
   "execution_count": 68,
   "id": "26813062-d0d8-44ce-bb9d-973f4c67cc01",
   "metadata": {},
   "outputs": [],
   "source": [
    "b = Solution()"
   ]
  },
  {
   "cell_type": "code",
   "execution_count": 46,
   "id": "d6eac83c-b204-4894-8100-58d00e17280b",
   "metadata": {},
   "outputs": [],
   "source": []
  },
  {
   "cell_type": "code",
   "execution_count": 70,
   "id": "1ca19116-491c-4d5e-a549-9f06be8f670c",
   "metadata": {},
   "outputs": [],
   "source": []
  },
  {
   "cell_type": "code",
   "execution_count": null,
   "id": "b630329b-0fba-4aa3-82d2-a7a4dd662177",
   "metadata": {},
   "outputs": [],
   "source": [
    "[1,7,3,8,9,9]"
   ]
  },
  {
   "cell_type": "code",
   "execution_count": 71,
   "id": "1ee888dd-2e0e-4def-8138-1fc083598b32",
   "metadata": {},
   "outputs": [
    {
     "name": "stdout",
     "output_type": "stream",
     "text": [
      "inside 2\n",
      "after reversing\n",
      "[1, 7, 3, 8, 9, 9]\n",
      "3\n",
      "8\n"
     ]
    },
    {
     "data": {
      "text/plain": [
       "[1, 8, 3, 7, 9, 9]"
      ]
     },
     "execution_count": 71,
     "metadata": {},
     "output_type": "execute_result"
    }
   ],
   "source": [
    "b.nextPermutation(numbers)"
   ]
  },
  {
   "cell_type": "markdown",
   "id": "ae08eecd-e421-4a68-a246-26e494027696",
   "metadata": {},
   "source": [
    "## merge sort implementation"
   ]
  },
  {
   "cell_type": "code",
   "execution_count": 7,
   "id": "7ae60676-5bd8-4250-8928-be247d3350ff",
   "metadata": {},
   "outputs": [
    {
     "data": {
      "text/plain": [
       "2"
      ]
     },
     "execution_count": 7,
     "metadata": {},
     "output_type": "execute_result"
    }
   ],
   "source": [
    "5//2"
   ]
  },
  {
   "cell_type": "code",
   "execution_count": 28,
   "id": "58dccc16-232c-4319-bdb9-55a3ce28e8dc",
   "metadata": {},
   "outputs": [],
   "source": [
    "def merge(left, right, l):\n",
    "    print(\"inside merge\")\n",
    "    print(\"inside merge left\", left)\n",
    "    print(\"inside merge right\", right)\n",
    "    n_left = len(left)\n",
    "    n_right = len(right)\n",
    "    n = len(l)\n",
    "    \n",
    "    i_l = i_r = i = 0\n",
    "    \n",
    "    if n_left==0: \n",
    "        print(\"merge output\", right)\n",
    "        return right\n",
    "    if n_right==0:\n",
    "        print(\"merge output\", left)\n",
    "        return left\n",
    "    \n",
    "    output = l[:]\n",
    "    while (i_l < n_left) and (i_r < n_right) and (i < n):\n",
    "        if left[i_l] < right[i_r]:\n",
    "            output[i] = left[i_l]\n",
    "            i_l = i_l + 1\n",
    "            i = i + 1\n",
    "        else:\n",
    "            output[i] = right[i_r]\n",
    "            i_r = i_r + 1\n",
    "            i = i + 1\n",
    "    if (i_l < n_left) and (i < n): ## right finished\n",
    "        while (i_l < n_left) and (i < n):\n",
    "            output[i] = left[i_l]\n",
    "            i_l = i_l + 1\n",
    "            i = i + 1\n",
    "    if (i_r < n_right) and (i < n): ## right finished\n",
    "        while (i_r < n_right) and (i < n):\n",
    "            output[i] = right[i_r]\n",
    "            i_r = i_r + 1\n",
    "            i = i + 1            \n",
    "    print(\"merge output\", output)\n",
    "    return output\n",
    "\n",
    "def merge_sort(l):\n",
    "    n = len(l)\n",
    "    if n<=1:\n",
    "        return l\n",
    "    left = l[0:(n//2)]\n",
    "    right = l[(n//2):]\n",
    "    left = merge_sort(left)\n",
    "    right = merge_sort(right)\n",
    "    print(\"left\", left)\n",
    "    print(\"right\", right)\n",
    "    output = merge(left, right, l)\n",
    "    return output\n"
   ]
  },
  {
   "cell_type": "code",
   "execution_count": 30,
   "id": "4f6c7a0e-a3d3-43dd-8ff3-82cd04c75de7",
   "metadata": {},
   "outputs": [
    {
     "name": "stdout",
     "output_type": "stream",
     "text": [
      "left [5]\n",
      "right [4]\n",
      "inside merge\n",
      "inside merge left [5]\n",
      "inside merge right [4]\n",
      "merge output [4, 5]\n",
      "left [2]\n",
      "right [0]\n",
      "inside merge\n",
      "inside merge left [2]\n",
      "inside merge right [0]\n",
      "merge output [0, 2]\n",
      "left [1]\n",
      "right [0, 2]\n",
      "inside merge\n",
      "inside merge left [1]\n",
      "inside merge right [0, 2]\n",
      "merge output [0, 1, 2]\n",
      "left [4, 5]\n",
      "right [0, 1, 2]\n",
      "inside merge\n",
      "inside merge left [4, 5]\n",
      "inside merge right [0, 1, 2]\n",
      "merge output [0, 1, 2, 4, 5]\n"
     ]
    }
   ],
   "source": [
    "aa = merge_sort([5,4,1,2,0])"
   ]
  },
  {
   "cell_type": "code",
   "execution_count": 31,
   "id": "cf869acf-e303-4c6e-9bc3-0a58f5c9c70a",
   "metadata": {},
   "outputs": [
    {
     "data": {
      "text/plain": [
       "[0, 1, 2, 4, 5]"
      ]
     },
     "execution_count": 31,
     "metadata": {},
     "output_type": "execute_result"
    }
   ],
   "source": [
    "aa"
   ]
  },
  {
   "cell_type": "markdown",
   "id": "ef6cff74-cf79-4494-a85c-e6faba655511",
   "metadata": {},
   "source": [
    "https://leetcode.com/problems/subarray-product-less-than-k/"
   ]
  },
  {
   "cell_type": "markdown",
   "id": "746f1845-aacf-4856-baa3-1199a978dfb4",
   "metadata": {},
   "source": [
    "Given an array of integers nums and an integer k, return the number of contiguous subarrays where the product of all the elements in the subarray is strictly less than k"
   ]
  },
  {
   "cell_type": "code",
   "execution_count": 23,
   "id": "8f9481db-14e2-4119-87ff-580a60eb25df",
   "metadata": {},
   "outputs": [],
   "source": [
    "from typing import List\n",
    "class Solution:\n",
    "    def numSubarrayProductLessThanK(self, nums: List[int], k: int) -> int:\n",
    "        n = len(nums)\n",
    "        product = 1\n",
    "        output = 0\n",
    "        left_index = 0\n",
    "        for right_index, val in enumerate(nums):\n",
    "            product = product*val\n",
    "            \n",
    "            while (product >= k):\n",
    "                product = product/nums[left_index]\n",
    "                left_index = left_index + 1\n",
    "            output = output + (right_index-left_index) + 1\n",
    "        return output\n",
    "            \n",
    "            \n",
    "                \n",
    "            \n",
    "\n",
    "                    \n",
    "                \n",
    "                    \n",
    "        \n",
    "        "
   ]
  },
  {
   "cell_type": "code",
   "execution_count": 24,
   "id": "0bec8ba8-1fe6-4b48-b555-585b77173292",
   "metadata": {},
   "outputs": [],
   "source": [
    "a = Solution()"
   ]
  },
  {
   "cell_type": "code",
   "execution_count": 27,
   "id": "0d85b5e6-3cc5-49e6-b1d8-361a84f12708",
   "metadata": {},
   "outputs": [
    {
     "data": {
      "text/plain": [
       "5"
      ]
     },
     "execution_count": 27,
     "metadata": {},
     "output_type": "execute_result"
    }
   ],
   "source": [
    "a.numSubarrayProductLessThanK([10,5,4], 100)"
   ]
  },
  {
   "cell_type": "code",
   "execution_count": 39,
   "id": "de43538e-768f-4c42-b60e-715623cf48ec",
   "metadata": {},
   "outputs": [],
   "source": [
    "class Solution:\n",
    "    def nextPermutation(self, nums: List[int]) -> None:\n",
    "        n = len(nums)\n",
    "        \n",
    "        def swap(i, j):\n",
    "            temp = nums[i]\n",
    "            nums[i] = nums[j]\n",
    "            nums[j] = temp\n",
    "            \n",
    "        def reverse(i, j):\n",
    "            \n",
    "            while (i <= j):\n",
    "                swap(i, j)\n",
    "                i = i + 1\n",
    "                j = j - 1\n",
    "                \n",
    "        \n",
    "        found_value = False\n",
    "        print(\"nums before\", nums)\n",
    "        for k in range(n-1, 0, -1):\n",
    "            if nums[k-1]<nums[k]:\n",
    "                found_value = True\n",
    "                for m in range(k, n):\n",
    "                    if nums[m]>nums[k-1]:\n",
    "                        val = m\n",
    "                swap(k-1, val)\n",
    "                print(\"nums after swapping\", nums)\n",
    "                reverse(k,n-1)\n",
    "                break\n",
    "        if not found_value:\n",
    "            reverse(0, n-1)\n",
    "        return nums\n",
    "                \n",
    "                \n",
    "            \n",
    "        "
   ]
  },
  {
   "cell_type": "code",
   "execution_count": 40,
   "id": "f47bfe83-ff40-4070-8c4e-b06924ae9956",
   "metadata": {},
   "outputs": [],
   "source": [
    "a = Solution()\n",
    "\n",
    "\n"
   ]
  },
  {
   "cell_type": "code",
   "execution_count": 43,
   "id": "e3808dd2-7630-48e8-86ba-c80113a97bf7",
   "metadata": {},
   "outputs": [],
   "source": [
    "numbers = [1,2,7,9,6,4,1]\n",
    "## numbers = [1,7,9,9,8,3]"
   ]
  },
  {
   "cell_type": "code",
   "execution_count": 46,
   "id": "bb766a65-75cc-4946-aef6-7ce0323965bc",
   "metadata": {},
   "outputs": [
    {
     "name": "stdout",
     "output_type": "stream",
     "text": [
      "nums before [3, 2, 1]\n"
     ]
    },
    {
     "data": {
      "text/plain": [
       "[1, 2, 3]"
      ]
     },
     "execution_count": 46,
     "metadata": {},
     "output_type": "execute_result"
    }
   ],
   "source": [
    "a.nextPermutation([3,2,1])"
   ]
  },
  {
   "cell_type": "code",
   "execution_count": null,
   "id": "07ca8728-f532-481f-8e5d-fa500f6950c2",
   "metadata": {},
   "outputs": [],
   "source": [
    "left_index = 1\n",
    "right_index = 2\n",
    "product = 10\n",
    "\n",
    "\n",
    "[5,2]\n",
    "[2]\n",
    "\n",
    "\n"
   ]
  },
  {
   "cell_type": "markdown",
   "id": "9bf8ec1a-57d8-4e1d-bc87-c49c86181cc4",
   "metadata": {},
   "source": [
    "## Game of Life"
   ]
  },
  {
   "cell_type": "markdown",
   "id": "bd4ddc29-4b3c-42c7-b46c-6d06d486e13c",
   "metadata": {},
   "source": [
    "https://leetcode.com/problems/game-of-life/\n",
    "\n",
    "According to Wikipedia's article: \"The Game of Life, also known simply as Life, is a cellular automaton devised by the British mathematician John Horton Conway in 1970.\"\n",
    "\n",
    "The board is made up of an m x n grid of cells, where each cell has an initial state: live (represented by a 1) or dead (represented by a 0). Each cell interacts with its eight neighbors (horizontal, vertical, diagonal) using the following four rules (taken from the above Wikipedia article):\n",
    "\n",
    "Any live cell with fewer than two live neighbors dies as if caused by under-population.\n",
    "Any live cell with two or three live neighbors lives on to the next generation.\n",
    "Any live cell with more than three live neighbors dies, as if by over-population.\n",
    "Any dead cell with exactly three live neighbors becomes a live cell, as if by reproduction.\n",
    "The next state is created by applying the above rules simultaneously to every cell in the current state, where births and deaths occur simultaneously. Given the current state of the m x n grid board, return the next state.\n"
   ]
  },
  {
   "cell_type": "code",
   "execution_count": 9,
   "id": "00e9dd42-c659-4f15-a9e1-d38fab1873d9",
   "metadata": {},
   "outputs": [],
   "source": [
    "from typing import List\n",
    "class Solution:\n",
    "    def gameOfLife(self, board: List[List[int]]) -> None:\n",
    "        \"\"\"\n",
    "        Do not return anything, modify board in-place instead.\n",
    "        \"\"\"\n",
    "        m, n = len(board), len(board[0])\n",
    "        \n",
    "        for i in range(0, m):\n",
    "            for j in range(0, n):\n",
    "                board[i][j] = [board[i][j], -1] ## creating a tuple, first entry is old value, second is new\n",
    "                \n",
    "        for i in range(0, m):\n",
    "            for j in range(0, n):\n",
    "                if board[i][j][0]==1: ## live cell\n",
    "                    number_of_live_neighbours = 0\n",
    "                    for k in range(i-1, i+2):\n",
    "                        for l in range(j-1, j+2):\n",
    "                            if (k >= 0) and (l >=0) and (k < m) and (l < n):\n",
    "                                if (k==i) and (l==j):\n",
    "                                    pass\n",
    "                                else:\n",
    "                                    if board[k][l][0]==1:\n",
    "                                        number_of_live_neighbours = number_of_live_neighbours + 1\n",
    "                    if number_of_live_neighbours in [2,3]:\n",
    "                        board[i][j][1] = 1\n",
    "                    else:\n",
    "                        board[i][j][1] = 0\n",
    "                        \n",
    "                    \n",
    "                else: ## dead cell\n",
    "                    number_of_live_neighbours = 0\n",
    "                    for k in range(i-1, i+2):\n",
    "                        for l in range(j-1, j+2):\n",
    "                            if (k >= 0) and (l >=0) and (k < m) and (l < n):\n",
    "                                if (k==i) and (l==j):\n",
    "                                    pass\n",
    "                                else:\n",
    "                                    if board[k][l][0]==1:\n",
    "                                        number_of_live_neighbours = number_of_live_neighbours + 1\n",
    "                    if number_of_live_neighbours in [3]:\n",
    "                        board[i][j][1] = 1\n",
    "                    else:\n",
    "                        board[i][j][1] = 0\n",
    "                    \n",
    " \n",
    "        for i in range(0, m):\n",
    "            for j in range(0, n):\n",
    "                board[i][j] = board[i][j][1] ## assigning to new value\n",
    "        return board\n",
    "                \n",
    "        "
   ]
  },
  {
   "cell_type": "code",
   "execution_count": 10,
   "id": "e2000e68-91a6-44f0-881e-83e5f25339b1",
   "metadata": {},
   "outputs": [],
   "source": [
    "a = Solution()"
   ]
  },
  {
   "cell_type": "code",
   "execution_count": 11,
   "id": "8fd3089a-aa4e-4ef1-a7da-ab0b9e021fdf",
   "metadata": {},
   "outputs": [],
   "source": [
    "board = [[0,1,0],[0,0,1],[1,1,1],[0,0,0]]"
   ]
  },
  {
   "cell_type": "code",
   "execution_count": 12,
   "id": "0a4b9c64-21e9-41f2-9d08-8719dc18ac7e",
   "metadata": {},
   "outputs": [
    {
     "data": {
      "text/plain": [
       "[[0, 0, 0], [1, 0, 1], [0, 1, 1], [0, 1, 0]]"
      ]
     },
     "execution_count": 12,
     "metadata": {},
     "output_type": "execute_result"
    }
   ],
   "source": [
    "a.gameOfLife(board)"
   ]
  },
  {
   "cell_type": "markdown",
   "id": "214b55d2-0709-41f6-9d29-06f6f35059e7",
   "metadata": {},
   "source": [
    "## Plus One"
   ]
  },
  {
   "cell_type": "markdown",
   "id": "a0c2d2b7-18fa-4487-b357-828b09853fba",
   "metadata": {},
   "source": [
    "https://leetcode.com/problems/plus-one/\n",
    "\n",
    "You are given a large integer represented as an integer array digits, where each digits[i] is the ith digit of the integer. The digits are ordered from most significant to least significant in left-to-right order. The large integer does not contain any leading 0's.\n",
    "\n",
    "Increment the large integer by one and return the resulting array of digits.\n",
    "\n",
    " \n",
    "\n",
    "Example 1:\n",
    "\n",
    "Input: digits = [1,2,3]\n",
    "Output: [1,2,4]\n",
    "Explanation: The array represents the integer 123.\n",
    "Incrementing by one gives 123 + 1 = 124.\n",
    "Thus, the result should be [1,2,4]."
   ]
  },
  {
   "cell_type": "code",
   "execution_count": 24,
   "id": "89e3b7c5-e7d9-4335-902a-e50653983b49",
   "metadata": {},
   "outputs": [],
   "source": [
    "class Solution:\n",
    "    def plusOne(self, digits: List[int]) -> List[int]:\n",
    "        number = str(int(str(\"\".join([str(x) for x in digits]))) + 1)\n",
    "        outlist = []\n",
    "        for i in number:\n",
    "            outlist.append(int(i))\n",
    "        return outlist\n",
    "        "
   ]
  },
  {
   "cell_type": "code",
   "execution_count": 25,
   "id": "1b02adbd-dc21-4443-b3d9-5631149b4477",
   "metadata": {},
   "outputs": [],
   "source": [
    "a = Solution()"
   ]
  },
  {
   "cell_type": "code",
   "execution_count": 27,
   "id": "8fb9bb33-6704-46f1-9539-0e9dd4af9315",
   "metadata": {},
   "outputs": [],
   "source": [
    "digits = [9,9,9]"
   ]
  },
  {
   "cell_type": "code",
   "execution_count": 28,
   "id": "ddea32ee-27c8-4597-88f2-3833bb0fed77",
   "metadata": {},
   "outputs": [
    {
     "data": {
      "text/plain": [
       "[1, 0, 0, 0]"
      ]
     },
     "execution_count": 28,
     "metadata": {},
     "output_type": "execute_result"
    }
   ],
   "source": [
    "a.plusOne(digits)"
   ]
  },
  {
   "cell_type": "code",
   "execution_count": 18,
   "id": "ae74952f-1963-4c03-b73e-260c1e329114",
   "metadata": {},
   "outputs": [
    {
     "data": {
      "text/plain": [
       "[4, 3, 2, 1]"
      ]
     },
     "execution_count": 18,
     "metadata": {},
     "output_type": "execute_result"
    }
   ],
   "source": [
    "digits"
   ]
  },
  {
   "cell_type": "code",
   "execution_count": 19,
   "id": "a1c40372-5482-4ed5-885b-23958659b03b",
   "metadata": {},
   "outputs": [
    {
     "ename": "TypeError",
     "evalue": "sequence item 0: expected str instance, int found",
     "output_type": "error",
     "traceback": [
      "\u001b[1;31m---------------------------------------------------------------------------\u001b[0m",
      "\u001b[1;31mTypeError\u001b[0m                                 Traceback (most recent call last)",
      "\u001b[1;32m<ipython-input-19-960fceb10c65>\u001b[0m in \u001b[0;36m<module>\u001b[1;34m\u001b[0m\n\u001b[1;32m----> 1\u001b[1;33m \u001b[1;34m\"\"\u001b[0m\u001b[1;33m.\u001b[0m\u001b[0mjoin\u001b[0m\u001b[1;33m(\u001b[0m\u001b[0mdigits\u001b[0m\u001b[1;33m)\u001b[0m\u001b[1;33m\u001b[0m\u001b[1;33m\u001b[0m\u001b[0m\n\u001b[0m",
      "\u001b[1;31mTypeError\u001b[0m: sequence item 0: expected str instance, int found"
     ]
    }
   ],
   "source": [
    "\"\".join(digits)"
   ]
  },
  {
   "cell_type": "markdown",
   "id": "6511aff1-9dc9-4ca5-908c-0b2dbef7b970",
   "metadata": {},
   "source": [
    "https://leetcode.com/problems/add-two-numbers/"
   ]
  },
  {
   "cell_type": "code",
   "execution_count": 29,
   "id": "c3cfea05-71f1-4e66-85d5-64df0cc73828",
   "metadata": {},
   "outputs": [],
   "source": [
    "class ListNode:\n",
    "    def __init__(self, val=0, next=None):\n",
    "        self.val = val\n",
    "        self.next = next"
   ]
  },
  {
   "cell_type": "code",
   "execution_count": 34,
   "id": "5168d0ad-bcfa-4552-b162-8f6a4456b5fd",
   "metadata": {},
   "outputs": [],
   "source": [
    "head = ListNode(val = 3)\n",
    "for i in [4,2]:\n",
    "    temp = ListNode(val = i, next = head)\n",
    "    head = temp\n",
    "    "
   ]
  },
  {
   "cell_type": "code",
   "execution_count": 46,
   "id": "84a682fd-f0a8-4cef-9eb3-c3a5f9293090",
   "metadata": {},
   "outputs": [],
   "source": [
    "def convert_ll_to_int(l):\n",
    "\n",
    "    s = \"\"\n",
    "    while l is not None:\n",
    "        s = s + str(l.val)\n",
    "        l = l.next\n",
    "    return int(s)"
   ]
  },
  {
   "cell_type": "code",
   "execution_count": 74,
   "id": "0c8ee428-eef6-4e6d-9c91-e979132cdd8c",
   "metadata": {},
   "outputs": [],
   "source": [
    "from typing import Optional\n",
    "class Solution:\n",
    "    def addTwoNumbers(self, l1: Optional[ListNode], l2: Optional[ListNode]) -> Optional[ListNode]:\n",
    "        \n",
    "        def convert_ll_to_int(l):\n",
    "            \n",
    "            s = \"\"\n",
    "            while l is not None:\n",
    "                s = s + str(l.val)\n",
    "                l = l.next\n",
    "            return int(s)\n",
    "        \n",
    "        def convert_int_to_ll(num):\n",
    "            \n",
    "            num = str(num)\n",
    "            head = ListNode(val = int(num[0]))\n",
    "            for i in list(num)[1:]:\n",
    "                temp = ListNode(val = int(i))\n",
    "                temp.next = head\n",
    "                head = temp\n",
    "            return head\n",
    "        \n",
    "        return convert_int_to_ll(convert_ll_to_int(l1) + convert_ll_to_int(l2))"
   ]
  },
  {
   "cell_type": "code",
   "execution_count": 47,
   "id": "c2aa870a-2371-4599-8071-ad4599bc4258",
   "metadata": {},
   "outputs": [
    {
     "data": {
      "text/plain": [
       "243"
      ]
     },
     "execution_count": 47,
     "metadata": {},
     "output_type": "execute_result"
    }
   ],
   "source": [
    "convert_ll_to_int(head)"
   ]
  },
  {
   "cell_type": "code",
   "execution_count": 43,
   "id": "a1c9f5ed-00f2-472c-931e-7fdac3d5ea10",
   "metadata": {},
   "outputs": [
    {
     "data": {
      "text/plain": [
       "4"
      ]
     },
     "execution_count": 43,
     "metadata": {},
     "output_type": "execute_result"
    }
   ],
   "source": [
    "head.next.val"
   ]
  },
  {
   "cell_type": "code",
   "execution_count": 48,
   "id": "8aa8766b-5490-467a-98e9-be5f7ddd2659",
   "metadata": {},
   "outputs": [],
   "source": [
    "b = '123'"
   ]
  },
  {
   "cell_type": "code",
   "execution_count": 76,
   "id": "1d4ebb32-042b-4c0b-9bff-5214c3566578",
   "metadata": {},
   "outputs": [
    {
     "data": {
      "text/plain": [
       "{(0, 1, 0)}"
      ]
     },
     "execution_count": 76,
     "metadata": {},
     "output_type": "execute_result"
    }
   ],
   "source": [
    "set([(0,1,0), (0,1,0)])"
   ]
  },
  {
   "cell_type": "code",
   "execution_count": 59,
   "id": "814f64e5-ce28-489e-a6bb-85b4b6351936",
   "metadata": {},
   "outputs": [
    {
     "data": {
      "text/plain": [
       "'321'"
      ]
     },
     "execution_count": 59,
     "metadata": {},
     "output_type": "execute_result"
    }
   ],
   "source": [
    "b[::-1]"
   ]
  },
  {
   "cell_type": "code",
   "execution_count": 78,
   "id": "44f21600-bf24-4dd5-9e80-eb4a15fc8fd2",
   "metadata": {},
   "outputs": [
    {
     "data": {
      "text/plain": [
       "(1, 2, 3)"
      ]
     },
     "execution_count": 78,
     "metadata": {},
     "output_type": "execute_result"
    }
   ],
   "source": [
    "tuple([1,2,3])"
   ]
  },
  {
   "cell_type": "code",
   "execution_count": 64,
   "id": "e7465209-5cfd-414d-bbad-0e6e403f9f40",
   "metadata": {},
   "outputs": [],
   "source": [
    "def convert_int_to_ll(num):\n",
    "\n",
    "    num_reverse = str(num)[::-1]\n",
    "    head = ListNode(val = int(num_reverse[0]))\n",
    "    for i in list(num_reverse)[1:]:\n",
    "        temp = ListNode(val = int(i))\n",
    "        temp.next = head\n",
    "        head = temp\n",
    "    return head"
   ]
  },
  {
   "cell_type": "code",
   "execution_count": 71,
   "id": "ed7b1976-8a98-4f3c-9aa8-7a3e81acfe0a",
   "metadata": {},
   "outputs": [],
   "source": [
    "bb = convert_int_to_ll(708)"
   ]
  },
  {
   "cell_type": "code",
   "execution_count": 72,
   "id": "07371668-6866-4cfd-a0f2-d97444be03e5",
   "metadata": {},
   "outputs": [
    {
     "data": {
      "text/plain": [
       "7"
      ]
     },
     "execution_count": 72,
     "metadata": {},
     "output_type": "execute_result"
    }
   ],
   "source": [
    "bb.val"
   ]
  },
  {
   "cell_type": "code",
   "execution_count": 70,
   "id": "e0cee3ab-4b6d-4fee-9067-04a74cddd582",
   "metadata": {},
   "outputs": [
    {
     "ename": "AttributeError",
     "evalue": "'NoneType' object has no attribute 'val'",
     "output_type": "error",
     "traceback": [
      "\u001b[1;31m---------------------------------------------------------------------------\u001b[0m",
      "\u001b[1;31mAttributeError\u001b[0m                            Traceback (most recent call last)",
      "\u001b[1;32m<ipython-input-70-c5b80291bd5c>\u001b[0m in \u001b[0;36m<module>\u001b[1;34m\u001b[0m\n\u001b[1;32m----> 1\u001b[1;33m \u001b[0mbb\u001b[0m\u001b[1;33m.\u001b[0m\u001b[0mnext\u001b[0m\u001b[1;33m.\u001b[0m\u001b[0mnext\u001b[0m\u001b[1;33m.\u001b[0m\u001b[0mnext\u001b[0m\u001b[1;33m.\u001b[0m\u001b[0mval\u001b[0m\u001b[1;33m\u001b[0m\u001b[1;33m\u001b[0m\u001b[0m\n\u001b[0m",
      "\u001b[1;31mAttributeError\u001b[0m: 'NoneType' object has no attribute 'val'"
     ]
    }
   ],
   "source": [
    "bb.next.next.next.val"
   ]
  },
  {
   "cell_type": "code",
   "execution_count": 79,
   "id": "415203ab-7566-4ed1-baf0-57153d635f32",
   "metadata": {},
   "outputs": [],
   "source": [
    "l = [3,2,1]"
   ]
  },
  {
   "cell_type": "code",
   "execution_count": 80,
   "id": "8bfbd9bb-f274-4f07-88f7-6aab999ad028",
   "metadata": {},
   "outputs": [
    {
     "ename": "TypeError",
     "evalue": "'NoneType' object is not iterable",
     "output_type": "error",
     "traceback": [
      "\u001b[1;31m---------------------------------------------------------------------------\u001b[0m",
      "\u001b[1;31mTypeError\u001b[0m                                 Traceback (most recent call last)",
      "\u001b[1;32m<ipython-input-80-48e9e9b31804>\u001b[0m in \u001b[0;36m<module>\u001b[1;34m\u001b[0m\n\u001b[1;32m----> 1\u001b[1;33m \u001b[0mtuple\u001b[0m\u001b[1;33m(\u001b[0m\u001b[0ml\u001b[0m\u001b[1;33m.\u001b[0m\u001b[0msort\u001b[0m\u001b[1;33m(\u001b[0m\u001b[1;33m)\u001b[0m\u001b[1;33m)\u001b[0m\u001b[1;33m\u001b[0m\u001b[1;33m\u001b[0m\u001b[0m\n\u001b[0m",
      "\u001b[1;31mTypeError\u001b[0m: 'NoneType' object is not iterable"
     ]
    }
   ],
   "source": [
    "tuple(l.sort())"
   ]
  },
  {
   "cell_type": "code",
   "execution_count": null,
   "id": "abf55419-0562-482b-ad7c-0a81c4de9556",
   "metadata": {},
   "outputs": [],
   "source": [
    "class Solution:\n",
    "    def threeSum(self, nums: List[int]) -> List[List[int]]:\n",
    "        n = len(nums)\n",
    "        first_dict = {}\n",
    "        output = []\n",
    "        \n",
    "        for i in range(0, n):\n",
    "            if nums[i] in first_dict.keys():\n",
    "                first_dict[nums[i]].append(i)\n",
    "            else:\n",
    "                first_dict[nums[i]] = [i]\n",
    "            for j in range(0, n):\n",
    "                if i==j:\n",
    "                    continue\n",
    "                else:\n",
    "                    target = 0 -(nums[i] + nums[j])\n",
    "                    if target in first_dict.keys():\n",
    "                        for k in first_dict[target]:\n",
    "                            if (k != i) and (k != j):\n",
    "                                l = [nums[i], nums[j], nums[k]]\n",
    "                                l.sorted()\n",
    "                                output.append(tuple(l))\n",
    "                                break\n",
    "        output = list(set(output))\n",
    "        output = [list(x) for x in output]\n",
    "                                \n",
    "                    \n",
    "        "
   ]
  },
  {
   "cell_type": "markdown",
   "id": "2ab7504d-bf85-4a3c-8645-e43c63eb077a",
   "metadata": {},
   "source": [
    "https://leetcode.com/problems/remove-duplicate-letters/"
   ]
  },
  {
   "cell_type": "code",
   "execution_count": 62,
   "id": "e2f7f463-1446-4de3-8c45-ae8e4f9a9cbb",
   "metadata": {},
   "outputs": [],
   "source": [
    "class Solution:\n",
    "    def removeDuplicateLetters(self, s:str) -> str:\n",
    "        last_position_dict = {}\n",
    "        n = len(s)\n",
    "        for i in range(0, n):\n",
    "            last_position_dict[s[i]] = i ##\n",
    "            \n",
    "        stack = []\n",
    "        \n",
    "        for i in range(0, n):\n",
    "            temp_char = s[i]\n",
    "            if not stack:\n",
    "                stack.append(temp_char)\n",
    "            else:\n",
    "                if temp_char in stack:\n",
    "                    continue\n",
    "                else:\n",
    "                    while (stack) and (temp_char<stack[-1]) and (last_position_dict[stack[-1]]>i):\n",
    "                        stack.pop()\n",
    "                    stack.append(temp_char)\n",
    "        return \"\".join(stack)\n",
    "                        \n",
    "                \n",
    "            "
   ]
  },
  {
   "cell_type": "code",
   "execution_count": 63,
   "id": "caad3dea-b5b0-4d84-929e-277b1091b98a",
   "metadata": {},
   "outputs": [],
   "source": [
    "a = Solution()"
   ]
  },
  {
   "cell_type": "code",
   "execution_count": 61,
   "id": "0519e894-67a0-4fd3-b15e-f8f3ea44bdf0",
   "metadata": {},
   "outputs": [
    {
     "data": {
      "text/plain": [
       "['a', 'c', 'd', 'b']"
      ]
     },
     "execution_count": 61,
     "metadata": {},
     "output_type": "execute_result"
    }
   ],
   "source": [
    "a.removeDuplicateLetters('cbacdcbc')"
   ]
  },
  {
   "cell_type": "code",
   "execution_count": 52,
   "id": "6c068d6e-3a1e-4745-812d-be05af009292",
   "metadata": {},
   "outputs": [],
   "source": [
    "class Solution:\n",
    "    def removeDuplicateLetters(self, s: str) -> str:\n",
    "        last_position_dict = {}\n",
    "        n = len(s)\n",
    "        for i in range(0, n):\n",
    "            last_position_dict[s[i]] = i ## for every unique character in string, this will overwrite last position\n",
    "            \n",
    "        stack = []\n",
    "        for i in range(0, n):\n",
    "            if len(stack)==0:\n",
    "                stack.append(s[i])\n",
    "            else:\n",
    "\n",
    "                if (s[i]>stack[-1]) and (s[i] not in stack):\n",
    "                    stack.append(s[i])\n",
    "                else:\n",
    "                    cnt = i-1\n",
    "                    while (len(stack)>0) and (s[i]<stack[-1]) and (cnt >= 0)  :\n",
    "\n",
    "                        if last_position_dict[stack[-1]]>cnt:\n",
    "                            stack.pop()\n",
    "                            cnt = cnt - 1\n",
    "                        else:\n",
    "                            break\n",
    "                    if s[i] not in stack:\n",
    "                        stack.append(s[i])\n",
    "        return \"\".join(stack)\n",
    "\n",
    "        \n",
    "                \n",
    "                "
   ]
  },
  {
   "cell_type": "code",
   "execution_count": 53,
   "id": "ef6d6ba1-81c7-4a43-98f8-7ac38cf7e327",
   "metadata": {},
   "outputs": [],
   "source": [
    "a = Solution()"
   ]
  },
  {
   "cell_type": "code",
   "execution_count": 54,
   "id": "0a889b0d-1063-44d1-8065-a4a553c36e35",
   "metadata": {},
   "outputs": [
    {
     "data": {
      "text/plain": [
       "'acdb'"
      ]
     },
     "execution_count": 54,
     "metadata": {},
     "output_type": "execute_result"
    }
   ],
   "source": [
    "a.removeDuplicateLetters('cbacdcbc')"
   ]
  },
  {
   "cell_type": "code",
   "execution_count": 3,
   "id": "f9edd679-abde-4404-b825-46f9cfae413c",
   "metadata": {},
   "outputs": [],
   "source": [
    "s = 'bcabc'\n",
    "last_position_dict = {}\n",
    "n = len(s)\n",
    "for i in range(0, n):\n",
    "    last_position_dict[s[i]] = i ## for every unique character in string, this will overwrite last position"
   ]
  },
  {
   "cell_type": "code",
   "execution_count": null,
   "id": "4dee565e-9736-4590-a574-4c70fc5d2764",
   "metadata": {},
   "outputs": [],
   "source": [
    "['b','c']"
   ]
  },
  {
   "cell_type": "code",
   "execution_count": 4,
   "id": "77e0fe44-47b3-4645-8806-c8eed7703423",
   "metadata": {},
   "outputs": [
    {
     "data": {
      "text/plain": [
       "{'b': 3, 'c': 4, 'a': 2}"
      ]
     },
     "execution_count": 4,
     "metadata": {},
     "output_type": "execute_result"
    }
   ],
   "source": [
    "last_position_dict"
   ]
  },
  {
   "cell_type": "code",
   "execution_count": 85,
   "id": "c0cf72aa-97f4-4a17-8887-cbd955e631a2",
   "metadata": {},
   "outputs": [],
   "source": [
    "nums  = [0,1,1,1,1,-2,-2,-2,-2]"
   ]
  },
  {
   "cell_type": "code",
   "execution_count": 2,
   "id": "09cbe4f3-da22-4946-a4f3-8549195aed21",
   "metadata": {},
   "outputs": [
    {
     "name": "stdout",
     "output_type": "stream",
     "text": [
      "1\n",
      "2\n",
      "3\n",
      "4\n"
     ]
    }
   ],
   "source": [
    "s = '1234'\n",
    "for i in range(0, len(s)):\n",
    "    print(s[i])"
   ]
  },
  {
   "cell_type": "code",
   "execution_count": 86,
   "id": "13caf38b-0875-44fd-b84f-51199d78ab43",
   "metadata": {},
   "outputs": [],
   "source": [
    "cnt = dict(Counter(nums))\n",
    "deduped = []\n",
    "for key in cnt.keys():\n",
    "    if cnt[key]>=3:\n",
    "        deduped = deduped + [key]*3\n",
    "    else:\n",
    "        deduped = deduped + [key]*cnt[key]"
   ]
  },
  {
   "cell_type": "code",
   "execution_count": 87,
   "id": "123d3c8a-6d4b-491d-ac8a-9a0e88c31077",
   "metadata": {},
   "outputs": [
    {
     "data": {
      "text/plain": [
       "[0, 1, 1, 1, -2, -2, -2]"
      ]
     },
     "execution_count": 87,
     "metadata": {},
     "output_type": "execute_result"
    }
   ],
   "source": [
    "deduped"
   ]
  },
  {
   "cell_type": "markdown",
   "id": "de87a07b-8627-49f2-922c-9ffc46c57406",
   "metadata": {},
   "source": [
    "https://leetcode.com/problems/best-time-to-buy-and-sell-stock/"
   ]
  },
  {
   "cell_type": "code",
   "execution_count": 21,
   "id": "8451dd74-0cbe-4171-852d-43fd8a357aee",
   "metadata": {},
   "outputs": [],
   "source": [
    "from typing import List\n",
    "class Solution:\n",
    "    def maxProfit(self, prices : List[int]) -> int:\n",
    "        profit = 0\n",
    "        n = len(prices)\n",
    "        i_buying, buying_price = -1, float(\"inf\")\n",
    "        i_selling, selling_price = -1, float(\"-inf\")\n",
    "        \n",
    "        for i in range(0, n):\n",
    "            curr_price = prices[i]\n",
    "            if curr_price < buying_price:\n",
    "                buying_price = curr_price\n",
    "                i_buying = i\n",
    "            else:\n",
    "                selling_price = curr_price\n",
    "                i_selling = i\n",
    "                if (i_selling > i_buying) and (selling_price > buying_price):\n",
    "                    profit  = max(profit, selling_price-buying_price)\n",
    "        return profit"
   ]
  },
  {
   "cell_type": "code",
   "execution_count": 20,
   "id": "13cc732a-2206-4e50-9c42-6f9c1879ce3d",
   "metadata": {},
   "outputs": [],
   "source": [
    "a = Solution()"
   ]
  },
  {
   "cell_type": "code",
   "execution_count": 22,
   "id": "0a2adde0-becb-4f46-9b62-042a3201b0b8",
   "metadata": {},
   "outputs": [
    {
     "data": {
      "text/plain": [
       "5"
      ]
     },
     "execution_count": 22,
     "metadata": {},
     "output_type": "execute_result"
    }
   ],
   "source": [
    "a.maxProfit([7,1,5,3,6,4])"
   ]
  },
  {
   "cell_type": "markdown",
   "id": "8bbb7cea-5e95-4c72-9b1a-fba5f7b2cd04",
   "metadata": {},
   "source": [
    "https://leetcode.com/problems/best-time-to-buy-and-sell-stock-ii/"
   ]
  },
  {
   "cell_type": "code",
   "execution_count": 14,
   "id": "82ceeee5-5fab-4372-b9a0-4b66fce993f0",
   "metadata": {},
   "outputs": [],
   "source": [
    "from typing import List\n",
    "class Solution:\n",
    "    def maxProfit(self, prices: List[int]) -> int:\n",
    "        n = len(prices)\n",
    "        profit = 0\n",
    "        val_low = prices[0]\n",
    "\n",
    "        for i in range(1, n):\n",
    "            if prices[i]>val_low:\n",
    "                profit = profit + (prices[i]-val_low)\n",
    "            val_low = prices[i]\n",
    "        return profit\n",
    "                \n",
    "            "
   ]
  },
  {
   "cell_type": "code",
   "execution_count": 15,
   "id": "80e169e8-6c59-461a-bb3c-5a4e85b30917",
   "metadata": {},
   "outputs": [],
   "source": [
    "a = Solution()"
   ]
  },
  {
   "cell_type": "code",
   "execution_count": 17,
   "id": "70406a00-a050-44ff-9317-32e2ded3fc6e",
   "metadata": {},
   "outputs": [],
   "source": [
    "prices = [1,2,3,7, 2]"
   ]
  },
  {
   "cell_type": "code",
   "execution_count": 18,
   "id": "3452a39c-ae73-49d4-95d5-52ba1b4d4ae0",
   "metadata": {},
   "outputs": [
    {
     "name": "stdout",
     "output_type": "stream",
     "text": [
      "1 2 1\n",
      "2 3 2\n",
      "3 7 6\n",
      "4 2 6\n"
     ]
    },
    {
     "data": {
      "text/plain": [
       "6"
      ]
     },
     "execution_count": 18,
     "metadata": {},
     "output_type": "execute_result"
    }
   ],
   "source": [
    "a.maxProfit(prices)"
   ]
  },
  {
   "cell_type": "markdown",
   "id": "f5683bb8-17f0-4c5e-b645-a894ec05af72",
   "metadata": {},
   "source": [
    "https://leetcode.com/problems/house-robber/"
   ]
  },
  {
   "cell_type": "code",
   "execution_count": 41,
   "id": "ce5088ad-1691-4010-b35b-eeedd603c7ad",
   "metadata": {},
   "outputs": [],
   "source": [
    "from typing import List\n",
    "class Solution:\n",
    "    def rob(self, nums: List[int]) -> int:\n",
    "        n = len(nums)\n",
    "        profit = [0]*n\n",
    "        profit[0] = nums[0]\n",
    "        if len(nums)==1:\n",
    "            return profit[0]\n",
    "        profit[1] = max(nums[0], nums[1])\n",
    "        \n",
    "        for i in range(2, n):\n",
    "            profit[i] = max(profit[i-1], profit[i-2] + nums[i])\n",
    "        return profit[n-1]\n",
    "            "
   ]
  },
  {
   "cell_type": "code",
   "execution_count": 42,
   "id": "09ac4df0-8856-4991-b16c-b7148cdeb5ce",
   "metadata": {},
   "outputs": [],
   "source": [
    "a = Solution()"
   ]
  },
  {
   "cell_type": "code",
   "execution_count": 43,
   "id": "8c5f97d7-7d78-422d-9625-f3430e44e035",
   "metadata": {},
   "outputs": [
    {
     "name": "stdout",
     "output_type": "stream",
     "text": [
      "[1, 2, 4, 4]\n"
     ]
    },
    {
     "data": {
      "text/plain": [
       "4"
      ]
     },
     "execution_count": 43,
     "metadata": {},
     "output_type": "execute_result"
    }
   ],
   "source": [
    "nums = [1,2,3,1]\n",
    "a.rob(nums)"
   ]
  },
  {
   "cell_type": "markdown",
   "id": "84b13210-2fe1-45f1-a801-454f6c8ff8f5",
   "metadata": {},
   "source": [
    "https://leetcode.com/problems/maximum-level-sum-of-a-binary-tree/"
   ]
  },
  {
   "cell_type": "code",
   "execution_count": 1,
   "id": "9c822ba2-a1c4-4255-a116-99c457cba369",
   "metadata": {},
   "outputs": [],
   "source": [
    "class TreeNode:\n",
    "    def __init__(self, val=0, left=None, right=None):\n",
    "        self.val = val\n",
    "        self.left = left\n",
    "        self.right = right"
   ]
  },
  {
   "cell_type": "code",
   "execution_count": 13,
   "id": "8fb86f23-01a2-4103-bcfb-5be9a63702d5",
   "metadata": {},
   "outputs": [],
   "source": [
    "def deserialize(string):\n",
    "    if string == '{}':\n",
    "        return None\n",
    "    nodes = [None if val == 'null' else TreeNode(int(val))\n",
    "             for val in string.strip('[]{}').split(',')]\n",
    "    kids = nodes[::-1]\n",
    "    root = kids.pop()\n",
    "    for node in nodes:\n",
    "        if node:\n",
    "            if kids: node.left  = kids.pop()\n",
    "            if kids: node.right = kids.pop()\n",
    "    return root"
   ]
  },
  {
   "cell_type": "code",
   "execution_count": 29,
   "id": "5e34d525-70a7-4cb6-8734-0b70503af7b8",
   "metadata": {},
   "outputs": [],
   "source": [
    "from typing import Optional\n",
    "from collections import deque\n",
    "class Solution:\n",
    "    def maxLevelSum(self, root: Optional[TreeNode]) -> int:\n",
    "        level = 0\n",
    "        a = deque()\n",
    "        a.append(root)\n",
    "        sumlist = []\n",
    "        \n",
    "        while a:\n",
    "            num_current_level = len(a)\n",
    "            temp_sum = 0\n",
    "            print(num_current_level)\n",
    "            for i in range(0, num_current_level):\n",
    "                output = a.popleft()\n",
    "                if output.val:\n",
    "                    temp_sum = temp_sum + output.val\n",
    "                if output.left:\n",
    "                    a.append(output.left)\n",
    "                if output.right:\n",
    "                    a.append(output.right)\n",
    "            sumlist.append(temp_sum)\n",
    "        return sumlist.index(max(sumlist)) + 1\n",
    "        \n",
    "        \n",
    "        \n",
    "                \n",
    "            \n",
    "            \n",
    "        "
   ]
  },
  {
   "cell_type": "code",
   "execution_count": 30,
   "id": "e20c2575-6cbf-4bdb-a0ef-d254aa1f00b3",
   "metadata": {},
   "outputs": [],
   "source": [
    "a = Solution()"
   ]
  },
  {
   "cell_type": "code",
   "execution_count": 32,
   "id": "f0189034-abd4-4988-9754-84c6307a70d4",
   "metadata": {},
   "outputs": [],
   "source": [
    "p = deserialize('{[989,null,10250,98693,-89388,null,null,null,-32127]}')"
   ]
  },
  {
   "cell_type": "code",
   "execution_count": 33,
   "id": "839948ea-76c4-4e96-af13-094762561ad1",
   "metadata": {},
   "outputs": [
    {
     "name": "stdout",
     "output_type": "stream",
     "text": [
      "1\n",
      "1\n",
      "2\n",
      "1\n"
     ]
    },
    {
     "data": {
      "text/plain": [
       "2"
      ]
     },
     "execution_count": 33,
     "metadata": {},
     "output_type": "execute_result"
    }
   ],
   "source": [
    "a.maxLevelSum(p)"
   ]
  },
  {
   "cell_type": "code",
   "execution_count": 6,
   "id": "88556763-73e2-4f90-8953-0904e69569dd",
   "metadata": {},
   "outputs": [],
   "source": [
    "a = [1,2,3,1]"
   ]
  },
  {
   "cell_type": "code",
   "execution_count": 7,
   "id": "eab6e922-9eab-49b5-a402-af84ef38ce99",
   "metadata": {},
   "outputs": [
    {
     "data": {
      "text/plain": [
       "2"
      ]
     },
     "execution_count": 7,
     "metadata": {},
     "output_type": "execute_result"
    }
   ],
   "source": [
    "a.index(max(a))"
   ]
  },
  {
   "cell_type": "code",
   "execution_count": null,
   "id": "db29be90-48e0-4b96-8051-e3999f266fa6",
   "metadata": {},
   "outputs": [],
   "source": []
  }
 ],
 "metadata": {
  "kernelspec": {
   "display_name": "Python 3",
   "language": "python",
   "name": "python3"
  },
  "language_info": {
   "codemirror_mode": {
    "name": "ipython",
    "version": 3
   },
   "file_extension": ".py",
   "mimetype": "text/x-python",
   "name": "python",
   "nbconvert_exporter": "python",
   "pygments_lexer": "ipython3",
   "version": "3.8.8"
  }
 },
 "nbformat": 4,
 "nbformat_minor": 5
}
