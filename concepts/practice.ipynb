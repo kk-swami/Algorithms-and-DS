{
 "cells": [
  {
   "cell_type": "markdown",
   "id": "598eafe8-7e5a-4333-8802-ebf42d402536",
   "metadata": {},
   "source": [
    "https://leetcode.com/problems/daily-temperatures/\n",
    "\n"
   ]
  },
  {
   "cell_type": "code",
   "execution_count": 13,
   "id": "520617ef-9c7d-4b18-91de-957516ce023d",
   "metadata": {},
   "outputs": [],
   "source": [
    "from typing import List\n",
    "class Solution:\n",
    "    def dailyTemperatures(self, temperatures: List[int]) -> List[int]:\n",
    "        n = len(temperatures)\n",
    "        output = [0]*n\n",
    "        stack = []\n",
    "        for i in range(n):\n",
    "            print(i, temperatures[i])\n",
    "            if not stack:\n",
    "                stack.append([i, temperatures[i]])\n",
    "                print(\"stack normal init\", stack)\n",
    "            else:\n",
    "                if temperatures[i]<=stack[-1][1]:\n",
    "                    stack.append([i, temperatures[i] ])\n",
    "                    print(\"stack normal\", stack)\n",
    "                    \n",
    "                else:\n",
    "                    while (stack) and (temperatures[i] >= stack[-1][1]):\n",
    "                        output[stack[-1][0]] = i - stack[-1][0]\n",
    "                        print(\"output\", output)\n",
    "                        print(\"stack before\", stack)\n",
    "                        stack.pop()\n",
    "                        print(\"stack after\", stack)\n",
    "                    stack.append([i, temperatures[i] ])\n",
    "        return output\n",
    "                        \n",
    "                        "
   ]
  },
  {
   "cell_type": "code",
   "execution_count": 14,
   "id": "bce940d0-ee18-4de9-8186-022a4ddde506",
   "metadata": {},
   "outputs": [],
   "source": [
    "a = Solution()"
   ]
  },
  {
   "cell_type": "markdown",
   "id": "2784412d-0e3e-48f8-9e50-2dade7d6a8fe",
   "metadata": {},
   "source": [
    "temperatures = [73,74,75,71,69,72,76,73]\n",
    "a.dailyTemperatures(temperatures)"
   ]
  },
  {
   "cell_type": "markdown",
   "id": "39d71980-e641-453b-8277-2e8f6b1fb4fc",
   "metadata": {},
   "source": [
    "https://leetcode.com/problems/next-permutation/"
   ]
  },
  {
   "cell_type": "code",
   "execution_count": 67,
   "id": "4843867e-7c14-49dc-ba5d-19d423e03c66",
   "metadata": {},
   "outputs": [],
   "source": [
    "class Solution:\n",
    "    def nextPermutation(self, nums: List[int]) -> None:\n",
    "        \n",
    "        def swap(i, j):\n",
    "            temp = nums[j]\n",
    "            nums[j] = nums[i]\n",
    "            nums[i] = temp\n",
    "            \n",
    "        def reverse(beg, end):\n",
    "            while beg <= end:\n",
    "                swap(beg, end)\n",
    "                beg = beg + 1\n",
    "                end = end - 1\n",
    "                \n",
    "        n = len(nums)\n",
    "        found = False\n",
    "        for i in range(n-1,0,-1):\n",
    "            if nums[i]>nums[i-1]: ## a break\n",
    "                reverse(i, n-1)\n",
    "  \n",
    "                max_index = i\n",
    "                for k in range(i, n, 1):\n",
    "                    if nums[k]>nums[i-1]:\n",
    "                        max_index = k\n",
    "                        print(max_index)\n",
    "                        print(nums[max_index])\n",
    "                        break\n",
    "                swap(i-1, max_index)\n",
    "                found = True\n",
    "                break\n",
    "\n",
    "        if found==False: ## list in descending order\n",
    "            nums.sort()\n",
    "        return nums\n",
    "                    \n",
    "                    "
   ]
  },
  {
   "cell_type": "code",
   "execution_count": 68,
   "id": "26813062-d0d8-44ce-bb9d-973f4c67cc01",
   "metadata": {},
   "outputs": [],
   "source": [
    "b = Solution()"
   ]
  },
  {
   "cell_type": "code",
   "execution_count": 46,
   "id": "d6eac83c-b204-4894-8100-58d00e17280b",
   "metadata": {},
   "outputs": [],
   "source": []
  },
  {
   "cell_type": "code",
   "execution_count": 70,
   "id": "1ca19116-491c-4d5e-a549-9f06be8f670c",
   "metadata": {},
   "outputs": [],
   "source": []
  },
  {
   "cell_type": "code",
   "execution_count": null,
   "id": "b630329b-0fba-4aa3-82d2-a7a4dd662177",
   "metadata": {},
   "outputs": [],
   "source": [
    "[1,7,3,8,9,9]"
   ]
  },
  {
   "cell_type": "code",
   "execution_count": 71,
   "id": "1ee888dd-2e0e-4def-8138-1fc083598b32",
   "metadata": {},
   "outputs": [
    {
     "name": "stdout",
     "output_type": "stream",
     "text": [
      "inside 2\n",
      "after reversing\n",
      "[1, 7, 3, 8, 9, 9]\n",
      "3\n",
      "8\n"
     ]
    },
    {
     "data": {
      "text/plain": [
       "[1, 8, 3, 7, 9, 9]"
      ]
     },
     "execution_count": 71,
     "metadata": {},
     "output_type": "execute_result"
    }
   ],
   "source": [
    "b.nextPermutation(numbers)"
   ]
  },
  {
   "cell_type": "markdown",
   "id": "ae08eecd-e421-4a68-a246-26e494027696",
   "metadata": {},
   "source": [
    "## merge sort implementation"
   ]
  },
  {
   "cell_type": "code",
   "execution_count": 7,
   "id": "7ae60676-5bd8-4250-8928-be247d3350ff",
   "metadata": {},
   "outputs": [
    {
     "data": {
      "text/plain": [
       "2"
      ]
     },
     "execution_count": 7,
     "metadata": {},
     "output_type": "execute_result"
    }
   ],
   "source": [
    "5//2"
   ]
  },
  {
   "cell_type": "code",
   "execution_count": 28,
   "id": "58dccc16-232c-4319-bdb9-55a3ce28e8dc",
   "metadata": {},
   "outputs": [],
   "source": [
    "def merge(left, right, l):\n",
    "    print(\"inside merge\")\n",
    "    print(\"inside merge left\", left)\n",
    "    print(\"inside merge right\", right)\n",
    "    n_left = len(left)\n",
    "    n_right = len(right)\n",
    "    n = len(l)\n",
    "    \n",
    "    i_l = i_r = i = 0\n",
    "    \n",
    "    if n_left==0: \n",
    "        print(\"merge output\", right)\n",
    "        return right\n",
    "    if n_right==0:\n",
    "        print(\"merge output\", left)\n",
    "        return left\n",
    "    \n",
    "    output = l[:]\n",
    "    while (i_l < n_left) and (i_r < n_right) and (i < n):\n",
    "        if left[i_l] < right[i_r]:\n",
    "            output[i] = left[i_l]\n",
    "            i_l = i_l + 1\n",
    "            i = i + 1\n",
    "        else:\n",
    "            output[i] = right[i_r]\n",
    "            i_r = i_r + 1\n",
    "            i = i + 1\n",
    "    if (i_l < n_left) and (i < n): ## right finished\n",
    "        while (i_l < n_left) and (i < n):\n",
    "            output[i] = left[i_l]\n",
    "            i_l = i_l + 1\n",
    "            i = i + 1\n",
    "    if (i_r < n_right) and (i < n): ## right finished\n",
    "        while (i_r < n_right) and (i < n):\n",
    "            output[i] = right[i_r]\n",
    "            i_r = i_r + 1\n",
    "            i = i + 1            \n",
    "    print(\"merge output\", output)\n",
    "    return output\n",
    "\n",
    "def merge_sort(l):\n",
    "    n = len(l)\n",
    "    if n<=1:\n",
    "        return l\n",
    "    left = l[0:(n//2)]\n",
    "    right = l[(n//2):]\n",
    "    left = merge_sort(left)\n",
    "    right = merge_sort(right)\n",
    "    print(\"left\", left)\n",
    "    print(\"right\", right)\n",
    "    output = merge(left, right, l)\n",
    "    return output\n"
   ]
  },
  {
   "cell_type": "code",
   "execution_count": 30,
   "id": "4f6c7a0e-a3d3-43dd-8ff3-82cd04c75de7",
   "metadata": {},
   "outputs": [
    {
     "name": "stdout",
     "output_type": "stream",
     "text": [
      "left [5]\n",
      "right [4]\n",
      "inside merge\n",
      "inside merge left [5]\n",
      "inside merge right [4]\n",
      "merge output [4, 5]\n",
      "left [2]\n",
      "right [0]\n",
      "inside merge\n",
      "inside merge left [2]\n",
      "inside merge right [0]\n",
      "merge output [0, 2]\n",
      "left [1]\n",
      "right [0, 2]\n",
      "inside merge\n",
      "inside merge left [1]\n",
      "inside merge right [0, 2]\n",
      "merge output [0, 1, 2]\n",
      "left [4, 5]\n",
      "right [0, 1, 2]\n",
      "inside merge\n",
      "inside merge left [4, 5]\n",
      "inside merge right [0, 1, 2]\n",
      "merge output [0, 1, 2, 4, 5]\n"
     ]
    }
   ],
   "source": [
    "aa = merge_sort([5,4,1,2,0])"
   ]
  },
  {
   "cell_type": "code",
   "execution_count": 31,
   "id": "cf869acf-e303-4c6e-9bc3-0a58f5c9c70a",
   "metadata": {},
   "outputs": [
    {
     "data": {
      "text/plain": [
       "[0, 1, 2, 4, 5]"
      ]
     },
     "execution_count": 31,
     "metadata": {},
     "output_type": "execute_result"
    }
   ],
   "source": [
    "aa"
   ]
  },
  {
   "cell_type": "markdown",
   "id": "ef6cff74-cf79-4494-a85c-e6faba655511",
   "metadata": {},
   "source": [
    "https://leetcode.com/problems/subarray-product-less-than-k/"
   ]
  },
  {
   "cell_type": "markdown",
   "id": "746f1845-aacf-4856-baa3-1199a978dfb4",
   "metadata": {},
   "source": [
    "Given an array of integers nums and an integer k, return the number of contiguous subarrays where the product of all the elements in the subarray is strictly less than k"
   ]
  },
  {
   "cell_type": "code",
   "execution_count": 23,
   "id": "8f9481db-14e2-4119-87ff-580a60eb25df",
   "metadata": {},
   "outputs": [],
   "source": [
    "from typing import List\n",
    "class Solution:\n",
    "    def numSubarrayProductLessThanK(self, nums: List[int], k: int) -> int:\n",
    "        n = len(nums)\n",
    "        product = 1\n",
    "        output = 0\n",
    "        left_index = 0\n",
    "        for right_index, val in enumerate(nums):\n",
    "            product = product*val\n",
    "            \n",
    "            while (product >= k):\n",
    "                product = product/nums[left_index]\n",
    "                left_index = left_index + 1\n",
    "            output = output + (right_index-left_index) + 1\n",
    "        return output\n",
    "            \n",
    "            \n",
    "                \n",
    "            \n",
    "\n",
    "                    \n",
    "                \n",
    "                    \n",
    "        \n",
    "        "
   ]
  },
  {
   "cell_type": "code",
   "execution_count": 24,
   "id": "0bec8ba8-1fe6-4b48-b555-585b77173292",
   "metadata": {},
   "outputs": [],
   "source": [
    "a = Solution()"
   ]
  },
  {
   "cell_type": "code",
   "execution_count": 27,
   "id": "0d85b5e6-3cc5-49e6-b1d8-361a84f12708",
   "metadata": {},
   "outputs": [
    {
     "data": {
      "text/plain": [
       "5"
      ]
     },
     "execution_count": 27,
     "metadata": {},
     "output_type": "execute_result"
    }
   ],
   "source": [
    "a.numSubarrayProductLessThanK([10,5,4], 100)"
   ]
  },
  {
   "cell_type": "code",
   "execution_count": 39,
   "id": "de43538e-768f-4c42-b60e-715623cf48ec",
   "metadata": {},
   "outputs": [],
   "source": [
    "class Solution:\n",
    "    def nextPermutation(self, nums: List[int]) -> None:\n",
    "        n = len(nums)\n",
    "        \n",
    "        def swap(i, j):\n",
    "            temp = nums[i]\n",
    "            nums[i] = nums[j]\n",
    "            nums[j] = temp\n",
    "            \n",
    "        def reverse(i, j):\n",
    "            \n",
    "            while (i <= j):\n",
    "                swap(i, j)\n",
    "                i = i + 1\n",
    "                j = j - 1\n",
    "                \n",
    "        \n",
    "        found_value = False\n",
    "        print(\"nums before\", nums)\n",
    "        for k in range(n-1, 0, -1):\n",
    "            if nums[k-1]<nums[k]:\n",
    "                found_value = True\n",
    "                for m in range(k, n):\n",
    "                    if nums[m]>nums[k-1]:\n",
    "                        val = m\n",
    "                swap(k-1, val)\n",
    "                print(\"nums after swapping\", nums)\n",
    "                reverse(k,n-1)\n",
    "                break\n",
    "        if not found_value:\n",
    "            reverse(0, n-1)\n",
    "        return nums\n",
    "                \n",
    "                \n",
    "            \n",
    "        "
   ]
  },
  {
   "cell_type": "code",
   "execution_count": 40,
   "id": "f47bfe83-ff40-4070-8c4e-b06924ae9956",
   "metadata": {},
   "outputs": [],
   "source": [
    "a = Solution()\n",
    "\n",
    "\n"
   ]
  },
  {
   "cell_type": "code",
   "execution_count": 43,
   "id": "e3808dd2-7630-48e8-86ba-c80113a97bf7",
   "metadata": {},
   "outputs": [],
   "source": [
    "numbers = [1,2,7,9,6,4,1]\n",
    "## numbers = [1,7,9,9,8,3]"
   ]
  },
  {
   "cell_type": "code",
   "execution_count": 46,
   "id": "bb766a65-75cc-4946-aef6-7ce0323965bc",
   "metadata": {},
   "outputs": [
    {
     "name": "stdout",
     "output_type": "stream",
     "text": [
      "nums before [3, 2, 1]\n"
     ]
    },
    {
     "data": {
      "text/plain": [
       "[1, 2, 3]"
      ]
     },
     "execution_count": 46,
     "metadata": {},
     "output_type": "execute_result"
    }
   ],
   "source": [
    "a.nextPermutation([3,2,1])"
   ]
  },
  {
   "cell_type": "code",
   "execution_count": null,
   "id": "07ca8728-f532-481f-8e5d-fa500f6950c2",
   "metadata": {},
   "outputs": [],
   "source": [
    "left_index = 1\n",
    "right_index = 2\n",
    "product = 10\n",
    "\n",
    "\n",
    "[5,2]\n",
    "[2]\n",
    "\n",
    "\n"
   ]
  },
  {
   "cell_type": "markdown",
   "id": "9bf8ec1a-57d8-4e1d-bc87-c49c86181cc4",
   "metadata": {},
   "source": [
    "## Game of Life"
   ]
  },
  {
   "cell_type": "markdown",
   "id": "bd4ddc29-4b3c-42c7-b46c-6d06d486e13c",
   "metadata": {},
   "source": [
    "https://leetcode.com/problems/game-of-life/\n",
    "\n",
    "According to Wikipedia's article: \"The Game of Life, also known simply as Life, is a cellular automaton devised by the British mathematician John Horton Conway in 1970.\"\n",
    "\n",
    "The board is made up of an m x n grid of cells, where each cell has an initial state: live (represented by a 1) or dead (represented by a 0). Each cell interacts with its eight neighbors (horizontal, vertical, diagonal) using the following four rules (taken from the above Wikipedia article):\n",
    "\n",
    "Any live cell with fewer than two live neighbors dies as if caused by under-population.\n",
    "Any live cell with two or three live neighbors lives on to the next generation.\n",
    "Any live cell with more than three live neighbors dies, as if by over-population.\n",
    "Any dead cell with exactly three live neighbors becomes a live cell, as if by reproduction.\n",
    "The next state is created by applying the above rules simultaneously to every cell in the current state, where births and deaths occur simultaneously. Given the current state of the m x n grid board, return the next state.\n"
   ]
  },
  {
   "cell_type": "code",
   "execution_count": 9,
   "id": "00e9dd42-c659-4f15-a9e1-d38fab1873d9",
   "metadata": {},
   "outputs": [],
   "source": [
    "from typing import List\n",
    "class Solution:\n",
    "    def gameOfLife(self, board: List[List[int]]) -> None:\n",
    "        \"\"\"\n",
    "        Do not return anything, modify board in-place instead.\n",
    "        \"\"\"\n",
    "        m, n = len(board), len(board[0])\n",
    "        \n",
    "        for i in range(0, m):\n",
    "            for j in range(0, n):\n",
    "                board[i][j] = [board[i][j], -1] ## creating a tuple, first entry is old value, second is new\n",
    "                \n",
    "        for i in range(0, m):\n",
    "            for j in range(0, n):\n",
    "                if board[i][j][0]==1: ## live cell\n",
    "                    number_of_live_neighbours = 0\n",
    "                    for k in range(i-1, i+2):\n",
    "                        for l in range(j-1, j+2):\n",
    "                            if (k >= 0) and (l >=0) and (k < m) and (l < n):\n",
    "                                if (k==i) and (l==j):\n",
    "                                    pass\n",
    "                                else:\n",
    "                                    if board[k][l][0]==1:\n",
    "                                        number_of_live_neighbours = number_of_live_neighbours + 1\n",
    "                    if number_of_live_neighbours in [2,3]:\n",
    "                        board[i][j][1] = 1\n",
    "                    else:\n",
    "                        board[i][j][1] = 0\n",
    "                        \n",
    "                    \n",
    "                else: ## dead cell\n",
    "                    number_of_live_neighbours = 0\n",
    "                    for k in range(i-1, i+2):\n",
    "                        for l in range(j-1, j+2):\n",
    "                            if (k >= 0) and (l >=0) and (k < m) and (l < n):\n",
    "                                if (k==i) and (l==j):\n",
    "                                    pass\n",
    "                                else:\n",
    "                                    if board[k][l][0]==1:\n",
    "                                        number_of_live_neighbours = number_of_live_neighbours + 1\n",
    "                    if number_of_live_neighbours in [3]:\n",
    "                        board[i][j][1] = 1\n",
    "                    else:\n",
    "                        board[i][j][1] = 0\n",
    "                    \n",
    " \n",
    "        for i in range(0, m):\n",
    "            for j in range(0, n):\n",
    "                board[i][j] = board[i][j][1] ## assigning to new value\n",
    "        return board\n",
    "                \n",
    "        "
   ]
  },
  {
   "cell_type": "code",
   "execution_count": 10,
   "id": "e2000e68-91a6-44f0-881e-83e5f25339b1",
   "metadata": {},
   "outputs": [],
   "source": [
    "a = Solution()"
   ]
  },
  {
   "cell_type": "code",
   "execution_count": 11,
   "id": "8fd3089a-aa4e-4ef1-a7da-ab0b9e021fdf",
   "metadata": {},
   "outputs": [],
   "source": [
    "board = [[0,1,0],[0,0,1],[1,1,1],[0,0,0]]"
   ]
  },
  {
   "cell_type": "code",
   "execution_count": 12,
   "id": "0a4b9c64-21e9-41f2-9d08-8719dc18ac7e",
   "metadata": {},
   "outputs": [
    {
     "data": {
      "text/plain": [
       "[[0, 0, 0], [1, 0, 1], [0, 1, 1], [0, 1, 0]]"
      ]
     },
     "execution_count": 12,
     "metadata": {},
     "output_type": "execute_result"
    }
   ],
   "source": [
    "a.gameOfLife(board)"
   ]
  },
  {
   "cell_type": "markdown",
   "id": "214b55d2-0709-41f6-9d29-06f6f35059e7",
   "metadata": {},
   "source": [
    "## Plus One"
   ]
  },
  {
   "cell_type": "markdown",
   "id": "a0c2d2b7-18fa-4487-b357-828b09853fba",
   "metadata": {},
   "source": [
    "https://leetcode.com/problems/plus-one/\n",
    "\n",
    "You are given a large integer represented as an integer array digits, where each digits[i] is the ith digit of the integer. The digits are ordered from most significant to least significant in left-to-right order. The large integer does not contain any leading 0's.\n",
    "\n",
    "Increment the large integer by one and return the resulting array of digits.\n",
    "\n",
    " \n",
    "\n",
    "Example 1:\n",
    "\n",
    "Input: digits = [1,2,3]\n",
    "Output: [1,2,4]\n",
    "Explanation: The array represents the integer 123.\n",
    "Incrementing by one gives 123 + 1 = 124.\n",
    "Thus, the result should be [1,2,4]."
   ]
  },
  {
   "cell_type": "code",
   "execution_count": 24,
   "id": "89e3b7c5-e7d9-4335-902a-e50653983b49",
   "metadata": {},
   "outputs": [],
   "source": [
    "class Solution:\n",
    "    def plusOne(self, digits: List[int]) -> List[int]:\n",
    "        number = str(int(str(\"\".join([str(x) for x in digits]))) + 1)\n",
    "        outlist = []\n",
    "        for i in number:\n",
    "            outlist.append(int(i))\n",
    "        return outlist\n",
    "        "
   ]
  },
  {
   "cell_type": "code",
   "execution_count": 25,
   "id": "1b02adbd-dc21-4443-b3d9-5631149b4477",
   "metadata": {},
   "outputs": [],
   "source": [
    "a = Solution()"
   ]
  },
  {
   "cell_type": "code",
   "execution_count": 27,
   "id": "8fb9bb33-6704-46f1-9539-0e9dd4af9315",
   "metadata": {},
   "outputs": [],
   "source": [
    "digits = [9,9,9]"
   ]
  },
  {
   "cell_type": "code",
   "execution_count": 28,
   "id": "ddea32ee-27c8-4597-88f2-3833bb0fed77",
   "metadata": {},
   "outputs": [
    {
     "data": {
      "text/plain": [
       "[1, 0, 0, 0]"
      ]
     },
     "execution_count": 28,
     "metadata": {},
     "output_type": "execute_result"
    }
   ],
   "source": [
    "a.plusOne(digits)"
   ]
  },
  {
   "cell_type": "code",
   "execution_count": 18,
   "id": "ae74952f-1963-4c03-b73e-260c1e329114",
   "metadata": {},
   "outputs": [
    {
     "data": {
      "text/plain": [
       "[4, 3, 2, 1]"
      ]
     },
     "execution_count": 18,
     "metadata": {},
     "output_type": "execute_result"
    }
   ],
   "source": [
    "digits"
   ]
  },
  {
   "cell_type": "code",
   "execution_count": 19,
   "id": "a1c40372-5482-4ed5-885b-23958659b03b",
   "metadata": {},
   "outputs": [
    {
     "ename": "TypeError",
     "evalue": "sequence item 0: expected str instance, int found",
     "output_type": "error",
     "traceback": [
      "\u001b[1;31m---------------------------------------------------------------------------\u001b[0m",
      "\u001b[1;31mTypeError\u001b[0m                                 Traceback (most recent call last)",
      "\u001b[1;32m<ipython-input-19-960fceb10c65>\u001b[0m in \u001b[0;36m<module>\u001b[1;34m\u001b[0m\n\u001b[1;32m----> 1\u001b[1;33m \u001b[1;34m\"\"\u001b[0m\u001b[1;33m.\u001b[0m\u001b[0mjoin\u001b[0m\u001b[1;33m(\u001b[0m\u001b[0mdigits\u001b[0m\u001b[1;33m)\u001b[0m\u001b[1;33m\u001b[0m\u001b[1;33m\u001b[0m\u001b[0m\n\u001b[0m",
      "\u001b[1;31mTypeError\u001b[0m: sequence item 0: expected str instance, int found"
     ]
    }
   ],
   "source": [
    "\"\".join(digits)"
   ]
  },
  {
   "cell_type": "code",
   "execution_count": null,
   "id": "eb16ff97-ebbe-4a23-9518-4f154ea262b3",
   "metadata": {},
   "outputs": [],
   "source": []
  }
 ],
 "metadata": {
  "kernelspec": {
   "display_name": "Python 3",
   "language": "python",
   "name": "python3"
  },
  "language_info": {
   "codemirror_mode": {
    "name": "ipython",
    "version": 3
   },
   "file_extension": ".py",
   "mimetype": "text/x-python",
   "name": "python",
   "nbconvert_exporter": "python",
   "pygments_lexer": "ipython3",
   "version": "3.8.8"
  }
 },
 "nbformat": 4,
 "nbformat_minor": 5
}
