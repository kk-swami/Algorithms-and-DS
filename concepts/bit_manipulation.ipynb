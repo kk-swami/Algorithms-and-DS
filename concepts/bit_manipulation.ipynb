{
 "cells": [
  {
   "cell_type": "markdown",
   "id": "71a260d0-984d-4125-9e7d-2ca6e5d92fb2",
   "metadata": {},
   "source": [
    "## Single Number\n",
    "https://leetcode.com/problems/single-number/\n"
   ]
  },
  {
   "cell_type": "code",
   "execution_count": 1,
   "id": "e7f4dc0e-cba7-41e2-b7b3-021da598e642",
   "metadata": {},
   "outputs": [],
   "source": [
    "from typing import List, Optional"
   ]
  },
  {
   "cell_type": "code",
   "execution_count": null,
   "id": "8d526e57-61a3-4b6a-af8d-6df053233d3b",
   "metadata": {},
   "outputs": [],
   "source": [
    "class Solution:\n",
    "    \n",
    "    def singleNumber(self, nums : List[int]) -> int:\n",
    "        \n",
    "        result = 0\n",
    "        for num in nums:\n",
    "            result = result^num\n",
    "        return result"
   ]
  },
  {
   "cell_type": "code",
   "execution_count": 3,
   "id": "8ba0413d-421a-4dc9-92c0-3f5e462b2012",
   "metadata": {},
   "outputs": [
    {
     "data": {
      "text/plain": [
       "505"
      ]
     },
     "execution_count": 3,
     "metadata": {},
     "output_type": "execute_result"
    }
   ],
   "source": [
    "1011 >> 1"
   ]
  },
  {
   "cell_type": "markdown",
   "id": "ee7dad82-1667-4c0f-aadf-38908e0c2ec3",
   "metadata": {},
   "source": [
    "## Number of 1 bits\n",
    "https://leetcode.com/problems/number-of-1-bits/"
   ]
  },
  {
   "cell_type": "code",
   "execution_count": null,
   "id": "60290570-b696-4b23-8338-3d069704dc2b",
   "metadata": {},
   "outputs": [],
   "source": [
    "class Solution:\n",
    "    \n",
    "    def hammingWeight(self, n:int) -> int:\n",
    "        \n",
    "        result = 0\n",
    "        while n:  ## n !=0\n",
    "            if n%2==1:\n",
    "                result = result + 1\n",
    "            n = n >> 1\n",
    "        return result\n",
    "            \n",
    "            \n",
    "        "
   ]
  },
  {
   "cell_type": "markdown",
   "id": "be88ed63-c8c5-4266-b692-67a41fbfe539",
   "metadata": {},
   "source": [
    "## Counting Bits\n",
    "https://leetcode.com/problems/counting-bits/"
   ]
  },
  {
   "cell_type": "code",
   "execution_count": null,
   "id": "8ca5ce7c-25ad-4d17-b4ae-14acff36e369",
   "metadata": {},
   "outputs": [],
   "source": [
    "class Solution:\n",
    "    def countBits(self, n: int) -> List[int]:\n",
    "        \n",
    "        output = [None]*(n+1)\n",
    "        output[0] = 0\n",
    "        output[1] = 1\n",
    "        \n",
    "        j = 1\n",
    "        for i in range(2, n + 1):\n",
    "\n",
    "            ## filling all powers of 2\n",
    "            while j <= i:\n",
    "                j = 2*j\n",
    "            if j==i:\n",
    "                output[i] = 1\n",
    "            else:\n",
    "                output[i] = output[j] + output[i-j]\n",
    "        return output\n",
    "                "
   ]
  },
  {
   "cell_type": "markdown",
   "id": "057216cf-e270-46d7-927f-b34ac30cfffd",
   "metadata": {},
   "source": [
    "## Reverse Bits\n",
    "https://leetcode.com/problems/reverse-bits/"
   ]
  },
  {
   "cell_type": "code",
   "execution_count": 7,
   "id": "e5de3ade-ef9f-4b5a-be45-854c5ef9c2a2",
   "metadata": {},
   "outputs": [],
   "source": [
    "class Solution:\n",
    "    def reverseBits(self, n: int) -> int:\n",
    "        res = 0\n",
    "        for i in range(32):\n",
    "            print(i, res)\n",
    "            res = res << 1\n",
    "            bit = i%2\n",
    "            n = n >> 1\n",
    "            res = res + bit\n",
    "            \n",
    "        return res"
   ]
  },
  {
   "cell_type": "code",
   "execution_count": 8,
   "id": "3caaca3f-5f1f-48a5-ac4a-2deb0a7d53ca",
   "metadata": {},
   "outputs": [
    {
     "name": "stdout",
     "output_type": "stream",
     "text": [
      "0 0\n",
      "1 0\n",
      "2 1\n",
      "3 2\n",
      "4 5\n",
      "5 10\n",
      "6 21\n",
      "7 42\n",
      "8 85\n",
      "9 170\n",
      "10 341\n",
      "11 682\n",
      "12 1365\n",
      "13 2730\n",
      "14 5461\n",
      "15 10922\n",
      "16 21845\n",
      "17 43690\n",
      "18 87381\n",
      "19 174762\n",
      "20 349525\n",
      "21 699050\n",
      "22 1398101\n",
      "23 2796202\n",
      "24 5592405\n",
      "25 11184810\n",
      "26 22369621\n",
      "27 44739242\n",
      "28 89478485\n",
      "29 178956970\n",
      "30 357913941\n",
      "31 715827882\n"
     ]
    },
    {
     "data": {
      "text/plain": [
       "1431655765"
      ]
     },
     "execution_count": 8,
     "metadata": {},
     "output_type": "execute_result"
    }
   ],
   "source": [
    "class Solution:\n",
    "    def reverseBits(self, n: int) -> int:\n",
    "        res = 0\n",
    "        for i in range(32):\n",
    "            bit = (n >> i) & 1\n",
    "            res = res | (bit << (31-i))\n",
    "            \n",
    "        return res"
   ]
  },
  {
   "cell_type": "code",
   "execution_count": 21,
   "id": "92cdf0ef-1e53-4537-bdc8-4422054578ae",
   "metadata": {},
   "outputs": [
    {
     "data": {
      "text/plain": [
       "0"
      ]
     },
     "execution_count": 21,
     "metadata": {},
     "output_type": "execute_result"
    }
   ],
   "source": [
    "(5>>3) & 1"
   ]
  },
  {
   "cell_type": "code",
   "execution_count": null,
   "id": "c7ee59f6-4d04-4a58-8262-5c814e5a29c3",
   "metadata": {},
   "outputs": [],
   "source": [
    "5 = 101"
   ]
  },
  {
   "cell_type": "code",
   "execution_count": 22,
   "id": "66e57689-6b4a-44e8-bb3b-a96432422d9b",
   "metadata": {},
   "outputs": [
    {
     "data": {
      "text/plain": [
       "7"
      ]
     },
     "execution_count": 22,
     "metadata": {},
     "output_type": "execute_result"
    }
   ],
   "source": [
    "5 | (1 << 1)"
   ]
  },
  {
   "cell_type": "code",
   "execution_count": 23,
   "id": "1eba65f5-e76c-4217-952f-d9db59a3933a",
   "metadata": {},
   "outputs": [
    {
     "data": {
      "text/plain": [
       "2"
      ]
     },
     "execution_count": 23,
     "metadata": {},
     "output_type": "execute_result"
    }
   ],
   "source": [
    "1 << 1"
   ]
  },
  {
   "cell_type": "code",
   "execution_count": 26,
   "id": "d35a89ec-e20f-488c-aab3-e590d69d4b87",
   "metadata": {},
   "outputs": [
    {
     "data": {
      "text/plain": [
       "5"
      ]
     },
     "execution_count": 26,
     "metadata": {},
     "output_type": "execute_result"
    }
   ],
   "source": [
    "5 | 0"
   ]
  },
  {
   "cell_type": "code",
   "execution_count": 28,
   "id": "2c52d469-1fac-4d48-bfb0-cc69affeff6f",
   "metadata": {},
   "outputs": [
    {
     "name": "stdout",
     "output_type": "stream",
     "text": [
      "0\n",
      "5\n",
      "1\n",
      "2\n",
      "0\n",
      "1\n",
      "1\n",
      "0\n"
     ]
    }
   ],
   "source": [
    "n = 10\n",
    "while n:\n",
    "    bit = n&1\n",
    "    n = n >> 1\n",
    "    print(bit)\n",
    "    print(n)"
   ]
  },
  {
   "cell_type": "code",
   "execution_count": null,
   "id": "0f177266-0990-4f01-9a05-5a36d4f3e130",
   "metadata": {},
   "outputs": [],
   "source": []
  }
 ],
 "metadata": {
  "kernelspec": {
   "display_name": "Python 3",
   "language": "python",
   "name": "python3"
  },
  "language_info": {
   "codemirror_mode": {
    "name": "ipython",
    "version": 3
   },
   "file_extension": ".py",
   "mimetype": "text/x-python",
   "name": "python",
   "nbconvert_exporter": "python",
   "pygments_lexer": "ipython3",
   "version": "3.8.8"
  }
 },
 "nbformat": 4,
 "nbformat_minor": 5
}
