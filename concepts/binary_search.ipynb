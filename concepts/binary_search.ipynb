{
 "cells": [
  {
   "cell_type": "code",
   "execution_count": 1,
   "id": "ad3f062c-4940-440d-bdca-6d37263ea4f6",
   "metadata": {},
   "outputs": [
    {
     "ename": "NameError",
     "evalue": "name 'hi' is not defined",
     "output_type": "error",
     "traceback": [
      "\u001b[1;31m---------------------------------------------------------------------------\u001b[0m",
      "\u001b[1;31mNameError\u001b[0m                                 Traceback (most recent call last)",
      "\u001b[1;32m<ipython-input-1-55ca6286e3e4>\u001b[0m in \u001b[0;36m<module>\u001b[1;34m\u001b[0m\n\u001b[1;32m----> 1\u001b[1;33m \u001b[0mhi\u001b[0m\u001b[1;33m\u001b[0m\u001b[1;33m\u001b[0m\u001b[0m\n\u001b[0m",
      "\u001b[1;31mNameError\u001b[0m: name 'hi' is not defined"
     ]
    }
   ],
   "source": [
    "hi"
   ]
  },
  {
   "cell_type": "markdown",
   "id": "3aaa20fe-b1dc-4230-8afe-acb555edaafe",
   "metadata": {},
   "source": [
    "https://leetcode.com/problems/first-bad-version/\n",
    "\n",
    "You are a product manager and currently leading a team to develop a new product. Unfortunately, the latest version of your product fails the quality check. Since each version is developed based on the previous version, all the versions after a bad version are also bad.\n",
    "\n",
    "Suppose you have n versions [1, 2, ..., n] and you want to find out the first bad one, which causes all the following ones to be bad.\n",
    "\n",
    "You are given an API bool isBadVersion(version) which returns whether version is bad. Implement a function to find the first bad version. You should minimize the number of calls to the API."
   ]
  },
  {
   "cell_type": "code",
   "execution_count": 10,
   "id": "97e97192-2092-4c81-85ff-402a81b757df",
   "metadata": {},
   "outputs": [],
   "source": [
    "def isBadVersion(version: int) -> bool:\n",
    "    if version>=3:\n",
    "        return True\n",
    "    else:\n",
    "        return False"
   ]
  },
  {
   "cell_type": "code",
   "execution_count": 21,
   "id": "9eacd02e-c24c-45a2-b292-42b2a6f4f801",
   "metadata": {},
   "outputs": [],
   "source": [
    "class Solution:\n",
    "    def firstBadVersion(self, n: int) -> int:\n",
    "        start_pointer = 1\n",
    "        end_pointer = n\n",
    "        \n",
    "        if n==1:\n",
    "            return 1\n",
    "        \n",
    "        \n",
    "        while True:\n",
    "            if isBadVersion(start_pointer):\n",
    "                return start_pointer\n",
    "            else:\n",
    "                if (end_pointer-start_pointer)>1:\n",
    "                    mid_pointer = int(0.5*(start_pointer + end_pointer)) \n",
    "                    if isBadVersion(mid_pointer): ## solution lies to left of this\n",
    "                        end_pointer = mid_pointer\n",
    "                    else: ## solution lies to right of this\n",
    "                        start_pointer = mid_pointer\n",
    "                else:\n",
    "                    if isBadVersion(start_pointer):\n",
    "                        return start_pointer\n",
    "                    else:\n",
    "                        return end_pointer\n",
    "                \n",
    "        \n",
    "            \n",
    "        \n",
    "        "
   ]
  },
  {
   "cell_type": "code",
   "execution_count": 22,
   "id": "f6735e7e-db69-47bc-adde-1ae87bd82092",
   "metadata": {},
   "outputs": [],
   "source": [
    "a = Solution()"
   ]
  },
  {
   "cell_type": "code",
   "execution_count": 23,
   "id": "276902bf-937e-4916-aacc-45dbe3c518ab",
   "metadata": {},
   "outputs": [
    {
     "name": "stdout",
     "output_type": "stream",
     "text": [
      "1 11\n",
      "1 6\n",
      "1 3\n",
      "2 3\n"
     ]
    },
    {
     "data": {
      "text/plain": [
       "3"
      ]
     },
     "execution_count": 23,
     "metadata": {},
     "output_type": "execute_result"
    }
   ],
   "source": [
    "a.firstBadVersion(11)"
   ]
  },
  {
   "cell_type": "markdown",
   "id": "fbf72453-e316-4019-a9c3-3e38d7697444",
   "metadata": {},
   "source": [
    "https://leetcode.com/problems/sqrtx/\n",
    "\n",
    "Given a non-negative integer x, compute and return the square root of x.\n",
    "\n",
    "Since the return type is an integer, the decimal digits are truncated, and only the integer part of the result is returned.\n",
    "\n",
    "Note: You are not allowed to use any built-in exponent function or operator, such as pow(x, 0.5) or x ** 0.5."
   ]
  },
  {
   "cell_type": "code",
   "execution_count": 24,
   "id": "9c6646e8-f732-4f67-8bb7-8a59c73fd1f7",
   "metadata": {},
   "outputs": [],
   "source": [
    "class Solution:\n",
    "    def mySqrt(self, x: int) -> int:\n",
    "        if x<=1:\n",
    "            return x\n",
    "        start_pointer = 1\n",
    "        end_pointer = x\n",
    "        \n",
    "        while (end_pointer-start_pointer)>1:\n",
    "            mid_pointer = int(0.5*(start_pointer + end_pointer))\n",
    "            if mid_pointer**2 > x:\n",
    "                end_pointer = mid_pointer\n",
    "            elif mid_pointer**2 < x:\n",
    "                start_pointer = mid_pointer\n",
    "            else:\n",
    "                return mid_pointer\n",
    "        return start_pointer\n",
    "        "
   ]
  },
  {
   "cell_type": "code",
   "execution_count": 25,
   "id": "696e0350-a804-4418-85fa-1639674a1d39",
   "metadata": {},
   "outputs": [],
   "source": [
    "a = Solution()"
   ]
  },
  {
   "cell_type": "code",
   "execution_count": 33,
   "id": "2edea91c-9dce-46af-aad3-6ad392a1e4ff",
   "metadata": {},
   "outputs": [
    {
     "data": {
      "text/plain": [
       "1"
      ]
     },
     "execution_count": 33,
     "metadata": {},
     "output_type": "execute_result"
    }
   ],
   "source": [
    "a.mySqrt(1)"
   ]
  },
  {
   "cell_type": "markdown",
   "id": "380b84dd-4376-4bd8-8fc2-7bb1fd5f2cfb",
   "metadata": {},
   "source": [
    "## Implement binary search\n",
    "https://leetcode.com/problems/binary-search/\n",
    "\n",
    "Given an array of integers nums which is sorted in ascending order, and an integer target, write a function to search target in nums. If target exists, then return its index. Otherwise, return -1.\n",
    "\n",
    "You must write an algorithm with O(log n) runtime complexity."
   ]
  },
  {
   "cell_type": "code",
   "execution_count": 8,
   "id": "8209aec7-be0e-48c4-a83e-6264ab17614b",
   "metadata": {},
   "outputs": [],
   "source": [
    "from typing import List\n",
    "class Solution:\n",
    "    def search(self, nums: List[int], target: int) -> int:\n",
    "        \n",
    "        l = 0\n",
    "        r = len(nums)-1\n",
    "        \n",
    "        while l <= r:\n",
    "            m = (l + r)//2\n",
    "            if nums[m]>target : ## target ft half\n",
    "                r = m-1\n",
    "            elif nums[m]<target : ## target in left half\n",
    "                l = m+1\n",
    "            else: ## equality\n",
    "                return m\n",
    "        return -1"
   ]
  },
  {
   "cell_type": "code",
   "execution_count": 9,
   "id": "209d23ba-e02c-4a9e-9128-8b9e214b83ac",
   "metadata": {},
   "outputs": [],
   "source": [
    "a = Solution()"
   ]
  },
  {
   "cell_type": "code",
   "execution_count": 11,
   "id": "c454ca0a-2bd2-4f80-9b83-19e79d05b254",
   "metadata": {},
   "outputs": [],
   "source": [
    "nums = [-1,0,3,5,9,12]\n",
    "target = 9"
   ]
  },
  {
   "cell_type": "code",
   "execution_count": 12,
   "id": "9f38bb39-b654-46a8-9cf8-5d62858596d5",
   "metadata": {},
   "outputs": [
    {
     "data": {
      "text/plain": [
       "4"
      ]
     },
     "execution_count": 12,
     "metadata": {},
     "output_type": "execute_result"
    }
   ],
   "source": [
    "a.search(nums, target)"
   ]
  },
  {
   "cell_type": "code",
   "execution_count": 13,
   "id": "a5966a6f-4edd-480d-8c0c-5eb022a95e33",
   "metadata": {},
   "outputs": [
    {
     "data": {
      "text/plain": [
       "4"
      ]
     },
     "execution_count": 13,
     "metadata": {},
     "output_type": "execute_result"
    }
   ],
   "source": [
    "bisect.bisect_left(nums, target)"
   ]
  },
  {
   "cell_type": "code",
   "execution_count": 14,
   "id": "015ac8bb-8c0e-44b1-8810-8b66eaf891d4",
   "metadata": {},
   "outputs": [
    {
     "data": {
      "text/plain": [
       "2"
      ]
     },
     "execution_count": 14,
     "metadata": {},
     "output_type": "execute_result"
    }
   ],
   "source": [
    "nums = [-1,0,3,5,9,12]\n",
    "target = 2\n",
    "bisect.bisect_left(nums, target)"
   ]
  },
  {
   "cell_type": "markdown",
   "id": "353000b4-1045-4aaa-9216-d8ebe868f314",
   "metadata": {},
   "source": [
    "## Search for 2D matrix\n",
    "https://leetcode.com/problems/search-a-2d-matrix/"
   ]
  },
  {
   "cell_type": "markdown",
   "id": "664c04c2-fcd0-4cbd-80c4-02d399323eca",
   "metadata": {},
   "source": [
    "Write an efficient algorithm that searches for a value target in an m x n integer matrix matrix. This matrix has the following properties:\n",
    "\n",
    "Integers in each row are sorted from left to right.\n",
    "The first integer of each row is greater than the last integer of the previous row."
   ]
  },
  {
   "cell_type": "code",
   "execution_count": 15,
   "id": "3fe5c275-e152-444c-97d1-f1bab72cb4a3",
   "metadata": {},
   "outputs": [],
   "source": [
    "class Solution:\n",
    "    def searchMatrix(self, matrix: List[List[int]], target: int) -> bool:\n",
    "        flat_list = [item for sublist in matrix for item in sublist]\n",
    "        l = 0\n",
    "        r = len(flat_list)-1\n",
    "        \n",
    "        while (l<=r):\n",
    "            m = (l+r)//2\n",
    "            if target < nums[m]:\n",
    "                r = m-1\n",
    "            elif target > nums[m]:\n",
    "                l = m+1\n",
    "            else:\n",
    "                return True\n",
    "        return False"
   ]
  },
  {
   "cell_type": "code",
   "execution_count": 16,
   "id": "be7e5aa0-6121-4228-84dc-f1b8d570d757",
   "metadata": {},
   "outputs": [],
   "source": [
    "a = Solution()"
   ]
  },
  {
   "cell_type": "code",
   "execution_count": 18,
   "id": "c05703d1-e562-42be-841b-de5a2df24e57",
   "metadata": {},
   "outputs": [
    {
     "data": {
      "text/plain": [
       "False"
      ]
     },
     "execution_count": 18,
     "metadata": {},
     "output_type": "execute_result"
    }
   ],
   "source": [
    "a.searchMatrix(matrix = [[1,3,5,7],[10,11,16,20],[23,30,34,60]], target = 6)"
   ]
  },
  {
   "cell_type": "markdown",
   "id": "cd93ee51-02a3-4f23-803a-4ccd50a6e258",
   "metadata": {},
   "source": [
    "## Koko eating bananas\n",
    "https://leetcode.com/problems/koko-eating-bananas/"
   ]
  },
  {
   "cell_type": "code",
   "execution_count": 117,
   "id": "0a086d50-0043-4598-82ab-e234927acc68",
   "metadata": {},
   "outputs": [],
   "source": [
    "class Solution:\n",
    "    \n",
    "    def numHours(self, h_curr):\n",
    "        \n",
    "        num_hours = 0\n",
    "        for i in range(0, self.n):\n",
    "            if self.piles[i]%h_curr==0:\n",
    "                num_hours = num_hours + (self.piles[i]//h_curr) \n",
    "            else:\n",
    "                num_hours = num_hours + (self.piles[i]//h_curr) + 1\n",
    "        return num_hours\n",
    "        \n",
    "    def minEatingSpeed(self, piles: List[int], h: int) -> int:\n",
    "\n",
    "        self.piles = piles\n",
    "        self.n = len(piles)\n",
    "        self.h = h\n",
    "        \n",
    "        l = 1  ## lowest rate possible to eat\n",
    "        r = max(self.piles) ## highest rate, lowest time taken. If r>max_piles, the time will not change, it will still remain same\n",
    "        \n",
    "        result = r ## initialize result to the largest possible time taken - why not minimim ? because we want the minimum rate\n",
    "        while l <= r:\n",
    "            m = l + ((r-l)//2)\n",
    "            num_hours_m = self.numHours(m)\n",
    "            if num_hours_m > h : ## eating too slow, have to increase speed\n",
    "                l = m+1\n",
    "            else: #3  able to finish within h, could be a possible solution, but have to check if there is a slower rate which is also a possible solution\n",
    "                result = m\n",
    "                r = m-1\n",
    "        return result"
   ]
  },
  {
   "cell_type": "code",
   "execution_count": 118,
   "id": "9ed015fc-8b6b-4ad5-8007-0941db66f3a2",
   "metadata": {},
   "outputs": [],
   "source": [
    "a = Solution()\n",
    "piles = [312884470]\n",
    "h = 312884469\n",
    "piles = [312884470]\n",
    "h = 968709470\n",
    "piles  = [3,6,7,11]\n",
    "h = 8\n"
   ]
  },
  {
   "cell_type": "code",
   "execution_count": 119,
   "id": "35755931-1ad6-4e4a-8cec-dabcd9e80496",
   "metadata": {},
   "outputs": [
    {
     "name": "stdout",
     "output_type": "stream",
     "text": [
      "nums_rate [11, 10, 9, 8, 7, 6, 5, 4, 3, 2, 1]\n",
      "numrs_hours [4, 5, 5, 5, 5, 6, 8, 8, 10, 15, 27]\n",
      "8 3\n"
     ]
    },
    {
     "data": {
      "text/plain": [
       "5"
      ]
     },
     "execution_count": 119,
     "metadata": {},
     "output_type": "execute_result"
    }
   ],
   "source": [
    "a.minEatingSpeed(piles, h)"
   ]
  },
  {
   "cell_type": "code",
   "execution_count": 106,
   "id": "d4d4ada6-a83b-462e-b795-91e10346607b",
   "metadata": {},
   "outputs": [],
   "source": [
    "nums = list(range(0,10+1,1))"
   ]
  },
  {
   "cell_type": "code",
   "execution_count": 107,
   "id": "23981b3e-39d6-4ab4-a17b-015041cd4d2c",
   "metadata": {},
   "outputs": [
    {
     "data": {
      "text/plain": [
       "[0, 1, 2, 3, 4, 5, 6, 7, 8, 9, 10]"
      ]
     },
     "execution_count": 107,
     "metadata": {},
     "output_type": "execute_result"
    }
   ],
   "source": [
    "nums"
   ]
  },
  {
   "cell_type": "code",
   "execution_count": 29,
   "id": "7b7368e8-2fb7-4c8e-8654-006f2d5a9b56",
   "metadata": {},
   "outputs": [
    {
     "data": {
      "text/plain": [
       "1000000000"
      ]
     },
     "execution_count": 29,
     "metadata": {},
     "output_type": "execute_result"
    }
   ],
   "source": [
    "10**9"
   ]
  },
  {
   "cell_type": "markdown",
   "id": "11289007-1693-4758-b173-06ebcb2e8c8c",
   "metadata": {},
   "source": [
    "## Search in rotated sorted array\n",
    "https://leetcode.com/problems/search-in-rotated-sorted-array/"
   ]
  },
  {
   "cell_type": "code",
   "execution_count": 189,
   "id": "ca8280e2-5f62-4d12-86da-0f52f9f1e1ff",
   "metadata": {},
   "outputs": [],
   "source": [
    "class Solution:\n",
    "    \n",
    "    \n",
    "    def binary_search(self, lis, target, l, r):\n",
    "\n",
    "        print(\"inside binary search\")\n",
    "        print(target,l,r,lis)\n",
    "        print(\"************\")\n",
    "        output = None\n",
    "        while (l<=r):\n",
    "            print(l,r)\n",
    "            m  = l + ((r-l)//2)\n",
    "            print(m, lis[m])\n",
    "            if target < lis[m]:\n",
    "                r = m-1\n",
    "            elif target > lis[m]:\n",
    "                l = m+1\n",
    "            else:\n",
    "                output = m\n",
    "                break\n",
    "        if output is None:\n",
    "            output = -1\n",
    "        return output\n",
    "        \n",
    "    def search(self, nums: List[int], target: int) -> int:\n",
    "        \n",
    "        n = len(nums)\n",
    "        ## First check if rotated\n",
    "        if nums[-1]>nums[0] :  ## not rotated\n",
    "            rotation = False\n",
    "        else:\n",
    "            rotation = True\n",
    "        print(\"rotation\", rotation)\n",
    "        ## can you with binary search find where rotation happened\n",
    "        if rotation:\n",
    "            l = 0\n",
    "            r = n-1\n",
    "            p = None\n",
    "            \n",
    "            while l<=r:\n",
    "                \n",
    "                m = l + (r-l)//2\n",
    "                if m==(n-1):\n",
    "                    break\n",
    "                print(l,r,m,nums[m],nums[m+1])\n",
    "                if nums[m]>nums[m+1]:\n",
    "                    p = m ## p is an index after which break \n",
    "                    print(\"p\", p)\n",
    "                    break\n",
    "                else: ## have to decide which way to go\n",
    "                    if nums[m]>nums[l]: ## first half is sorted, break in right half\n",
    "                        l = m \n",
    "                    else: ## break in first half\n",
    "                        r = m\n",
    "            if p is not None:           \n",
    "                if target<nums[0]: #3 in second half\n",
    "                    l = p+1\n",
    "                    r = n-1\n",
    "\n",
    "                    ## do standard binary search\n",
    "                else:\n",
    "                    l = 0\n",
    "                    r = p \n",
    "                    ## do standard binary search\n",
    "            else:\n",
    "                l = 0\n",
    "                r = n-1\n",
    "        else:\n",
    "            l = 0\n",
    "            r = n-1\n",
    "        print(l,r)\n",
    "        final_output = self.binary_search(nums, target, l, r)\n",
    "        return final_output\n",
    "        \n",
    "                    \n",
    "            "
   ]
  },
  {
   "cell_type": "code",
   "execution_count": 190,
   "id": "1c66865c-d781-455d-b735-a0a2b5736143",
   "metadata": {},
   "outputs": [],
   "source": [
    "a = Solution()"
   ]
  },
  {
   "cell_type": "code",
   "execution_count": 191,
   "id": "d80d9396-0c2d-4839-911b-80b268cf8f3a",
   "metadata": {},
   "outputs": [],
   "source": [
    "nums = [8,9,2,3,4]\n",
    "target = 9\n",
    "##nums = [4,5,6,7,0,1,2]\n",
    "##target = 500"
   ]
  },
  {
   "cell_type": "markdown",
   "id": "c3330764-dcd0-47b9-8ce4-b2989189e67d",
   "metadata": {},
   "source": [
    "https://leetcode.com/problems/find-minimum-in-rotated-sorted-array/\n",
    "## Find Minimum in Rotated Sorted Array"
   ]
  },
  {
   "cell_type": "code",
   "execution_count": 193,
   "id": "0b02b7b2-d1b1-4b28-b2b6-55cc7c02a0c1",
   "metadata": {},
   "outputs": [],
   "source": [
    "class Solution:\n",
    "    def findMin(self, nums: List[int]) -> int:\n",
    "        if nums[0]<=nums[-1]: ## no rotation\n",
    "            return nums[0]\n",
    "        \n",
    "        ## find index of rotation m such that nums[0:m+1] is sorted, and nums[m+1:(n-1)] is sorted\n",
    "        n = len(nums)\n",
    "        \n",
    "        l = 0\n",
    "        r = n-1\n",
    "        \n",
    "        p = None\n",
    "        while l<=r:\n",
    "            m = l + ((r-l)//2)\n",
    "            if m==n-1:\n",
    "                break\n",
    "            if nums[m]>nums[m+1]: ## break point found\n",
    "                p = m\n",
    "                break\n",
    "            else:\n",
    "                if nums[m]>nums[0]: ## left portion is sorted, so break on right side\n",
    "                    l = m\n",
    "                    \n",
    "                else: ## right portion is sorted, so break on left side\n",
    "                    r = m\n",
    "        if p is None:\n",
    "            return nums[0]\n",
    "        \n",
    "        return nums[m+1]\n",
    "                    \n",
    "                \n",
    "                \n",
    "            "
   ]
  },
  {
   "cell_type": "code",
   "execution_count": 203,
   "id": "09c0a9cf-2c3a-47a9-b7fb-1d8927b064bd",
   "metadata": {},
   "outputs": [
    {
     "ename": "TypeError",
     "evalue": "'set' object is not subscriptable",
     "output_type": "error",
     "traceback": [
      "\u001b[1;31m---------------------------------------------------------------------------\u001b[0m",
      "\u001b[1;31mTypeError\u001b[0m                                 Traceback (most recent call last)",
      "\u001b[1;32m<ipython-input-203-921c9ab1a1a9>\u001b[0m in \u001b[0;36m<module>\u001b[1;34m\u001b[0m\n\u001b[1;32m----> 1\u001b[1;33m \u001b[0mset\u001b[0m\u001b[1;33m(\u001b[0m\u001b[1;33m[\u001b[0m\u001b[1;36m5\u001b[0m\u001b[1;33m,\u001b[0m\u001b[1;36m5\u001b[0m\u001b[1;33m,\u001b[0m\u001b[1;36m1\u001b[0m\u001b[1;33m,\u001b[0m\u001b[1;36m1\u001b[0m\u001b[1;33m,\u001b[0m\u001b[1;36m2\u001b[0m\u001b[1;33m,\u001b[0m\u001b[1;36m3\u001b[0m\u001b[1;33m,\u001b[0m\u001b[1;36m4\u001b[0m\u001b[1;33m]\u001b[0m\u001b[1;33m)\u001b[0m\u001b[1;33m[\u001b[0m\u001b[1;36m0\u001b[0m\u001b[1;33m]\u001b[0m\u001b[1;33m\u001b[0m\u001b[1;33m\u001b[0m\u001b[0m\n\u001b[0m",
      "\u001b[1;31mTypeError\u001b[0m: 'set' object is not subscriptable"
     ]
    }
   ],
   "source": [
    "set([5,5,1,1,2,3,4])[0]"
   ]
  },
  {
   "cell_type": "code",
   "execution_count": 194,
   "id": "ea787b1d-ce36-44b7-840f-c97632a38e7e",
   "metadata": {},
   "outputs": [],
   "source": [
    "a = Solution()"
   ]
  },
  {
   "cell_type": "code",
   "execution_count": 199,
   "id": "4f18362b-b5d4-4455-b78b-040ce0f2e7fb",
   "metadata": {},
   "outputs": [],
   "source": [
    "nums = [11,13,15,17]"
   ]
  },
  {
   "cell_type": "code",
   "execution_count": 200,
   "id": "174f9dcb-1c87-4e2f-8a63-ccd14dd8b000",
   "metadata": {},
   "outputs": [
    {
     "data": {
      "text/plain": [
       "11"
      ]
     },
     "execution_count": 200,
     "metadata": {},
     "output_type": "execute_result"
    }
   ],
   "source": [
    "a.findMin(nums)"
   ]
  },
  {
   "cell_type": "code",
   "execution_count": null,
   "id": "8f41c95e-1d02-4d6c-9e9b-a04cca64a0c2",
   "metadata": {},
   "outputs": [],
   "source": []
  }
 ],
 "metadata": {
  "kernelspec": {
   "display_name": "Python 3",
   "language": "python",
   "name": "python3"
  },
  "language_info": {
   "codemirror_mode": {
    "name": "ipython",
    "version": 3
   },
   "file_extension": ".py",
   "mimetype": "text/x-python",
   "name": "python",
   "nbconvert_exporter": "python",
   "pygments_lexer": "ipython3",
   "version": "3.8.8"
  }
 },
 "nbformat": 4,
 "nbformat_minor": 5
}
