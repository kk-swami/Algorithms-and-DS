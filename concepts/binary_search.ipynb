{
 "cells": [
  {
   "cell_type": "code",
   "execution_count": 1,
   "id": "ad3f062c-4940-440d-bdca-6d37263ea4f6",
   "metadata": {},
   "outputs": [
    {
     "ename": "NameError",
     "evalue": "name 'hi' is not defined",
     "output_type": "error",
     "traceback": [
      "\u001b[1;31m---------------------------------------------------------------------------\u001b[0m",
      "\u001b[1;31mNameError\u001b[0m                                 Traceback (most recent call last)",
      "\u001b[1;32m<ipython-input-1-55ca6286e3e4>\u001b[0m in \u001b[0;36m<module>\u001b[1;34m\u001b[0m\n\u001b[1;32m----> 1\u001b[1;33m \u001b[0mhi\u001b[0m\u001b[1;33m\u001b[0m\u001b[1;33m\u001b[0m\u001b[0m\n\u001b[0m",
      "\u001b[1;31mNameError\u001b[0m: name 'hi' is not defined"
     ]
    }
   ],
   "source": [
    "hi"
   ]
  },
  {
   "cell_type": "markdown",
   "id": "3aaa20fe-b1dc-4230-8afe-acb555edaafe",
   "metadata": {},
   "source": [
    "https://leetcode.com/problems/first-bad-version/\n",
    "\n",
    "You are a product manager and currently leading a team to develop a new product. Unfortunately, the latest version of your product fails the quality check. Since each version is developed based on the previous version, all the versions after a bad version are also bad.\n",
    "\n",
    "Suppose you have n versions [1, 2, ..., n] and you want to find out the first bad one, which causes all the following ones to be bad.\n",
    "\n",
    "You are given an API bool isBadVersion(version) which returns whether version is bad. Implement a function to find the first bad version. You should minimize the number of calls to the API."
   ]
  },
  {
   "cell_type": "code",
   "execution_count": 10,
   "id": "97e97192-2092-4c81-85ff-402a81b757df",
   "metadata": {},
   "outputs": [],
   "source": [
    "def isBadVersion(version: int) -> bool:\n",
    "    if version>=3:\n",
    "        return True\n",
    "    else:\n",
    "        return False"
   ]
  },
  {
   "cell_type": "code",
   "execution_count": 21,
   "id": "9eacd02e-c24c-45a2-b292-42b2a6f4f801",
   "metadata": {},
   "outputs": [],
   "source": [
    "class Solution:\n",
    "    def firstBadVersion(self, n: int) -> int:\n",
    "        start_pointer = 1\n",
    "        end_pointer = n\n",
    "        \n",
    "        if n==1:\n",
    "            return 1\n",
    "        \n",
    "        \n",
    "        while True:\n",
    "            if isBadVersion(start_pointer):\n",
    "                return start_pointer\n",
    "            else:\n",
    "                if (end_pointer-start_pointer)>1:\n",
    "                    mid_pointer = int(0.5*(start_pointer + end_pointer)) \n",
    "                    if isBadVersion(mid_pointer): ## solution lies to left of this\n",
    "                        end_pointer = mid_pointer\n",
    "                    else: ## solution lies to right of this\n",
    "                        start_pointer = mid_pointer\n",
    "                else:\n",
    "                    if isBadVersion(start_pointer):\n",
    "                        return start_pointer\n",
    "                    else:\n",
    "                        return end_pointer\n",
    "                \n",
    "        \n",
    "            \n",
    "        \n",
    "        "
   ]
  },
  {
   "cell_type": "code",
   "execution_count": 22,
   "id": "f6735e7e-db69-47bc-adde-1ae87bd82092",
   "metadata": {},
   "outputs": [],
   "source": [
    "a = Solution()"
   ]
  },
  {
   "cell_type": "code",
   "execution_count": 23,
   "id": "276902bf-937e-4916-aacc-45dbe3c518ab",
   "metadata": {},
   "outputs": [
    {
     "name": "stdout",
     "output_type": "stream",
     "text": [
      "1 11\n",
      "1 6\n",
      "1 3\n",
      "2 3\n"
     ]
    },
    {
     "data": {
      "text/plain": [
       "3"
      ]
     },
     "execution_count": 23,
     "metadata": {},
     "output_type": "execute_result"
    }
   ],
   "source": [
    "a.firstBadVersion(11)"
   ]
  },
  {
   "cell_type": "markdown",
   "id": "fbf72453-e316-4019-a9c3-3e38d7697444",
   "metadata": {},
   "source": [
    "https://leetcode.com/problems/sqrtx/\n",
    "\n",
    "Given a non-negative integer x, compute and return the square root of x.\n",
    "\n",
    "Since the return type is an integer, the decimal digits are truncated, and only the integer part of the result is returned.\n",
    "\n",
    "Note: You are not allowed to use any built-in exponent function or operator, such as pow(x, 0.5) or x ** 0.5."
   ]
  },
  {
   "cell_type": "code",
   "execution_count": 24,
   "id": "9c6646e8-f732-4f67-8bb7-8a59c73fd1f7",
   "metadata": {},
   "outputs": [],
   "source": [
    "class Solution:\n",
    "    def mySqrt(self, x: int) -> int:\n",
    "        if x<=1:\n",
    "            return x\n",
    "        start_pointer = 1\n",
    "        end_pointer = x\n",
    "        \n",
    "        while (end_pointer-start_pointer)>1:\n",
    "            mid_pointer = int(0.5*(start_pointer + end_pointer))\n",
    "            if mid_pointer**2 > x:\n",
    "                end_pointer = mid_pointer\n",
    "            elif mid_pointer**2 < x:\n",
    "                start_pointer = mid_pointer\n",
    "            else:\n",
    "                return mid_pointer\n",
    "        return start_pointer\n",
    "        "
   ]
  },
  {
   "cell_type": "code",
   "execution_count": 25,
   "id": "696e0350-a804-4418-85fa-1639674a1d39",
   "metadata": {},
   "outputs": [],
   "source": [
    "a = Solution()"
   ]
  },
  {
   "cell_type": "code",
   "execution_count": 33,
   "id": "2edea91c-9dce-46af-aad3-6ad392a1e4ff",
   "metadata": {},
   "outputs": [
    {
     "data": {
      "text/plain": [
       "1"
      ]
     },
     "execution_count": 33,
     "metadata": {},
     "output_type": "execute_result"
    }
   ],
   "source": [
    "a.mySqrt(1)"
   ]
  },
  {
   "cell_type": "code",
   "execution_count": 31,
   "id": "0eae661c-24d7-4cab-b29d-f73aa0e4b041",
   "metadata": {},
   "outputs": [
    {
     "data": {
      "text/plain": [
       "0.0"
      ]
     },
     "execution_count": 31,
     "metadata": {},
     "output_type": "execute_result"
    }
   ],
   "source": [
    "import math\n",
    "math.sqrt(52)"
   ]
  },
  {
   "cell_type": "code",
   "execution_count": null,
   "id": "8209aec7-be0e-48c4-a83e-6264ab17614b",
   "metadata": {},
   "outputs": [],
   "source": []
  }
 ],
 "metadata": {
  "kernelspec": {
   "display_name": "Python 3",
   "language": "python",
   "name": "python3"
  },
  "language_info": {
   "codemirror_mode": {
    "name": "ipython",
    "version": 3
   },
   "file_extension": ".py",
   "mimetype": "text/x-python",
   "name": "python",
   "nbconvert_exporter": "python",
   "pygments_lexer": "ipython3",
   "version": "3.8.8"
  }
 },
 "nbformat": 4,
 "nbformat_minor": 5
}
