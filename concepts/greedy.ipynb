{
 "cells": [
  {
   "cell_type": "markdown",
   "id": "a0eb1f9a-4f3f-4b91-99e2-0270be634e48",
   "metadata": {},
   "source": [
    "## Greedy Algorithms"
   ]
  },
  {
   "cell_type": "markdown",
   "id": "6e522995-ddf1-497f-b059-c01e01bde8be",
   "metadata": {},
   "source": [
    "Greedy algorithms are used to solve optimization problems (find minimum or maximum) with some constraints. \n",
    "\n",
    "Eg  : To travel from Chennai to Bangalore, there are many ways - car, train, flight, walk. Constraint is I want to cover it in <= 2 hours. In addition, you want to cover the journey in minimum cost\n",
    "\n",
    "The set of solutions satisfying the constraints is feasible solutions. Among the feasible solutions, the solution which results in minimum or maximum as the case might be is the optimal solution\n",
    "\n",
    "Optimal solution is thus a subset of feasible solutions"
   ]
  },
  {
   "cell_type": "markdown",
   "id": "c3ffbf77-1451-40b3-98c1-80d633bacac4",
   "metadata": {},
   "source": []
  },
  {
   "cell_type": "markdown",
   "id": "6ec4f836-36e6-4846-8976-dd2befef7fde",
   "metadata": {},
   "source": [
    "Optimization problems can be solved by one or more of greedy method, dynamic programming, branch and bound"
   ]
  },
  {
   "cell_type": "markdown",
   "id": "1431e760-e664-4be2-b540-79cee9dd26c3",
   "metadata": {},
   "source": [
    "In the greedy paradigm, task is broken into pieces/stages, and the immediate next piece is chosen such that it has the most obvious benefit. Thus steps are chosen based on local optimum, such that eventually global optimum is reached.Note that the global optimum is not guaranteed to be reached.\n",
    "\n",
    "Example : If you want to select a candidate out of 1K pool for an exam, have 3 rounds - First round, select 500, only among candidates selected in first round , select 20 for second round, from 20 in second round, select 1 finally -> this is greedy\n",
    "\n",
    "A non-greedy approach is to pass every person through all rounds, which is not feasible"
   ]
  },
  {
   "cell_type": "markdown",
   "id": "85875f71-eea7-42b7-bbe4-2eff927fd4c3",
   "metadata": {},
   "source": [
    "## Problem 1 : Fractional Knapsack Problem"
   ]
  },
  {
   "cell_type": "markdown",
   "id": "76fcdb34-536a-4d1e-952f-bb03c4f28a45",
   "metadata": {},
   "source": [
    "https://www.geeksforgeeks.org/fractional-knapsack-problem/"
   ]
  },
  {
   "cell_type": "markdown",
   "id": "25671ee8-4cfa-490b-a97b-a02710ea4dcd",
   "metadata": {},
   "source": [
    "Intuition : Sort in descending order of price per unit weight. In knapsack, keep adding one item by one starting with item with highest price per unit weight as long as weight < max_weight. Make up the difference with fractional weight of next item in sorted list\n",
    "\n",
    "Time complexity is O(NlogN) because of sorting, space complexity is O(N)"
   ]
  },
  {
   "cell_type": "code",
   "execution_count": 10,
   "id": "ec8f664f-5fc5-4891-9c54-4dd1023ddf4b",
   "metadata": {},
   "outputs": [],
   "source": [
    "def fractional_knapsack(wt_list, profit_list, max_weight):\n",
    "    item_list = []\n",
    "    for i in range(0, len(wt_list)):\n",
    "        item_dict = {}\n",
    "        item_dict['weight'] = wt_list[i]\n",
    "        item_dict['profit'] = profit_list[i]\n",
    "        item_dict['profit_per_unit_weight'] = profit_list[i]/wt_list[i]\n",
    "        item_list.append(item_dict)\n",
    "    newlist = sorted(item_list, key=lambda d: d['profit_per_unit_weight'], reverse=True)\n",
    "    \n",
    "    curr_weight = 0\n",
    "    counter = 0\n",
    "    outlist = []\n",
    "    total_profit = 0\n",
    "    while (curr_weight <= max_weight) and (counter < len(newlist)):\n",
    "        outlist.append(newlist[counter])\n",
    "        curr_weight = curr_weight + newlist[counter]['weight']\n",
    "        total_profit = total_profit + newlist[counter]['profit']\n",
    "        counter = counter + 1\n",
    "    if curr_weight > max_weight : ## pop last element\n",
    "        item = outlist.pop()\n",
    "        counter = counter - 1\n",
    "        curr_weight = curr_weight - item['weight']\n",
    "        total_profit = total_profit - item['profit']\n",
    "    print(\"curr_weight\", curr_weight)\n",
    "    if curr_weight < max_weight : ## some fractional object can be added\n",
    "        item = newlist[counter]\n",
    "        item['weight'] = max_weight - item['weight']\n",
    "        item['profit'] = item['profit_per_unit_weight']*item['weight']\n",
    "        total_profit = total_profit + item['profit']\n",
    "        outlist.append(item)\n",
    "    return total_profit, outlist\n",
    "    \n",
    "    \n",
    "    \n",
    "        \n",
    "        \n",
    "    \n",
    "        \n",
    "    \n",
    "        "
   ]
  },
  {
   "cell_type": "code",
   "execution_count": 11,
   "id": "62c8f138-47e7-41a3-90cc-26483ea730e4",
   "metadata": {},
   "outputs": [
    {
     "name": "stdout",
     "output_type": "stream",
     "text": [
      "curr_weight 30\n"
     ]
    },
    {
     "data": {
      "text/plain": [
       "(240.0,\n",
       " [{'weight': 10, 'profit': 60, 'profit_per_unit_weight': 6.0},\n",
       "  {'weight': 20, 'profit': 100, 'profit_per_unit_weight': 5.0},\n",
       "  {'weight': 20, 'profit': 80.0, 'profit_per_unit_weight': 4.0}])"
      ]
     },
     "execution_count": 11,
     "metadata": {},
     "output_type": "execute_result"
    }
   ],
   "source": [
    "wt_list = [10, 40, 20, 30]\n",
    "profit_list = [60, 40, 100, 120]\n",
    "max_weight = 50\n",
    "fractional_knapsack(wt_list, profit_list, max_weight)"
   ]
  },
  {
   "cell_type": "markdown",
   "id": "e6436968-7f37-465b-b2de-f5c99e255168",
   "metadata": {},
   "source": [
    "Queue reconstruction by height\n",
    "https://leetcode.com/problems/queue-reconstruction-by-height/"
   ]
  },
  {
   "cell_type": "code",
   "execution_count": 51,
   "id": "b731eee0-7dbb-4e07-90c4-2f20cd5b62cd",
   "metadata": {},
   "outputs": [],
   "source": [
    "from typing import List\n",
    "class Solution:\n",
    "    def reconstructQueue(self, people: List[List[int]]) -> List[List[int]]:\n",
    "        sort = sorted(people, key = lambda x: (x[0], x[1])) ## first by height, if two values have same height, smaller index should come first\n",
    "        output_list = [None]*len(sort)\n",
    "        print(sort)\n",
    "        for item in sort:\n",
    "            count = item[1] ## position\n",
    "            for i in range(0, len(output_list)):\n",
    "                if (count==0) and (not output_list[i]):\n",
    "                    output_list[i] = item\n",
    "                    print(\"here1\", output_list)\n",
    "                    break\n",
    "                else:\n",
    "                    if (count>0) and ((not output_list[i]) or (output_list[i][0]>=item[0])):\n",
    "                        count = count - 1\n",
    "        return output_list\n",
    "                "
   ]
  },
  {
   "cell_type": "code",
   "execution_count": 52,
   "id": "15cdcfe9-86af-4c84-be2c-ca977c09f170",
   "metadata": {},
   "outputs": [],
   "source": [
    "a = Solution()"
   ]
  },
  {
   "cell_type": "code",
   "execution_count": 10,
   "id": "63c73485-6427-4976-b0eb-8b7e5661d140",
   "metadata": {},
   "outputs": [],
   "source": [
    "people = [[7,0],[4,4],[7,1],[5,0],[6,1],[5,2]]"
   ]
  },
  {
   "cell_type": "code",
   "execution_count": 54,
   "id": "bee153c1-4f47-400a-8144-b347f3e1f764",
   "metadata": {},
   "outputs": [],
   "source": [
    "people = [[6,0],[5,0],[4,0],[3,2],[2,2],[1,4]]"
   ]
  },
  {
   "cell_type": "code",
   "execution_count": 55,
   "id": "cc91d334-b2d3-4dfd-a44f-ed02140d99e5",
   "metadata": {},
   "outputs": [
    {
     "name": "stdout",
     "output_type": "stream",
     "text": [
      "[[1, 4], [2, 2], [3, 2], [4, 0], [5, 0], [6, 0]]\n",
      "item [1, 4]\n",
      "[None, None, None, None, None, None]\n",
      "here1 [None, None, None, None, [1, 4], None]\n",
      "item [2, 2]\n",
      "[None, None, None, None, [1, 4], None]\n",
      "here1 [None, None, [2, 2], None, [1, 4], None]\n",
      "item [3, 2]\n",
      "[None, None, [2, 2], None, [1, 4], None]\n",
      "here1 [None, None, [2, 2], [3, 2], [1, 4], None]\n",
      "item [4, 0]\n",
      "[None, None, [2, 2], [3, 2], [1, 4], None]\n",
      "here1 [[4, 0], None, [2, 2], [3, 2], [1, 4], None]\n",
      "item [5, 0]\n",
      "[[4, 0], None, [2, 2], [3, 2], [1, 4], None]\n",
      "here1 [[4, 0], [5, 0], [2, 2], [3, 2], [1, 4], None]\n",
      "item [6, 0]\n",
      "[[4, 0], [5, 0], [2, 2], [3, 2], [1, 4], None]\n",
      "here1 [[4, 0], [5, 0], [2, 2], [3, 2], [1, 4], [6, 0]]\n"
     ]
    },
    {
     "data": {
      "text/plain": [
       "[[4, 0], [5, 0], [2, 2], [3, 2], [1, 4], [6, 0]]"
      ]
     },
     "execution_count": 55,
     "metadata": {},
     "output_type": "execute_result"
    }
   ],
   "source": [
    "a.reconstructQueue(people)"
   ]
  },
  {
   "cell_type": "markdown",
   "id": "e0825fc7-222e-4689-977f-f145261779da",
   "metadata": {},
   "source": [
    "## Assign Cookie"
   ]
  },
  {
   "cell_type": "markdown",
   "id": "fcbe5cfb-2e65-4e9e-b6b0-2cc215ef58ae",
   "metadata": {},
   "source": [
    "https://leetcode.com/problems/assign-cookies/\n",
    "\n",
    "Assume you are an awesome parent and want to give your children some cookies. But, you should give each child at most one cookie.\n",
    "\n",
    "Each child i has a greed factor g[i], which is the minimum size of a cookie that the child will be content with; and each cookie j has a size s[j]. If s[j] >= g[i], we can assign the cookie j to the child i, and the child i will be content. Your goal is to maximize the number of your content children and output the maximum number."
   ]
  },
  {
   "cell_type": "code",
   "execution_count": 81,
   "id": "c1fb8988-98a2-4ebc-afe9-64f249a40dd8",
   "metadata": {},
   "outputs": [],
   "source": [
    "class Solution:\n",
    "    def findContentChildren(self, g: List[int], s: List[int]) -> int:\n",
    "        g.sort()\n",
    "        s.sort()\n",
    "        number_satisfied_children = 0\n",
    "        for i in range(len(g)):\n",
    "            for j in range(s_init, len(s)):\n",
    "\n",
    "                if s[j]>=g[i]:\n",
    "                    s = s[(j+1):]\n",
    "                    number_satisfied_children = number_satisfied_children + 1\n",
    "                    break\n",
    "        return number_satisfied_children\n",
    "            \n",
    "        "
   ]
  },
  {
   "cell_type": "code",
   "execution_count": 82,
   "id": "86d4a374-f8e2-4948-a56e-4fd81a00e2e4",
   "metadata": {},
   "outputs": [],
   "source": [
    "a = Solution()"
   ]
  },
  {
   "cell_type": "code",
   "execution_count": 79,
   "id": "0652f877-d9cb-42c3-be00-0eacf5af7c23",
   "metadata": {},
   "outputs": [],
   "source": [
    "g = [1,2]\n",
    "s = [1,2,3]\n"
   ]
  },
  {
   "cell_type": "code",
   "execution_count": 83,
   "id": "630a7f79-dc1b-41e9-a8b4-6f02f4311555",
   "metadata": {},
   "outputs": [
    {
     "name": "stdout",
     "output_type": "stream",
     "text": [
      "0 0\n",
      "s[j] 2\n",
      "g[i] 1\n"
     ]
    },
    {
     "data": {
      "text/plain": [
       "1"
      ]
     },
     "execution_count": 83,
     "metadata": {},
     "output_type": "execute_result"
    }
   ],
   "source": [
    "a.findContentChildren(g, s)"
   ]
  },
  {
   "cell_type": "markdown",
   "id": "3465419d-f807-47d5-8f32-80208b30d765",
   "metadata": {},
   "source": [
    "## Task scheduler"
   ]
  },
  {
   "cell_type": "markdown",
   "id": "4aeea90e-b6f7-46c9-894c-78b52c9cab06",
   "metadata": {},
   "source": [
    "https://leetcode.com/problems/task-scheduler/\n",
    "\n",
    "Given a characters array tasks, representing the tasks a CPU needs to do, where each letter represents a different task. Tasks could be done in any order. Each task is done in one unit of time. For each unit of time, the CPU could complete either one task or just be idle.\n",
    "\n",
    "However, there is a non-negative integer n that represents the cooldown period between two same tasks (the same letter in the array), that is that there must be at least n units of time between any two same tasks.\n",
    "\n",
    "Return the least number of units of times that the CPU will take to finish all the given tasks."
   ]
  },
  {
   "cell_type": "markdown",
   "id": "7f69612d-4f7d-4143-b364-ad1bba6e1b30",
   "metadata": {},
   "source": [
    "Approach 1:\n",
    "Create a count dict from incoming tasks list. initialize a wait time dict with key as task and initial value as 0\n",
    "create a function  f which takes count dict, and wait dict, and returns next task to be considered (task whose waiting time in wait dict is 0, and count dict is maximum). If No task is ready (all tasks are waiting) return None\n",
    "\n",
    "create a variable for total number of tasks as length of task list. initialize empty queue, populate with first task\n",
    "while total number of task > 0\n",
    "    pop task\n",
    "    append task to output\n",
    "    decrement total number of tasks by 1\n",
    "    in count dict, decrement count for that task by 1\n",
    "    in wait dict, for that task, set value to wait time n, and for all other tasks, if value not 0, decrement wait time by 1\n",
    "    get next task using f , if output of f is None, append 'wait' to output, for all keys decrement wait time by 1, and keep calling f till output of f \n",
    "    is not None\n",
    "return len(output)\n",
    "This approach is correct, but the problem is it doesn't pass leet code's time checks (not sure why, it is reasonably fast) - update, passed leetcode\n",
    "\n",
    "What's the complexity ?\n",
    "1) Getting count dict - O(n) where n is length of task\n",
    "2) Getting wait dict - O(k) -> k unique tasks, this can atmax be 26, as there are 26 possible unique tasks in worse case\n",
    "3) While loop is run  for total length of output which is O(n + wait). Inside while loop, to find next element to process is O(k)\n",
    "Overall O(n)"
   ]
  },
  {
   "cell_type": "code",
   "execution_count": 199,
   "id": "81a2eb64-6dec-4ead-be33-0dcd53b4e1a9",
   "metadata": {},
   "outputs": [],
   "source": [
    "from collections import Counter, deque\n",
    "class Solution:\n",
    "    def leastInterval(self, tasks: List[str], n: int) -> int:\n",
    "        \n",
    "        def return_next_element(wait, cou):\n",
    "            ## return element with highest count and 0 wait\n",
    "            output = None\n",
    "            count = 0\n",
    "\n",
    "            for key in wait.keys():\n",
    "                if wait[key]==0:\n",
    "                    if (output is None) and (cou[key]>0):\n",
    "                        output = key\n",
    "                        count = cou[key]\n",
    "                    else:\n",
    "                        if cou[key]>count:\n",
    "                            count = cou[key]\n",
    "                            output = key\n",
    "            return output\n",
    "            \n",
    "        cou = dict(Counter(tasks))           \n",
    "        wait = dict()\n",
    "        for key in cou.keys():\n",
    "            wait[key] = 0\n",
    "            \n",
    "        a = deque()\n",
    "        starting_element = return_next_element(wait, cou)\n",
    "        ##print(cou)\n",
    "        \n",
    "        a.append(starting_element)\n",
    "        ##print(\"a start\", a)\n",
    "\n",
    "        total_tasks = len(tasks)\n",
    "\n",
    "        ##print(unique_tasks)\n",
    "        output = []\n",
    "        while (total_tasks>0):\n",
    "            key = a.popleft()\n",
    "            ##print(key, total_tasks)\n",
    "\n",
    "            output.append(key)\n",
    "            ##print(\"output\", output)\n",
    "            total_tasks = total_tasks-1\n",
    "            cou[key] = cou[key]-1\n",
    "            if cou[key]==0:\n",
    "                cou.pop(key)\n",
    "                wait.pop(key)\n",
    "            else:\n",
    "                wait[key] = n\n",
    "            for key1 in wait.keys():\n",
    "                if key1 != key:\n",
    "                    if wait[key1] != 0:\n",
    "                        wait[key1] = wait[key1]-1\n",
    "            key = return_next_element(wait, cou)\n",
    "            ##print(\"here2\", key)\n",
    "            ##print(\"total_tasks\", total_tasks)\n",
    "            if total_tasks==0:\n",
    "                break\n",
    "            while not key:\n",
    "                output.append('wait')\n",
    "                for key1 in wait.keys():\n",
    "                    if wait[key1] != 0:\n",
    "                        wait[key1] = wait[key1]-1\n",
    "                key = return_next_element(wait, cou)\n",
    "            a.append(key)\n",
    "                \n",
    "\n",
    "                \n",
    "            \n",
    "        return len(output)\n",
    "            \n",
    "            "
   ]
  },
  {
   "cell_type": "code",
   "execution_count": 213,
   "id": "dd2c45b8-1366-4f49-849d-d90a9054a1e9",
   "metadata": {},
   "outputs": [
    {
     "ename": "NameError",
     "evalue": "name 'queue' is not defined",
     "output_type": "error",
     "traceback": [
      "\u001b[1;31m---------------------------------------------------------------------------\u001b[0m",
      "\u001b[1;31mNameError\u001b[0m                                 Traceback (most recent call last)",
      "\u001b[1;32m<ipython-input-213-3b0da72119b8>\u001b[0m in \u001b[0;36m<module>\u001b[1;34m\u001b[0m\n\u001b[0;32m      3\u001b[0m \u001b[0mn\u001b[0m \u001b[1;33m=\u001b[0m \u001b[1;36m2\u001b[0m\u001b[1;33m\u001b[0m\u001b[1;33m\u001b[0m\u001b[0m\n\u001b[0;32m      4\u001b[0m \u001b[0ma\u001b[0m \u001b[1;33m=\u001b[0m \u001b[0mSolution\u001b[0m\u001b[1;33m(\u001b[0m\u001b[1;33m)\u001b[0m\u001b[1;33m\u001b[0m\u001b[1;33m\u001b[0m\u001b[0m\n\u001b[1;32m----> 5\u001b[1;33m \u001b[0ma\u001b[0m\u001b[1;33m.\u001b[0m\u001b[0mleastInterval\u001b[0m\u001b[1;33m(\u001b[0m\u001b[0mtasks\u001b[0m\u001b[1;33m,\u001b[0m \u001b[0mn\u001b[0m\u001b[1;33m)\u001b[0m\u001b[1;33m\u001b[0m\u001b[1;33m\u001b[0m\u001b[0m\n\u001b[0m",
      "\u001b[1;32m<ipython-input-211-6f256e981cef>\u001b[0m in \u001b[0;36mleastInterval\u001b[1;34m(self, tasks, n)\u001b[0m\n\u001b[0;32m     16\u001b[0m                 \u001b[1;32mif\u001b[0m \u001b[0mcnt\u001b[0m \u001b[1;33m!=\u001b[0m \u001b[1;36m0\u001b[0m\u001b[1;33m:\u001b[0m\u001b[1;33m\u001b[0m\u001b[1;33m\u001b[0m\u001b[0m\n\u001b[0;32m     17\u001b[0m                     \u001b[0mq\u001b[0m\u001b[1;33m.\u001b[0m\u001b[0mappend\u001b[0m\u001b[1;33m(\u001b[0m\u001b[1;33m[\u001b[0m\u001b[0mcnt\u001b[0m\u001b[1;33m,\u001b[0m \u001b[0mtime\u001b[0m \u001b[1;33m+\u001b[0m \u001b[0mn\u001b[0m\u001b[1;33m]\u001b[0m\u001b[1;33m)\u001b[0m\u001b[1;33m\u001b[0m\u001b[1;33m\u001b[0m\u001b[0m\n\u001b[1;32m---> 18\u001b[1;33m             \u001b[1;32mif\u001b[0m \u001b[0mqueue\u001b[0m \u001b[1;32mand\u001b[0m \u001b[0mq\u001b[0m\u001b[1;33m[\u001b[0m\u001b[1;36m0\u001b[0m\u001b[1;33m]\u001b[0m\u001b[1;33m[\u001b[0m\u001b[1;36m1\u001b[0m\u001b[1;33m]\u001b[0m\u001b[1;33m==\u001b[0m\u001b[0mtime\u001b[0m\u001b[1;33m:\u001b[0m\u001b[1;33m\u001b[0m\u001b[1;33m\u001b[0m\u001b[0m\n\u001b[0m\u001b[0;32m     19\u001b[0m                 \u001b[0mheapq\u001b[0m\u001b[1;33m.\u001b[0m\u001b[0mheappush\u001b[0m\u001b[1;33m(\u001b[0m \u001b[0mmaxHeap\u001b[0m\u001b[1;33m,\u001b[0m \u001b[0mqueue\u001b[0m\u001b[1;33m.\u001b[0m\u001b[0mpopleft\u001b[0m\u001b[1;33m(\u001b[0m\u001b[1;33m)\u001b[0m\u001b[1;33m[\u001b[0m\u001b[1;36m0\u001b[0m\u001b[1;33m]\u001b[0m\u001b[1;33m)\u001b[0m\u001b[1;33m\u001b[0m\u001b[1;33m\u001b[0m\u001b[0m\n\u001b[0;32m     20\u001b[0m         \u001b[1;32mreturn\u001b[0m \u001b[0mtime\u001b[0m\u001b[1;33m\u001b[0m\u001b[1;33m\u001b[0m\u001b[0m\n",
      "\u001b[1;31mNameError\u001b[0m: name 'queue' is not defined"
     ]
    }
   ],
   "source": [
    "\n",
    "tasks = [\"A\",\"A\",\"A\",\"A\",\"A\",\"A\",\"B\",\"C\",\"D\",\"E\",\"F\",\"G\"]\n",
    "## tasks = ['A','A','A','B','B','B']\n",
    "n = 2\n",
    "a = Solution()\n",
    "a.leastInterval(tasks, n)"
   ]
  },
  {
   "cell_type": "markdown",
   "id": "3d30ecc4-982f-4112-839a-06753b8fa06f",
   "metadata": {},
   "source": [
    "Approach 2:\n",
    "Create a count dict from incoming tasks list, create a max heap from the counts (Since python natively supports only minheap, we multiply every element by -1 to use a minheap for finding max). At every step, pop max element (This is O(1)), and increment time counter. Now For task corresponding to max element, decrement count by 1 (or in the - world, increment by 1), and add count,time to pop to a queue (time to pop = current time +  n) -> Keep doing this until queue becomes empty\n",
    "\n",
    "\n",
    "This approach is 3X faster than prev approach\n"
   ]
  },
  {
   "cell_type": "code",
   "execution_count": 218,
   "id": "3d4035ce-12fe-436e-8acc-0c10862045c5",
   "metadata": {},
   "outputs": [],
   "source": [
    "from collections import Counter, deque\n",
    "import heapq\n",
    "class Solution:\n",
    "    def leastInterval(self, tasks: List[str], n: int) -> int:\n",
    "        cou = Counter(tasks)\n",
    "        maxHeap = [-x for x in cou.values()]  ## - because python natively supports only minheap\n",
    "        heapq.heapify(maxHeap)\n",
    "        time = 0\n",
    "        q = deque() ## pairs of [-cnt, idletime]\n",
    "        \n",
    "        while maxHeap or q: ## either maxHeap or q is not empty\n",
    "            time = time + 1\n",
    "            if maxHeap:\n",
    "                cnt = heapq.heappop(maxHeap)\n",
    "                cnt = cnt + 1 ## to decrement count, or in the negative world, implement\n",
    "                if cnt != 0:\n",
    "                    q.append([cnt, time + n])\n",
    "            if q and q[0][1]==time: \n",
    "                heapq.heappush( maxHeap, q.popleft()[0])\n",
    "        return time\n",
    "                    \n",
    "        "
   ]
  },
  {
   "cell_type": "code",
   "execution_count": 219,
   "id": "bdb2d3be-2489-411c-b561-f34f0af78753",
   "metadata": {},
   "outputs": [
    {
     "data": {
      "text/plain": [
       "16"
      ]
     },
     "execution_count": 219,
     "metadata": {},
     "output_type": "execute_result"
    }
   ],
   "source": [
    "tasks = [\"A\",\"A\",\"A\",\"A\",\"A\",\"A\",\"B\",\"C\",\"D\",\"E\",\"F\",\"G\"]\n",
    "## tasks = ['A','A','A','B','B','B']\n",
    "n = 2\n",
    "a = Solution()\n",
    "a.leastInterval(tasks, n)"
   ]
  },
  {
   "cell_type": "markdown",
   "id": "26c5a2a7-d968-4b74-a4ac-0e55199ce9b9",
   "metadata": {},
   "source": [
    "## Jump game\n",
    "https://leetcode.com/problems/jump-game/"
   ]
  },
  {
   "cell_type": "markdown",
   "id": "f43c6cb3-e815-4d62-a49b-769216296660",
   "metadata": {},
   "source": [
    "You are given an integer array nums. You are initially positioned at the array's first index, and each element in the array represents your maximum jump length at that position.\n",
    "\n",
    "Return true if you can reach the last index, or false otherwise.\n",
    "\n",
    "I think this also includes dynamic programming"
   ]
  },
  {
   "cell_type": "code",
   "execution_count": 248,
   "id": "0c88f012-4470-4892-bec7-6b3a56c82ee6",
   "metadata": {},
   "outputs": [],
   "source": [
    "from collections import deque\n",
    "class Solution:\n",
    "    def canJump(self, nums: List[int]) -> bool:\n",
    "        last_index = len(nums)-1\n",
    "        output = False\n",
    "        a = deque()\n",
    "        visited_index = [False]*len(nums)\n",
    "        a.append([nums[0], 0])\n",
    "        while a:\n",
    "            val, index = a.popleft()\n",
    "            if index==last_index:\n",
    "                return True\n",
    "            visited_index[index] = True\n",
    "            for j in range(1, val+1):\n",
    "                reached_index = index + j\n",
    "                if reached_index==last_index:\n",
    "                    return True\n",
    "                if not visited_index[reached_index]:\n",
    "                    visited_index[reached_index] = True\n",
    "                    a.append([nums[reached_index], reached_index])\n",
    "                \n",
    "            \n",
    "\n",
    "        return False\n",
    "                "
   ]
  },
  {
   "cell_type": "code",
   "execution_count": 253,
   "id": "c203ed1b-5ae8-4979-99f4-a8a18136d64e",
   "metadata": {},
   "outputs": [],
   "source": [
    "from collections import deque\n",
    "class Solution:\n",
    "    def canJump(self, nums: List[int]) -> bool:\n",
    "        n = len(nums)\n",
    "        reachable = 0\n",
    "        for i in range(0, n):\n",
    "            \n",
    "            if reachable < i:\n",
    "                return False\n",
    "            reachable = max(reachable, i + nums[i])\n",
    "            \n",
    "            \n",
    "\n",
    "        return True"
   ]
  },
  {
   "cell_type": "code",
   "execution_count": 258,
   "id": "3fb27521-93fa-46d3-9aca-bcad67a2520f",
   "metadata": {},
   "outputs": [],
   "source": [
    "from collections import deque\n",
    "class Solution:\n",
    "    def canJump(self, nums: List[int]) -> bool:\n",
    "        n = len(nums)\n",
    "        target = n-1\n",
    "        for i in range(n-2,-1,-1):\n",
    "            if (i + nums[i])>=target:\n",
    "                target = i\n",
    "        if target==0:\n",
    "            return True\n",
    "        else:\n",
    "            return False\n"
   ]
  },
  {
   "cell_type": "code",
   "execution_count": 265,
   "id": "1e344c39-26ce-4ead-b17f-4815cc3245b7",
   "metadata": {},
   "outputs": [],
   "source": [
    "a = Solution()\n",
    "nums = [0,1,2]"
   ]
  },
  {
   "cell_type": "code",
   "execution_count": 266,
   "id": "aa8c53aa-6962-43d9-9ba7-0dacd104fd93",
   "metadata": {},
   "outputs": [
    {
     "data": {
      "text/plain": [
       "False"
      ]
     },
     "execution_count": 266,
     "metadata": {},
     "output_type": "execute_result"
    }
   ],
   "source": [
    "a.canJump(nums)"
   ]
  },
  {
   "cell_type": "markdown",
   "id": "4ef3ed35-9542-4d37-bc0e-9491d4b18b99",
   "metadata": {},
   "source": [
    "## Jump game 2\n",
    "https://leetcode.com/problems/jump-game-ii/"
   ]
  },
  {
   "cell_type": "markdown",
   "id": "cda82eb6-3dd9-47e6-8366-1732ef8b2a28",
   "metadata": {},
   "source": [
    "Given an array of non-negative integers nums, you are initially positioned at the first index of the array.\n",
    "\n",
    "Each element in the array represents your maximum jump length at that position.\n",
    "\n",
    "Your goal is to reach the last index in the minimum number of jumps.\n",
    "\n",
    "You can assume that you can always reach the last index."
   ]
  },
  {
   "cell_type": "code",
   "execution_count": 300,
   "id": "d2b5fc9f-b67a-47c1-9037-cff54657d44a",
   "metadata": {},
   "outputs": [],
   "source": [
    "from collections import deque\n",
    "class Solution:\n",
    "    def jump(self, nums: List[int]) -> int:\n",
    "        level = 0\n",
    "        a = deque()\n",
    "        a.append(0)\n",
    "        log = [False]*len(nums)\n",
    "        log[0] = True\n",
    "        last_elem = len(nums)-1\n",
    "        if len(nums)==1:\n",
    "            return 0\n",
    "        while True:\n",
    "            \n",
    "            ##print(\"**************\")\n",
    "            ##print(a)\n",
    "            counter = len(a)\n",
    "            ##print(\"counter\", counter)\n",
    "            level = level + 1\n",
    "            ##print(\"level\", level)\n",
    "            ##print(\"log\", log)\n",
    "            while( counter > 0):\n",
    "                ##print(\"############\")\n",
    "                ##print(\"counter_inside\", counter)\n",
    "                output = a.popleft()\n",
    "                ##print(\"output\", output)\n",
    "                log[output] = True\n",
    "                counter = counter - 1\n",
    "                \n",
    "                for index in range(1, nums[output]+1):\n",
    "                    new_index = output + index\n",
    "                    ##print(\"new_index\", new_index)\n",
    "                    if log[new_index]==False:\n",
    "                        a.append(new_index)\n",
    "                        ##print(\"a\", a)\n",
    "                        log[new_index] = True\n",
    "                        if new_index==last_elem:\n",
    "                            return level\n",
    "                \n",
    "            \n",
    "            "
   ]
  },
  {
   "cell_type": "code",
   "execution_count": 301,
   "id": "babb3157-d2da-4125-b4fb-69771ce99468",
   "metadata": {},
   "outputs": [],
   "source": [
    "a = Solution()"
   ]
  },
  {
   "cell_type": "code",
   "execution_count": 303,
   "id": "455889d7-6ba9-4be8-99a9-b67cbe83c66a",
   "metadata": {},
   "outputs": [
    {
     "name": "stdout",
     "output_type": "stream",
     "text": [
      "**************\n",
      "deque([0])\n",
      "counter 1\n",
      "level 1\n",
      "log [True, False, False, False, False]\n",
      "############\n",
      "counter_inside 1\n",
      "output 0\n",
      "new_index 1\n",
      "a deque([1])\n",
      "new_index 2\n",
      "a deque([1, 2])\n",
      "**************\n",
      "deque([1, 2])\n",
      "counter 2\n",
      "level 2\n",
      "log [True, True, True, False, False]\n",
      "############\n",
      "counter_inside 2\n",
      "output 1\n",
      "new_index 2\n",
      "new_index 3\n",
      "a deque([2, 3])\n",
      "new_index 4\n",
      "a deque([2, 3, 4])\n"
     ]
    },
    {
     "data": {
      "text/plain": [
       "2"
      ]
     },
     "execution_count": 303,
     "metadata": {},
     "output_type": "execute_result"
    }
   ],
   "source": [
    "a.jump([2,3,1,1,4])"
   ]
  },
  {
   "cell_type": "markdown",
   "id": "16b6efd0-8598-4742-ba1e-e35f568e2866",
   "metadata": {},
   "source": [
    "Remove Duplicate Letters\n",
    "https://leetcode.com/problems/remove-duplicate-letters/"
   ]
  },
  {
   "cell_type": "markdown",
   "id": "42b018be-5762-4214-b147-683cc75c004f",
   "metadata": {},
   "source": [
    "Given a string s, remove duplicate letters so that every letter appears once and only once. You must make sure your result is the smallest in lexicographical order among all possible results."
   ]
  },
  {
   "cell_type": "code",
   "execution_count": 367,
   "id": "96ec1af5-6184-4fff-ab7f-70b22b938c09",
   "metadata": {},
   "outputs": [],
   "source": [
    "class Solution:\n",
    "    def removeDuplicateLetters(self, s: str) -> str:\n",
    "        stack = []\n",
    "        n = len(s)\n",
    "        last_index_dict = {}\n",
    "        for i in range(n):\n",
    "            last_index_dict[s[i]] = i\n",
    "        \n",
    "        for i in range(n):\n",
    "            if not stack:\n",
    "                stack.append(s[i])\n",
    "                print(1, stack)\n",
    "            else:\n",
    "                if s[i] in stack:\n",
    "                    continue\n",
    "                while (stack) and (stack[-1]>s[i]) and (last_index_dict[stack[-1]]>i):\n",
    "                    \n",
    "                    stack.pop()\n",
    "                    print(2, stack)\n",
    "                    \n",
    "                stack.append(s[i])\n",
    "                print(3, stack)\n",
    "\n",
    "\n",
    "        return \"\".join(stack)\n",
    "                \n",
    "        \n",
    "        \n",
    "                \n",
    "            \n",
    "\n",
    "        "
   ]
  },
  {
   "cell_type": "code",
   "execution_count": 368,
   "id": "eab61156-2945-47a9-b64f-e1c4df6a2c6b",
   "metadata": {},
   "outputs": [],
   "source": [
    "a = Solution()"
   ]
  },
  {
   "cell_type": "code",
   "execution_count": 369,
   "id": "80456b65-ea8f-44a1-9ae6-e032c71a705c",
   "metadata": {},
   "outputs": [
    {
     "name": "stdout",
     "output_type": "stream",
     "text": [
      "1 ['a']\n",
      "3 ['a', 'b']\n",
      "3 ['a', 'b', 'c']\n"
     ]
    }
   ],
   "source": [
    "bb = a.removeDuplicateLetters(\"abacb\")"
   ]
  },
  {
   "cell_type": "code",
   "execution_count": 360,
   "id": "4c953a70-6b2e-41fb-9c55-4c7c1cec8392",
   "metadata": {},
   "outputs": [
    {
     "data": {
      "text/plain": [
       "'acb'"
      ]
     },
     "execution_count": 360,
     "metadata": {},
     "output_type": "execute_result"
    }
   ],
   "source": [
    "bb"
   ]
  },
  {
   "cell_type": "code",
   "execution_count": 328,
   "id": "8ae0dae9-f0d6-4b32-8a51-dd002a406acc",
   "metadata": {},
   "outputs": [
    {
     "data": {
      "text/plain": [
       "False"
      ]
     },
     "execution_count": 328,
     "metadata": {},
     "output_type": "execute_result"
    }
   ],
   "source": [
    "'abc'<'aaba'"
   ]
  },
  {
   "cell_type": "code",
   "execution_count": 315,
   "id": "bea4a794-36f2-4112-a9d7-9143b73bfa72",
   "metadata": {},
   "outputs": [
    {
     "data": {
      "text/plain": [
       "'abcdefghijklmnopqrstuvwxyz'"
      ]
     },
     "execution_count": 315,
     "metadata": {},
     "output_type": "execute_result"
    }
   ],
   "source": [
    "import string\n",
    "string.ascii_lowercase[:26]"
   ]
  },
  {
   "cell_type": "code",
   "execution_count": 311,
   "id": "bd80ab5a-cd88-485b-9208-12b14f610e4e",
   "metadata": {},
   "outputs": [
    {
     "data": {
      "text/plain": [
       "Counter({1: 2, 2: 1})"
      ]
     },
     "execution_count": 311,
     "metadata": {},
     "output_type": "execute_result"
    }
   ],
   "source": [
    "Counter([1,1,2])"
   ]
  },
  {
   "cell_type": "markdown",
   "id": "1c1d91c0-ee22-4242-b9fa-20ba15ae20aa",
   "metadata": {},
   "source": [
    "## gas station"
   ]
  },
  {
   "cell_type": "code",
   "execution_count": null,
   "id": "f9c144ed-1e26-44c6-8e89-65a9f995e941",
   "metadata": {},
   "outputs": [],
   "source": [
    "https://leetcode.com/problems/gas-station/"
   ]
  },
  {
   "cell_type": "code",
   "execution_count": 42,
   "id": "f5116e52-e72a-4c52-9887-aca269918f37",
   "metadata": {},
   "outputs": [],
   "source": [
    "from typing import List\n",
    "class Solution:\n",
    "    def canCompleteCircuit(self, gas: List[int], cost: List[int]) -> int:\n",
    "        n = len(gas)\n",
    "        diff = [gas[i]-cost[i] for i in range(0, n)]\n",
    "\n",
    "        \n",
    "        if sum(diff)<0:\n",
    "            return -1\n",
    "        else:\n",
    "            curr_index = -1\n",
    "            running_sum = 0\n",
    "            for i in range(0, n):\n",
    "                running_sum = running_sum + diff[i]\n",
    "                if running_sum < 0:\n",
    "                    running_sum = 0\n",
    "                    curr_index = -1\n",
    "                else:\n",
    "                    if curr_index == -1:\n",
    "                        curr_index = i\n",
    "                    \n",
    " \n",
    "        return curr_index\n",
    "                        \n",
    "                    \n",
    "                    \n",
    "                \n",
    "\n",
    "                    \n",
    "                    \n",
    "                    \n",
    "                    \n",
    "                \n",
    "            \n",
    "        \n",
    "        "
   ]
  },
  {
   "cell_type": "code",
   "execution_count": 45,
   "id": "0f8c1571-1862-432e-b315-4ad8c9cdb956",
   "metadata": {},
   "outputs": [],
   "source": [
    "a = Solution()"
   ]
  },
  {
   "cell_type": "code",
   "execution_count": 34,
   "id": "e32de01f-30db-4167-abdc-cd579528697c",
   "metadata": {},
   "outputs": [],
   "source": [
    "gas = [2,3,4]\n",
    "cost = [3,4,3]"
   ]
  },
  {
   "cell_type": "code",
   "execution_count": 43,
   "id": "05408af3-716c-437e-b1d5-a95b17af8473",
   "metadata": {},
   "outputs": [],
   "source": [
    "gas = [6,1,4,3,5]\n",
    "cost = [3,8,2,4,2]"
   ]
  },
  {
   "cell_type": "code",
   "execution_count": 36,
   "id": "02dc5c41-ac93-4c24-bb31-6f28a613331e",
   "metadata": {},
   "outputs": [],
   "source": [
    "gas = [3,3,3,3,3,3,3,3]\n",
    "cost = [5,1,4,4,4,2,2,2]"
   ]
  },
  {
   "cell_type": "code",
   "execution_count": 46,
   "id": "7a5f6e6f-e7ff-475b-ba7f-0c86777db938",
   "metadata": {},
   "outputs": [
    {
     "data": {
      "text/plain": [
       "2"
      ]
     },
     "execution_count": 46,
     "metadata": {},
     "output_type": "execute_result"
    }
   ],
   "source": [
    "a.canCompleteCircuit(gas, cost)"
   ]
  },
  {
   "cell_type": "code",
   "execution_count": 38,
   "id": "0412446d-5ac6-4e5f-9144-54b398150732",
   "metadata": {},
   "outputs": [],
   "source": [
    "gas = [1,2,3,4,5]\n",
    "cost = [3,4,5,1,2]"
   ]
  },
  {
   "cell_type": "code",
   "execution_count": 23,
   "id": "2aa38a69-611a-47cb-9305-8039e2e98dfc",
   "metadata": {},
   "outputs": [
    {
     "data": {
      "text/plain": [
       "1"
      ]
     },
     "execution_count": 23,
     "metadata": {},
     "output_type": "execute_result"
    }
   ],
   "source": [
    "n = 2\n",
    "a.canCompleteCircuit(gas[n:] + gas[:n], cost[n:]+ cost[:n])"
   ]
  },
  {
   "cell_type": "code",
   "execution_count": 8,
   "id": "d4e28764-301b-4ee6-a63b-4ad9c0c4a279",
   "metadata": {},
   "outputs": [],
   "source": [
    "n = len(gas)"
   ]
  },
  {
   "cell_type": "code",
   "execution_count": 9,
   "id": "9771ac46-3176-422d-90fa-fee94d57b187",
   "metadata": {},
   "outputs": [],
   "source": [
    "diff = [gas[i]-cost[i] for i in range(0, n)]"
   ]
  },
  {
   "cell_type": "code",
   "execution_count": 11,
   "id": "5d5f01c5-38e4-40f2-9e0c-817e42b1e462",
   "metadata": {},
   "outputs": [
    {
     "data": {
      "text/plain": [
       "[-2, -2, -2, 3, 3]"
      ]
     },
     "execution_count": 11,
     "metadata": {},
     "output_type": "execute_result"
    }
   ],
   "source": [
    "(diff)"
   ]
  },
  {
   "cell_type": "markdown",
   "id": "3f11349a-f7e1-46ff-8287-e1964b9e1b8e",
   "metadata": {},
   "source": [
    "## Valid Parenthesis\n",
    "https://leetcode.com/problems/valid-parenthesis-string/"
   ]
  },
  {
   "cell_type": "code",
   "execution_count": 15,
   "id": "44e98ed9-4835-4e4b-8714-26b8d188eb8e",
   "metadata": {},
   "outputs": [],
   "source": [
    "class Solution:\n",
    "    \n",
    "    def checkValidString(self, s:str) -> bool:\n",
    "        \n",
    "        n = len(s)\n",
    "        \n",
    "        left_min = 0\n",
    "        left_max = 0\n",
    "        \n",
    "        for char in s:\n",
    "            if char==\"(\":\n",
    "                left_min = left_min + 1\n",
    "                left_max = left_max + 1\n",
    "            if char==\")\":\n",
    "                left_min = left_min - 1\n",
    "                left_max = left_max - 1\n",
    "\n",
    "            if char==\"*\":\n",
    "                left_min = left_min-1 ## assuming its a right parenthesis\n",
    "                left_max = left_max + 1 ## assuming its a left parenthesis again\n",
    "                \n",
    "            if left_max < 0: ## at any point, can never recover from it\n",
    "                return False\n",
    "            if left_min < 0:\n",
    "                left_min = 0\n",
    "                \n",
    "        if left_min==0:\n",
    "            return True\n",
    "        else:\n",
    "            return False\n",
    "                    \n",
    "                        \n",
    "                        \n",
    "                \n",
    "                \n",
    "                \n",
    "                    \n",
    "        \n",
    "        "
   ]
  },
  {
   "cell_type": "code",
   "execution_count": 16,
   "id": "4e813313-26fd-49c9-9641-7f38babc2248",
   "metadata": {},
   "outputs": [
    {
     "data": {
      "text/plain": [
       "False"
      ]
     },
     "execution_count": 16,
     "metadata": {},
     "output_type": "execute_result"
    }
   ],
   "source": [
    "a = Solution()\n",
    "a.checkValidString(\"(((((()*)(*)*))())())(()())())))((**)))))(()())()\")"
   ]
  },
  {
   "cell_type": "markdown",
   "id": "e7d8e6be-0297-4080-85ca-58851cd0c38e",
   "metadata": {},
   "source": [
    "## Can place flowers\n",
    "https://leetcode.com/problems/can-place-flowers/\n"
   ]
  },
  {
   "cell_type": "code",
   "execution_count": 32,
   "id": "423b2245-1504-4fb8-a549-d84f1056c66e",
   "metadata": {},
   "outputs": [],
   "source": [
    "from typing import List\n",
    "class Solution:\n",
    "    def canPlaceFlowers(self, flowerbed: List[int], n: int) -> bool:\n",
    "        l = len(flowerbed)\n",
    "        \n",
    "        if l==1 and n==1:\n",
    "            if flowerbed[0]==0:\n",
    "                return True\n",
    "        \n",
    "        def is_exists(i):\n",
    "            if (i>=0) and (i<=(l-1)):\n",
    "                return True\n",
    "            else:\n",
    "                return False\n",
    "        for i in range(0, l):\n",
    "            if flowerbed[i]==1:\n",
    "                continue\n",
    "            if n==0:\n",
    "                return True\n",
    "            if i==0:\n",
    "                if is_exists(i+1):\n",
    "                    if flowerbed[i+1]==0:\n",
    "                        flowerbed[i] = 1\n",
    "                        n = n-1\n",
    "                    \n",
    "            elif i==(l-1):\n",
    "                if is_exists(i-1):\n",
    "                    if flowerbed[i-1]==0:\n",
    "                        flowerbed[i]=1\n",
    "                        n = n-1\n",
    "                        \n",
    "            else:\n",
    "                if (is_exists(i-1)) and (is_exists(i+1)):\n",
    "                    if (flowerbed[i-1]==0) and (flowerbed[i+1]==0):\n",
    "                        flowerbed[i] = 1\n",
    "                        n = n-1\n",
    "        if n <= 0:\n",
    "            return True\n",
    "        else:\n",
    "            return False\n",
    "    \n",
    "            \n",
    "        \n",
    "                "
   ]
  },
  {
   "cell_type": "code",
   "execution_count": 33,
   "id": "53e57692-6ff6-4565-88ba-107b472d1a93",
   "metadata": {},
   "outputs": [
    {
     "data": {
      "text/plain": [
       "True"
      ]
     },
     "execution_count": 33,
     "metadata": {},
     "output_type": "execute_result"
    }
   ],
   "source": [
    "flowerbed = [0]\n",
    "n = 1\n",
    "a = Solution()\n",
    "a.canPlaceFlowers(flowerbed, n)\n"
   ]
  },
  {
   "cell_type": "markdown",
   "id": "b3548f5f-8282-458c-a238-103ae17ba779",
   "metadata": {},
   "source": [
    "## Target Triplets\n",
    "https://leetcode.com/problems/merge-triplets-to-form-target-triplet/\n"
   ]
  },
  {
   "cell_type": "code",
   "execution_count": 50,
   "id": "ab2f2b28-b7bf-4f76-9400-7a114615fb33",
   "metadata": {},
   "outputs": [],
   "source": [
    "class Solution:\n",
    "    def mergeTriplets(self, triplets: List[List[int]], target: List[int]) -> bool:\n",
    "        \n",
    "        n = len(triplets)\n",
    "        \n",
    "        def is_candidate(triplet):\n",
    "            outlist = []\n",
    "            for i in range(0,3):\n",
    "                if triplet[i]==target[i]:\n",
    "                    outlist.append(0)\n",
    "                elif triplet[i]>target[i]:\n",
    "                    outlist.append(1)\n",
    "                elif triplet[i]<target[i]:\n",
    "                    outlist.append(-1)\n",
    "            if (1 in outlist) or (0 not in outlist):\n",
    "                return False\n",
    "            else:\n",
    "                return True\n",
    "        \n",
    "        def return_max(triplet1, triplet2):\n",
    "            outlist = []\n",
    "            for i in range(0,3):\n",
    "                outlist.append(max(triplet1[i], triplet2[i]))\n",
    "            return outlist\n",
    "                \n",
    "        max_triplet = None\n",
    "        for i in range(0, n):\n",
    "            curr_triplet = triplets[i]\n",
    "            print(curr_triplet, max_triplet)\n",
    "            if curr_triplet==target:\n",
    "                return True\n",
    "            if is_candidate(curr_triplet):\n",
    "                if not max_triplet:\n",
    "                    max_triplet = curr_triplet\n",
    "                else:\n",
    "                    max_triplet = return_max(max_triplet, curr_triplet)\n",
    "                    if max_triplet==target:\n",
    "                        return True\n",
    "                    else:\n",
    "                        if not is_candidate(max_triplet):\n",
    "                            max_triplet = curr_triplet\n",
    "                    \n",
    "        return False\n",
    "                \n",
    "        "
   ]
  },
  {
   "cell_type": "code",
   "execution_count": 51,
   "id": "b725d801-c317-41a1-8f7d-6000d151855e",
   "metadata": {},
   "outputs": [
    {
     "name": "stdout",
     "output_type": "stream",
     "text": [
      "[2, 5, 3] None\n",
      "[2, 5, 3] is a candidate\n",
      "[1, 8, 4] [2, 5, 3]\n",
      "[1, 7, 5] [2, 5, 3]\n",
      "[1, 7, 5] is a candidate\n",
      "max_triplet computed [2, 7, 5]\n"
     ]
    },
    {
     "data": {
      "text/plain": [
       "True"
      ]
     },
     "execution_count": 51,
     "metadata": {},
     "output_type": "execute_result"
    }
   ],
   "source": [
    "triplets = [[2,5,3],[1,8,4],[1,7,5]]\n",
    "target = [2,7,5]\n",
    "a = Solution()\n",
    "a.mergeTriplets(triplets, target)"
   ]
  },
  {
   "cell_type": "code",
   "execution_count": 52,
   "id": "29a0545e-b195-4218-9456-b0fe14b51804",
   "metadata": {},
   "outputs": [],
   "source": [
    "bb = set()"
   ]
  },
  {
   "cell_type": "code",
   "execution_count": 54,
   "id": "ef596860-c0d1-4a33-8d85-5466d24c3edd",
   "metadata": {},
   "outputs": [],
   "source": [
    "bb.add(1)"
   ]
  },
  {
   "cell_type": "markdown",
   "id": "1e185684-4726-46a0-ae1f-85fe007c8a68",
   "metadata": {},
   "source": [
    "## Partition Labels\n",
    "https://leetcode.com/problems/partition-labels/"
   ]
  },
  {
   "cell_type": "code",
   "execution_count": 82,
   "id": "2dac4a0f-3267-4f76-91fa-81d5b907cc38",
   "metadata": {},
   "outputs": [],
   "source": [
    "class Solution:\n",
    "    \n",
    "    def partionLabels(self, s:str) -> List[int]:\n",
    "        hash_map = {}\n",
    "        for count, val in enumerate(s):\n",
    "            if val not in hash_map:\n",
    "                hash_map[val] = [count, count]\n",
    "            else:\n",
    "                hash_map[val][1] = count\n",
    "        print(hash_map)        \n",
    "        outlist = []\n",
    "        i = 0\n",
    "        while i < len(s):\n",
    "            char = s[i]\n",
    "            start_pos, end_pos = hash_map[char][0], hash_map[char][1]\n",
    "            print(i, char)\n",
    "            print(\"outlist before\", outlist)\n",
    "            if len(outlist)>0:\n",
    "                last_elem = None\n",
    "                while (len(outlist)>0) and (start_pos < outlist[-1][1]) :\n",
    "                    print(\"inside\")\n",
    "                    last_elem = outlist.pop()\n",
    "                    print(\"last_elem\", last_elem)\n",
    "                print(last_elem, \"last_elem\")\n",
    "                if last_elem:\n",
    "                    outlist.append([last_elem[0], end_pos])\n",
    "                else:\n",
    "                    outlist.append([start_pos, end_pos])\n",
    "            else:\n",
    "                outlist.append([start_pos, end_pos])\n",
    "            i = i + 1\n",
    "            print(\"outlist after\", outlist)\n",
    "        final_output = [x[1]+1-x[0] for x in outlist]\n",
    "        return final_output\n",
    "        \n",
    "            "
   ]
  },
  {
   "cell_type": "raw",
   "id": "d8b8eb84-4769-4a72-9955-afe1ebbb875c",
   "metadata": {},
   "source": [
    "a = Solution()\n",
    "a.partionLabels(\"ababcbacadefegdehijhklij\")"
   ]
  },
  {
   "cell_type": "code",
   "execution_count": 91,
   "id": "efe69aeb-8aff-40d5-8a01-ab28e9bd59bd",
   "metadata": {},
   "outputs": [
    {
     "data": {
      "text/plain": [
       "4"
      ]
     },
     "execution_count": 91,
     "metadata": {},
     "output_type": "execute_result"
    }
   ],
   "source": [
    "9%5 "
   ]
  },
  {
   "cell_type": "markdown",
   "id": "6db108c1-ad93-40c2-9a31-91421876807c",
   "metadata": {},
   "source": [
    "## Hand of straights\n",
    "https://leetcode.com/problems/hand-of-straights/"
   ]
  },
  {
   "cell_type": "code",
   "execution_count": 130,
   "id": "e344f1db-999d-4b7d-b306-26f4a5b94ef3",
   "metadata": {},
   "outputs": [],
   "source": [
    "from collections import Counter, OrderedDict\n",
    "class Solution:\n",
    "    def isNStraightHand(self, hand: List[int], groupSize: int) -> bool:\n",
    "        \n",
    "        n = len(hand)\n",
    "        if n%groupSize !=0:\n",
    "            return False\n",
    "        \n",
    "        hand.sort()\n",
    "        count_dict = OrderedDict(Counter(hand))\n",
    "        \n",
    "        while count_dict:\n",
    "            key, val = list(count_dict.items())[0]\n",
    "            print(key, val)\n",
    "\n",
    "            for i in range(key,key+groupSize):\n",
    "                print(\"i\", i)\n",
    "                print(1 in count_dict.keys())\n",
    "                if i not in count_dict.keys():\n",
    "                    print(\"here 1\")\n",
    "                    return False\n",
    "                if count_dict[i]<val:\n",
    "                    print(\"here 2\")\n",
    "                    return False\n",
    "                count_dict[i] = count_dict[i]-val\n",
    "                if count_dict[i]==0:\n",
    "                    del count_dict[i]\n",
    "            print(\"after\", count_dict)\n",
    "        return True\n",
    "        \n",
    "            \n",
    "            \n",
    "            "
   ]
  },
  {
   "cell_type": "code",
   "execution_count": 132,
   "id": "ff084b95-0be9-4c1f-8e6c-49a5d660c1b6",
   "metadata": {},
   "outputs": [
    {
     "name": "stdout",
     "output_type": "stream",
     "text": [
      "before OrderedDict([(1, 3), (2, 1), (7, 1), (8, 1)])\n",
      "1 3\n",
      "i 1\n",
      "True\n",
      "i 2\n",
      "False\n",
      "here 2\n"
     ]
    },
    {
     "data": {
      "text/plain": [
       "False"
      ]
     },
     "execution_count": 132,
     "metadata": {},
     "output_type": "execute_result"
    }
   ],
   "source": [
    "a = Solution()\n",
    "a.isNStraightHand([1,1,1,2,7,8], 3)"
   ]
  },
  {
   "cell_type": "code",
   "execution_count": 109,
   "id": "a85f6720-b574-47b4-8218-aecf1d33cb50",
   "metadata": {},
   "outputs": [],
   "source": [
    "del b[0]"
   ]
  },
  {
   "cell_type": "code",
   "execution_count": 103,
   "id": "a4eec307-ffb7-4da8-a505-4ddfcc3cc764",
   "metadata": {},
   "outputs": [],
   "source": [
    "b = OrderedDict(Counter([0,2,3,1,1]))"
   ]
  },
  {
   "cell_type": "code",
   "execution_count": 117,
   "id": "0ed261f6-4c54-4e5a-932a-efc0dc3a9b99",
   "metadata": {},
   "outputs": [
    {
     "data": {
      "text/plain": [
       "True"
      ]
     },
     "execution_count": 117,
     "metadata": {},
     "output_type": "execute_result"
    }
   ],
   "source": [
    "2 in b.keys()"
   ]
  },
  {
   "cell_type": "code",
   "execution_count": 100,
   "id": "7d3d90d5-e041-42b8-a3ae-33d40a6e19f5",
   "metadata": {},
   "outputs": [
    {
     "data": {
      "text/plain": [
       "odict_keys([0, 5])"
      ]
     },
     "execution_count": 100,
     "metadata": {},
     "output_type": "execute_result"
    }
   ],
   "source": [
    "b.keys()"
   ]
  },
  {
   "cell_type": "code",
   "execution_count": 95,
   "id": "00de5511-ef1d-4ee4-9a8a-698634b6a22b",
   "metadata": {},
   "outputs": [
    {
     "data": {
      "text/plain": [
       "Counter({4: 1, 3: 2, 2: 2, 1: 1})"
      ]
     },
     "execution_count": 95,
     "metadata": {},
     "output_type": "execute_result"
    }
   ],
   "source": [
    "Counter([4,3,2,1,3,2])"
   ]
  },
  {
   "cell_type": "code",
   "execution_count": 133,
   "id": "4472d1ed-93e7-4398-9eff-c7862f9d4596",
   "metadata": {},
   "outputs": [],
   "source": [
    "aa = {}\n",
    "aa[4] = 1\n",
    "aa[9] = 2\n",
    "aa[1] = 3\n"
   ]
  },
  {
   "cell_type": "code",
   "execution_count": 157,
   "id": "2aada7df-747b-4666-b6ec-c4e2559888e2",
   "metadata": {},
   "outputs": [],
   "source": [
    "aa = dict(sorted(aa.items(), reverse=True))"
   ]
  },
  {
   "cell_type": "code",
   "execution_count": 158,
   "id": "c09ae85a-d926-42de-811a-71d4d459b6d2",
   "metadata": {},
   "outputs": [
    {
     "data": {
      "text/plain": [
       "{9: 2, 4: 1, 1: 3}"
      ]
     },
     "execution_count": 158,
     "metadata": {},
     "output_type": "execute_result"
    }
   ],
   "source": [
    "aa"
   ]
  },
  {
   "cell_type": "code",
   "execution_count": 146,
   "id": "31a4ab55-6715-47c7-aedd-b6291a2ed971",
   "metadata": {},
   "outputs": [],
   "source": [
    "dict1 = {'hi' : 1, 'ho' : 2}\n",
    "dict2 = {'hi' : 3, 'hu' : 4}"
   ]
  },
  {
   "cell_type": "code",
   "execution_count": 147,
   "id": "26479466-70b6-4cb5-b7d2-1c68b4cfc448",
   "metadata": {},
   "outputs": [],
   "source": [
    "res = {**dict1, **dict2}"
   ]
  },
  {
   "cell_type": "code",
   "execution_count": 149,
   "id": "4770d69f-ad9a-436a-ac9e-79f1ae7201d4",
   "metadata": {},
   "outputs": [
    {
     "data": {
      "text/plain": [
       "{'hi': 1, 'hu': 4, 'ho': 2}"
      ]
     },
     "execution_count": 149,
     "metadata": {},
     "output_type": "execute_result"
    }
   ],
   "source": [
    "{**dict2, **dict1}"
   ]
  },
  {
   "cell_type": "code",
   "execution_count": 179,
   "id": "ebcb6e8d-14e4-4228-b56a-8c4f62c7a807",
   "metadata": {},
   "outputs": [
    {
     "data": {
      "text/plain": [
       "[(2, 2), (1, 2), (3, 1)]"
      ]
     },
     "execution_count": 179,
     "metadata": {},
     "output_type": "execute_result"
    }
   ],
   "source": [
    "(Counter([2,2,1,1,3])).most_common()\n"
   ]
  },
  {
   "cell_type": "code",
   "execution_count": 175,
   "id": "9fca32a8-bcdb-4987-a4cb-f39bcf489da0",
   "metadata": {},
   "outputs": [
    {
     "data": {
      "text/plain": [
       "dict_keys"
      ]
     },
     "execution_count": 175,
     "metadata": {},
     "output_type": "execute_result"
    }
   ],
   "source": [
    "type(dict(Counter([2,2,1,1,3])).keys())"
   ]
  },
  {
   "cell_type": "code",
   "execution_count": 167,
   "id": "d91e7c05-f743-4bc2-aade-aa11f3104821",
   "metadata": {},
   "outputs": [
    {
     "data": {
      "text/plain": [
       "{3: 1, 2: 2, 1: 2}"
      ]
     },
     "execution_count": 167,
     "metadata": {},
     "output_type": "execute_result"
    }
   ],
   "source": [
    "dict(sorted((Counter([2,2,1,1,3])).items(), reverse=True))"
   ]
  },
  {
   "cell_type": "code",
   "execution_count": 217,
   "id": "9f95b040-3c40-4ab5-a578-16951c74e397",
   "metadata": {},
   "outputs": [
    {
     "ename": "SyntaxError",
     "evalue": "leading zeros in decimal integer literals are not permitted; use an 0o prefix for octal integers (<ipython-input-217-7105ba9c66e4>, line 1)",
     "output_type": "error",
     "traceback": [
      "\u001b[1;36m  File \u001b[1;32m\"<ipython-input-217-7105ba9c66e4>\"\u001b[1;36m, line \u001b[1;32m1\u001b[0m\n\u001b[1;33m    n = 00000000000000000000000000001011\u001b[0m\n\u001b[1;37m                                       ^\u001b[0m\n\u001b[1;31mSyntaxError\u001b[0m\u001b[1;31m:\u001b[0m leading zeros in decimal integer literals are not permitted; use an 0o prefix for octal integers\n"
     ]
    }
   ],
   "source": [
    "n = 00000000000000000000000000001011"
   ]
  },
  {
   "cell_type": "code",
   "execution_count": 215,
   "id": "96e95800-70cc-48a7-ad22-2058a20479f2",
   "metadata": {},
   "outputs": [
    {
     "data": {
      "text/plain": [
       "'10001'"
      ]
     },
     "execution_count": 215,
     "metadata": {},
     "output_type": "execute_result"
    }
   ],
   "source": [
    "str(10001)"
   ]
  },
  {
   "cell_type": "code",
   "execution_count": 194,
   "id": "30544278-984b-4c54-bd76-6c2a31c8e302",
   "metadata": {},
   "outputs": [
    {
     "data": {
      "text/plain": [
       "-7"
      ]
     },
     "execution_count": 194,
     "metadata": {},
     "output_type": "execute_result"
    }
   ],
   "source": [
    "110   001"
   ]
  },
  {
   "cell_type": "code",
   "execution_count": 183,
   "id": "572c24a3-a212-4187-bbef-80509c6b81f0",
   "metadata": {},
   "outputs": [
    {
     "data": {
      "text/plain": [
       "13"
      ]
     },
     "execution_count": 183,
     "metadata": {},
     "output_type": "execute_result"
    }
   ],
   "source": [
    "11\n",
    "\n",
    "01\n",
    "\n",
    "10"
   ]
  },
  {
   "cell_type": "code",
   "execution_count": null,
   "id": "f5e6a1ee-4074-4cb9-9b89-309273b97dc0",
   "metadata": {},
   "outputs": [],
   "source": []
  },
  {
   "cell_type": "code",
   "execution_count": null,
   "id": "df650fdc-d68d-4739-872f-c85745f91c1e",
   "metadata": {},
   "outputs": [],
   "source": [
    "10\n",
    "01\n",
    "\n",
    "01"
   ]
  },
  {
   "cell_type": "markdown",
   "id": "2d86ec90-4d3b-48c3-8896-3198122ccbeb",
   "metadata": {},
   "source": [
    "## References"
   ]
  },
  {
   "cell_type": "code",
   "execution_count": null,
   "id": "d7c2cdb0-5b69-4927-8b02-6ef3d840addf",
   "metadata": {},
   "outputs": [],
   "source": []
  },
  {
   "cell_type": "markdown",
   "id": "7370369f-fea9-49c5-95e7-bf5337284118",
   "metadata": {},
   "source": [
    "1) https://www.youtube.com/watch?v=ARvQcqJ_-NY&list=PL8zDQ1C22qvvwdkPj1uXLpwzcYDJtjnze"
   ]
  }
 ],
 "metadata": {
  "kernelspec": {
   "display_name": "Python 3",
   "language": "python",
   "name": "python3"
  },
  "language_info": {
   "codemirror_mode": {
    "name": "ipython",
    "version": 3
   },
   "file_extension": ".py",
   "mimetype": "text/x-python",
   "name": "python",
   "nbconvert_exporter": "python",
   "pygments_lexer": "ipython3",
   "version": "3.8.8"
  }
 },
 "nbformat": 4,
 "nbformat_minor": 5
}
