{
 "cells": [
  {
   "cell_type": "markdown",
   "id": "a0eb1f9a-4f3f-4b91-99e2-0270be634e48",
   "metadata": {},
   "source": [
    "## Greedy Algorithms"
   ]
  },
  {
   "cell_type": "code",
   "execution_count": null,
   "id": "d2a483e2-5144-4d25-a354-06469b61009a",
   "metadata": {},
   "outputs": [],
   "source": []
  },
  {
   "cell_type": "code",
   "execution_count": null,
   "id": "dd196d09-78c9-4d0a-b5c6-ab24b8a56a6f",
   "metadata": {},
   "outputs": [],
   "source": []
  },
  {
   "cell_type": "markdown",
   "id": "e6436968-7f37-465b-b2de-f5c99e255168",
   "metadata": {},
   "source": [
    "Queue reconstruction by height\n",
    "https://leetcode.com/problems/queue-reconstruction-by-height/"
   ]
  },
  {
   "cell_type": "code",
   "execution_count": 51,
   "id": "b731eee0-7dbb-4e07-90c4-2f20cd5b62cd",
   "metadata": {},
   "outputs": [],
   "source": [
    "from typing import List\n",
    "class Solution:\n",
    "    def reconstructQueue(self, people: List[List[int]]) -> List[List[int]]:\n",
    "        sort = sorted(people, key = lambda x: (x[0], x[1])) ## first by height, if two values have same height, smaller index should come first\n",
    "        output_list = [None]*len(sort)\n",
    "        print(sort)\n",
    "        for item in sort:\n",
    "            count = item[1] ## position\n",
    "            for i in range(0, len(output_list)):\n",
    "                if (count==0) and (not output_list[i]):\n",
    "                    output_list[i] = item\n",
    "                    print(\"here1\", output_list)\n",
    "                    break\n",
    "                else:\n",
    "                    if (count>0) and ((not output_list[i]) or (output_list[i][0]>=item[0])):\n",
    "                        count = count - 1\n",
    "        return output_list\n",
    "                "
   ]
  },
  {
   "cell_type": "code",
   "execution_count": 52,
   "id": "15cdcfe9-86af-4c84-be2c-ca977c09f170",
   "metadata": {},
   "outputs": [],
   "source": [
    "a = Solution()"
   ]
  },
  {
   "cell_type": "code",
   "execution_count": 10,
   "id": "63c73485-6427-4976-b0eb-8b7e5661d140",
   "metadata": {},
   "outputs": [],
   "source": [
    "people = [[7,0],[4,4],[7,1],[5,0],[6,1],[5,2]]"
   ]
  },
  {
   "cell_type": "code",
   "execution_count": 54,
   "id": "bee153c1-4f47-400a-8144-b347f3e1f764",
   "metadata": {},
   "outputs": [],
   "source": [
    "people = [[6,0],[5,0],[4,0],[3,2],[2,2],[1,4]]"
   ]
  },
  {
   "cell_type": "code",
   "execution_count": 55,
   "id": "cc91d334-b2d3-4dfd-a44f-ed02140d99e5",
   "metadata": {},
   "outputs": [
    {
     "name": "stdout",
     "output_type": "stream",
     "text": [
      "[[1, 4], [2, 2], [3, 2], [4, 0], [5, 0], [6, 0]]\n",
      "item [1, 4]\n",
      "[None, None, None, None, None, None]\n",
      "here1 [None, None, None, None, [1, 4], None]\n",
      "item [2, 2]\n",
      "[None, None, None, None, [1, 4], None]\n",
      "here1 [None, None, [2, 2], None, [1, 4], None]\n",
      "item [3, 2]\n",
      "[None, None, [2, 2], None, [1, 4], None]\n",
      "here1 [None, None, [2, 2], [3, 2], [1, 4], None]\n",
      "item [4, 0]\n",
      "[None, None, [2, 2], [3, 2], [1, 4], None]\n",
      "here1 [[4, 0], None, [2, 2], [3, 2], [1, 4], None]\n",
      "item [5, 0]\n",
      "[[4, 0], None, [2, 2], [3, 2], [1, 4], None]\n",
      "here1 [[4, 0], [5, 0], [2, 2], [3, 2], [1, 4], None]\n",
      "item [6, 0]\n",
      "[[4, 0], [5, 0], [2, 2], [3, 2], [1, 4], None]\n",
      "here1 [[4, 0], [5, 0], [2, 2], [3, 2], [1, 4], [6, 0]]\n"
     ]
    },
    {
     "data": {
      "text/plain": [
       "[[4, 0], [5, 0], [2, 2], [3, 2], [1, 4], [6, 0]]"
      ]
     },
     "execution_count": 55,
     "metadata": {},
     "output_type": "execute_result"
    }
   ],
   "source": [
    "a.reconstructQueue(people)"
   ]
  },
  {
   "cell_type": "markdown",
   "id": "e0825fc7-222e-4689-977f-f145261779da",
   "metadata": {},
   "source": [
    "## Assign Cookie"
   ]
  },
  {
   "cell_type": "markdown",
   "id": "fcbe5cfb-2e65-4e9e-b6b0-2cc215ef58ae",
   "metadata": {},
   "source": [
    "https://leetcode.com/problems/assign-cookies/\n",
    "\n",
    "Assume you are an awesome parent and want to give your children some cookies. But, you should give each child at most one cookie.\n",
    "\n",
    "Each child i has a greed factor g[i], which is the minimum size of a cookie that the child will be content with; and each cookie j has a size s[j]. If s[j] >= g[i], we can assign the cookie j to the child i, and the child i will be content. Your goal is to maximize the number of your content children and output the maximum number."
   ]
  },
  {
   "cell_type": "code",
   "execution_count": 81,
   "id": "c1fb8988-98a2-4ebc-afe9-64f249a40dd8",
   "metadata": {},
   "outputs": [],
   "source": [
    "class Solution:\n",
    "    def findContentChildren(self, g: List[int], s: List[int]) -> int:\n",
    "        g.sort()\n",
    "        s.sort()\n",
    "        number_satisfied_children = 0\n",
    "        for i in range(len(g)):\n",
    "            for j in range(s_init, len(s)):\n",
    "\n",
    "                if s[j]>=g[i]:\n",
    "                    s = s[(j+1):]\n",
    "                    number_satisfied_children = number_satisfied_children + 1\n",
    "                    break\n",
    "        return number_satisfied_children\n",
    "            \n",
    "        "
   ]
  },
  {
   "cell_type": "code",
   "execution_count": 82,
   "id": "86d4a374-f8e2-4948-a56e-4fd81a00e2e4",
   "metadata": {},
   "outputs": [],
   "source": [
    "a = Solution()"
   ]
  },
  {
   "cell_type": "code",
   "execution_count": 79,
   "id": "0652f877-d9cb-42c3-be00-0eacf5af7c23",
   "metadata": {},
   "outputs": [],
   "source": [
    "g = [1,2]\n",
    "s = [1,2,3]\n"
   ]
  },
  {
   "cell_type": "code",
   "execution_count": 83,
   "id": "630a7f79-dc1b-41e9-a8b4-6f02f4311555",
   "metadata": {},
   "outputs": [
    {
     "name": "stdout",
     "output_type": "stream",
     "text": [
      "0 0\n",
      "s[j] 2\n",
      "g[i] 1\n"
     ]
    },
    {
     "data": {
      "text/plain": [
       "1"
      ]
     },
     "execution_count": 83,
     "metadata": {},
     "output_type": "execute_result"
    }
   ],
   "source": [
    "a.findContentChildren(g, s)"
   ]
  },
  {
   "cell_type": "markdown",
   "id": "3465419d-f807-47d5-8f32-80208b30d765",
   "metadata": {},
   "source": [
    "## Task scheduler"
   ]
  },
  {
   "cell_type": "markdown",
   "id": "4aeea90e-b6f7-46c9-894c-78b52c9cab06",
   "metadata": {},
   "source": [
    "https://leetcode.com/problems/task-scheduler/\n",
    "\n",
    "Given a characters array tasks, representing the tasks a CPU needs to do, where each letter represents a different task. Tasks could be done in any order. Each task is done in one unit of time. For each unit of time, the CPU could complete either one task or just be idle.\n",
    "\n",
    "However, there is a non-negative integer n that represents the cooldown period between two same tasks (the same letter in the array), that is that there must be at least n units of time between any two same tasks.\n",
    "\n",
    "Return the least number of units of times that the CPU will take to finish all the given tasks."
   ]
  },
  {
   "cell_type": "markdown",
   "id": "7f69612d-4f7d-4143-b364-ad1bba6e1b30",
   "metadata": {},
   "source": [
    "Approach 1:\n",
    "Create a count dict from incoming tasks list. initialize a wait time dict with key as task and initial value as 0\n",
    "create a function  f which takes count dict, and wait dict, and returns next task to be considered (task whose waiting time in wait dict is 0, and count dict is maximum). If No task is ready (all tasks are waiting) return None\n",
    "\n",
    "create a variable for total number of tasks as length of task list. initialize empty queue, populate with first task\n",
    "while total number of task > 0\n",
    "    pop task\n",
    "    append task to output\n",
    "    decrement total number of tasks by 1\n",
    "    in count dict, decrement count for that task by 1\n",
    "    in wait dict, for that task, set value to wait time n, and for all other tasks, if value not 0, decrement wait time by 1\n",
    "    get next task using f , if output of f is None, append 'wait' to output, for all keys decrement wait time by 1, and keep calling f till output of f \n",
    "    is not None\n",
    "return len(output)\n",
    "This approach is correct, but the problem is it doesn't pass leet code's time checks (not sure why, it is reasonably fast) - update, passed leetcode\n",
    "\n",
    "What's the complexity ?\n",
    "1) Getting count dict - O(n) where n is length of task\n",
    "2) Getting wait dict - O(k) -> k unique tasks, this can atmax be 26, as there are 26 possible unique tasks in worse case\n",
    "3) While loop is run  for total length of output which is O(n + wait). Inside while loop, to find next element to process is O(k)\n",
    "Overall O(n)"
   ]
  },
  {
   "cell_type": "code",
   "execution_count": 199,
   "id": "81a2eb64-6dec-4ead-be33-0dcd53b4e1a9",
   "metadata": {},
   "outputs": [],
   "source": [
    "from collections import Counter, deque\n",
    "class Solution:\n",
    "    def leastInterval(self, tasks: List[str], n: int) -> int:\n",
    "        \n",
    "        def return_next_element(wait, cou):\n",
    "            ## return element with highest count and 0 wait\n",
    "            output = None\n",
    "            count = 0\n",
    "\n",
    "            for key in wait.keys():\n",
    "                if wait[key]==0:\n",
    "                    if (output is None) and (cou[key]>0):\n",
    "                        output = key\n",
    "                        count = cou[key]\n",
    "                    else:\n",
    "                        if cou[key]>count:\n",
    "                            count = cou[key]\n",
    "                            output = key\n",
    "            return output\n",
    "            \n",
    "        cou = dict(Counter(tasks))           \n",
    "        wait = dict()\n",
    "        for key in cou.keys():\n",
    "            wait[key] = 0\n",
    "            \n",
    "        a = deque()\n",
    "        starting_element = return_next_element(wait, cou)\n",
    "        ##print(cou)\n",
    "        \n",
    "        a.append(starting_element)\n",
    "        ##print(\"a start\", a)\n",
    "\n",
    "        total_tasks = len(tasks)\n",
    "\n",
    "        ##print(unique_tasks)\n",
    "        output = []\n",
    "        while (total_tasks>0):\n",
    "            key = a.popleft()\n",
    "            ##print(key, total_tasks)\n",
    "\n",
    "            output.append(key)\n",
    "            ##print(\"output\", output)\n",
    "            total_tasks = total_tasks-1\n",
    "            cou[key] = cou[key]-1\n",
    "            if cou[key]==0:\n",
    "                cou.pop(key)\n",
    "                wait.pop(key)\n",
    "            else:\n",
    "                wait[key] = n\n",
    "            for key1 in wait.keys():\n",
    "                if key1 != key:\n",
    "                    if wait[key1] != 0:\n",
    "                        wait[key1] = wait[key1]-1\n",
    "            key = return_next_element(wait, cou)\n",
    "            ##print(\"here2\", key)\n",
    "            ##print(\"total_tasks\", total_tasks)\n",
    "            if total_tasks==0:\n",
    "                break\n",
    "            while not key:\n",
    "                output.append('wait')\n",
    "                for key1 in wait.keys():\n",
    "                    if wait[key1] != 0:\n",
    "                        wait[key1] = wait[key1]-1\n",
    "                key = return_next_element(wait, cou)\n",
    "            a.append(key)\n",
    "                \n",
    "\n",
    "                \n",
    "            \n",
    "        return len(output)\n",
    "            \n",
    "            "
   ]
  },
  {
   "cell_type": "code",
   "execution_count": 213,
   "id": "dd2c45b8-1366-4f49-849d-d90a9054a1e9",
   "metadata": {},
   "outputs": [
    {
     "ename": "NameError",
     "evalue": "name 'queue' is not defined",
     "output_type": "error",
     "traceback": [
      "\u001b[1;31m---------------------------------------------------------------------------\u001b[0m",
      "\u001b[1;31mNameError\u001b[0m                                 Traceback (most recent call last)",
      "\u001b[1;32m<ipython-input-213-3b0da72119b8>\u001b[0m in \u001b[0;36m<module>\u001b[1;34m\u001b[0m\n\u001b[0;32m      3\u001b[0m \u001b[0mn\u001b[0m \u001b[1;33m=\u001b[0m \u001b[1;36m2\u001b[0m\u001b[1;33m\u001b[0m\u001b[1;33m\u001b[0m\u001b[0m\n\u001b[0;32m      4\u001b[0m \u001b[0ma\u001b[0m \u001b[1;33m=\u001b[0m \u001b[0mSolution\u001b[0m\u001b[1;33m(\u001b[0m\u001b[1;33m)\u001b[0m\u001b[1;33m\u001b[0m\u001b[1;33m\u001b[0m\u001b[0m\n\u001b[1;32m----> 5\u001b[1;33m \u001b[0ma\u001b[0m\u001b[1;33m.\u001b[0m\u001b[0mleastInterval\u001b[0m\u001b[1;33m(\u001b[0m\u001b[0mtasks\u001b[0m\u001b[1;33m,\u001b[0m \u001b[0mn\u001b[0m\u001b[1;33m)\u001b[0m\u001b[1;33m\u001b[0m\u001b[1;33m\u001b[0m\u001b[0m\n\u001b[0m",
      "\u001b[1;32m<ipython-input-211-6f256e981cef>\u001b[0m in \u001b[0;36mleastInterval\u001b[1;34m(self, tasks, n)\u001b[0m\n\u001b[0;32m     16\u001b[0m                 \u001b[1;32mif\u001b[0m \u001b[0mcnt\u001b[0m \u001b[1;33m!=\u001b[0m \u001b[1;36m0\u001b[0m\u001b[1;33m:\u001b[0m\u001b[1;33m\u001b[0m\u001b[1;33m\u001b[0m\u001b[0m\n\u001b[0;32m     17\u001b[0m                     \u001b[0mq\u001b[0m\u001b[1;33m.\u001b[0m\u001b[0mappend\u001b[0m\u001b[1;33m(\u001b[0m\u001b[1;33m[\u001b[0m\u001b[0mcnt\u001b[0m\u001b[1;33m,\u001b[0m \u001b[0mtime\u001b[0m \u001b[1;33m+\u001b[0m \u001b[0mn\u001b[0m\u001b[1;33m]\u001b[0m\u001b[1;33m)\u001b[0m\u001b[1;33m\u001b[0m\u001b[1;33m\u001b[0m\u001b[0m\n\u001b[1;32m---> 18\u001b[1;33m             \u001b[1;32mif\u001b[0m \u001b[0mqueue\u001b[0m \u001b[1;32mand\u001b[0m \u001b[0mq\u001b[0m\u001b[1;33m[\u001b[0m\u001b[1;36m0\u001b[0m\u001b[1;33m]\u001b[0m\u001b[1;33m[\u001b[0m\u001b[1;36m1\u001b[0m\u001b[1;33m]\u001b[0m\u001b[1;33m==\u001b[0m\u001b[0mtime\u001b[0m\u001b[1;33m:\u001b[0m\u001b[1;33m\u001b[0m\u001b[1;33m\u001b[0m\u001b[0m\n\u001b[0m\u001b[0;32m     19\u001b[0m                 \u001b[0mheapq\u001b[0m\u001b[1;33m.\u001b[0m\u001b[0mheappush\u001b[0m\u001b[1;33m(\u001b[0m \u001b[0mmaxHeap\u001b[0m\u001b[1;33m,\u001b[0m \u001b[0mqueue\u001b[0m\u001b[1;33m.\u001b[0m\u001b[0mpopleft\u001b[0m\u001b[1;33m(\u001b[0m\u001b[1;33m)\u001b[0m\u001b[1;33m[\u001b[0m\u001b[1;36m0\u001b[0m\u001b[1;33m]\u001b[0m\u001b[1;33m)\u001b[0m\u001b[1;33m\u001b[0m\u001b[1;33m\u001b[0m\u001b[0m\n\u001b[0;32m     20\u001b[0m         \u001b[1;32mreturn\u001b[0m \u001b[0mtime\u001b[0m\u001b[1;33m\u001b[0m\u001b[1;33m\u001b[0m\u001b[0m\n",
      "\u001b[1;31mNameError\u001b[0m: name 'queue' is not defined"
     ]
    }
   ],
   "source": [
    "\n",
    "tasks = [\"A\",\"A\",\"A\",\"A\",\"A\",\"A\",\"B\",\"C\",\"D\",\"E\",\"F\",\"G\"]\n",
    "## tasks = ['A','A','A','B','B','B']\n",
    "n = 2\n",
    "a = Solution()\n",
    "a.leastInterval(tasks, n)"
   ]
  },
  {
   "cell_type": "markdown",
   "id": "3d30ecc4-982f-4112-839a-06753b8fa06f",
   "metadata": {},
   "source": [
    "Approach 2:\n",
    "Create a count dict from incoming tasks list, create a max heap from the counts (Since python natively supports only minheap, we multiply every element by -1 to use a minheap for finding max). At every step, pop max element (This is O(1)), and increment time counter. Now For task corresponding to max element, decrement count by 1 (or in the - world, increment by 1), and add count,time to pop to a queue (time to pop = current time +  n) -> Keep doing this until queue becomes empty\n",
    "\n",
    "\n",
    "This approach is 3X faster than prev approach\n"
   ]
  },
  {
   "cell_type": "code",
   "execution_count": 218,
   "id": "3d4035ce-12fe-436e-8acc-0c10862045c5",
   "metadata": {},
   "outputs": [],
   "source": [
    "from collections import Counter, deque\n",
    "import heapq\n",
    "class Solution:\n",
    "    def leastInterval(self, tasks: List[str], n: int) -> int:\n",
    "        cou = Counter(tasks)\n",
    "        maxHeap = [-x for x in cou.values()]  ## - because python natively supports only minheap\n",
    "        heapq.heapify(maxHeap)\n",
    "        time = 0\n",
    "        q = deque() ## pairs of [-cnt, idletime]\n",
    "        \n",
    "        while maxHeap or q: ## either maxHeap or q is not empty\n",
    "            time = time + 1\n",
    "            if maxHeap:\n",
    "                cnt = heapq.heappop(maxHeap)\n",
    "                cnt = cnt + 1 ## to decrement count, or in the negative world, implement\n",
    "                if cnt != 0:\n",
    "                    q.append([cnt, time + n])\n",
    "            if q and q[0][1]==time: \n",
    "                heapq.heappush( maxHeap, q.popleft()[0])\n",
    "        return time\n",
    "                    \n",
    "        "
   ]
  },
  {
   "cell_type": "code",
   "execution_count": 219,
   "id": "bdb2d3be-2489-411c-b561-f34f0af78753",
   "metadata": {},
   "outputs": [
    {
     "data": {
      "text/plain": [
       "16"
      ]
     },
     "execution_count": 219,
     "metadata": {},
     "output_type": "execute_result"
    }
   ],
   "source": [
    "tasks = [\"A\",\"A\",\"A\",\"A\",\"A\",\"A\",\"B\",\"C\",\"D\",\"E\",\"F\",\"G\"]\n",
    "## tasks = ['A','A','A','B','B','B']\n",
    "n = 2\n",
    "a = Solution()\n",
    "a.leastInterval(tasks, n)"
   ]
  },
  {
   "cell_type": "markdown",
   "id": "26c5a2a7-d968-4b74-a4ac-0e55199ce9b9",
   "metadata": {},
   "source": [
    "## Jump game\n",
    "https://leetcode.com/problems/jump-game/"
   ]
  },
  {
   "cell_type": "markdown",
   "id": "f43c6cb3-e815-4d62-a49b-769216296660",
   "metadata": {},
   "source": [
    "You are given an integer array nums. You are initially positioned at the array's first index, and each element in the array represents your maximum jump length at that position.\n",
    "\n",
    "Return true if you can reach the last index, or false otherwise.\n",
    "\n",
    "I think this also includes dynamic programming"
   ]
  },
  {
   "cell_type": "code",
   "execution_count": 248,
   "id": "0c88f012-4470-4892-bec7-6b3a56c82ee6",
   "metadata": {},
   "outputs": [],
   "source": [
    "from collections import deque\n",
    "class Solution:\n",
    "    def canJump(self, nums: List[int]) -> bool:\n",
    "        last_index = len(nums)-1\n",
    "        output = False\n",
    "        a = deque()\n",
    "        visited_index = [False]*len(nums)\n",
    "        a.append([nums[0], 0])\n",
    "        while a:\n",
    "            val, index = a.popleft()\n",
    "            if index==last_index:\n",
    "                return True\n",
    "            visited_index[index] = True\n",
    "            for j in range(1, val+1):\n",
    "                reached_index = index + j\n",
    "                if reached_index==last_index:\n",
    "                    return True\n",
    "                if not visited_index[reached_index]:\n",
    "                    visited_index[reached_index] = True\n",
    "                    a.append([nums[reached_index], reached_index])\n",
    "                \n",
    "            \n",
    "\n",
    "        return False\n",
    "                "
   ]
  },
  {
   "cell_type": "code",
   "execution_count": 253,
   "id": "c203ed1b-5ae8-4979-99f4-a8a18136d64e",
   "metadata": {},
   "outputs": [],
   "source": [
    "from collections import deque\n",
    "class Solution:\n",
    "    def canJump(self, nums: List[int]) -> bool:\n",
    "        n = len(nums)\n",
    "        reachable = 0\n",
    "        for i in range(0, n):\n",
    "            \n",
    "            if reachable < i:\n",
    "                return False\n",
    "            reachable = max(reachable, i + nums[i])\n",
    "            \n",
    "            \n",
    "\n",
    "        return True"
   ]
  },
  {
   "cell_type": "code",
   "execution_count": 258,
   "id": "3fb27521-93fa-46d3-9aca-bcad67a2520f",
   "metadata": {},
   "outputs": [],
   "source": [
    "from collections import deque\n",
    "class Solution:\n",
    "    def canJump(self, nums: List[int]) -> bool:\n",
    "        n = len(nums)\n",
    "        target = n-1\n",
    "        for i in range(n-2,-1,-1):\n",
    "            if (i + nums[i])>=target:\n",
    "                target = i\n",
    "        if target==0:\n",
    "            return True\n",
    "        else:\n",
    "            return False\n"
   ]
  },
  {
   "cell_type": "code",
   "execution_count": 265,
   "id": "1e344c39-26ce-4ead-b17f-4815cc3245b7",
   "metadata": {},
   "outputs": [],
   "source": [
    "a = Solution()\n",
    "nums = [0,1,2]"
   ]
  },
  {
   "cell_type": "code",
   "execution_count": 266,
   "id": "aa8c53aa-6962-43d9-9ba7-0dacd104fd93",
   "metadata": {},
   "outputs": [
    {
     "data": {
      "text/plain": [
       "False"
      ]
     },
     "execution_count": 266,
     "metadata": {},
     "output_type": "execute_result"
    }
   ],
   "source": [
    "a.canJump(nums)"
   ]
  },
  {
   "cell_type": "markdown",
   "id": "4ef3ed35-9542-4d37-bc0e-9491d4b18b99",
   "metadata": {},
   "source": [
    "## Jump game 2\n",
    "https://leetcode.com/problems/jump-game-ii/"
   ]
  },
  {
   "cell_type": "markdown",
   "id": "cda82eb6-3dd9-47e6-8366-1732ef8b2a28",
   "metadata": {},
   "source": [
    "Given an array of non-negative integers nums, you are initially positioned at the first index of the array.\n",
    "\n",
    "Each element in the array represents your maximum jump length at that position.\n",
    "\n",
    "Your goal is to reach the last index in the minimum number of jumps.\n",
    "\n",
    "You can assume that you can always reach the last index."
   ]
  },
  {
   "cell_type": "code",
   "execution_count": 300,
   "id": "d2b5fc9f-b67a-47c1-9037-cff54657d44a",
   "metadata": {},
   "outputs": [],
   "source": [
    "from collections import deque\n",
    "class Solution:\n",
    "    def jump(self, nums: List[int]) -> int:\n",
    "        level = 0\n",
    "        a = deque()\n",
    "        a.append(0)\n",
    "        log = [False]*len(nums)\n",
    "        log[0] = True\n",
    "        last_elem = len(nums)-1\n",
    "        if len(nums)==1:\n",
    "            return 0\n",
    "        while True:\n",
    "            \n",
    "            ##print(\"**************\")\n",
    "            ##print(a)\n",
    "            counter = len(a)\n",
    "            ##print(\"counter\", counter)\n",
    "            level = level + 1\n",
    "            ##print(\"level\", level)\n",
    "            ##print(\"log\", log)\n",
    "            while( counter > 0):\n",
    "                ##print(\"############\")\n",
    "                ##print(\"counter_inside\", counter)\n",
    "                output = a.popleft()\n",
    "                ##print(\"output\", output)\n",
    "                log[output] = True\n",
    "                counter = counter - 1\n",
    "                \n",
    "                for index in range(1, nums[output]+1):\n",
    "                    new_index = output + index\n",
    "                    ##print(\"new_index\", new_index)\n",
    "                    if log[new_index]==False:\n",
    "                        a.append(new_index)\n",
    "                        ##print(\"a\", a)\n",
    "                        log[new_index] = True\n",
    "                        if new_index==last_elem:\n",
    "                            return level\n",
    "                \n",
    "            \n",
    "            "
   ]
  },
  {
   "cell_type": "code",
   "execution_count": 301,
   "id": "babb3157-d2da-4125-b4fb-69771ce99468",
   "metadata": {},
   "outputs": [],
   "source": [
    "a = Solution()"
   ]
  },
  {
   "cell_type": "code",
   "execution_count": 303,
   "id": "455889d7-6ba9-4be8-99a9-b67cbe83c66a",
   "metadata": {},
   "outputs": [
    {
     "name": "stdout",
     "output_type": "stream",
     "text": [
      "**************\n",
      "deque([0])\n",
      "counter 1\n",
      "level 1\n",
      "log [True, False, False, False, False]\n",
      "############\n",
      "counter_inside 1\n",
      "output 0\n",
      "new_index 1\n",
      "a deque([1])\n",
      "new_index 2\n",
      "a deque([1, 2])\n",
      "**************\n",
      "deque([1, 2])\n",
      "counter 2\n",
      "level 2\n",
      "log [True, True, True, False, False]\n",
      "############\n",
      "counter_inside 2\n",
      "output 1\n",
      "new_index 2\n",
      "new_index 3\n",
      "a deque([2, 3])\n",
      "new_index 4\n",
      "a deque([2, 3, 4])\n"
     ]
    },
    {
     "data": {
      "text/plain": [
       "2"
      ]
     },
     "execution_count": 303,
     "metadata": {},
     "output_type": "execute_result"
    }
   ],
   "source": [
    "a.jump([2,3,1,1,4])"
   ]
  },
  {
   "cell_type": "markdown",
   "id": "2d86ec90-4d3b-48c3-8896-3198122ccbeb",
   "metadata": {},
   "source": [
    "## References"
   ]
  }
 ],
 "metadata": {
  "kernelspec": {
   "display_name": "Python 3",
   "language": "python",
   "name": "python3"
  },
  "language_info": {
   "codemirror_mode": {
    "name": "ipython",
    "version": 3
   },
   "file_extension": ".py",
   "mimetype": "text/x-python",
   "name": "python",
   "nbconvert_exporter": "python",
   "pygments_lexer": "ipython3",
   "version": "3.8.8"
  }
 },
 "nbformat": 4,
 "nbformat_minor": 5
}
