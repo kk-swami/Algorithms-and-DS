{
 "cells": [
  {
   "cell_type": "raw",
   "id": "2f983b1b-0096-4996-8be3-011570e80f9b",
   "metadata": {},
   "source": [
    "https://realpython.com/intro-to-python-threading/"
   ]
  },
  {
   "cell_type": "markdown",
   "id": "c7132e86-1a24-4daf-a294-31f3d0278fda",
   "metadata": {},
   "source": [
    "## Wrapping a function in a thread"
   ]
  },
  {
   "cell_type": "raw",
   "id": "ec562878-9fae-4204-83ea-813fb7a9f25c",
   "metadata": {},
   "source": [
    "1) from threading import Thread\n",
    "2) call threading.Thread(target = my_func, args = (1,))\n",
    "\n",
    "Something like below"
   ]
  },
  {
   "cell_type": "code",
   "execution_count": 5,
   "id": "05b9b457-79c9-40dc-9711-2e76c5bcf6c8",
   "metadata": {},
   "outputs": [],
   "source": [
    "import threading\n",
    "import time\n",
    "\n",
    "def my_func(index):\n",
    "    \n",
    "    print(\"inside my_func at index {0}\".format(index))\n",
    "    time.sleep(2)\n",
    "    print(\"exiting my_func at index {0}\".format(index))\n",
    "    \n",
    "    \n",
    "\n",
    "    \n",
    "    "
   ]
  },
  {
   "cell_type": "code",
   "execution_count": 13,
   "id": "309e425c-56a6-4b12-9ad6-9a89cd42c170",
   "metadata": {},
   "outputs": [
    {
     "name": "stdout",
     "output_type": "stream",
     "text": [
      "Main : before creating thread\n",
      "Main : before starting thread\n",
      "inside my_func at index 1\n",
      "Main : waiting for thread to finish\n",
      "exiting my_func at index 1\n",
      "Main : all done\n"
     ]
    }
   ],
   "source": [
    "print(\"Main : before creating thread\")\n",
    "x = threading.Thread(target = my_func, args = (1,))\n",
    "print(\"Main : before starting thread\")\n",
    "x.start()\n",
    "print(\"Main : waiting for thread to finish\")\n",
    "x.join()\n",
    "print(\"Main : all done\")"
   ]
  },
  {
   "cell_type": "code",
   "execution_count": 12,
   "id": "9d042986-e5da-492e-ab96-c4b22e747bcd",
   "metadata": {},
   "outputs": [
    {
     "name": "stdout",
     "output_type": "stream",
     "text": [
      "Main : before creating thread\n",
      "Main : before starting thread\n",
      "inside my_func at index 1\n",
      "Main : waiting for thread to finish\n",
      "Main : all done\n",
      "exiting my_func at index 1\n"
     ]
    }
   ],
   "source": [
    "print(\"Main : before creating thread\")\n",
    "x = threading.Thread(target = my_func, args = (1,), daemon=True)\n",
    "print(\"Main : before starting thread\")\n",
    "x.start()\n",
    "print(\"Main : waiting for thread to finish\")\n",
    "print(\"Main : all done\")"
   ]
  },
  {
   "cell_type": "markdown",
   "id": "97868448-925d-40c0-a1eb-3851bad0c0a2",
   "metadata": {},
   "source": [
    "## Running multiple threads"
   ]
  },
  {
   "cell_type": "markdown",
   "id": "40fdc3a6-bb81-486f-ab9e-8f6689addce6",
   "metadata": {},
   "source": [
    "### Method 1"
   ]
  },
  {
   "cell_type": "raw",
   "id": "a5624ee1-4bd9-4263-9af8-8e2bd2850127",
   "metadata": {},
   "source": [
    "One way to do so is what we have done already, creating 3 diff threads with threading.Thread\n",
    "\n"
   ]
  },
  {
   "cell_type": "code",
   "execution_count": 18,
   "id": "3c6e79bc-a960-46da-b602-7b34e4a31c5c",
   "metadata": {},
   "outputs": [
    {
     "name": "stdout",
     "output_type": "stream",
     "text": [
      "Main    : create and start thread 0\n",
      "inside my_func at index 0\n",
      "Main    : create and start thread 1\n",
      "inside my_func at index 1\n",
      "Main    : create and start thread 2\n",
      "inside my_func at index 2\n",
      "Main    : before joining thread 0\n",
      "Main    : thread 0 done\n",
      "Main    : before joining thread 1\n",
      "Main    : thread 1 done\n",
      "Main    : before joining thread 2\n",
      "Main    : thread 2 done\n",
      "exiting my_func at index 2\n",
      "exiting my_func at index 0\n",
      "exiting my_func at index 1\n"
     ]
    }
   ],
   "source": [
    "threads = list()\n",
    "for index in range(3):\n",
    "    print(\"Main    : create and start thread {}\".format(index))\n",
    "    x = threading.Thread(target=my_func, args=(index,))\n",
    "    threads.append(x)\n",
    "    x.start()\n",
    "\n",
    "for index, thread in enumerate(threads):\n",
    "    print(\"Main    : before joining thread {}\".format(index))\n",
    "    ## thread.join()\n",
    "    print(\"Main    : thread {} done\".format(index))"
   ]
  },
  {
   "cell_type": "code",
   "execution_count": 16,
   "id": "94568e95-50e6-473b-a427-74ec7edd9c1e",
   "metadata": {},
   "outputs": [
    {
     "name": "stdout",
     "output_type": "stream",
     "text": [
      "hi\n"
     ]
    }
   ],
   "source": [
    "print(\"hi\")"
   ]
  },
  {
   "cell_type": "markdown",
   "id": "10789b59-50ff-4476-9f8d-2245a05d89c4",
   "metadata": {},
   "source": [
    "### Method 2"
   ]
  },
  {
   "cell_type": "raw",
   "id": "72fc9039-5830-4293-be3b-bca615c2b404",
   "metadata": {},
   "source": [
    "Method 2 of running multiple threads - using thread pool executor\n",
    "Note  : The syntax is different from using threading\n",
    "Because it is inside a with block, you automatically do a join at the end the way it is designed"
   ]
  },
  {
   "cell_type": "code",
   "execution_count": 21,
   "id": "c4a05dbe-c13f-4cc9-b965-fa28d4c9c41f",
   "metadata": {},
   "outputs": [],
   "source": [
    "import concurrent.futures"
   ]
  },
  {
   "cell_type": "code",
   "execution_count": 23,
   "id": "351b6cff-bbc6-4727-9011-7988d1731b8d",
   "metadata": {},
   "outputs": [
    {
     "name": "stdout",
     "output_type": "stream",
     "text": [
      "inside my_func at index 0\n",
      "inside my_func at index 1\n",
      "exiting my_func at index 1exiting my_func at index 0\n",
      "inside my_func at index 2\n",
      "\n",
      "exiting my_func at index 2\n"
     ]
    }
   ],
   "source": [
    "with concurrent.futures.ThreadPoolExecutor(max_workers=2) as executor:\n",
    "    executor.map(my_func, range(3))"
   ]
  },
  {
   "cell_type": "markdown",
   "id": "7f2f6631-f995-46fd-b2f2-929531261080",
   "metadata": {},
   "source": [
    "## Race condition"
   ]
  },
  {
   "cell_type": "raw",
   "id": "60dabf53-d3a8-4b21-a36f-db27807e7992",
   "metadata": {},
   "source": [
    "Occurs when two or more threads  access a shared piece of data and do operations on them. "
   ]
  },
  {
   "cell_type": "code",
   "execution_count": 24,
   "id": "2fff8d23-24d9-4ca7-9ab1-8b2664d594da",
   "metadata": {},
   "outputs": [],
   "source": [
    "## Create a fake database which is accessed by threads"
   ]
  },
  {
   "cell_type": "code",
   "execution_count": 39,
   "id": "b97e0384-049c-47e1-9a17-ed89720f2db4",
   "metadata": {},
   "outputs": [],
   "source": [
    "import threading\n",
    "class FakeDatabase:\n",
    "    def __init__(self):\n",
    "        self.value = 0\n",
    "        self._lock = threading.Lock()\n",
    "\n",
    "\n",
    "    def update(self, name):\n",
    "        print(\"Thread {}: starting update\".format(name))\n",
    "        local_copy = self.value\n",
    "        local_copy += 1\n",
    "        time.sleep(0.1)\n",
    "        self.value = local_copy\n",
    "        print(\"Thread {}: finishing update\".format(name))\n",
    "        \n",
    "    def locked_update(self, name):\n",
    "        print(\"Locked Thread {}: starting update\".format(name))\n",
    "        print(\"Thread {} about to lock: starting update\".format(name))\n",
    "        with self._lock:\n",
    "            print(\"Thread {} has lock\".format(name))\n",
    "            local_copy = self.value\n",
    "            local_copy += 1\n",
    "            time.sleep(0.1)\n",
    "            self.value = local_copy\n",
    "            logging.debug(\"Thread {} about to release lock\".format(name))\n",
    "        print(\"Thread {} after release\".format(name))\n",
    "        print(\"Thread {} finishing update\".format(name))"
   ]
  },
  {
   "cell_type": "code",
   "execution_count": 40,
   "id": "f8ae4c3f-82c2-4a62-8633-3c73a39f6e9c",
   "metadata": {},
   "outputs": [],
   "source": [
    "a = FakeDatabase()"
   ]
  },
  {
   "cell_type": "code",
   "execution_count": 37,
   "id": "6b6925fd-20f2-442a-894d-d8db9c50f41e",
   "metadata": {},
   "outputs": [
    {
     "name": "stdout",
     "output_type": "stream",
     "text": [
      "Thread hi: starting update\n",
      "Thread hi: finishing update\n"
     ]
    }
   ],
   "source": [
    "a.update(\"hi\")"
   ]
  },
  {
   "cell_type": "code",
   "execution_count": 31,
   "id": "e28029de-27fc-4b4e-8c49-f41ceaa8be1c",
   "metadata": {},
   "outputs": [
    {
     "ename": "TypeError",
     "evalue": "info() missing 1 required positional argument: 'msg'",
     "output_type": "error",
     "traceback": [
      "\u001b[1;31m---------------------------------------------------------------------------\u001b[0m",
      "\u001b[1;31mTypeError\u001b[0m                                 Traceback (most recent call last)",
      "\u001b[1;32m~\\AppData\\Local\\Temp\\ipykernel_33764\\1569253496.py\u001b[0m in \u001b[0;36m<module>\u001b[1;34m\u001b[0m\n\u001b[1;32m----> 1\u001b[1;33m \u001b[0mlogging\u001b[0m\u001b[1;33m.\u001b[0m\u001b[0minfo\u001b[0m\u001b[1;33m(\u001b[0m\u001b[1;33m)\u001b[0m\u001b[1;33m\u001b[0m\u001b[1;33m\u001b[0m\u001b[0m\n\u001b[0m",
      "\u001b[1;31mTypeError\u001b[0m: info() missing 1 required positional argument: 'msg'"
     ]
    }
   ],
   "source": [
    "logging.info()"
   ]
  },
  {
   "cell_type": "code",
   "execution_count": 38,
   "id": "faa90a08-68e1-420d-95d6-1afb107c341c",
   "metadata": {},
   "outputs": [
    {
     "name": "stdout",
     "output_type": "stream",
     "text": [
      "Testing update. Starting value is 0\n",
      "Thread 0: starting update\n",
      "Thread 1: starting update\n",
      "Thread 0: finishing update\n",
      "Thread 1: finishing update\n",
      "Testing update. Ending value is 1\n"
     ]
    }
   ],
   "source": [
    "database = FakeDatabase()\n",
    "print(\"Testing update. Starting value is {}\".format(database.value))\n",
    "with concurrent.futures.ThreadPoolExecutor(max_workers=2) as executor:\n",
    "    for index in range(2):\n",
    "        executor.submit(database.update, index)\n",
    "print(\"Testing update. Ending value is {}\".format(database.value))"
   ]
  },
  {
   "cell_type": "markdown",
   "id": "7646113c-c45e-46d4-8611-c97ab51e2885",
   "metadata": {},
   "source": [
    "1 when it should be 2 as threads concurrently accessed the DB and incremented independently , race condition !!"
   ]
  },
  {
   "cell_type": "markdown",
   "id": "9b244322-49a7-46dd-877e-518781c00b90",
   "metadata": {},
   "source": [
    "## How do you solve this ?"
   ]
  },
  {
   "cell_type": "code",
   "execution_count": null,
   "id": "7e341209-5e8a-4dcb-8ab2-bd14235db22a",
   "metadata": {},
   "outputs": [],
   "source": [
    "Using locks - mutex## add a lock update in fake database above"
   ]
  },
  {
   "cell_type": "code",
   "execution_count": 41,
   "id": "c862b2a1-b16b-4205-8d51-75177d69d78c",
   "metadata": {},
   "outputs": [
    {
     "name": "stdout",
     "output_type": "stream",
     "text": [
      "Testing update. Starting value is 0\n",
      "Thread 0: starting update\n",
      "Thread 1: starting update\n",
      "Thread 1: finishing update\n",
      "Thread 0: finishing update\n",
      "Testing update. Ending value is 1\n"
     ]
    }
   ],
   "source": [
    "## without lock\n",
    "database = FakeDatabase()\n",
    "print(\"Testing update. Starting value is {}\".format(database.value))\n",
    "with concurrent.futures.ThreadPoolExecutor(max_workers=2) as executor:\n",
    "    for index in range(2):\n",
    "        executor.submit(database.update, index)\n",
    "print(\"Testing update. Ending value is {}\".format(database.value))"
   ]
  },
  {
   "cell_type": "code",
   "execution_count": 42,
   "id": "3d4356e7-70bc-48f1-a561-05bfdd428b1a",
   "metadata": {},
   "outputs": [
    {
     "name": "stdout",
     "output_type": "stream",
     "text": [
      "Testing update. Starting value is 0\n",
      "Locked Thread 0: starting update\n",
      "Thread 0 about to lock: starting update\n",
      "Thread 0 has lock\n",
      "Locked Thread 1: starting update\n",
      "Thread 1 about to lock: starting update\n",
      "Thread 0 after release\n",
      "Thread 0 finishing update\n",
      "Thread 1 has lock\n",
      "Thread 1 after release\n",
      "Thread 1 finishing update\n",
      "Testing update. Ending value is 2\n"
     ]
    }
   ],
   "source": [
    "## With lock\n",
    "database = FakeDatabase()\n",
    "print(\"Testing update. Starting value is {}\".format(database.value))\n",
    "with concurrent.futures.ThreadPoolExecutor(max_workers=2) as executor:\n",
    "    for index in range(2):\n",
    "        executor.submit(database.locked_update, index)\n",
    "print(\"Testing update. Ending value is {}\".format(database.value))"
   ]
  },
  {
   "cell_type": "code",
   "execution_count": null,
   "id": "16ee3563-7fcc-480e-a61e-a152d77b9f36",
   "metadata": {},
   "outputs": [],
   "source": []
  }
 ],
 "metadata": {
  "kernelspec": {
   "display_name": "Python 3 (ipykernel)",
   "language": "python",
   "name": "python3"
  },
  "language_info": {
   "codemirror_mode": {
    "name": "ipython",
    "version": 3
   },
   "file_extension": ".py",
   "mimetype": "text/x-python",
   "name": "python",
   "nbconvert_exporter": "python",
   "pygments_lexer": "ipython3",
   "version": "3.9.13"
  }
 },
 "nbformat": 4,
 "nbformat_minor": 5
}
