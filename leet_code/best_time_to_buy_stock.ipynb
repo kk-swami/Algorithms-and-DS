{
 "cells": [
  {
   "cell_type": "markdown",
   "id": "64aedf73-1f76-4eaf-886f-08d85b15def5",
   "metadata": {},
   "source": [
    "https://leetcode.com/problems/best-time-to-buy-and-sell-stock/"
   ]
  },
  {
   "cell_type": "markdown",
   "id": "9a72e151-05c0-4bc7-a336-acfb03232a01",
   "metadata": {},
   "source": [
    "## Brute force solution - O(n**2) time complexity, O ()"
   ]
  },
  {
   "cell_type": "code",
   "execution_count": 8,
   "id": "77c3851e-edf3-476c-bf40-ce8bb70535b9",
   "metadata": {},
   "outputs": [],
   "source": [
    "class Solution:\n",
    "    def maxProfit(self, prices) :\n",
    "        max_diff = 0\n",
    "        for i in range(0, len(prices)):\n",
    "            for j in range(i+1, len(prices)):\n",
    "                curr_max_diff = max(0, prices[j]-prices[i])\n",
    "                if curr_max_diff>max_diff:\n",
    "                    max_diff = curr_max_diff\n",
    "        return max_diff\n",
    "                "
   ]
  },
  {
   "cell_type": "code",
   "execution_count": 34,
   "id": "9453b5f6-ce43-4e48-b4f9-572c7c558eb2",
   "metadata": {},
   "outputs": [],
   "source": [
    "a = Solution()"
   ]
  },
  {
   "cell_type": "code",
   "execution_count": 5,
   "id": "fea15856-41f7-47f1-97a5-948302913c75",
   "metadata": {},
   "outputs": [],
   "source": [
    "prices = [7,1,5,3,6,4]\n",
    "prices = [7,6,4,3,1]"
   ]
  },
  {
   "cell_type": "code",
   "execution_count": null,
   "id": "b3b007f3-e2c3-4a30-aef9-f541879c7c46",
   "metadata": {},
   "outputs": [],
   "source": [
    "prices = [7,1,5,3,0,6,4]"
   ]
  },
  {
   "cell_type": "code",
   "execution_count": 11,
   "id": "4e6490b5-15f9-41d5-ad73-73aca378a519",
   "metadata": {},
   "outputs": [],
   "source": [
    "prices = [7,1,5,3,0,3,4]"
   ]
  },
  {
   "cell_type": "code",
   "execution_count": 24,
   "id": "f1228a1b-c3da-4a62-afb7-87ca7b4e0c0f",
   "metadata": {},
   "outputs": [],
   "source": [
    "prices = [7,6,4,3,1]"
   ]
  },
  {
   "cell_type": "code",
   "execution_count": 35,
   "id": "5539244b-5e9f-4d3e-9ac1-1d373092ab2c",
   "metadata": {},
   "outputs": [
    {
     "data": {
      "text/plain": [
       "5"
      ]
     },
     "execution_count": 35,
     "metadata": {},
     "output_type": "execute_result"
    }
   ],
   "source": [
    "a.maxProfit(prices)"
   ]
  },
  {
   "cell_type": "code",
   "execution_count": 36,
   "id": "332727f3-0e19-462e-8708-3ae2ae7848df",
   "metadata": {},
   "outputs": [],
   "source": [
    "prices = [7,1,5,3,6,4,15]"
   ]
  },
  {
   "cell_type": "code",
   "execution_count": 37,
   "id": "6184fdb8-0a5c-4497-aa15-b35b0919fe65",
   "metadata": {},
   "outputs": [
    {
     "data": {
      "text/plain": [
       "[7, 1, 5, 3, 6, 4, 15]"
      ]
     },
     "execution_count": 37,
     "metadata": {},
     "output_type": "execute_result"
    }
   ],
   "source": [
    "prices"
   ]
  },
  {
   "cell_type": "markdown",
   "id": "4494ead8-9076-4963-99ae-a757db8f472b",
   "metadata": {},
   "source": [
    "## Better solution - O(N) time complexity, O(1) space complexity"
   ]
  },
  {
   "cell_type": "code",
   "execution_count": 38,
   "id": "7e6ea5ae-8fd3-49bb-8350-96fb6ae15eb0",
   "metadata": {},
   "outputs": [],
   "source": [
    "class Solution2:\n",
    "    def maxProfit(self, prices) :\n",
    "        max_diff = 0\n",
    "        min_index = 0\n",
    "        max_index = 0\n",
    "        for i in range(1, len(prices)):\n",
    "\n",
    "\n",
    "            if prices[i]<prices[min_index]:\n",
    "                min_index = i\n",
    "            if prices[i]>prices[min_index]:\n",
    "                max_index = i\n",
    "                if (max_index > min_index):\n",
    "                    curr_diff = max(0,prices[max_index]-prices[min_index])\n",
    "                    if curr_diff>max_diff:\n",
    "                        max_diff = curr_diff\n",
    "\n",
    "        return max_diff\n",
    "                    \n",
    " "
   ]
  },
  {
   "cell_type": "code",
   "execution_count": 39,
   "id": "d610ef3e-4a8c-40ca-9c1b-c08e22309fc0",
   "metadata": {},
   "outputs": [],
   "source": [
    "b = Solution2()"
   ]
  },
  {
   "cell_type": "code",
   "execution_count": 40,
   "id": "7b8215c9-03cf-4580-ad2e-c493b2e32bc9",
   "metadata": {},
   "outputs": [
    {
     "name": "stdout",
     "output_type": "stream",
     "text": [
      "i 1\n",
      "prices[i] 1\n",
      "min_index 1\n",
      "max_index 0\n",
      "i 2\n",
      "prices[i] 5\n",
      "min_index 1\n",
      "max_index 2\n",
      "i 3\n",
      "prices[i] 3\n",
      "min_index 1\n",
      "max_index 3\n",
      "i 4\n",
      "prices[i] 6\n",
      "min_index 1\n",
      "max_index 4\n",
      "i 5\n",
      "prices[i] 4\n",
      "min_index 1\n",
      "max_index 5\n",
      "i 6\n",
      "prices[i] 15\n",
      "min_index 1\n",
      "max_index 6\n"
     ]
    },
    {
     "data": {
      "text/plain": [
       "14"
      ]
     },
     "execution_count": 40,
     "metadata": {},
     "output_type": "execute_result"
    }
   ],
   "source": [
    "b.maxProfit(prices)"
   ]
  },
  {
   "cell_type": "code",
   "execution_count": null,
   "id": "cdf11b9c-46b4-4dac-af6d-1eefe6a11989",
   "metadata": {},
   "outputs": [],
   "source": []
  }
 ],
 "metadata": {
  "kernelspec": {
   "display_name": "Python 3",
   "language": "python",
   "name": "python3"
  },
  "language_info": {
   "codemirror_mode": {
    "name": "ipython",
    "version": 3
   },
   "file_extension": ".py",
   "mimetype": "text/x-python",
   "name": "python",
   "nbconvert_exporter": "python",
   "pygments_lexer": "ipython3",
   "version": "3.8.8"
  }
 },
 "nbformat": 4,
 "nbformat_minor": 5
}
