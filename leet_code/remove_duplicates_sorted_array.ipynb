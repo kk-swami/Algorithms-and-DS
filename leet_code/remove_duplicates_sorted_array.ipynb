{
 "cells": [
  {
   "cell_type": "markdown",
   "id": "5e540188-949e-4249-a0cd-86f4c94570b9",
   "metadata": {},
   "source": [
    "https://leetcode.com/problems/remove-duplicates-from-sorted-array/"
   ]
  },
  {
   "cell_type": "raw",
   "id": "cad912dd-019f-48a9-9292-4f2645e5db41",
   "metadata": {},
   "source": [
    "From a sorted array of length n, remove duplicates in place, such that first k elements of array after removing duplicates are the unique elements in n"
   ]
  },
  {
   "cell_type": "markdown",
   "id": "997e7f74-7f49-4e50-bfab-2308e0d4d1fb",
   "metadata": {},
   "source": [
    "## Method 1\n",
    "\n",
    "If inputlist say is [1,2,2,3,3,3,4]\n",
    "we iterate through list. for every element at position i,\n",
    "check if same element is there in i+1, if so, a second mini for loop to get indices of all locations where element = curr_elem\n",
    "for example : if i=1 in above example, curr_elem = 2, then i=3 and i=4 both have value = curr elem\n",
    "\n",
    "Then replace inputlist[i+1:] by inputlist[i+count:],inputlist[i+1:i+count]. Essentially, take 2,2 and put in end of list, move 3,3,3,4 to position before\n",
    "\n",
    "keep repeating. this will give you a list with non-duplicated elements in first k positions with time complexity O(n), space complexity O(1) - as it modifies original list\n",
    "\n",
    "Once non duplicated list is obtained, another for loop to see what k is and reutrn it"
   ]
  },
  {
   "cell_type": "code",
   "execution_count": 128,
   "id": "0f04e220-24da-4b45-90f8-53aa2acca35a",
   "metadata": {},
   "outputs": [],
   "source": [
    "def removeDuplicates(nums):\n",
    "    n = len(nums)\n",
    "    k = 1\n",
    "\n",
    "    j = n-1 ## last element\n",
    "    for i in range(0,n):\n",
    "        curr_elem = nums[i]\n",
    "\n",
    "        \n",
    "        if i>0:\n",
    "\n",
    "            if (curr_elem < nums[i-1]):\n",
    "                ##k=i\n",
    "                break\n",
    "\n",
    "        if curr_elem in nums[(i+1):]:  ## in the future\n",
    "            for j in range(i+1,n):\n",
    "                if nums[j]>curr_elem:\n",
    "                    break\n",
    "\n",
    "\n",
    "            nums[(i+1):] = nums[j:] + nums[(i+1):j]\n",
    "        else:\n",
    "            pass\n",
    "    k = 0\n",
    "\n",
    "    for i in range(0, n):\n",
    "        if i==(n-1):\n",
    "            k=i\n",
    "            break\n",
    "        if (nums[i]<nums[i+1]):\n",
    "            k=k+1\n",
    "        else:\n",
    "            break\n",
    "    k = k + 1\n",
    "    return nums, k\n",
    "\n",
    "                \n",
    "                "
   ]
  },
  {
   "cell_type": "code",
   "execution_count": 134,
   "id": "41f3b147-42c5-4d4a-ab1a-97444098b946",
   "metadata": {},
   "outputs": [
    {
     "name": "stdout",
     "output_type": "stream",
     "text": [
      "i 0\n",
      "nums [1, 1, 2]\n",
      "curr_elem 1\n",
      "i 1\n",
      "nums [1, 2, 1]\n",
      "curr_elem 2\n",
      "prev_elem 1\n",
      "1 2\n",
      "i 2\n",
      "nums [1, 2, 1]\n",
      "curr_elem 1\n",
      "prev_elem 2\n",
      "2 2\n",
      "k 2\n"
     ]
    },
    {
     "data": {
      "text/plain": [
       "([1, 2, 1], 2)"
      ]
     },
     "execution_count": 134,
     "metadata": {},
     "output_type": "execute_result"
    }
   ],
   "source": [
    "removeDuplicates([1,1,2])\n",
    " "
   ]
  },
  {
   "cell_type": "markdown",
   "id": "4cd6f285-c895-42e0-be6a-ad4a8d5e0877",
   "metadata": {},
   "source": [
    "## Method 2 \n",
    "simpler than method 1, also gets k in place instead of separate loop.\n",
    "main difference - when you see repeats of a number, instead of reacting on first repeat like method 1 does, react on last repeat\n",
    "Have two pointers i and j\n",
    "\n",
    "If inputlist say is [1,2,2,3,3,3,4]\n",
    "we iterate through list. for every element at position i,\n",
    "if elem[i+1] not equal to elem[i], then j=i, a[j] = a[i], j++.\n",
    "If elem[i+1]==elem[i], i = i+1\n",
    "\n",
    "For example, i=1, list[i]=2, list[i+1]==list[i], therefore i=i+1, don't add until you come to where list[i]!=list[i+1]\n",
    "\n",
    "Then j=i, add"
   ]
  },
  {
   "cell_type": "code",
   "execution_count": 137,
   "id": "8749742f-0c66-4804-89c4-923093999de8",
   "metadata": {},
   "outputs": [],
   "source": [
    "def removeDuplicates_method2(nums):\n",
    "    n = len(nums)\n",
    "    j = 0\n",
    "\n",
    "    for i in range(0,n):\n",
    "        if i<(n-1):\n",
    "            curr_elem = nums[i]\n",
    "            if nums[i+1]!=nums[i]:\n",
    "                nums[j] = curr_elem\n",
    "                j = j+1\n",
    "            else:\n",
    "                pass\n",
    "                \n",
    "        else:\n",
    "            nums[j] = curr_elem\n",
    "            j = j+1\n",
    "            \n",
    "\n",
    "    return nums, j"
   ]
  },
  {
   "cell_type": "code",
   "execution_count": 141,
   "id": "096d2470-ab13-493e-8d0e-bab709b2edb1",
   "metadata": {},
   "outputs": [
    {
     "data": {
      "text/plain": [
       "([1, 2, 4, 5, 2, 2, 4, 5, 5], 4)"
      ]
     },
     "execution_count": 141,
     "metadata": {},
     "output_type": "execute_result"
    }
   ],
   "source": [
    "removeDuplicates_method2([1,1,1,2,2,2,4,5,5])"
   ]
  },
  {
   "cell_type": "code",
   "execution_count": 142,
   "id": "44e23eaf-110c-4359-bb86-5332c434cd8c",
   "metadata": {},
   "outputs": [
    {
     "name": "stdout",
     "output_type": "stream",
     "text": [
      "i 0\n",
      "nums [1, 1, 1, 2, 2, 2, 4, 5, 5]\n",
      "curr_elem 1\n",
      "i 1\n",
      "nums [1, 2, 2, 2, 4, 5, 5, 1, 1]\n",
      "curr_elem 2\n",
      "prev_elem 1\n",
      "1 3\n",
      "i 2\n",
      "nums [1, 2, 4, 5, 5, 1, 1, 2, 2]\n",
      "curr_elem 4\n",
      "prev_elem 2\n",
      "2 4\n",
      "i 3\n",
      "nums [1, 2, 4, 5, 5, 1, 1, 2, 2]\n",
      "curr_elem 5\n",
      "prev_elem 4\n",
      "3 4\n",
      "i 4\n",
      "nums [1, 2, 4, 5, 2, 5, 1, 1, 2]\n",
      "curr_elem 2\n",
      "prev_elem 5\n",
      "4 8\n",
      "k 4\n"
     ]
    },
    {
     "data": {
      "text/plain": [
       "([1, 2, 4, 5, 2, 5, 1, 1, 2], 4)"
      ]
     },
     "execution_count": 142,
     "metadata": {},
     "output_type": "execute_result"
    }
   ],
   "source": [
    "removeDuplicates([1,1,1,2,2,2,4,5,5])"
   ]
  },
  {
   "cell_type": "code",
   "execution_count": null,
   "id": "6974ee72-e7aa-4646-8d49-6ed6dabfb4bd",
   "metadata": {},
   "outputs": [],
   "source": []
  }
 ],
 "metadata": {
  "kernelspec": {
   "display_name": "Python 3",
   "language": "python",
   "name": "python3"
  },
  "language_info": {
   "codemirror_mode": {
    "name": "ipython",
    "version": 3
   },
   "file_extension": ".py",
   "mimetype": "text/x-python",
   "name": "python",
   "nbconvert_exporter": "python",
   "pygments_lexer": "ipython3",
   "version": "3.8.8"
  }
 },
 "nbformat": 4,
 "nbformat_minor": 5
}
