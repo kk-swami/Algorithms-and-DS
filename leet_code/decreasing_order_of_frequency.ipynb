{
 "cells": [
  {
   "cell_type": "markdown",
   "id": "8bc37c6e-d85f-4598-ba6c-fd6d5a82dc6a",
   "metadata": {},
   "source": [
    "https://leetcode.com/problems/sort-characters-by-frequency/"
   ]
  },
  {
   "cell_type": "markdown",
   "id": "e6520ee3-fcb8-483b-a98e-443fd34e6d1c",
   "metadata": {},
   "source": [
    "O(number of characters)"
   ]
  },
  {
   "cell_type": "code",
   "execution_count": 11,
   "id": "18b7c40b-3b38-4e7a-968f-134c61ae11b3",
   "metadata": {},
   "outputs": [],
   "source": [
    "from collections import Counter\n",
    "class Solution:\n",
    "    def frequencySort(self, s: str) -> str:\n",
    "        a = Counter(s)\n",
    "        b = a.most_common()\n",
    "        out_string = \"\"\n",
    "        for n in b:\n",
    "            out_string = out_string + n[0]*n[1]\n",
    "        return out_string\n",
    "    \n",
    "            \n",
    "        \n",
    "        "
   ]
  },
  {
   "cell_type": "code",
   "execution_count": 12,
   "id": "3a99bbf8-87e6-4d2f-b41d-de527133d8ee",
   "metadata": {},
   "outputs": [],
   "source": [
    "a = Solution()"
   ]
  },
  {
   "cell_type": "code",
   "execution_count": 16,
   "id": "5b1adb79-5329-477e-9525-e4aebd4523fa",
   "metadata": {},
   "outputs": [
    {
     "data": {
      "text/plain": [
       "'cccaaa'"
      ]
     },
     "execution_count": 16,
     "metadata": {},
     "output_type": "execute_result"
    }
   ],
   "source": [
    "a.frequencySort('cccaaa')"
   ]
  },
  {
   "cell_type": "code",
   "execution_count": 7,
   "id": "f5d0c345-2773-4aa3-9bd4-d95c9887289e",
   "metadata": {},
   "outputs": [],
   "source": [
    "a = Counter(\"abcabc\")"
   ]
  },
  {
   "cell_type": "code",
   "execution_count": 8,
   "id": "67711950-a0b0-42e1-8e91-088fe6a12d4b",
   "metadata": {},
   "outputs": [
    {
     "data": {
      "text/plain": [
       "[('a', 2), ('b', 2), ('c', 2)]"
      ]
     },
     "execution_count": 8,
     "metadata": {},
     "output_type": "execute_result"
    }
   ],
   "source": [
    "a.most_common()"
   ]
  },
  {
   "cell_type": "code",
   "execution_count": 10,
   "id": "6144f96d-57de-4cb1-951c-0699dd86ec4c",
   "metadata": {},
   "outputs": [
    {
     "data": {
      "text/plain": [
       "'aaaaa'"
      ]
     },
     "execution_count": 10,
     "metadata": {},
     "output_type": "execute_result"
    }
   ],
   "source": [
    "'a'*5"
   ]
  },
  {
   "cell_type": "code",
   "execution_count": null,
   "id": "76432d04-9044-446b-91eb-429387233af4",
   "metadata": {},
   "outputs": [],
   "source": []
  }
 ],
 "metadata": {
  "kernelspec": {
   "display_name": "Python 3",
   "language": "python",
   "name": "python3"
  },
  "language_info": {
   "codemirror_mode": {
    "name": "ipython",
    "version": 3
   },
   "file_extension": ".py",
   "mimetype": "text/x-python",
   "name": "python",
   "nbconvert_exporter": "python",
   "pygments_lexer": "ipython3",
   "version": "3.8.8"
  }
 },
 "nbformat": 4,
 "nbformat_minor": 5
}
