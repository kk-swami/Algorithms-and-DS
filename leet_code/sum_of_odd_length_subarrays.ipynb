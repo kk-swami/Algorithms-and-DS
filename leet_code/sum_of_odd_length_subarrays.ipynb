{
 "cells": [
  {
   "cell_type": "markdown",
   "metadata": {},
   "source": [
    "https://leetcode.com/problems/sum-of-all-odd-length-subarrays/"
   ]
  },
  {
   "cell_type": "markdown",
   "metadata": {},
   "source": [
    "Problem category : array, easy"
   ]
  },
  {
   "cell_type": "markdown",
   "metadata": {},
   "source": [
    "Insight : \n",
    "\n",
    "There is a deterministic form of how many times each element in the array is repeated, across all the odd length arrays, when we traverse the array. If we get this deterministic form, and code it, we can do this in O(n) time\n",
    "\n",
    "What is this deterministic form ?\n",
    "\n",
    "First, let's remove the odd length array criteria, and try to figure out what the sum of each element is if all contiguous sub arrays are allowed.\n",
    "\n",
    "Take an element in the ith location in the array. This will be a part of any subarray starting anywhere to the left of i (including i) and ending at anywhere to the right of i (including i). The case where only the ith element is included (subarray of length 1 is captured in this formulation, where starting and ending position are same)\n",
    "\n",
    "Therefore , the start of the subarray can be any position from 0 to i\n",
    "End can be any position from i to n\n",
    "\n",
    "We can pick the start and end position independently. which means\n",
    "a) there are (i+1) start positions (the 1 to account for python's zero indexing - for example, if i=0 (the first position) there is 1 start position, if i=1, there are two start positions (i=0 and i=1) and so on\n",
    "b) there are (n-i) end positions including i itself . For example, if i=0, there are n possible end positions\n",
    "\n",
    "Therefore, because of independence the total no of arrays which can contain i is (i+1)*(n-i)\n",
    "\n",
    "Therefore, if we take ALL subarrays (odd + even) and take sum, the ith element is repeated (i+1)*(n-i) times, therefore, the sum of a[i] = (i+1)*(n-i)*a[i]\n",
    "\n",
    "If we take only the odd subarrays, the sum will be roughly half of this (as no of odd arrays is approximately equal to no of even subarrays by symmetry). \n",
    "However, (i+1)*(n-i) can be odd or even. If even, then sum of a[i] across odd subarrays and even subarrays is exactly 0.5*(i+1)*(n-i)*a[i] each (a[i] is repeated 0.5*(i+1)*(n-i) across even subarrays and 0.5*(i+1)*(n-i) across odd subarrays)\n",
    "\n",
    "If (i+1)*(n-i) is odd, 0.5*(i+1)*(n-i)*a[i] is not an integer. In this case, a[i] is repeated floor(0.5*(i+1)*(n-i)) across even subarrays and ceiling(0.5*(i+1)*(n-i)) across odd subarrays - ie . it is repeated 1 more time in odd subarrays compared to even subarrays - you can prove this by induction\n",
    "\n",
    "Taking an odd array [1,2,5], 1 is found in arrays [1], [1,2], [1,2,5]. Therefore 2 odd subarrays and 1 even subarrays. Here n is 3, i = 0. Therefore (i+1)*(n-i) = 3. Totally 3 subarrays, 2 odd and 1 even. This holds always if (i+1)*(n-i) is odd\n",
    "\n"
   ]
  },
  {
   "cell_type": "code",
   "execution_count": 7,
   "metadata": {},
   "outputs": [],
   "source": [
    "class Solution:\n",
    "    def sumOddLengthSubarrays(self, arr):\n",
    "        total_sum_odd = 0\n",
    "        n = len(arr)\n",
    "        for i in range(0, n):\n",
    "            total_arrays = (i+1)*(n-i)\n",
    "            if total_arrays%2==0:\n",
    "                odd_sum = 0.5*(i+1)*(n-i)*arr[i]\n",
    "            else:\n",
    "                odd_sum = (int(0.5*(i+1)*(n-i)) + 1)*arr[i]\n",
    "            total_sum_odd = total_sum_odd + odd_sum\n",
    "        return int(total_sum_odd)\n",
    "        \n",
    "            \n",
    "                \n",
    "\n",
    "            \n",
    "            \n",
    "            "
   ]
  },
  {
   "cell_type": "code",
   "execution_count": 5,
   "metadata": {},
   "outputs": [],
   "source": [
    "a = Solution()"
   ]
  },
  {
   "cell_type": "code",
   "execution_count": 6,
   "metadata": {},
   "outputs": [
    {
     "data": {
      "text/plain": [
       "58.0"
      ]
     },
     "execution_count": 6,
     "metadata": {},
     "output_type": "execute_result"
    }
   ],
   "source": [
    "ar = [1,4,2,5,3]\n",
    "a.sumOddLengthSubarrays(ar)"
   ]
  },
  {
   "cell_type": "code",
   "execution_count": null,
   "metadata": {},
   "outputs": [],
   "source": []
  }
 ],
 "metadata": {
  "kernelspec": {
   "display_name": "Python 3",
   "language": "python",
   "name": "python3"
  },
  "language_info": {
   "codemirror_mode": {
    "name": "ipython",
    "version": 3
   },
   "file_extension": ".py",
   "mimetype": "text/x-python",
   "name": "python",
   "nbconvert_exporter": "python",
   "pygments_lexer": "ipython3",
   "version": "3.8.8"
  }
 },
 "nbformat": 4,
 "nbformat_minor": 4
}
