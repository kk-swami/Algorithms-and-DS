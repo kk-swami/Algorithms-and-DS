{
 "cells": [
  {
   "cell_type": "markdown",
   "id": "bd5152da-6349-4b38-a0a0-55cbf8f96b22",
   "metadata": {},
   "source": [
    "https://leetcode.com/problems/daily-temperatures/\n",
    "    \n",
    "    \n",
    "Given an array of integers temperatures represents the daily temperatures, return an array answer such that answer[i] is the number of days you have to wait after the ith day to get a warmer temperature. If there is no future day for which this is possible, keep answer[i] == 0 instead."
   ]
  },
  {
   "cell_type": "markdown",
   "id": "3cbcd0e7-fe16-4faf-9eca-3e7c886be6ff",
   "metadata": {},
   "source": [
    "Brute force method - O(N**2) - have two pointers i, j - loop i through all array elements, for each i, check which j > i\n",
    "has greater value, and pick min. Optimize a bit using numpy"
   ]
  },
  {
   "cell_type": "code",
   "execution_count": 33,
   "id": "86240b7b-28e1-4759-afee-c574e640aaa1",
   "metadata": {},
   "outputs": [],
   "source": [
    "import numpy as np\n",
    "from typing import List\n",
    "\n",
    "class Solution:\n",
    "    def dailyTemperatures(self, temperatures: List[int]) -> List[int]:\n",
    "        temperatures = np.array(temperatures)\n",
    "        n = len(temperatures)\n",
    "        output = [0]*n\n",
    "        for i in range(0, n):\n",
    "            temp = temperatures[i]\n",
    "            u = np.where(temperatures > temp)[0]\n",
    "            u_index = u > i\n",
    "            if not np.any(u_index):\n",
    "                pass\n",
    "                \n",
    "            else:\n",
    "                output[i] = u[u_index][0]-i\n",
    "        return output\n",
    "                \n",
    "            \n",
    "            \n",
    "            \n",
    "                \n",
    "                \n",
    "        "
   ]
  },
  {
   "cell_type": "code",
   "execution_count": 34,
   "id": "559cf0e2-0212-41c4-ab46-fba1925ba330",
   "metadata": {},
   "outputs": [],
   "source": [
    "a = Solution()"
   ]
  },
  {
   "cell_type": "code",
   "execution_count": 35,
   "id": "9dbf91ce-baa0-4bce-82cd-0e7d14525ca5",
   "metadata": {},
   "outputs": [
    {
     "data": {
      "text/plain": [
       "[1, 1, 4, 2, 1, 1, 0, 0]"
      ]
     },
     "execution_count": 35,
     "metadata": {},
     "output_type": "execute_result"
    }
   ],
   "source": [
    "temperatures = [73,74,75,71,69,72,76,73]\n",
    "a.dailyTemperatures(temperatures)"
   ]
  },
  {
   "cell_type": "markdown",
   "id": "a4efdf34-947c-49d4-b033-663fccf18a7e",
   "metadata": {},
   "source": [
    "Optimized solution - O(N) using a monotonic decreasing stack (allowing for equality) - \n",
    "create a empty stack (can be a list implementation)\n",
    "once you encounter a temperature, add temperature,index tuple stack if stack is empty or is less than or equal to top most element of stack. If greater than top most value of stack, keep replacing till it is lesser\n",
    "\n",
    "assign all the output values of the replaced indices by current index - the replaced index\n",
    "\n",
    "This is O(N) as it requires traversing the list just once"
   ]
  },
  {
   "cell_type": "code",
   "execution_count": 37,
   "id": "3222df6e-87e1-4b03-879d-28b719e81cd8",
   "metadata": {},
   "outputs": [],
   "source": [
    "from typing import List\n",
    "\n",
    "class Solution:\n",
    "    def dailyTemperatures(self, temperatures: List[int]) -> List[int]:\n",
    "        \n",
    "        n = len(temperatures)\n",
    "        output = [0]*n\n",
    "        stack_list = []\n",
    "        for count, value in enumerate(temperatures):\n",
    "            \n",
    "            if len(stack_list)==0:\n",
    "                stack_list.append((value, count))\n",
    "            else:\n",
    "                while len(stack_list)>0 and value > stack_list[-1][0]:\n",
    "                    temp  = stack_list.pop()\n",
    "                    output[temp[1]] = count-temp[1]\n",
    "                stack_list.append((value, count))\n",
    "        return output\n",
    "                    \n",
    "                    \n",
    " "
   ]
  },
  {
   "cell_type": "code",
   "execution_count": 38,
   "id": "556352e3-7205-473e-80a1-fcef3dc0f82e",
   "metadata": {},
   "outputs": [],
   "source": [
    "b = Solution()"
   ]
  },
  {
   "cell_type": "code",
   "execution_count": 39,
   "id": "9a6ac77c-43ce-4ce5-9054-f5323df97c4a",
   "metadata": {},
   "outputs": [
    {
     "data": {
      "text/plain": [
       "[1, 1, 4, 2, 1, 1, 0, 0]"
      ]
     },
     "execution_count": 39,
     "metadata": {},
     "output_type": "execute_result"
    }
   ],
   "source": [
    "b.dailyTemperatures(temperatures)"
   ]
  },
  {
   "cell_type": "code",
   "execution_count": 26,
   "id": "17baabb0-da16-4166-b3b5-7ef043157f26",
   "metadata": {},
   "outputs": [],
   "source": [
    "u_index = u > i"
   ]
  },
  {
   "cell_type": "code",
   "execution_count": 27,
   "id": "c7e067dd-c1c5-45e3-aac0-587e5bc192a7",
   "metadata": {},
   "outputs": [
    {
     "data": {
      "text/plain": [
       "array([ True,  True,  True])"
      ]
     },
     "execution_count": 27,
     "metadata": {},
     "output_type": "execute_result"
    }
   ],
   "source": [
    "u_index"
   ]
  },
  {
   "cell_type": "code",
   "execution_count": 28,
   "id": "6c7aa867-452f-4c89-aec7-f357b50495d4",
   "metadata": {},
   "outputs": [
    {
     "data": {
      "text/plain": [
       "1"
      ]
     },
     "execution_count": 28,
     "metadata": {},
     "output_type": "execute_result"
    }
   ],
   "source": [
    "u[u_index][0]"
   ]
  },
  {
   "cell_type": "code",
   "execution_count": 29,
   "id": "1d7f3495-2a2e-41c0-b86e-9a4ed358b7a6",
   "metadata": {},
   "outputs": [
    {
     "data": {
      "text/plain": [
       "array([1, 2, 6], dtype=int64)"
      ]
     },
     "execution_count": 29,
     "metadata": {},
     "output_type": "execute_result"
    }
   ],
   "source": [
    "u[u_in]"
   ]
  },
  {
   "cell_type": "code",
   "execution_count": null,
   "id": "ef5c7d11-a5a8-4eb1-845f-e076e5dfe12a",
   "metadata": {},
   "outputs": [],
   "source": []
  }
 ],
 "metadata": {
  "kernelspec": {
   "display_name": "Python 3",
   "language": "python",
   "name": "python3"
  },
  "language_info": {
   "codemirror_mode": {
    "name": "ipython",
    "version": 3
   },
   "file_extension": ".py",
   "mimetype": "text/x-python",
   "name": "python",
   "nbconvert_exporter": "python",
   "pygments_lexer": "ipython3",
   "version": "3.8.8"
  }
 },
 "nbformat": 4,
 "nbformat_minor": 5
}
