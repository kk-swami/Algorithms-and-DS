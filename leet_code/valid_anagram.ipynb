{
 "cells": [
  {
   "cell_type": "raw",
   "id": "467f60a1-3b8d-4c82-a32e-adcf8f266cc3",
   "metadata": {},
   "source": [
    "https://leetcode.com/problems/valid-anagram/"
   ]
  },
  {
   "cell_type": "markdown",
   "id": "6197c0a3-d6cc-4eca-b4c1-1fd714878321",
   "metadata": {},
   "source": [
    "O(n) - just counter on string"
   ]
  },
  {
   "cell_type": "code",
   "execution_count": 25,
   "id": "33ae2d6a-54fd-4bf0-9f12-7c103939bcfa",
   "metadata": {},
   "outputs": [],
   "source": [
    "from collections import Counter\n",
    "class Solution:\n",
    "    def isAnagram(self, s, t) :\n",
    "        if Counter(s)==Counter(t):\n",
    "            return True\n",
    "        else:\n",
    "            return False\n"
   ]
  },
  {
   "cell_type": "code",
   "execution_count": 26,
   "id": "2b79ee21-a872-40c2-a66b-8ff2a0ae5201",
   "metadata": {},
   "outputs": [],
   "source": [
    "a = Solution()"
   ]
  },
  {
   "cell_type": "code",
   "execution_count": 27,
   "id": "ec7fb6b8-8c10-4bb0-9b95-b1098fa42a79",
   "metadata": {},
   "outputs": [
    {
     "data": {
      "text/plain": [
       "False"
      ]
     },
     "execution_count": 27,
     "metadata": {},
     "output_type": "execute_result"
    }
   ],
   "source": [
    "a.isAnagram('hi', 'ib')"
   ]
  },
  {
   "cell_type": "code",
   "execution_count": 24,
   "id": "f4b813d2-f310-4f4d-890e-a622fc0d5c25",
   "metadata": {},
   "outputs": [
    {
     "data": {
      "text/plain": [
       "False"
      ]
     },
     "execution_count": 24,
     "metadata": {},
     "output_type": "execute_result"
    }
   ],
   "source": [
    "Counter('hello')==Counter('ello')"
   ]
  },
  {
   "cell_type": "code",
   "execution_count": null,
   "id": "f6b8322c-0180-4dc4-aa73-23b80a34fe16",
   "metadata": {},
   "outputs": [],
   "source": []
  }
 ],
 "metadata": {
  "kernelspec": {
   "display_name": "Python 3",
   "language": "python",
   "name": "python3"
  },
  "language_info": {
   "codemirror_mode": {
    "name": "ipython",
    "version": 3
   },
   "file_extension": ".py",
   "mimetype": "text/x-python",
   "name": "python",
   "nbconvert_exporter": "python",
   "pygments_lexer": "ipython3",
   "version": "3.8.8"
  }
 },
 "nbformat": 4,
 "nbformat_minor": 5
}
