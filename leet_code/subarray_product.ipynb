{
 "cells": [
  {
   "cell_type": "markdown",
   "id": "4a75a62c-c8c2-4ac6-a254-bb5a26e16ee5",
   "metadata": {},
   "source": [
    "https://leetcode.com/problems/subarray-product-less-than-k/"
   ]
  },
  {
   "cell_type": "markdown",
   "id": "6674e3ab-05f1-495b-b3f3-4708c9a006e0",
   "metadata": {},
   "source": [
    "Given an array of integers nums and an integer k, return the number of contiguous subarrays where the product of all the elements in the subarray is strictly less than k"
   ]
  },
  {
   "cell_type": "markdown",
   "id": "8c91d36e-1d0f-44a9-87c5-6090e0e38cec",
   "metadata": {},
   "source": [
    "Solution : Brute force O(n**2) - start with one counter i from 0 to n, for every i, go from i to j till prod > k, append, go back to next i\n",
    "Optimized : O(n)  -use two pointers"
   ]
  },
  {
   "cell_type": "markdown",
   "id": "185c5f91-a63b-4ab2-8f62-e9b698941120",
   "metadata": {},
   "source": [
    "## Brute Force Solution"
   ]
  },
  {
   "cell_type": "markdown",
   "id": "e77a4e31-c8d4-4f6b-be59-b45de2b4c6ee",
   "metadata": {},
   "source": [
    "from typing import List"
   ]
  },
  {
   "cell_type": "code",
   "execution_count": 23,
   "id": "71d4595d-f195-42ad-91ad-9b6a7d17c6ca",
   "metadata": {},
   "outputs": [],
   "source": [
    "class Solution:\n",
    "    def numSubarrayProductLessThanK(self, nums: List[int], k: int) -> int:\n",
    "        n = len(nums)\n",
    "        num = 0\n",
    "        for i in range(0, n):\n",
    "            ##print(\"i\", i)\n",
    "            prod = nums[i]\n",
    "            if prod >= k:\n",
    "                pass\n",
    "            else:\n",
    "                num = num + 1\n",
    "                ##print(\"prod_init\", prod)\n",
    "                for j in range(i+1, n):\n",
    "                    ##print(\"j\", j, \"nums[j]\", nums[j])\n",
    "                    prod = prod*nums[j]\n",
    "                    if prod >= k:\n",
    "                        ##print(\"break\")\n",
    "                        break\n",
    "                    else:\n",
    "                        num = num + 1\n",
    "                        ##print(\"numm\", num)\n",
    "                        \n",
    "        return num\n",
    "\n",
    "                \n",
    "            \n",
    "\n",
    "                \n",
    "    "
   ]
  },
  {
   "cell_type": "markdown",
   "id": "ffd4939f-d93a-4a27-abf0-bfdb2b559993",
   "metadata": {},
   "source": [
    "## Optimized Solution"
   ]
  },
  {
   "cell_type": "markdown",
   "id": "12f68014-b5cb-4e81-87d2-24d09a947c50",
   "metadata": {},
   "source": [
    "A sliding window solution which is O(n). Define left and right pointers for edges of sliding window. Move\n",
    "right pointer till product >= k, and keep appending subarray count as window_size + 1(1 for new element just added, and window_size(right-left) as number of incremental new subarrays you will get by appending new element to all existing subarrays whose count has already been factored)\n",
    "The moment product >= k, move left pointer and divide product by array[left pointer] till product < k\n",
    "Then again apply formula above window_size + 1\n",
    "\n",
    "\n",
    "https://www.geeksforgeeks.org/number-subarrays-product-less-k/#_=_"
   ]
  },
  {
   "cell_type": "code",
   "execution_count": 51,
   "id": "c3c3ce09-5efa-48cb-b1ae-0b235da325ab",
   "metadata": {},
   "outputs": [],
   "source": [
    "class Solution:\n",
    "    def numSubarrayProductLessThanK(self, nums: List[int], k: int) -> int:\n",
    "        n = len(nums)\n",
    "        if k <= 1:\n",
    "            return 0 ## edge case - if k is 1, even if all elements are 1, you can't get k strictly less than 1\n",
    "        num = 0\n",
    "        left_index = 0\n",
    "        product = 1\n",
    "        for right_index, number in enumerate(nums): ## keep shifting right boundary and increasing product\n",
    "\n",
    "            product = product*number ## keep multiplying till you become > k\n",
    "            while product >= k: ## the moment product becomes greater than k, you start moving left_index to the right till product becomes less than k\n",
    "                product = product/nums[left_index]\n",
    "                left_index = left_index + 1\n",
    "            num = num + right_index-left_index + 1 ## why is this calculation correct ? the 1 is for the new single element array added by increasing right window. The right-left is because the new element can form a new subarray with ever y old subarray seen between right_index and left_index whose count has already been factored\n",
    "\n",
    "        return num\n",
    "            \n",
    "                \n",
    "            \n",
    "        \n"
   ]
  },
  {
   "cell_type": "code",
   "execution_count": 42,
   "id": "7f27f85a-47e9-4174-b056-e9d6143e4c19",
   "metadata": {},
   "outputs": [],
   "source": [
    "nums = [10,5,2,6]\n",
    "k = 100"
   ]
  },
  {
   "cell_type": "code",
   "execution_count": 52,
   "id": "fd57e4fd-de01-4e98-9b23-b30f3268267c",
   "metadata": {},
   "outputs": [],
   "source": [
    "a = Solution()\n"
   ]
  },
  {
   "cell_type": "code",
   "execution_count": 53,
   "id": "1f8a9d8c-7fb6-4d2c-8bc6-3f404ee22f10",
   "metadata": {},
   "outputs": [
    {
     "name": "stdout",
     "output_type": "stream",
     "text": [
      "left_index_beginning 0\n",
      "right_index 0\n",
      "product_outside 10\n",
      "num 1\n",
      "left_index_final 0\n",
      "right_index_final 0\n",
      "left_index_beginning 0\n",
      "right_index 1\n",
      "product_outside 50\n",
      "num 3\n",
      "left_index_final 0\n",
      "right_index_final 1\n",
      "left_index_beginning 0\n",
      "right_index 2\n",
      "product_outside 100\n",
      "product_inside 10.0\n",
      "left_index_inside 1\n",
      "num 5\n",
      "left_index_final 1\n",
      "right_index_final 2\n",
      "left_index_beginning 1\n",
      "right_index 3\n",
      "product_outside 60.0\n",
      "num 8\n",
      "left_index_final 1\n",
      "right_index_final 3\n"
     ]
    },
    {
     "data": {
      "text/plain": [
       "8"
      ]
     },
     "execution_count": 53,
     "metadata": {},
     "output_type": "execute_result"
    }
   ],
   "source": [
    "a.numSubarrayProductLessThanK(nums, k)"
   ]
  },
  {
   "cell_type": "code",
   "execution_count": 32,
   "id": "5642c88d-0367-4a28-bb1e-8472e5ee572b",
   "metadata": {},
   "outputs": [
    {
     "name": "stdout",
     "output_type": "stream",
     "text": [
      "right 0\n",
      "num 10\n",
      "product 10\n",
      "right 1\n",
      "num 5\n",
      "product 50\n",
      "right 2\n",
      "num 2\n",
      "product 100\n",
      "left 0\n",
      "nums[left] 10\n",
      "product after 10\n",
      "right 3\n",
      "num 6\n",
      "product 60\n"
     ]
    }
   ],
   "source": [
    "\n",
    "res = 0\n",
    "product = 1\n",
    "left = 0\n",
    "\n",
    "for right, num in enumerate(nums):\n",
    "    print(\"right\", right)\n",
    "    print(\"num\", num)\n",
    "    product *= num\n",
    "    print(\"product\", product)\n",
    "    while product >= k:\n",
    "        print(\"left\", left)\n",
    "        print(\"nums[left]\", nums[left])\n",
    "        product //= nums[left]\n",
    "        print(\"product after\", product)\n",
    "        left += 1\n",
    "\n",
    "    res += right - left + 1\n",
    "\n"
   ]
  },
  {
   "cell_type": "code",
   "execution_count": 28,
   "id": "1f34d196-084d-4dca-bb8e-fac2c20efabe",
   "metadata": {},
   "outputs": [],
   "source": [
    "nums = [10,5,2,6]"
   ]
  },
  {
   "cell_type": "code",
   "execution_count": 30,
   "id": "273d09e4-331a-4921-952b-84371c2fd53a",
   "metadata": {},
   "outputs": [
    {
     "name": "stdout",
     "output_type": "stream",
     "text": [
      "0 10\n",
      "1 5\n",
      "2 2\n",
      "3 6\n"
     ]
    }
   ],
   "source": [
    "for right, num in enumerate(nums):\n",
    "    print(right, num)"
   ]
  },
  {
   "cell_type": "code",
   "execution_count": 26,
   "id": "e314e553-e048-4b3b-8ab2-467882527360",
   "metadata": {},
   "outputs": [
    {
     "data": {
      "text/plain": [
       "8"
      ]
     },
     "execution_count": 26,
     "metadata": {},
     "output_type": "execute_result"
    }
   ],
   "source": [
    "nums = [1,2,3]\n",
    "k = 0\n",
    "nums = [10,5,2,6]\n",
    "k = 100\n",
    "\n",
    "a.numSubarrayProductLessThanK(nums, k)"
   ]
  },
  {
   "cell_type": "code",
   "execution_count": null,
   "id": "7630ec60-5a67-4a2f-a671-b5f29b5772a6",
   "metadata": {},
   "outputs": [],
   "source": []
  }
 ],
 "metadata": {
  "kernelspec": {
   "display_name": "Python 3",
   "language": "python",
   "name": "python3"
  },
  "language_info": {
   "codemirror_mode": {
    "name": "ipython",
    "version": 3
   },
   "file_extension": ".py",
   "mimetype": "text/x-python",
   "name": "python",
   "nbconvert_exporter": "python",
   "pygments_lexer": "ipython3",
   "version": "3.8.8"
  }
 },
 "nbformat": 4,
 "nbformat_minor": 5
}
