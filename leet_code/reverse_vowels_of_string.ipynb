{
 "cells": [
  {
   "cell_type": "markdown",
   "id": "e7f45b49-17ae-48a0-88c7-46b667c893ff",
   "metadata": {},
   "source": [
    "https://leetcode.com/problems/reverse-vowels-of-a-string/"
   ]
  },
  {
   "cell_type": "markdown",
   "id": "5bca2c66-22dc-40d6-81d7-248dc9018e8b",
   "metadata": {},
   "source": [
    "Given a string s, reverse only all the vowels in the string and return it.\n",
    "\n",
    "The vowels are 'a', 'e', 'i', 'o', and 'u', and they can appear in both cases."
   ]
  },
  {
   "cell_type": "markdown",
   "id": "7ac70647-e6bf-4aa0-a2aa-1e49307e7d4f",
   "metadata": {},
   "source": [
    "O(N). First identify indices of vowels in input string\n",
    "Then loop over the indices and swap first with last etc in string"
   ]
  },
  {
   "cell_type": "code",
   "execution_count": 72,
   "id": "3ed9b7dc-fbca-4aa4-bd2d-8b64c9d19f43",
   "metadata": {},
   "outputs": [],
   "source": [
    "class Solution:\n",
    "    def reverseVowels(self, s: str) -> str:\n",
    "        vowel_list = ['a', 'e', 'i', 'o', 'u']\n",
    "        vowel_position = []\n",
    "        for i in range(0, len(s)):\n",
    "            if s[i].lower() in vowel_list:\n",
    "                vowel_position.append(i)\n",
    "        ## return vowel_position\n",
    "        s_list = list(s)\n",
    "        if len(vowel_list)>0:\n",
    "            i = 0\n",
    "            j = len(vowel_position)-1\n",
    "            while i<=j:\n",
    "                temp = s_list[vowel_position[i]]\n",
    "                s_list[vowel_position[i]] = s_list[vowel_position[j]]\n",
    "                s_list[vowel_position[j]] = temp\n",
    "                i = i + 1\n",
    "                j = j - 1\n",
    "\n",
    "        return \"\".join(s_list)\n",
    "                \n",
    "                "
   ]
  },
  {
   "cell_type": "code",
   "execution_count": 70,
   "id": "3c9f81ca-8814-45c5-af8c-72b7645057df",
   "metadata": {},
   "outputs": [],
   "source": [
    "s = 'hello'"
   ]
  },
  {
   "cell_type": "code",
   "execution_count": 58,
   "id": "96780673-a988-441c-815a-4372e46f02aa",
   "metadata": {},
   "outputs": [],
   "source": [
    "aa = [1,2,3,4]"
   ]
  },
  {
   "cell_type": "code",
   "execution_count": 43,
   "id": "b0866e90-f49c-4a3a-ac54-2d23073ae815",
   "metadata": {},
   "outputs": [
    {
     "data": {
      "text/plain": [
       "[1, 2]"
      ]
     },
     "execution_count": 43,
     "metadata": {},
     "output_type": "execute_result"
    }
   ],
   "source": [
    "aa[0:2]"
   ]
  },
  {
   "cell_type": "code",
   "execution_count": 41,
   "id": "bc2d70ea-f36f-45fe-b07d-7d1dc32d8317",
   "metadata": {},
   "outputs": [
    {
     "data": {
      "text/plain": [
       "['h', 'e', 'l', 'l', 'o']"
      ]
     },
     "execution_count": 41,
     "metadata": {},
     "output_type": "execute_result"
    }
   ],
   "source": [
    "list(s)"
   ]
  },
  {
   "cell_type": "code",
   "execution_count": 73,
   "id": "85af781f-aef7-463d-bf06-bac42ff78940",
   "metadata": {},
   "outputs": [],
   "source": [
    "a = Solution()"
   ]
  },
  {
   "cell_type": "code",
   "execution_count": 74,
   "id": "e81c0c5f-5059-4e6c-abd2-2391ca515dda",
   "metadata": {},
   "outputs": [
    {
     "data": {
      "text/plain": [
       "'Aa'"
      ]
     },
     "execution_count": 74,
     "metadata": {},
     "output_type": "execute_result"
    }
   ],
   "source": [
    "a.reverseVowels('aA')"
   ]
  },
  {
   "cell_type": "code",
   "execution_count": 24,
   "id": "94b36333-3a13-4a3a-a17e-f988a369eba8",
   "metadata": {},
   "outputs": [
    {
     "data": {
      "text/plain": [
       "'12'"
      ]
     },
     "execution_count": 24,
     "metadata": {},
     "output_type": "execute_result"
    }
   ],
   "source": [
    "\"\".join(['1','2'])"
   ]
  },
  {
   "cell_type": "code",
   "execution_count": null,
   "id": "879b29ab-c305-4a60-b8d4-f1d3a8781057",
   "metadata": {},
   "outputs": [],
   "source": []
  }
 ],
 "metadata": {
  "kernelspec": {
   "display_name": "Python 3",
   "language": "python",
   "name": "python3"
  },
  "language_info": {
   "codemirror_mode": {
    "name": "ipython",
    "version": 3
   },
   "file_extension": ".py",
   "mimetype": "text/x-python",
   "name": "python",
   "nbconvert_exporter": "python",
   "pygments_lexer": "ipython3",
   "version": "3.8.8"
  }
 },
 "nbformat": 4,
 "nbformat_minor": 5
}
