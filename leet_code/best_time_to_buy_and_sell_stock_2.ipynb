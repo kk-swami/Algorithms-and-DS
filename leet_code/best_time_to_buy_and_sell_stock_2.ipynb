{
 "cells": [
  {
   "cell_type": "markdown",
   "id": "a2ffaa80-d408-4c13-a1cd-5d44b7fa3c65",
   "metadata": {},
   "source": [
    "https://leetcode.com/problems/best-time-to-buy-and-sell-stock-ii/\n",
    "\n",
    "You are given an integer array prices where prices[i] is the price of a given stock on the ith day.\n",
    "\n",
    "On each day, you may decide to buy and/or sell the stock. You can only hold at most one share of the stock at any time. However, you can buy it then immediately sell it on the same day.\n",
    "\n",
    "Find and return the maximum profit you can achieve.\n",
    "\n",
    " "
   ]
  },
  {
   "cell_type": "code",
   "execution_count": 2,
   "id": "75dcf6d1-e115-4b2a-9876-47e2d7b3c903",
   "metadata": {},
   "outputs": [],
   "source": [
    "from typing import List\n",
    "class Solution:\n",
    "    def maxProfit(self, prices: List[int]) -> int:\n",
    "        profit = 0\n",
    "        \n",
    "        for count, value in enumerate(prices):\n",
    "            if count==0:\n",
    "                temp = prices[0]\n",
    "            else:\n",
    "                if value>temp:\n",
    "                    profit = profit + value-temp\n",
    "                temp = value\n",
    "        return profit\n",
    "                "
   ]
  },
  {
   "cell_type": "code",
   "execution_count": 3,
   "id": "f35d73f6-0e3b-473e-8fa2-7c8e4392d1de",
   "metadata": {},
   "outputs": [],
   "source": [
    "prices = [7,1,5,3,6,4]"
   ]
  },
  {
   "cell_type": "code",
   "execution_count": 5,
   "id": "31abf696-f03b-431e-b7de-be4811cccda4",
   "metadata": {},
   "outputs": [],
   "source": [
    "a = Solution()"
   ]
  },
  {
   "cell_type": "code",
   "execution_count": 8,
   "id": "bf2ab1e6-51a9-4b39-b743-37bbbaa4a661",
   "metadata": {},
   "outputs": [
    {
     "data": {
      "text/plain": [
       "0"
      ]
     },
     "execution_count": 8,
     "metadata": {},
     "output_type": "execute_result"
    }
   ],
   "source": [
    "a.maxProfit([7,5,4,3,2])"
   ]
  },
  {
   "cell_type": "code",
   "execution_count": null,
   "id": "edcd1393-5f53-49e0-be57-05883368a5d3",
   "metadata": {},
   "outputs": [],
   "source": []
  }
 ],
 "metadata": {
  "kernelspec": {
   "display_name": "Python 3",
   "language": "python",
   "name": "python3"
  },
  "language_info": {
   "codemirror_mode": {
    "name": "ipython",
    "version": 3
   },
   "file_extension": ".py",
   "mimetype": "text/x-python",
   "name": "python",
   "nbconvert_exporter": "python",
   "pygments_lexer": "ipython3",
   "version": "3.8.8"
  }
 },
 "nbformat": 4,
 "nbformat_minor": 5
}
