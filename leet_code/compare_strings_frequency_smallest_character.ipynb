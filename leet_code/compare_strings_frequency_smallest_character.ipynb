{
 "cells": [
  {
   "cell_type": "markdown",
   "id": "1dc52f91-41c0-4a72-9293-ac2b44b259e8",
   "metadata": {},
   "source": [
    "https://leetcode.com/problems/compare-strings-by-frequency-of-the-smallest-character/"
   ]
  },
  {
   "cell_type": "markdown",
   "id": "a208d34c-7eb6-4284-8a6e-90f2976cb931",
   "metadata": {},
   "source": [
    "Let the function f(s) be the frequency of the lexicographically smallest character in a non-empty string s. For example, if s = \"dcce\" then f(s) = 2 because the lexicographically smallest character is 'c', which has a frequency of 2.\n",
    "\n",
    "You are given an array of strings words and another array of query strings queries. For each query queries[i], count the number of words in words such that f(queries[i]) < f(W) for each W in words.\n",
    "\n",
    "Return an integer array answer, where each answer[i] is the answer to the ith query."
   ]
  },
  {
   "cell_type": "markdown",
   "id": "845fca7b-17f5-4a2b-978a-8b22bcef26ec",
   "metadata": {},
   "source": [
    "## Solution without binary search"
   ]
  },
  {
   "cell_type": "code",
   "execution_count": 52,
   "id": "0bcde381-e271-459a-a68b-ffd6fd8ee2ae",
   "metadata": {},
   "outputs": [],
   "source": [
    "from collections import Counter\n",
    "from typing import List\n",
    "import numpy as np\n",
    "def get_f_for_word(s):\n",
    "    a = Counter(s)\n",
    "    outp = sorted(a.items())\n",
    "    return outp[0][1]  ## count of lexicographically smallest character\n",
    "    \n",
    "\n",
    "class Solution:\n",
    "    def numSmallerByFrequency(self, queries: List[str], words: List[str]) -> List[int]:\n",
    "        word_mapping = [get_f_for_word(x) for x in words]\n",
    "        outlist = []\n",
    "        for query in queries:\n",
    "            query_mapping = get_f_for_word(query)\n",
    "            outlist.append(np.sum(np.array(word_mapping)>query_mapping))\n",
    "        return outlist"
   ]
  },
  {
   "cell_type": "code",
   "execution_count": 53,
   "id": "d8d12d11-0bf2-4a44-bf82-392a867a5101",
   "metadata": {},
   "outputs": [],
   "source": [
    "b = Solution()"
   ]
  },
  {
   "cell_type": "markdown",
   "id": "c0e17d25-575c-4062-ad5b-1c44037ac62b",
   "metadata": {},
   "source": [
    "## Solution with binary search"
   ]
  },
  {
   "cell_type": "code",
   "execution_count": 44,
   "id": "86681663-a3b3-400d-b64e-fe5d08c7246d",
   "metadata": {},
   "outputs": [],
   "source": [
    "from collections import Counter\n",
    "from typing import List\n",
    "import numpy as np\n",
    "import bisect\n",
    "def get_f_for_word(s):\n",
    "    a = Counter(s)\n",
    "    outp = sorted(a.items())\n",
    "    return outp[0][1]  ## count of lexicographically smallest character\n",
    "    \n",
    "\n",
    "class Solution:\n",
    "    def numSmallerByFrequency(self, queries: List[str], words: List[str]) -> List[int]:\n",
    "        word_mapping = [get_f_for_word(x) for x in words]\n",
    "        word_mapping = sorted(word_mapping)\n",
    "        outlist = []\n",
    "        for query in queries:\n",
    "            query_mapping = get_f_for_word(query)\n",
    "            bisect_index = bisect.bisect_right(word_mapping, query_mapping)\n",
    "            outlist.append(len(word_mapping[bisect_index:]))\n",
    "        return outlist"
   ]
  },
  {
   "cell_type": "code",
   "execution_count": 30,
   "id": "dbb62aa1-2f71-4d33-bf32-e1210de755bb",
   "metadata": {},
   "outputs": [],
   "source": [
    "import bisect"
   ]
  },
  {
   "cell_type": "code",
   "execution_count": 31,
   "id": "59dab063-4758-4928-a2cd-af777e20899d",
   "metadata": {},
   "outputs": [],
   "source": [
    "aa = [1,1,2,3,4]"
   ]
  },
  {
   "cell_type": "code",
   "execution_count": 42,
   "id": "99e8402c-56fe-4b49-81b1-2389bfaca618",
   "metadata": {},
   "outputs": [
    {
     "data": {
      "text/plain": [
       "3"
      ]
     },
     "execution_count": 42,
     "metadata": {},
     "output_type": "execute_result"
    }
   ],
   "source": [
    "bisect.bisect_right(aa,2)"
   ]
  },
  {
   "cell_type": "code",
   "execution_count": 43,
   "id": "db5327a9-c5fd-42eb-9a80-5704f1379bd6",
   "metadata": {},
   "outputs": [
    {
     "data": {
      "text/plain": [
       "[3, 4]"
      ]
     },
     "execution_count": 43,
     "metadata": {},
     "output_type": "execute_result"
    }
   ],
   "source": [
    "aa[3:]"
   ]
  },
  {
   "cell_type": "code",
   "execution_count": 47,
   "id": "c0036cc8-ba98-4d28-8520-648b0e523383",
   "metadata": {},
   "outputs": [],
   "source": [
    "queries = [\"cbd\"]\n",
    "words = [\"zaaaz\"]"
   ]
  },
  {
   "cell_type": "code",
   "execution_count": 45,
   "id": "3dfb0d34-99ec-472e-bfaa-7db3f0084ce8",
   "metadata": {},
   "outputs": [],
   "source": [
    "queries = [\"bbb\",\"cc\"]\n",
    "words = [\"a\",\"aa\",\"aaa\",\"aaaa\"]"
   ]
  },
  {
   "cell_type": "code",
   "execution_count": 50,
   "id": "05c16d16-aae0-4e25-acf2-cc63f6f022e0",
   "metadata": {},
   "outputs": [],
   "source": [
    "queries = [\"bba\",\"abaaaaaa\",\"aaaaaa\",\"bbabbabaab\",\"aba\",\"aa\",\"baab\",\"bbbbbb\",\"aab\",\"bbabbaabb\"]\n",
    "words = [\"aaabbb\",\"aab\",\"babbab\",\"babbbb\",\"b\",\"bbbbbbbbab\",\"a\",\"bbbbbbbbbb\",\"baaabbaab\",\"aa\"]"
   ]
  },
  {
   "cell_type": "code",
   "execution_count": 54,
   "id": "440ae595-9038-4f24-a804-25b251f9dfa2",
   "metadata": {},
   "outputs": [
    {
     "data": {
      "text/plain": [
       "[6, 1, 1, 2, 3, 3, 3, 1, 3, 2]"
      ]
     },
     "execution_count": 54,
     "metadata": {},
     "output_type": "execute_result"
    }
   ],
   "source": [
    "a.numSmallerByFrequency(queries, words)"
   ]
  },
  {
   "cell_type": "code",
   "execution_count": 55,
   "id": "09e29e88-ac08-46ce-94fc-52b3b0239d09",
   "metadata": {},
   "outputs": [
    {
     "data": {
      "text/plain": [
       "[6, 1, 1, 2, 3, 3, 3, 1, 3, 2]"
      ]
     },
     "execution_count": 55,
     "metadata": {},
     "output_type": "execute_result"
    }
   ],
   "source": [
    "b.numSmallerByFrequency(queries, words)"
   ]
  },
  {
   "cell_type": "code",
   "execution_count": 19,
   "id": "70aa700b-7598-4b49-8ead-3b983a75d9c3",
   "metadata": {},
   "outputs": [],
   "source": [
    "word_mapping = [get_f_for_word(x) for x in words]"
   ]
  },
  {
   "cell_type": "code",
   "execution_count": 20,
   "id": "766c6936-63b1-41bd-9111-8dfa91384562",
   "metadata": {},
   "outputs": [
    {
     "data": {
      "text/plain": [
       "[1, 2, 3, 4]"
      ]
     },
     "execution_count": 20,
     "metadata": {},
     "output_type": "execute_result"
    }
   ],
   "source": [
    "word_mapping"
   ]
  },
  {
   "cell_type": "code",
   "execution_count": 21,
   "id": "a5949ae3-bc17-40bb-b577-01e362df72c0",
   "metadata": {},
   "outputs": [],
   "source": [
    "query = 'bbb'\n",
    "\n",
    "query_mapping = get_f_for_word(query)"
   ]
  },
  {
   "cell_type": "code",
   "execution_count": 22,
   "id": "28f7b457-685e-4ea6-a876-73949d296204",
   "metadata": {},
   "outputs": [
    {
     "data": {
      "text/plain": [
       "'bbb'"
      ]
     },
     "execution_count": 22,
     "metadata": {},
     "output_type": "execute_result"
    }
   ],
   "source": [
    "query"
   ]
  },
  {
   "cell_type": "code",
   "execution_count": 23,
   "id": "3797af82-d821-4900-a7dc-6a07ea20dc8a",
   "metadata": {},
   "outputs": [],
   "source": [
    "query_mapping = get_f_for_word(query)"
   ]
  },
  {
   "cell_type": "code",
   "execution_count": 24,
   "id": "b726be67-8150-43bb-84fb-c52bb261319f",
   "metadata": {},
   "outputs": [
    {
     "data": {
      "text/plain": [
       "3"
      ]
     },
     "execution_count": 24,
     "metadata": {},
     "output_type": "execute_result"
    }
   ],
   "source": [
    "query_mapping"
   ]
  },
  {
   "cell_type": "code",
   "execution_count": 28,
   "id": "2eeadc32-d24e-429d-ae00-78a9e753d549",
   "metadata": {},
   "outputs": [
    {
     "data": {
      "text/plain": [
       "[(1, 1), (2, 1), (3, 1), (4, 1)]"
      ]
     },
     "execution_count": 28,
     "metadata": {},
     "output_type": "execute_result"
    }
   ],
   "source": [
    "Counter(word_mapping).most_common()"
   ]
  },
  {
   "cell_type": "code",
   "execution_count": null,
   "id": "39358084-0c28-4aab-8de7-a37fd26fc885",
   "metadata": {},
   "outputs": [],
   "source": []
  }
 ],
 "metadata": {
  "kernelspec": {
   "display_name": "Python 3",
   "language": "python",
   "name": "python3"
  },
  "language_info": {
   "codemirror_mode": {
    "name": "ipython",
    "version": 3
   },
   "file_extension": ".py",
   "mimetype": "text/x-python",
   "name": "python",
   "nbconvert_exporter": "python",
   "pygments_lexer": "ipython3",
   "version": "3.8.8"
  }
 },
 "nbformat": 4,
 "nbformat_minor": 5
}
