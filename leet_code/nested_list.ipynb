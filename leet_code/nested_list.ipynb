{
 "cells": [
  {
   "cell_type": "markdown",
   "id": "d6244444-0787-4a15-8017-ce5246a308c8",
   "metadata": {},
   "source": [
    "https://leetcode.com/problems/flatten-nested-list-iterator/"
   ]
  },
  {
   "cell_type": "code",
   "execution_count": 34,
   "id": "a9d03be8-45c8-46b7-9db8-1514694f7c41",
   "metadata": {},
   "outputs": [],
   "source": [
    "class NestedIterator:\n",
    "    def __init__(self, nestedList):\n",
    "        \n",
    "        self.nestedList = nestedList\n",
    "        self.unraveledlist = flatten_list(nestedList)\n",
    "        self.n = len(self.unraveledlist)\n",
    "        self.init = -1\n",
    "    \n",
    "    def flatten_list_old(l):\n",
    "        outlist = []\n",
    "        for i in range(len(l)):\n",
    "            temp = l[i]\n",
    "            if type(l[i])==int:\n",
    "                outlist.extend(l[i])\n",
    "            else:\n",
    "                outlist.extend(flatten_list(l[i]))\n",
    "        return outlist\n",
    "    \n",
    "    def flatten_list(l):\n",
    "        outlist = []\n",
    "        i = 0\n",
    "        while True:\n",
    "            try:\n",
    "                temp = l[i]\n",
    "            except Exception:\n",
    "                break\n",
    "            if type(l[i])==int:\n",
    "                outlist.extend(l[i])\n",
    "            else:\n",
    "                outlist.extend(flatten_list(l[i]))\n",
    "            i = i + 1\n",
    "        return outlist                \n",
    "    \n",
    "    def next(self) -> int:\n",
    "        temp = self.init\n",
    "        return self.unraveledlist[temp]\n",
    "\n",
    "            \n",
    "        \n",
    "    \n",
    "    def hasNext(self) -> bool:\n",
    "        if (self.init + 1) < (self.n):\n",
    "            self.init = self.init + 1\n",
    "            return True\n",
    "        else:\n",
    "            return False\n",
    "        "
   ]
  },
  {
   "cell_type": "markdown",
   "id": "e36b47e1-3662-4c98-8297-f6c5c9927511",
   "metadata": {},
   "source": [
    "## Actual Leetcode answer below - as input is not exactly a list, its of type nested integer"
   ]
  },
  {
   "cell_type": "raw",
   "id": "ff862932-0f60-45a2-bbad-9fa7197eef0c",
   "metadata": {},
   "source": [
    "def flatten_list(l):\n",
    "    outlist = []\n",
    "    i = 0\n",
    "    while True:\n",
    "        try:\n",
    "            temp = l[i]\n",
    "            ## print(i, temp)\n",
    "        except Exception as e:\n",
    "            ## print(\"exception: \", str(e))\n",
    "            break\n",
    "        if l[i].isInteger():\n",
    "            outlist.append(temp.getInteger())\n",
    "        else:\n",
    "            ## print(\"here\")\n",
    "            ## print(temp)\n",
    "            ## print(\"here1\")\n",
    "            ## t = flatten_list(temp.getList())\n",
    "            ## print(\"here2\")\n",
    "            outlist.extend(flatten_list(temp.getList()))\n",
    "        i = i + 1\n",
    "    return outlist  \n",
    "\n",
    "class NestedIterator:\n",
    "    def __init__(self, nestedList: [NestedInteger]):\n",
    "        self.nestedList = nestedList\n",
    "        self.unraveledlist = flatten_list(nestedList)\n",
    "        self.n = len(self.unraveledlist)\n",
    "        self.init = -1\n",
    "        \n",
    "\n",
    "        \n",
    "    \n",
    "    def next(self) -> int:\n",
    "        return self.unraveledlist[self.init]\n",
    "        \n",
    "    \n",
    "    def hasNext(self) -> bool:\n",
    "        if (self.init + 1) < (self.n):\n",
    "            self.init = self.init + 1\n",
    "            return True\n",
    "        else:\n",
    "            return False"
   ]
  },
  {
   "cell_type": "code",
   "execution_count": 41,
   "id": "7130ec5f-7ca7-4e85-a26c-615e8a8ab81a",
   "metadata": {},
   "outputs": [],
   "source": [
    "nestedList = [[1,1],2,[1,1]]\n",
    "##nestedList = [1,[4,[6]]]\n",
    "nestedList = [[[[[]]]],[[[[[[[[[[[[[[1]]]]],-5]]]]]]]]],[[[[[[[[[[[[[[[[[[[[[[[[[[[[[[[45]]]]]]]]]]]]]]]]]]]]]]]]]]]]]]]]"
   ]
  },
  {
   "cell_type": "code",
   "execution_count": 42,
   "id": "324bf822-86cb-45c3-984d-38f7af8ea107",
   "metadata": {},
   "outputs": [],
   "source": [
    "i, v = NestedIterator(nestedList), []\n",
    "while i.hasNext(): v.append(i.next())"
   ]
  },
  {
   "cell_type": "code",
   "execution_count": 43,
   "id": "50ee7546-2889-482a-8b2e-42c94f8d8298",
   "metadata": {},
   "outputs": [
    {
     "data": {
      "text/plain": [
       "[1, -5, 45]"
      ]
     },
     "execution_count": 43,
     "metadata": {},
     "output_type": "execute_result"
    }
   ],
   "source": [
    "v"
   ]
  }
 ],
 "metadata": {
  "kernelspec": {
   "display_name": "Python 3",
   "language": "python",
   "name": "python3"
  },
  "language_info": {
   "codemirror_mode": {
    "name": "ipython",
    "version": 3
   },
   "file_extension": ".py",
   "mimetype": "text/x-python",
   "name": "python",
   "nbconvert_exporter": "python",
   "pygments_lexer": "ipython3",
   "version": "3.8.8"
  }
 },
 "nbformat": 4,
 "nbformat_minor": 5
}
