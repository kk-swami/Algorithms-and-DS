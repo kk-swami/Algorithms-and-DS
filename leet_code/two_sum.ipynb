{
 "cells": [
  {
   "cell_type": "markdown",
   "metadata": {},
   "source": [
    "https://leetcode.com/problems/two-sum/\n",
    "\n",
    "Given an array of integers nums and an integer target, return indices of the two numbers such that they add up to target.\n",
    "\n",
    "You may assume that each input would have exactly one solution, and you may not use the same element twice.\n",
    "\n",
    "You can return the answer in any order."
   ]
  },
  {
   "cell_type": "markdown",
   "metadata": {},
   "source": [
    "Problem category : array, easy"
   ]
  },
  {
   "cell_type": "markdown",
   "metadata": {},
   "source": [
    "Solution 1 : O(n**2) kind of  - loop through list, for every element check if target - element in remaining part of list. looping is an O(n) operation, so is checking\n",
    "Insights : \n",
    "1) elements can be duplicated  \n",
    "2) when searching for target-x, seach in list[i+1:], not in list   \n",
    "3) but when converting index from list[i+1:] back to list space, make sure you adjust index"
   ]
  },
  {
   "cell_type": "code",
   "execution_count": null,
   "metadata": {},
   "outputs": [],
   "source": [
    "\n",
    "def twoSum(self, nums: List[int], target: int) -> List[int]:\n",
    "\n",
    "    for i in range(len(nums)):\n",
    "        first_num = nums[i]\n",
    "        desired_second_num = target-first_num\n",
    "        if desired_second_num in nums[(i+1):]:\n",
    "            second_index_relative = nums[(i+1):].index(desired_second_num)\n",
    "            second_index = (i+1) + second_index_relative\n",
    "            return [i, second_index]\n",
    "\n",
    "        else:\n",
    "            pass\n",
    "    return []"
   ]
  },
  {
   "cell_type": "markdown",
   "metadata": {},
   "source": [
    "## A better approach  - a hash map of all values, with index as key\n",
    "O(n)"
   ]
  },
  {
   "cell_type": "code",
   "execution_count": 7,
   "metadata": {},
   "outputs": [],
   "source": [
    "from typing import List\n",
    "class Solution:\n",
    "    def twoSum(self, nums: List[int], target: int) -> List[int]:\n",
    "        outdict = {}\n",
    "        for count, value in enumerate(nums):\n",
    "            if (target-value) in outdict.keys():\n",
    "                return [count, outdict[target-value]]\n",
    "            else:\n",
    "                outdict[value] = count\n",
    "    \n",
    "                \n"
   ]
  },
  {
   "cell_type": "code",
   "execution_count": 10,
   "metadata": {},
   "outputs": [
    {
     "data": {
      "text/plain": [
       "[1, 0]"
      ]
     },
     "execution_count": 10,
     "metadata": {},
     "output_type": "execute_result"
    }
   ],
   "source": [
    "a = Solution()\n",
    "a.twoSum(nums = [3, 3],  target = 6)"
   ]
  },
  {
   "cell_type": "code",
   "execution_count": null,
   "metadata": {},
   "outputs": [],
   "source": []
  }
 ],
 "metadata": {
  "kernelspec": {
   "display_name": "Python 3",
   "language": "python",
   "name": "python3"
  },
  "language_info": {
   "codemirror_mode": {
    "name": "ipython",
    "version": 3
   },
   "file_extension": ".py",
   "mimetype": "text/x-python",
   "name": "python",
   "nbconvert_exporter": "python",
   "pygments_lexer": "ipython3",
   "version": "3.8.8"
  }
 },
 "nbformat": 4,
 "nbformat_minor": 4
}
