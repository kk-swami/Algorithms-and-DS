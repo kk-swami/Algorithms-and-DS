{
 "cells": [
  {
   "cell_type": "markdown",
   "metadata": {},
   "source": [
    "https://leetcode.com/problems/two-sum/"
   ]
  },
  {
   "cell_type": "markdown",
   "metadata": {},
   "source": [
    "Problem category : array, easy"
   ]
  },
  {
   "cell_type": "markdown",
   "metadata": {},
   "source": [
    "Insights : \n",
    "1) elements can be duplicated  \n",
    "2) when searching for target-x, seach in list[i+1:], not in list   \n",
    "3) but when converting index from list[i+1:] back to list space, make sure you adjust index"
   ]
  },
  {
   "cell_type": "code",
   "execution_count": null,
   "metadata": {},
   "outputs": [],
   "source": [
    "def twoSum(self, nums: List[int], target: int) -> List[int]:\n",
    "\n",
    "    for i in range(len(nums)):\n",
    "        first_num = nums[i]\n",
    "        desired_second_num = target-first_num\n",
    "        if desired_second_num in nums[(i+1):]:\n",
    "            second_index_relative = nums[(i+1):].index(desired_second_num)\n",
    "            second_index = (i+1) + second_index_relative\n",
    "            return [i, second_index]\n",
    "\n",
    "        else:\n",
    "            pass\n",
    "    return []"
   ]
  }
 ],
 "metadata": {
  "kernelspec": {
   "display_name": "Python 3",
   "language": "python",
   "name": "python3"
  },
  "language_info": {
   "codemirror_mode": {
    "name": "ipython",
    "version": 3
   },
   "file_extension": ".py",
   "mimetype": "text/x-python",
   "name": "python",
   "nbconvert_exporter": "python",
   "pygments_lexer": "ipython3",
   "version": "3.6.4"
  }
 },
 "nbformat": 4,
 "nbformat_minor": 2
}
