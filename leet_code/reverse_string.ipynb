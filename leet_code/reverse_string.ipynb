{
 "cells": [
  {
   "cell_type": "markdown",
   "id": "fa07c4d9-aa96-4cff-9f74-5ef72d0d8399",
   "metadata": {},
   "source": [
    "https://leetcode.com/problems/reverse-string/"
   ]
  },
  {
   "cell_type": "markdown",
   "id": "5fd60b5c-e2a2-4712-9c86-1db3c31a1cf9",
   "metadata": {},
   "source": [
    "Problem category : two pointers, easy"
   ]
  },
  {
   "cell_type": "markdown",
   "id": "f6c8e849-4a22-4b4c-a9cd-3d4235c9419f",
   "metadata": {},
   "source": [
    "Insight : \n",
    "\n",
    "You could create a new empty array, and iterate through original array from last element to first element, add element one at a time to empty array. This has time complexity O(n), but has space complexity O(n) as we create a new array\n",
    "\n",
    "If we want to do inplace, we use two pointers - start with i = first element, j = last element , and keep swapping and doing i+ and j- until i becomes = or > j.\n",
    "This has time complexity O(n) (O(n/2) to be precise), space compexity O(1)\n",
    "\n",
    "For any sorted arrays, two pointers should be one of the first approaches you should think of"
   ]
  },
  {
   "cell_type": "code",
   "execution_count": 27,
   "id": "9347e55f-7044-4219-a587-5353f2dd1c29",
   "metadata": {},
   "outputs": [],
   "source": [
    "class Solution:\n",
    "    def reverseString(self, s) :\n",
    "        \"\"\"\n",
    "        Do not return anything, modify s in-place instead.\n",
    "        Do not allocate extra space for another array. space complexity should be O(1)\n",
    "        \"\"\"\n",
    "        n = len(s)\n",
    "        for i in range(0, n):\n",
    "            j = (n-1-i)\n",
    "            if i < j:\n",
    "                temp = s[j]\n",
    "                s[j] = s[i]\n",
    "                s[i] = temp\n",
    "            else:\n",
    "                break\n",
    "            \n",
    "            print(i, s)\n",
    "\n",
    "            \n",
    "        "
   ]
  },
  {
   "cell_type": "markdown",
   "id": "259ca599-e7ad-4a67-b4be-eb6291b528b6",
   "metadata": {},
   "source": [
    "i = 0, j = 2\n",
    "i = 1, j = 1"
   ]
  },
  {
   "cell_type": "code",
   "execution_count": 28,
   "id": "18fcb358-d4cd-4c7e-a391-b9fd9aa22dc1",
   "metadata": {},
   "outputs": [],
   "source": [
    "a = Solution()"
   ]
  },
  {
   "cell_type": "code",
   "execution_count": 30,
   "id": "a9f67a1d-0398-4303-840b-80164b0ef660",
   "metadata": {},
   "outputs": [
    {
     "name": "stdout",
     "output_type": "stream",
     "text": [
      "i :  0 j :  4\n",
      "0 ['o', 'e', 'l', 'l', 'h']\n",
      "i :  1 j :  3\n",
      "1 ['o', 'l', 'l', 'e', 'h']\n",
      "i :  2 j :  2\n"
     ]
    }
   ],
   "source": [
    "ar = [\"h\", \"e\", \"l\", \"l\", \"o\"]\n",
    "a.reverseString(ar)"
   ]
  }
 ],
 "metadata": {
  "kernelspec": {
   "display_name": "Python 3",
   "language": "python",
   "name": "python3"
  },
  "language_info": {
   "codemirror_mode": {
    "name": "ipython",
    "version": 3
   },
   "file_extension": ".py",
   "mimetype": "text/x-python",
   "name": "python",
   "nbconvert_exporter": "python",
   "pygments_lexer": "ipython3",
   "version": "3.8.8"
  }
 },
 "nbformat": 4,
 "nbformat_minor": 5
}
