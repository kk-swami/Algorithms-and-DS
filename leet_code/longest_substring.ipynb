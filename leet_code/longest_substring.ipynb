{
 "cells": [
  {
   "cell_type": "markdown",
   "id": "e51d9433-63c7-4b31-ba19-10179268e893",
   "metadata": {},
   "source": [
    "longest substring"
   ]
  },
  {
   "cell_type": "markdown",
   "id": "6878d862-2a64-497a-b2a4-bf9972d3801d",
   "metadata": {},
   "source": [
    "Solution :\n",
    "\n",
    "Create a dictionary whos keys are all substrings\n",
    "Have a counter i which loops through each character in the original string, and have a temp string\n",
    "which keeps getting longer, until a new i is there at temp string, at which point assign outdict to temp string and reset temp string to all positions in temp string after the max i + the new i coming in\n",
    "\n",
    "Order complexity will be O(n)"
   ]
  },
  {
   "cell_type": "code",
   "execution_count": 58,
   "id": "a26a28a9-1b22-4dfd-b272-3e817822108b",
   "metadata": {},
   "outputs": [],
   "source": [
    "def find(s, ch):\n",
    "    return [i for i, ltr in enumerate(s) if ltr == ch]\n",
    "\n",
    "class Solution:\n",
    "    def lengthOfLongestSubstring(self, s: str) -> int:\n",
    "        out_dict = {}\n",
    "        currstring = \"\"\n",
    "        max_key_length = 0\n",
    "        for i in s:\n",
    "            print(i, currstring)\n",
    "            if i in currstring:  ## reinitialize\n",
    "                if currstring not in out_dict.keys():\n",
    "                    out_dict[currstring] = 1\n",
    "                    print(\"out_dict\", out_dict)\n",
    "                    if len(currstring)>max_key_length:\n",
    "                        max_key_length = len(currstring)\n",
    "                else:\n",
    "                    pass\n",
    "                ind = max(find(currstring, i))\n",
    "                currstring = currstring[(ind+1):] + i\n",
    "            else:\n",
    "                currstring = currstring + i\n",
    "        if currstring not in out_dict.keys():\n",
    "            out_dict[currstring] = 1\n",
    "            if len(currstring)>max_key_length:\n",
    "                max_key_length = len(currstring)\n",
    "        print(\"final out_dict\", out_dict)    \n",
    "        return max_key_length\n",
    "            \n",
    "            \n",
    "            "
   ]
  },
  {
   "cell_type": "code",
   "execution_count": 59,
   "id": "d81662df-92fb-4a88-8c79-02cc7edcdabf",
   "metadata": {},
   "outputs": [],
   "source": [
    "a = Solution()"
   ]
  },
  {
   "cell_type": "code",
   "execution_count": 63,
   "id": "2b0e59bd-0559-4494-8795-0d88a9f4a1ef",
   "metadata": {},
   "outputs": [
    {
     "name": "stdout",
     "output_type": "stream",
     "text": [
      "p \n",
      "w p\n",
      "w pw\n",
      "out_dict {'pw': 1}\n",
      "k w\n",
      "e wk\n",
      "w wke\n",
      "out_dict {'pw': 1, 'wke': 1}\n",
      "final out_dict {'pw': 1, 'wke': 1, 'kew': 1}\n"
     ]
    },
    {
     "data": {
      "text/plain": [
       "3"
      ]
     },
     "execution_count": 63,
     "metadata": {},
     "output_type": "execute_result"
    }
   ],
   "source": [
    "a.lengthOfLongestSubstring(\"pwwkew\")"
   ]
  },
  {
   "cell_type": "code",
   "execution_count": 3,
   "id": "acc39634-45e3-4d8a-9cab-40df86cf3963",
   "metadata": {},
   "outputs": [
    {
     "data": {
      "text/plain": [
       "True"
      ]
     },
     "execution_count": 3,
     "metadata": {},
     "output_type": "execute_result"
    }
   ],
   "source": [
    "'t' in 'two'"
   ]
  },
  {
   "cell_type": "code",
   "execution_count": 20,
   "id": "fd16be7a-c601-437f-bf42-0d7a0d5e6b62",
   "metadata": {},
   "outputs": [
    {
     "data": {
      "text/plain": [
       "['a', 'aa']"
      ]
     },
     "execution_count": 20,
     "metadata": {},
     "output_type": "execute_result"
    }
   ],
   "source": [
    "sorted({'a' : 1, 'aa' : 2})"
   ]
  },
  {
   "cell_type": "code",
   "execution_count": 48,
   "id": "65cad94a-b2eb-4b0e-813c-cd919948f4f7",
   "metadata": {},
   "outputs": [],
   "source": [
    "def find(s, ch):\n",
    "    return [i for i, ltr in enumerate(s) if ltr == ch]"
   ]
  },
  {
   "cell_type": "code",
   "execution_count": 49,
   "id": "f89167ee-759a-4e3d-bb79-553ab9dac975",
   "metadata": {},
   "outputs": [
    {
     "data": {
      "text/plain": [
       "[0, 1]"
      ]
     },
     "execution_count": 49,
     "metadata": {},
     "output_type": "execute_result"
    }
   ],
   "source": [
    "find('ddv', 'd')"
   ]
  },
  {
   "cell_type": "code",
   "execution_count": 54,
   "id": "18100cb5-aa7c-4d6c-823a-08c40d183974",
   "metadata": {},
   "outputs": [
    {
     "data": {
      "text/plain": [
       "''"
      ]
     },
     "execution_count": 54,
     "metadata": {},
     "output_type": "execute_result"
    }
   ],
   "source": [
    "'ddv'[10:]"
   ]
  },
  {
   "cell_type": "code",
   "execution_count": null,
   "id": "d32098e4-dec1-4af4-b0a6-3fb87dc2ead8",
   "metadata": {},
   "outputs": [],
   "source": []
  }
 ],
 "metadata": {
  "kernelspec": {
   "display_name": "Python 3",
   "language": "python",
   "name": "python3"
  },
  "language_info": {
   "codemirror_mode": {
    "name": "ipython",
    "version": 3
   },
   "file_extension": ".py",
   "mimetype": "text/x-python",
   "name": "python",
   "nbconvert_exporter": "python",
   "pygments_lexer": "ipython3",
   "version": "3.8.8"
  }
 },
 "nbformat": 4,
 "nbformat_minor": 5
}
