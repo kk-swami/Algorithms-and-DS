{
 "cells": [
  {
   "cell_type": "markdown",
   "id": "13022c29-b947-493e-b7f7-25f9c8ed2598",
   "metadata": {},
   "source": [
    "https://leetcode.com/problems/group-anagrams/"
   ]
  },
  {
   "cell_type": "markdown",
   "id": "91094506-3a85-4904-8351-4c31b099bb20",
   "metadata": {},
   "source": [
    "create a hash / dictionary with key as combination of letters and counts obtained by sorting counter, so that every anagram has a unique key corresponding to letter counts\n",
    "\n",
    "A lot of O(N) operations, but we sort counter of each string, so that will be O(klogk) , where k is unique characters in each string\n",
    "\n",
    "An easier option is sorting the string itself, and using sorted string as key, but will that be a bit slower for strings with lots of char repetitions ?"
   ]
  },
  {
   "cell_type": "code",
   "execution_count": 43,
   "id": "e616891e-f9f7-4e11-b7a9-a47a194bdb0a",
   "metadata": {},
   "outputs": [],
   "source": [
    "from collections import Counter\n",
    "class Solution:\n",
    "    def groupAnagrams(self, strs):\n",
    "        group_dict = {}\n",
    "        count = 0\n",
    "        for st in strs:\n",
    "            temp = sorted(Counter(st).items()) ## gives a sorted tuple of str and count\n",
    "            key = \"\".join(['%s%s'%(str(x[0]),str(x[1])) for x in temp])\n",
    "            if key not in group_dict.keys():\n",
    "                group_dict[key] = []               \n",
    "            group_dict[key].append(st)\n",
    "        out_list = []\n",
    "        for key in group_dict.keys():\n",
    "            out_list.append(group_dict[key])\n",
    "        return out_list\n",
    "        \n",
    "                \n",
    "            \n",
    "                \n"
   ]
  },
  {
   "cell_type": "code",
   "execution_count": 13,
   "id": "6b45cf55-0bcc-4704-b7b2-de9846f1a509",
   "metadata": {},
   "outputs": [],
   "source": [
    "strs = [\"eat\",\"tea\",\"tan\",\"ate\",\"nat\",\"bat\"]"
   ]
  },
  {
   "cell_type": "code",
   "execution_count": 44,
   "id": "8dd384e9-49d5-449f-b931-695ccaac8b97",
   "metadata": {},
   "outputs": [],
   "source": [
    "a = Solution()"
   ]
  },
  {
   "cell_type": "code",
   "execution_count": 46,
   "id": "0d096529-d9fa-443a-82c5-11daf7c56496",
   "metadata": {},
   "outputs": [
    {
     "data": {
      "text/plain": [
       "[['']]"
      ]
     },
     "execution_count": 46,
     "metadata": {},
     "output_type": "execute_result"
    }
   ],
   "source": [
    "a.groupAnagrams([\"\"])"
   ]
  },
  {
   "cell_type": "code",
   "execution_count": 8,
   "id": "fd8f7aae-8813-4474-b0f8-21edd1318da7",
   "metadata": {},
   "outputs": [
    {
     "data": {
      "text/plain": [
       "True"
      ]
     },
     "execution_count": 8,
     "metadata": {},
     "output_type": "execute_result"
    }
   ],
   "source": [
    "a[0]==a[1]"
   ]
  },
  {
   "cell_type": "code",
   "execution_count": 20,
   "id": "2808cc00-4f9c-4011-b0f4-9095f00bfc7d",
   "metadata": {},
   "outputs": [],
   "source": [
    "st = \"tea\""
   ]
  },
  {
   "cell_type": "code",
   "execution_count": 21,
   "id": "5b360355-e5ac-468c-9a71-d7607821bc09",
   "metadata": {},
   "outputs": [],
   "source": [
    "key = \"\".join(list(set(st)))"
   ]
  },
  {
   "cell_type": "code",
   "execution_count": 22,
   "id": "e9a34e09-172b-4122-9bb1-bae9c3e0da28",
   "metadata": {},
   "outputs": [
    {
     "data": {
      "text/plain": [
       "'aet'"
      ]
     },
     "execution_count": 22,
     "metadata": {},
     "output_type": "execute_result"
    }
   ],
   "source": [
    "key"
   ]
  },
  {
   "cell_type": "code",
   "execution_count": 23,
   "id": "932b9e48-7995-4e3e-86b6-9dfe8f45887a",
   "metadata": {},
   "outputs": [],
   "source": [
    "aa = Counter(\"too\")"
   ]
  },
  {
   "cell_type": "code",
   "execution_count": 24,
   "id": "badf9197-2e6d-4f8c-997a-d49f9fd2ea28",
   "metadata": {},
   "outputs": [
    {
     "data": {
      "text/plain": [
       "Counter({'t': 1, 'o': 2})"
      ]
     },
     "execution_count": 24,
     "metadata": {},
     "output_type": "execute_result"
    }
   ],
   "source": [
    "aa"
   ]
  },
  {
   "cell_type": "code",
   "execution_count": 25,
   "id": "5f275901-4373-45d0-80c7-4f0c47a5323e",
   "metadata": {},
   "outputs": [
    {
     "data": {
      "text/plain": [
       "Counter({'o': 2, 't': 1})"
      ]
     },
     "execution_count": 25,
     "metadata": {},
     "output_type": "execute_result"
    }
   ],
   "source": [
    "Counter(\"oot\")"
   ]
  },
  {
   "cell_type": "code",
   "execution_count": 26,
   "id": "b859ae33-af04-47f3-b0c0-77392759741b",
   "metadata": {},
   "outputs": [
    {
     "data": {
      "text/plain": [
       "[('o', 1), ('t', 1)]"
      ]
     },
     "execution_count": 26,
     "metadata": {},
     "output_type": "execute_result"
    }
   ],
   "source": [
    "Counter('ot').most_common()"
   ]
  },
  {
   "cell_type": "code",
   "execution_count": 27,
   "id": "b4c40f97-6e99-4276-98bd-fc95f0324fca",
   "metadata": {},
   "outputs": [
    {
     "data": {
      "text/plain": [
       "[('t', 1), ('o', 1)]"
      ]
     },
     "execution_count": 27,
     "metadata": {},
     "output_type": "execute_result"
    }
   ],
   "source": [
    "Counter('to').most_common()"
   ]
  },
  {
   "cell_type": "code",
   "execution_count": 28,
   "id": "5fd30b35-45b6-4fcb-873f-62a910641529",
   "metadata": {},
   "outputs": [],
   "source": [
    "a = {}"
   ]
  },
  {
   "cell_type": "code",
   "execution_count": 30,
   "id": "051bb718-eb81-4559-b106-e1fddd7199b2",
   "metadata": {},
   "outputs": [
    {
     "ename": "TypeError",
     "evalue": "unhashable type: 'Counter'",
     "output_type": "error",
     "traceback": [
      "\u001b[1;31m---------------------------------------------------------------------------\u001b[0m",
      "\u001b[1;31mTypeError\u001b[0m                                 Traceback (most recent call last)",
      "\u001b[1;32m<ipython-input-30-0fa5c9ff9d85>\u001b[0m in \u001b[0;36m<module>\u001b[1;34m\u001b[0m\n\u001b[1;32m----> 1\u001b[1;33m \u001b[0ma\u001b[0m\u001b[1;33m[\u001b[0m\u001b[0mCounter\u001b[0m\u001b[1;33m(\u001b[0m\u001b[1;34m'to'\u001b[0m\u001b[1;33m)\u001b[0m\u001b[1;33m]\u001b[0m \u001b[1;33m=\u001b[0m \u001b[1;33m[\u001b[0m\u001b[1;34m'to'\u001b[0m\u001b[1;33m]\u001b[0m\u001b[1;33m\u001b[0m\u001b[1;33m\u001b[0m\u001b[0m\n\u001b[0m",
      "\u001b[1;31mTypeError\u001b[0m: unhashable type: 'Counter'"
     ]
    }
   ],
   "source": [
    "a[Counter('to')] = ['to']"
   ]
  },
  {
   "cell_type": "code",
   "execution_count": 35,
   "id": "0250c592-52c8-4c5d-8086-e064e95decee",
   "metadata": {},
   "outputs": [
    {
     "data": {
      "text/plain": [
       "[('o', 1), ('t', 2)]"
      ]
     },
     "execution_count": 35,
     "metadata": {},
     "output_type": "execute_result"
    }
   ],
   "source": [
    "sorted(Counter('ott').items())"
   ]
  },
  {
   "cell_type": "code",
   "execution_count": 36,
   "id": "67ca56d4-f1dc-4a96-af53-96040e3616c7",
   "metadata": {},
   "outputs": [
    {
     "data": {
      "text/plain": [
       "[('o', 1), ('t', 2)]"
      ]
     },
     "execution_count": 36,
     "metadata": {},
     "output_type": "execute_result"
    }
   ],
   "source": [
    "sorted(Counter('tto').items())"
   ]
  },
  {
   "cell_type": "code",
   "execution_count": 37,
   "id": "411299dd-0052-4cea-86a7-05a932e2e61f",
   "metadata": {},
   "outputs": [],
   "source": [
    "temp = sorted(Counter(st).items()) ## gives a sorted tuple of str and count\n",
    "key = \"\".join(['%s%s'%(str(x[0]),str(x[1])) for x in temp])"
   ]
  },
  {
   "cell_type": "code",
   "execution_count": 38,
   "id": "dd7076f3-2313-42e9-aa84-8507459248ce",
   "metadata": {},
   "outputs": [
    {
     "data": {
      "text/plain": [
       "'a1e1t1'"
      ]
     },
     "execution_count": 38,
     "metadata": {},
     "output_type": "execute_result"
    }
   ],
   "source": [
    "key"
   ]
  },
  {
   "cell_type": "code",
   "execution_count": null,
   "id": "fc31c2ee-ca7c-4d2f-b480-21d8ae1f7bd9",
   "metadata": {},
   "outputs": [],
   "source": []
  }
 ],
 "metadata": {
  "kernelspec": {
   "display_name": "Python 3",
   "language": "python",
   "name": "python3"
  },
  "language_info": {
   "codemirror_mode": {
    "name": "ipython",
    "version": 3
   },
   "file_extension": ".py",
   "mimetype": "text/x-python",
   "name": "python",
   "nbconvert_exporter": "python",
   "pygments_lexer": "ipython3",
   "version": "3.8.8"
  }
 },
 "nbformat": 4,
 "nbformat_minor": 5
}
