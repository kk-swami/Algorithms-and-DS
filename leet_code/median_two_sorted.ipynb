{
 "cells": [
  {
   "cell_type": "markdown",
   "metadata": {},
   "source": [
    "https://leetcode.com/problems/median-of-two-sorted-arrays/"
   ]
  },
  {
   "cell_type": "markdown",
   "metadata": {},
   "source": [
    "Problem category : array,hard"
   ]
  },
  {
   "cell_type": "markdown",
   "metadata": {},
   "source": [
    "Insights : \n",
    "1) Take care of edge cases - ie 1 list is empty  \n",
    "2) take care of when you finish iterating through 1 list, the other list still has to be finished   \n",
    "3) No need for sorting, since each list is already sorted  "
   ]
  },
  {
   "cell_type": "markdown",
   "metadata": {},
   "source": [
    "## Approach 1 - \n",
    "\n",
    "Time complexity O(m+n) where m and n are lengths of arrays 1 and 2\n",
    "\n",
    "\n",
    "1) Start with i=0, j=0 as counters on both arrays  \n",
    "2) Initialize empty list to store concatenated sorted array  \n",
    "3) Compare nums1[i] with nums2[j], append which ever is lesser to concatenated array, increment i or j by 1 respectively    \n",
    "4) repeat till one list is completely traversed  \n",
    "5) iterate through the remaining elements in other list, and add  \n",
    "6) Take care of edge cases where both lists are empty or 1 list is empty  \n",
    "7) Once sorted combined list is obtained, take the median which is a O(1) operation  "
   ]
  },
  {
   "cell_type": "code",
   "execution_count": 1,
   "metadata": {},
   "outputs": [
    {
     "ename": "NameError",
     "evalue": "name 'List' is not defined",
     "output_type": "error",
     "traceback": [
      "\u001b[1;31m---------------------------------------------------------------------------\u001b[0m",
      "\u001b[1;31mNameError\u001b[0m                                 Traceback (most recent call last)",
      "\u001b[1;32m<ipython-input-1-5701843b3c20>\u001b[0m in \u001b[0;36m<module>\u001b[1;34m()\u001b[0m\n\u001b[0;32m      1\u001b[0m \u001b[1;33m\u001b[0m\u001b[0m\n\u001b[1;32m----> 2\u001b[1;33m \u001b[1;32mdef\u001b[0m \u001b[0mfindMedianSortedArrays_approach1\u001b[0m\u001b[1;33m(\u001b[0m\u001b[0mself\u001b[0m\u001b[1;33m,\u001b[0m \u001b[0mnums1\u001b[0m\u001b[1;33m:\u001b[0m \u001b[0mList\u001b[0m\u001b[1;33m[\u001b[0m\u001b[0mint\u001b[0m\u001b[1;33m]\u001b[0m\u001b[1;33m,\u001b[0m \u001b[0mnums2\u001b[0m\u001b[1;33m:\u001b[0m \u001b[0mList\u001b[0m\u001b[1;33m[\u001b[0m\u001b[0mint\u001b[0m\u001b[1;33m]\u001b[0m\u001b[1;33m)\u001b[0m \u001b[1;33m->\u001b[0m \u001b[0mfloat\u001b[0m\u001b[1;33m:\u001b[0m\u001b[1;33m\u001b[0m\u001b[0m\n\u001b[0m\u001b[0;32m      3\u001b[0m \u001b[1;33m\u001b[0m\u001b[0m\n\u001b[0;32m      4\u001b[0m     \u001b[1;32mdef\u001b[0m \u001b[0mfind_min_index\u001b[0m\u001b[1;33m(\u001b[0m\u001b[0ma\u001b[0m\u001b[1;33m,\u001b[0m \u001b[0mb\u001b[0m\u001b[1;33m)\u001b[0m\u001b[1;33m:\u001b[0m\u001b[1;33m\u001b[0m\u001b[0m\n\u001b[0;32m      5\u001b[0m         \u001b[1;32mif\u001b[0m \u001b[0ma\u001b[0m\u001b[1;33m<=\u001b[0m\u001b[0mb\u001b[0m \u001b[1;33m:\u001b[0m\u001b[1;33m\u001b[0m\u001b[0m\n",
      "\u001b[1;31mNameError\u001b[0m: name 'List' is not defined"
     ]
    }
   ],
   "source": [
    "\n",
    "def findMedianSortedArrays_approach1(self, nums1: List[int], nums2: List[int]) -> float:\n",
    "    \n",
    "    def find_min_index(a, b):\n",
    "        if a<=b :\n",
    "            return 0\n",
    "        else:\n",
    "            return 1\n",
    "    len_array_1 = len(nums1)\n",
    "    len_array_2 = len(nums2)\n",
    "\n",
    "    i = 0\n",
    "    j = 0\n",
    "\n",
    "\n",
    "\n",
    "    combined_array = []\n",
    "\n",
    "\n",
    "    count = 0\n",
    "    i_end=False\n",
    "    j_end=False\n",
    "    if (len_array_1>0) and (len_array_2>0):\n",
    "        while (i<len_array_1) or (j<len_array_2):\n",
    "            count = count + 1\n",
    "\n",
    "            if (not i_end) and (not j_end):\n",
    "                low_elem_index = find_min_index(nums1[i], nums2[j])\n",
    "\n",
    "\n",
    "                if low_elem_index==0:\n",
    "                    combined_array.append(nums1[i])\n",
    "                    if (i+1)<len_array_1:\n",
    "                        i = i + 1\n",
    "                    elif (i+1)==len_array_1:\n",
    "                        i_end=True\n",
    "                    else:\n",
    "                        pass\n",
    "                else:\n",
    "                    combined_array.append(nums2[j])\n",
    "                    if (j+1)<len_array_2:\n",
    "                        j = j + 1\n",
    "                    elif (j+1)==len_array_2:\n",
    "                        j_end = True\n",
    "                    else:\n",
    "                        pass\n",
    "            else:\n",
    "                if i_end:\n",
    "                    if j_end:\n",
    "                        break\n",
    "                    else:\n",
    "                        combined_array.append(nums2[j])\n",
    "                        if (j+1)<len_array_2:\n",
    "                            j=j+1\n",
    "                        else:\n",
    "                            j_end = True\n",
    "                            break\n",
    "                if j_end:\n",
    "                    if i_end:\n",
    "                        break\n",
    "                    else:\n",
    "                        combined_array.append(nums1[i])\n",
    "                        if (i+1)<len_array_1:\n",
    "                            i=i+1\n",
    "                        else:\n",
    "                            i_end = True\n",
    "                            break\n",
    "    else:\n",
    "        if (len_array_1==0) and (len_array_2)==0:\n",
    "            return None\n",
    "        else:\n",
    "            if len_array_1==0:\n",
    "                combined_array = nums2\n",
    "            else:\n",
    "                combined_array = nums1\n",
    "\n",
    "\n",
    "\n",
    "    len_combined_array = len(combined_array)\n",
    "    if len_combined_array%2 == 1: # odd number\n",
    "\n",
    "        return combined_array[(int((len_combined_array+1)/2))-1]\n",
    "    else:\n",
    "        one_elem = combined_array[int((len_combined_array)/2)]\n",
    "        second_elem = combined_array[int((len_combined_array)/2) -1]\n",
    "        return (0.5*(second_elem + one_elem))"
   ]
  },
  {
   "cell_type": "code",
   "execution_count": null,
   "metadata": {},
   "outputs": [],
   "source": [
    "nums1 = [1,3, 7, 8]\n",
    "nums2 = [2,4]"
   ]
  },
  {
   "cell_type": "code",
   "execution_count": null,
   "metadata": {},
   "outputs": [],
   "source": [
    "## findMedianSortedArrays(nums1, nums2)"
   ]
  },
  {
   "cell_type": "markdown",
   "metadata": {},
   "source": [
    "## Approach 2 -  Can we make it faster than linear time ?\n",
    "\n",
    "1) Handle edge cases, if both arrays are empty or one is empty  \n",
    "2) we know that median will always lie between median of array 1 and median of array 2. can we use this to create a divide and conquer algorithm ?  \n",
    "\n",
    "This approach DOES NOT WORK - not sure if it is mathematically guaranteed if median(array1) <= median(array) <= median(array2)"
   ]
  },
  {
   "cell_type": "code",
   "execution_count": null,
   "metadata": {},
   "outputs": [],
   "source": [
    "\n",
    "def findMedianSortedArrays_approach2(nums1, nums2) :\n",
    "    \n",
    "    def find_median_single_array(array):\n",
    "        len_array = len(array)\n",
    "        if len_array%2 == 1: # odd number\n",
    "            ind = (int((len_array+1)/2))-1\n",
    "            return array[ind], [ind]\n",
    "        else:\n",
    "            ind2 = int((len_array)/2)\n",
    "            ind1 = int((len_array)/2) -1\n",
    "\n",
    "            return (0.5*(array[ind1] + array[ind2])), [ind1, ind2]\n",
    "    count = 0    \n",
    "    total_length = len(nums1) + len(nums2)\n",
    "    print(\"total_length\", total_length)\n",
    "    while True:\n",
    "        count = count + 1\n",
    "        print(\"count\", count)\n",
    "        print(\"nums1\", nums1)\n",
    "        print(\"nums2\", nums2)\n",
    "        len_array_1 = len(nums1)\n",
    "        len_array_2 = len(nums2)\n",
    "        if (len_array_1==0) and (len_array_2)==0:\n",
    "            return None\n",
    "        elif len_array_1==0:\n",
    "            median, _ = find_median_single_array(nums2)\n",
    "            return median\n",
    "        elif len_array_2==0:\n",
    "            median, _ = find_median_single_array(nums1)\n",
    "            return median        \n",
    "        else:\n",
    "            median_1, ind_1 = find_median_single_array(nums1)\n",
    "            median_2, ind_2 = find_median_single_array(nums2)\n",
    "            print(\"ind_1\", ind_1)\n",
    "            print(\"ind_2\", ind_2)\n",
    "            print(\"median_1\", median_1)\n",
    "            print(\"median_2\", median_2)\n",
    "            print(\"length nums_1\", len(nums1))\n",
    "            print(\"length nums_2\", len(nums2))\n",
    "            if median_1 <= median_2:\n",
    "                nums1 = nums1[ind_1[0]:]\n",
    "                nums2 = nums2[0:(ind_2[-1]+1)]\n",
    "            elif median_1 > median_2:\n",
    "                nums1 = nums1[0:(ind_1[-1]+1)]\n",
    "                nums2 = nums2[ind_2[0]:]\n",
    "            if (len(nums1)<=2 ) and (len(nums2)<=2):\n",
    "                print(\"nums1\", nums1)\n",
    "                print(\"nums2\",nums2)\n",
    "                break\n",
    "    concat_list = nums1 + nums2\n",
    "    median = 0 \n",
    "    if len(concat_list)%2 == 0:\n",
    "        if len(concat_list)==2:\n",
    "            median = 0.5*(concat_list[0] + concat_list[1])\n",
    "        elif len(concat_list)==4:\n",
    "            min_val = min(concat_list)\n",
    "            max_val = max(concat_list)\n",
    "            min_index = concat_list.index(min_val)\n",
    "            \n",
    "            del concat_list[min_index]\n",
    "            max_index = concat_list.index(max_val)\n",
    "            del concat_list[max_index]\n",
    "            \n",
    "            median = 0.5*(concat_list[0] + concat_list[1])\n",
    "        else:\n",
    "            print(\"%% ERROR %%\")\n",
    "    else:\n",
    "        if len(concat_list)==1:\n",
    "            median  = concat_list[0]\n",
    "        elif len(concat_list)==3:\n",
    "            min_val = min(concat_list)\n",
    "            max_val = max(concat_list)\n",
    "            print(min_val, max_val)\n",
    "            min_index = concat_list.index(min_val)\n",
    "            del concat_list[min_index]\n",
    "            max_index = concat_list.index(max_val)\n",
    "\n",
    "            del concat_list[max_index]\n",
    "            print(concat_list)\n",
    "            median = concat_list[0]\n",
    "        else:\n",
    "            print(\"## ERROR ##\")\n",
    "    return median\n",
    "        \n",
    "\n",
    "        \n"
   ]
  },
  {
   "cell_type": "code",
   "execution_count": null,
   "metadata": {},
   "outputs": [],
   "source": [
    "findMedianSortedArrays_approach2([1,2,4,4,5], [1,2,3])"
   ]
  },
  {
   "cell_type": "code",
   "execution_count": null,
   "metadata": {},
   "outputs": [],
   "source": [
    "max([0,1])"
   ]
  },
  {
   "cell_type": "code",
   "execution_count": null,
   "metadata": {},
   "outputs": [],
   "source": [
    "concat_list = [1,3,2]"
   ]
  },
  {
   "cell_type": "code",
   "execution_count": null,
   "metadata": {},
   "outputs": [],
   "source": [
    "min_val = min(concat_list)\n",
    "max_val = max(concat_list)\n",
    "min_index = concat_list.index(min_val)\n",
    "max_index = concat_list.index(max_val)"
   ]
  },
  {
   "cell_type": "code",
   "execution_count": null,
   "metadata": {},
   "outputs": [],
   "source": [
    "print(min_index, min_val)"
   ]
  },
  {
   "cell_type": "code",
   "execution_count": null,
   "metadata": {},
   "outputs": [],
   "source": [
    "print(max_index, max_val)"
   ]
  },
  {
   "cell_type": "markdown",
   "metadata": {},
   "source": [
    "## Approach 3 -  Can we make it faster than linear time ?\n",
    "\n",
    "1) Optimal algorithm. Time complexity O(min(log m, log n)) where m and n are array 1 and array 2 respectively. Does not explicitly require merging array 1 and 2 which is O(m+n) - look at approach 1\n",
    "2) Let array 1 be the smaller in length array. What we want to do is find k (0<= k <= len(array 1)) such that elements 0 to k in array 1 fall in left half (<= median) once the overall median is found. Then by definition, elements k to len(array1) fall in right half. k is the only independent variable here. If we know k, we can define as described left and right half of smaller array . Similary, by definition, if m is length of smaller array, n is length of larger array, we know that no of elements in lower half (<= median) is int(0.5*(m+n)) as that is definition of median. Therefore, left of larger array is [0 :int(0.5*(m+n))-k) ] and right of larger array is [(int(0.5*(m+n))-k):n ]. Hence , once we specify k, we can define left and right halves of both arrays. k is correctly chosen if and only if every single element in left half is <= every single element in right half by median definition. We already know that each array is individually sorted. Therefore, array1[k] <= array1[k+1] and array2[int(0.5*(m+n))-k)] <= array2[int(0.5*(m+n))-k) + 1] . However, if k is correctly chosen, then array1[k] <= array2[int(0.5*(m+n))-k)+1] and array2[int(0.5*(m+n))-k)] <= array1[k] (ie largest element in first array, lower half <= smallest element second array upper half, and largest element in second array, lower array <=- smallest element first array upper half).\n",
    "We can choose k by binary search on range 0:(len(array1)) on smaller array, hence O is O(log(len(smaller_array)))\n",
    "Note - k can be 0, which means first array has zero elements in first half, handle this by assigning max(first array) = -inf in this case\n"
   ]
  },
  {
   "cell_type": "code",
   "execution_count": 47,
   "metadata": {},
   "outputs": [],
   "source": [
    "def findMedianSortedArrays_approach3(nums1, nums2) :\n",
    "    \n",
    "    def find_median_single_array(array):\n",
    "        len_array = len(array)\n",
    "        if len_array%2 == 1: # odd number\n",
    "            ind = (int((len_array+1)/2))-1\n",
    "            return array[ind], [ind]\n",
    "        else:\n",
    "            ind2 = int((len_array)/2)\n",
    "            ind1 = int((len_array)/2) -1\n",
    "\n",
    "            return (0.5*(array[ind1] + array[ind2])), [ind1, ind2]\n",
    "        \n",
    "\n",
    "    total_length = len(nums1) + len(nums2)\n",
    "    is_even = (total_length%2)==0\n",
    "    cond = 0\n",
    "    \n",
    "    if is_even:\n",
    "        num_elements_lower_half = int(total_length/2)\n",
    "    else:\n",
    "        num_elements_lower_half = int(total_length/2)+1\n",
    "    \n",
    "    num_elements_larger_half = total_length - num_elements_lower_half   \n",
    "    \n",
    "    print(\"total_length\", total_length)\n",
    "    print(\"number_elements_lower_half\", num_elements_lower_half)\n",
    "\n",
    "    print(\"nums1\", nums1)\n",
    "    print(\"nums2\", nums2)\n",
    "    len_array_1 = len(nums1)\n",
    "    len_array_2 = len(nums2)\n",
    "    if (len_array_1==0) and (len_array_2)==0:\n",
    "        return None\n",
    "    elif len_array_1==0:\n",
    "        median, _ = find_median_single_array(nums2)\n",
    "        return median\n",
    "    elif len_array_2==0:\n",
    "        median, _ = find_median_single_array(nums1)\n",
    "        return median        \n",
    "    else:\n",
    "        if len_array_1 <= len_array_2:\n",
    "            smaller_array = nums1[:]\n",
    "            larger_array = nums2[:]\n",
    "        else:\n",
    "            smaller_array = nums2[:]\n",
    "            larger_array = nums1[:]\n",
    "        k_min = 0\n",
    "        k_max = len(smaller_array) ## k can range between 0 and k_max\n",
    "        print(\"k_max\", k_max)\n",
    "         ## initialize value of k\n",
    "        while True:\n",
    "            if cond!=1:\n",
    "                k = int(0.5*(k_min + k_max))\n",
    "            else:\n",
    "                k = int(0.5*(k_min + k_max)) + 1\n",
    "            print(\"k\", k)\n",
    "            print(\"k_min\", k_min)\n",
    "            print(\"k_max\", k_max)\n",
    "            smaller_array_left = smaller_array[0:k]\n",
    "            print(\"smaller_array_left\", smaller_array_left)\n",
    "            if len(smaller_array_left)==0:\n",
    "                max_smaller_left = float(\"-inf\")\n",
    "            else:\n",
    "                max_smaller_left = max(smaller_array_left)\n",
    "            smaller_array_right = smaller_array[k:]\n",
    "            print(\"smaller_array_right\", smaller_array_right)\n",
    "            if len(smaller_array_right)==0:\n",
    "                min_smaller_right = float(\"inf\")\n",
    "            else:\n",
    "                min_smaller_right = min(smaller_array_right)\n",
    "                \n",
    "            k_larger_array = num_elements_lower_half - k\n",
    "            larger_array_left = larger_array[0:k_larger_array]\n",
    "            larger_array_right = larger_array[k_larger_array:]\n",
    "                \n",
    "            if len(larger_array_left)==0:\n",
    "                max_larger_left = float(\"-inf\")\n",
    "            else:\n",
    "                max_larger_left = max(larger_array_left)\n",
    "            if len(larger_array_right)==0:\n",
    "                min_larger_right = float(\"inf\")\n",
    "            else:\n",
    "                min_larger_right = min(larger_array_right)                \n",
    "                \n",
    " \n",
    "\n",
    "            \n",
    "            if (max_smaller_left <= min_larger_right ) and (max_larger_left <= min_smaller_right ):\n",
    "                break ## right partition found\n",
    "            elif (max_smaller_left > min_larger_right): ## move k lower\n",
    "                print(\"cond2\")\n",
    "                k_max = k\n",
    "                cond = -1\n",
    "            elif (max_larger_left > min_smaller_right): ## move k higher\n",
    "                print(\"cond3\")\n",
    "                k_min = k\n",
    "                cond = 1\n",
    "            else:\n",
    "                pass ## cannot happen\n",
    "    \n",
    "        if not is_even:\n",
    "            median = max(max_smaller_left, max_larger_left)\n",
    "        else:\n",
    "            median = 0.5*(max(max_smaller_left, max_larger_left) + min(min_smaller_right, min_larger_right))\n",
    "            \n",
    "                \n",
    "      \n",
    "    return median"
   ]
  },
  {
   "cell_type": "code",
   "execution_count": 39,
   "metadata": {},
   "outputs": [
    {
     "data": {
      "text/plain": [
       "2"
      ]
     },
     "execution_count": 39,
     "metadata": {},
     "output_type": "execute_result"
    }
   ],
   "source": [
    "int(0.5*(0 + 3))+1"
   ]
  },
  {
   "cell_type": "code",
   "execution_count": 16,
   "metadata": {},
   "outputs": [],
   "source": [
    "smaller_array = [0, 1]"
   ]
  },
  {
   "cell_type": "code",
   "execution_count": 17,
   "metadata": {},
   "outputs": [],
   "source": [
    "smaller_array_left = smaller_array[0:2]"
   ]
  },
  {
   "cell_type": "code",
   "execution_count": 18,
   "metadata": {},
   "outputs": [
    {
     "data": {
      "text/plain": [
       "2"
      ]
     },
     "execution_count": 18,
     "metadata": {},
     "output_type": "execute_result"
    }
   ],
   "source": [
    "len(smaller_array_left)"
   ]
  },
  {
   "cell_type": "code",
   "execution_count": 19,
   "metadata": {},
   "outputs": [],
   "source": [
    "smaller_array_right = smaller_array[2:]"
   ]
  },
  {
   "cell_type": "code",
   "execution_count": 20,
   "metadata": {},
   "outputs": [
    {
     "data": {
      "text/plain": [
       "[]"
      ]
     },
     "execution_count": 20,
     "metadata": {},
     "output_type": "execute_result"
    }
   ],
   "source": [
    "smaller_array_right"
   ]
  },
  {
   "cell_type": "markdown",
   "metadata": {},
   "source": []
  },
  {
   "cell_type": "markdown",
   "metadata": {},
   "source": [
    "smaller_array_left"
   ]
  },
  {
   "cell_type": "code",
   "execution_count": 49,
   "metadata": {},
   "outputs": [
    {
     "name": "stdout",
     "output_type": "stream",
     "text": [
      "total_length 6\n",
      "number_elements_lower_half 3\n",
      "nums1 [1, 2, 4]\n",
      "nums2 [3, 5, 6]\n",
      "k_max 3\n",
      "k 1\n",
      "k_min 0\n",
      "k_max 3\n",
      "smaller_array_left [1]\n",
      "smaller_array_right [2, 4]\n",
      "cond3\n",
      "k 3\n",
      "k_min 1\n",
      "k_max 3\n",
      "smaller_array_left [1, 2, 4]\n",
      "smaller_array_right []\n",
      "cond2\n",
      "k 2\n",
      "k_min 1\n",
      "k_max 3\n",
      "smaller_array_left [1, 2]\n",
      "smaller_array_right [4]\n"
     ]
    },
    {
     "data": {
      "text/plain": [
       "3.5"
      ]
     },
     "execution_count": 49,
     "metadata": {},
     "output_type": "execute_result"
    }
   ],
   "source": [
    "findMedianSortedArrays_approach3([1,2,4], [3,5,6])"
   ]
  },
  {
   "cell_type": "code",
   "execution_count": null,
   "metadata": {},
   "outputs": [],
   "source": []
  }
 ],
 "metadata": {
  "kernelspec": {
   "display_name": "Python 3",
   "language": "python",
   "name": "python3"
  },
  "language_info": {
   "codemirror_mode": {
    "name": "ipython",
    "version": 3
   },
   "file_extension": ".py",
   "mimetype": "text/x-python",
   "name": "python",
   "nbconvert_exporter": "python",
   "pygments_lexer": "ipython3",
   "version": "3.8.8"
  }
 },
 "nbformat": 4,
 "nbformat_minor": 4
}
