{
 "cells": [
  {
   "cell_type": "markdown",
   "metadata": {},
   "source": [
    "https://leetcode.com/problems/median-of-two-sorted-arrays/"
   ]
  },
  {
   "cell_type": "markdown",
   "metadata": {},
   "source": [
    "Problem category : array,hard"
   ]
  },
  {
   "cell_type": "markdown",
   "metadata": {},
   "source": [
    "Insights : \n",
    "1) Take care of edge cases - ie 1 list is empty  \n",
    "2) take care of when you finish iterating through 1 list, the other list still has to be finished   \n",
    "3) No need for sorting, since each list is already sorted  "
   ]
  },
  {
   "cell_type": "code",
   "execution_count": 11,
   "metadata": {},
   "outputs": [],
   "source": [
    "\n",
    "def findMedianSortedArrays(self, nums1: List[int], nums2: List[int]) -> float:\n",
    "\n",
    "    def find_min_index(a, b):\n",
    "        if a<=b :\n",
    "            return 0\n",
    "        else:\n",
    "            return 1\n",
    "    len_array_1 = len(nums1)\n",
    "    len_array_2 = len(nums2)\n",
    "\n",
    "    i = 0\n",
    "    j = 0\n",
    "\n",
    "\n",
    "\n",
    "    combined_array = []\n",
    "\n",
    "\n",
    "    count = 0\n",
    "    i_end=False\n",
    "    j_end=False\n",
    "    if (len_array_1>0) and (len_array_2>0):\n",
    "        while (i<len_array_1) or (j<len_array_2):\n",
    "            count = count + 1\n",
    "\n",
    "            if (not i_end) and (not j_end):\n",
    "                low_elem_index = find_min_index(nums1[i], nums2[j])\n",
    "\n",
    "\n",
    "                if low_elem_index==0:\n",
    "                    combined_array.append(nums1[i])\n",
    "                    if (i+1)<len_array_1:\n",
    "                        i = i + 1\n",
    "                    elif (i+1)==len_array_1:\n",
    "                        i_end=True\n",
    "                    else:\n",
    "                        pass\n",
    "                else:\n",
    "                    combined_array.append(nums2[j])\n",
    "                    if (j+1)<len_array_2:\n",
    "                        j = j + 1\n",
    "                    elif (j+1)==len_array_2:\n",
    "                        j_end = True\n",
    "                    else:\n",
    "                        pass\n",
    "            else:\n",
    "                if i_end:\n",
    "                    if j_end:\n",
    "                        break\n",
    "                    else:\n",
    "                        combined_array.append(nums2[j])\n",
    "                        if (j+1)<len_array_2:\n",
    "                            j=j+1\n",
    "                        else:\n",
    "                            j_end = True\n",
    "                            break\n",
    "                if j_end:\n",
    "                    if i_end:\n",
    "                        break\n",
    "                    else:\n",
    "                        combined_array.append(nums1[i])\n",
    "                        if (i+1)<len_array_1:\n",
    "                            i=i+1\n",
    "                        else:\n",
    "                            i_end = True\n",
    "                            break\n",
    "    else:\n",
    "        if (len_array_1==0) and (len_array_2)==0:\n",
    "            return None\n",
    "        else:\n",
    "            if len_array_1==0:\n",
    "                combined_array = nums2\n",
    "            else:\n",
    "                combined_array = nums1\n",
    "\n",
    "\n",
    "\n",
    "    len_combined_array = len(combined_array)\n",
    "    if len_combined_array%2 == 1: # odd number\n",
    "\n",
    "        return combined_array[(int((len_combined_array+1)/2))-1]\n",
    "    else:\n",
    "        one_elem = combined_array[int((len_combined_array)/2)]\n",
    "        second_elem = combined_array[int((len_combined_array)/2) -1]\n",
    "        return (0.5*(second_elem + one_elem))"
   ]
  },
  {
   "cell_type": "code",
   "execution_count": 15,
   "metadata": {},
   "outputs": [],
   "source": [
    "nums1 = [1,3, 7, 8]\n",
    "nums2 = [2,4]"
   ]
  },
  {
   "cell_type": "code",
   "execution_count": 17,
   "metadata": {},
   "outputs": [],
   "source": [
    "## findMedianSortedArrays(nums1, nums2)"
   ]
  },
  {
   "cell_type": "code",
   "execution_count": 10,
   "metadata": {},
   "outputs": [
    {
     "data": {
      "text/plain": [
       "[1, 3]"
      ]
     },
     "execution_count": 10,
     "metadata": {},
     "output_type": "execute_result"
    }
   ],
   "source": []
  },
  {
   "cell_type": "code",
   "execution_count": null,
   "metadata": {},
   "outputs": [],
   "source": []
  }
 ],
 "metadata": {
  "kernelspec": {
   "display_name": "Python 3",
   "language": "python",
   "name": "python3"
  },
  "language_info": {
   "codemirror_mode": {
    "name": "ipython",
    "version": 3
   },
   "file_extension": ".py",
   "mimetype": "text/x-python",
   "name": "python",
   "nbconvert_exporter": "python",
   "pygments_lexer": "ipython3",
   "version": "3.6.4"
  }
 },
 "nbformat": 4,
 "nbformat_minor": 2
}
