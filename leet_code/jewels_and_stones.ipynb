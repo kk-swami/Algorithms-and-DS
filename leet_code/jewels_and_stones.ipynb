{
 "cells": [
  {
   "cell_type": "markdown",
   "id": "19e4fa43-4d3c-4e6f-8659-1327072e4ed0",
   "metadata": {},
   "source": [
    "https://leetcode.com/problems/jewels-and-stones/"
   ]
  },
  {
   "cell_type": "code",
   "execution_count": 7,
   "id": "b5578cb2-26c1-49dc-b3ca-bfcbdb7bf7ed",
   "metadata": {},
   "outputs": [],
   "source": [
    "from collections import Counter\n",
    "class Solution:\n",
    "    def numJewelsInStones(self, jewels: str, stones: str) -> int:\n",
    "        cnt = dict(Counter(stones))\n",
    "        count_jewels = 0\n",
    "        for key in cnt.keys():\n",
    "            if key in jewels:\n",
    "                count_jewels = count_jewels + cnt[key]\n",
    "        return count_jewels\n",
    "                "
   ]
  },
  {
   "cell_type": "code",
   "execution_count": 8,
   "id": "45106936-c7f2-4aec-9a61-0900b6a31c4e",
   "metadata": {},
   "outputs": [],
   "source": [
    "a = Solution()"
   ]
  },
  {
   "cell_type": "code",
   "execution_count": 10,
   "id": "e506b0ec-9eee-46b4-abea-d5baaaffc282",
   "metadata": {},
   "outputs": [
    {
     "data": {
      "text/plain": [
       "0"
      ]
     },
     "execution_count": 10,
     "metadata": {},
     "output_type": "execute_result"
    }
   ],
   "source": [
    "a.numJewelsInStones(\"z\", \"ZZ\")"
   ]
  },
  {
   "cell_type": "code",
   "execution_count": null,
   "id": "4e95f8a9-06a2-4c19-b492-3079173154f0",
   "metadata": {},
   "outputs": [],
   "source": []
  }
 ],
 "metadata": {
  "kernelspec": {
   "display_name": "Python 3",
   "language": "python",
   "name": "python3"
  },
  "language_info": {
   "codemirror_mode": {
    "name": "ipython",
    "version": 3
   },
   "file_extension": ".py",
   "mimetype": "text/x-python",
   "name": "python",
   "nbconvert_exporter": "python",
   "pygments_lexer": "ipython3",
   "version": "3.8.8"
  }
 },
 "nbformat": 4,
 "nbformat_minor": 5
}
