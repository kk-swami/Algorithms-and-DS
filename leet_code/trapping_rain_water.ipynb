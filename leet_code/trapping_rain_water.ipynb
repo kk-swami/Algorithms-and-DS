{
 "cells": [
  {
   "cell_type": "markdown",
   "id": "1eea7ab8-e8c0-436a-a14a-1d62d27b3de7",
   "metadata": {},
   "source": [
    "https://leetcode.com/problems/trapping-rain-water/"
   ]
  },
  {
   "cell_type": "markdown",
   "id": "321cd848-df6a-4c8a-995a-453d0ac0c9b8",
   "metadata": {},
   "source": [
    "Given n non-negative integers representing an elevation map where the width of each bar is 1, compute how much water it can trap after raining."
   ]
  },
  {
   "cell_type": "markdown",
   "id": "52f63ac9-ebb7-414a-8978-cd4158f21f9e",
   "metadata": {},
   "source": [
    "logic - \n",
    "1) For any height at position i, if height on i-1 and i+1 is > height at i, then it stores water - volume of water stored is is (min(height[i+1], height[i-1])-height[i]) *1\n",
    "2) For any height at position i, if height on one side > height[i] and height on another side is lesser than height[i] - it can still hold water. volume of water is (height which is higher - height[i])*1\n",
    "3) For any height at position i, if both heights surrounding it are lesser than height i, cannot store water\n",
    "\n",
    "You want to get stretches where height[i]< prev and next heights - \n",
    "two pointers - one for first index, one for second index\n",
    "\n",
    "First mark a 1 wherever this condition holds\n",
    "index 0 will always be a zero\n"
   ]
  },
  {
   "cell_type": "markdown",
   "id": "ee99e4de-5116-4170-9b74-720011949457",
   "metadata": {},
   "source": [
    "height = [0,1,0,2,1,0,1,3,2,1,2,1]\n",
    "will     [0,0,1,0,1,1,1,0,0,1,0,0]"
   ]
  },
  {
   "cell_type": "code",
   "execution_count": 49,
   "id": "c2df4990-d43f-43f9-988d-313d186593d1",
   "metadata": {},
   "outputs": [],
   "source": [
    "class Solution:\n",
    "    def trap(self, height) :\n",
    "        local_minimum_index = self.get_local_minimum(height)\n",
    "        change_points = self.get_change_points(local_minimum_index, height)\n",
    "        change_points_merged = self.get_change_points_merged(change_points, height)\n",
    "        if len(change_points_merged)==0:\n",
    "            volume = 0\n",
    "        else:\n",
    "            volume = self.get_volume(change_points_merged, height)\n",
    "        return volume\n",
    "        \n",
    "        \n",
    "    def get_volume(self,out_coord_merged, height):\n",
    "        volume = 0\n",
    "        for item in out_coord_merged:\n",
    "            volume = volume + self.compute_volume_2(item[0], item[1], height)\n",
    "        return volume\n",
    "        \n",
    "    def get_local_minimum(self, height):\n",
    "        \n",
    "        local_minimum_index = []\n",
    "        for it in range(1, len(height)-1):\n",
    "            if (height[it] <= height[it-1]) and (height[it] <= height[it+1]):\n",
    "                local_minimum_index.append(it)\n",
    "        ## print(\"local minimum\", local_minimum_index)\n",
    "        return local_minimum_index\n",
    "    \n",
    "    def get_change_points(self, local_minimum_index, height):\n",
    "        out_coord = []\n",
    "        for ind in local_minimum_index:\n",
    "            i = ind\n",
    "            while True:\n",
    "                if i >= 1:\n",
    "                    if height[i-1]>=height[i]:\n",
    "                        i = i-1\n",
    "                    else:\n",
    "                        break\n",
    "                else:\n",
    "                    break\n",
    "            j = ind\n",
    "            while True:\n",
    "                if j <= (len(height)-2):\n",
    "                    if height[j+1]>=height[j]:\n",
    "                        j = j+1\n",
    "                    else:\n",
    "                        break\n",
    "                else:\n",
    "                    break\n",
    "            \n",
    "            out_coord.append((i, j))\n",
    "        out_coord = list(set(out_coord))\n",
    "        out_coord.sort(key=lambda y: y[0])\n",
    "        return out_coord\n",
    "    \n",
    "    def get_change_points_merged(self, out_coord, height):\n",
    "        \n",
    "        if len(out_coord)==0:\n",
    "            return []\n",
    "        out_coord_merged = []\n",
    "        start_index = out_coord[0][0]\n",
    "        end_index = out_coord[0][1]\n",
    "        i = 0\n",
    "        while i < (len(out_coord)):\n",
    "            if i != (len(out_coord)-1):\n",
    "                if out_coord[i][1]==out_coord[i+1][0]:\n",
    "                    if (height[out_coord[i][1]] < height[start_index]) and (height[out_coord[i][1]] < height[out_coord[i+1][1]]):\n",
    "                        end_index = out_coord[i+1][1]\n",
    "                    else:\n",
    "                        out_coord_merged.append([start_index, end_index])\n",
    "                        start_index = out_coord[i+1][0]\n",
    "                        end_index = out_coord[i+1][1]\n",
    "\n",
    "\n",
    "                else:\n",
    "                    out_coord_merged.append([start_index, end_index])\n",
    "                    start_index = out_coord[i+1][0]\n",
    "                    end_index = out_coord[i+1][1]\n",
    "            else:\n",
    "                out_coord_merged.append([start_index, end_index])\n",
    "\n",
    "            i = i+1\n",
    "        return out_coord_merged\n",
    "\n",
    "        \n",
    "        \n",
    "    def compute_volume_2(self, start_index, end_index, height):\n",
    "        vol = 0\n",
    "        min_height = min(height[start_index], height[end_index])\n",
    "\n",
    "        for ind in range(start_index+1,end_index,1):\n",
    "            if min_height > height[ind]:\n",
    "                vol = vol + (min_height-height[ind])\n",
    "        return vol"
   ]
  },
  {
   "cell_type": "code",
   "execution_count": null,
   "id": "121382c6-8df8-42c3-a316-fcdabccbba33",
   "metadata": {},
   "outputs": [],
   "source": []
  },
  {
   "cell_type": "code",
   "execution_count": 52,
   "id": "60423fdb-47b7-429a-89a0-1a700d22594f",
   "metadata": {},
   "outputs": [],
   "source": [
    "height = [6,4,2,0,3,2,0,3,1,4,5,3,2,7,5,3,0,1,2,1,3,4,6,8,1,3]"
   ]
  },
  {
   "cell_type": "code",
   "execution_count": 40,
   "id": "f2273c58-d5ac-4a2c-b7e7-a0ec06bd357b",
   "metadata": {},
   "outputs": [],
   "source": [
    "a = Solution()"
   ]
  },
  {
   "cell_type": "code",
   "execution_count": null,
   "id": "13730ea0-521b-449f-ad45-4cee347f979c",
   "metadata": {},
   "outputs": [],
   "source": []
  },
  {
   "cell_type": "code",
   "execution_count": 53,
   "id": "3d25824c-3731-493c-96fe-fa70a6a1378e",
   "metadata": {},
   "outputs": [
    {
     "name": "stdout",
     "output_type": "stream",
     "text": [
      "local minimum [3, 6, 8, 12, 16, 19, 24]\n"
     ]
    },
    {
     "data": {
      "text/plain": [
       "[3, 6, 8, 12, 16, 19, 24]"
      ]
     },
     "execution_count": 53,
     "metadata": {},
     "output_type": "execute_result"
    }
   ],
   "source": [
    "a.get_local_minimum(height)"
   ]
  },
  {
   "cell_type": "code",
   "execution_count": 54,
   "id": "be72aab2-9f86-4ba7-a0b8-33cdbbfca382",
   "metadata": {},
   "outputs": [
    {
     "name": "stdout",
     "output_type": "stream",
     "text": [
      "local minimum [3, 6, 8, 12, 16, 19, 24]\n"
     ]
    }
   ],
   "source": [
    "change_point = a.get_change_points(a.get_local_minimum(height), height)"
   ]
  },
  {
   "cell_type": "code",
   "execution_count": 55,
   "id": "e801f6e1-22f0-4506-8c3c-ef06f7de2926",
   "metadata": {},
   "outputs": [
    {
     "name": "stdout",
     "output_type": "stream",
     "text": [
      "[(0, 4), (4, 7), (7, 10), (10, 13), (13, 18), (18, 23), (23, 25)]\n"
     ]
    }
   ],
   "source": [
    "print(change_point)"
   ]
  },
  {
   "cell_type": "code",
   "execution_count": 34,
   "id": "284a4902-b57a-4f5d-8402-1f5e6b723333",
   "metadata": {},
   "outputs": [
    {
     "data": {
      "text/plain": [
       "{(0, 3), (3, 6), (6, 8)}"
      ]
     },
     "execution_count": 34,
     "metadata": {},
     "output_type": "execute_result"
    }
   ],
   "source": [
    "set(change_point)"
   ]
  },
  {
   "cell_type": "code",
   "execution_count": 45,
   "id": "652498ab-592e-4159-aa45-b6a682e211be",
   "metadata": {},
   "outputs": [],
   "source": [
    "change_point_merged = a.get_change_points_merged(change_point, height)"
   ]
  },
  {
   "cell_type": "code",
   "execution_count": 44,
   "id": "9d03bd7f-5d86-4e14-9ff2-1c0ed383f937",
   "metadata": {},
   "outputs": [
    {
     "data": {
      "text/plain": [
       "[(0, 3), (3, 6), (6, 8)]"
      ]
     },
     "execution_count": 44,
     "metadata": {},
     "output_type": "execute_result"
    }
   ],
   "source": [
    "change_point"
   ]
  },
  {
   "cell_type": "code",
   "execution_count": 46,
   "id": "e477f802-bd77-4471-b5dc-4b0f62ca140b",
   "metadata": {},
   "outputs": [
    {
     "data": {
      "text/plain": [
       "[[0, 3], [3, 8]]"
      ]
     },
     "execution_count": 46,
     "metadata": {},
     "output_type": "execute_result"
    }
   ],
   "source": [
    "change_point_merged"
   ]
  },
  {
   "cell_type": "code",
   "execution_count": 51,
   "id": "ded0707d-2111-4ed5-acfa-b9bd2e429176",
   "metadata": {},
   "outputs": [
    {
     "name": "stdout",
     "output_type": "stream",
     "text": [
      "local minimum [2, 5, 9]\n"
     ]
    },
    {
     "data": {
      "text/plain": [
       "6"
      ]
     },
     "execution_count": 51,
     "metadata": {},
     "output_type": "execute_result"
    }
   ],
   "source": [
    "a.trap([0,1,0,2,1,0,1,3,2,1,2,1])"
   ]
  },
  {
   "cell_type": "code",
   "execution_count": 19,
   "id": "ef0c5bf2-b69a-4157-b5ad-459fc7a1373a",
   "metadata": {},
   "outputs": [
    {
     "data": {
      "text/plain": [
       "[]"
      ]
     },
     "execution_count": 19,
     "metadata": {},
     "output_type": "execute_result"
    }
   ],
   "source": [
    "list(range(start_index+1,end_index-1,1))"
   ]
  },
  {
   "cell_type": "code",
   "execution_count": 24,
   "id": "eb266aa2-00c5-43bf-a42e-e447ed3ac398",
   "metadata": {},
   "outputs": [
    {
     "data": {
      "text/plain": [
       "[2]"
      ]
     },
     "execution_count": 24,
     "metadata": {},
     "output_type": "execute_result"
    }
   ],
   "source": [
    "list(range(start_index+1, end_index))"
   ]
  },
  {
   "cell_type": "code",
   "execution_count": 140,
   "id": "f86032dc-79ee-4f90-aaeb-3ffc9c7e7088",
   "metadata": {},
   "outputs": [],
   "source": [
    "def compute_volume(start_index, end_index, height):\n",
    "    vol = 0\n",
    "    \n",
    "    for ind in range(start_index+1,end_index,1):\n",
    "        if height[ind]<height[ind-1]:\n",
    "\n",
    "            vol = vol + (height[ind-1]-height[ind])\n",
    "            prev_incremental_vol = (height[ind-1]-height[ind])\n",
    "        elif height[ind]<height[ind+1]:\n",
    "\n",
    "            vol = vol + (height[ind+1]-height[ind])   \n",
    "        else:##equality\n",
    "            if height[ind]==height[ind-1]:\n",
    "                vol = vol + prev_incremental_vol\n",
    "    return vol\n",
    "            \n",
    "        "
   ]
  },
  {
   "cell_type": "code",
   "execution_count": 141,
   "id": "9ab8972c-4757-4266-b773-b767aba2a9c1",
   "metadata": {},
   "outputs": [],
   "source": [
    "def compute_volume_2(start_index, end_index, height):\n",
    "    vol = 0\n",
    "    min_height = min(height[start_index], height[end_index])\n",
    "    \n",
    "    for ind in range(start_index+1,end_index,1):\n",
    "        print(ind, min_height-height[ind])\n",
    "        vol = vol + (min_height-height[ind])\n",
    "    return vol\n",
    "\n",
    "            "
   ]
  },
  {
   "cell_type": "raw",
   "id": "5caeae15-3706-4ac3-8b2b-639916dd257e",
   "metadata": {},
   "source": [
    "start_index = None\n",
    "end_index = None\n",
    "volume = 0\n",
    "height = [4,2,0,3,2,5]\n",
    "height = [0,1,0,2,1,0,1,3,2,1,2,1]\n",
    "for it in range(1, len(height)):\n",
    "    print(\"it\", it)\n",
    "    if (height[it]<height[it-1]) and (start_index is None):\n",
    "        start_index = it-1\n",
    "        print(\"inside first condition\")\n",
    "        print(\"start index\", start_index)\n",
    "        print(\"end index\", end_index)\n",
    "    if start_index is not None:\n",
    "        print(\"inside start_index not None\")\n",
    "        print(\"height[it]\", height[it])\n",
    "        print(\"height[start_index]\", height[start_index])\n",
    "        print(\"end_index\", end_index)\n",
    "        if (height[it]>=height[start_index]) and (end_index is None):\n",
    "            end_index = it\n",
    "            print(\"inside second condition\")\n",
    "            print(\"start index\", start_index)\n",
    "            print(\"end index\", end_index)\n",
    "            volume = volume + compute_volume(start_index, end_index, height)\n",
    "\n",
    "            start_index = None\n",
    "            end_index = None\n",
    "        \n",
    "\n",
    "\n",
    "        \n",
    "      "
   ]
  },
  {
   "cell_type": "code",
   "execution_count": 162,
   "id": "685db76e-7387-4166-9ca4-7ae3517917b3",
   "metadata": {},
   "outputs": [],
   "source": [
    "height = [4,2,0,3,2,5]\n",
    "height = [0]\n",
    "height = [5,4,1,2]\n",
    "height = [5,5,1,7,1,1,5,2,7,6]\n",
    "## height = [0,1,0,2,1,0,1,3,2,1,2,1]\n",
    "local_minimum_index = []\n",
    "for it in range(1, len(height)-1):\n",
    "    if ((height[it] <= height[it-1]) and (height[it]<height[it+1])) or ((height[it] < height[it-1]) and (height[it]<=height[it+1])):\n",
    "        local_minimum_index.append(it)\n"
   ]
  },
  {
   "cell_type": "code",
   "execution_count": 163,
   "id": "448f0240-b3e8-4a78-87a5-e8a22bedb717",
   "metadata": {},
   "outputs": [
    {
     "data": {
      "text/plain": [
       "[2, 4, 5, 7]"
      ]
     },
     "execution_count": 163,
     "metadata": {},
     "output_type": "execute_result"
    }
   ],
   "source": [
    "local_minimum_index"
   ]
  },
  {
   "cell_type": "code",
   "execution_count": 164,
   "id": "74b52d0c-69fe-4425-a4aa-a6ba2c4eb0c8",
   "metadata": {},
   "outputs": [],
   "source": [
    "out_coord = []\n",
    "for ind in local_minimum_index:\n",
    "    i = ind\n",
    "    while True:\n",
    "        if i >= 1:\n",
    "            if height[i-1]>height[i]:\n",
    "                i = i-1\n",
    "            else:\n",
    "                break\n",
    "        else:\n",
    "            break\n",
    "    j = ind\n",
    "    while True:\n",
    "        if j <= (len(height)-2):\n",
    "            if height[j+1]>height[j]:\n",
    "                j = j+1\n",
    "            else:\n",
    "                break\n",
    "        else:\n",
    "            break            \n",
    "    out_coord.append([i, ind, j])\n"
   ]
  },
  {
   "cell_type": "code",
   "execution_count": 165,
   "id": "820c5ad1-bf36-44b3-a89a-2eed2960f7c8",
   "metadata": {},
   "outputs": [
    {
     "data": {
      "text/plain": [
       "[[1, 2, 3], [3, 4, 4], [5, 5, 6], [6, 7, 8]]"
      ]
     },
     "execution_count": 165,
     "metadata": {},
     "output_type": "execute_result"
    }
   ],
   "source": [
    "out_coord"
   ]
  },
  {
   "cell_type": "code",
   "execution_count": 166,
   "id": "e3a08e8e-9874-40cf-8d02-c3b77b17d4ae",
   "metadata": {},
   "outputs": [
    {
     "name": "stdout",
     "output_type": "stream",
     "text": [
      "0\n",
      "1\n",
      "2\n",
      "3\n"
     ]
    }
   ],
   "source": [
    "out_coord_merged = []\n",
    "start_index = out_coord[0][0]\n",
    "end_index = out_coord[0][2]\n",
    "i = 0\n",
    "while i < (len(out_coord)):\n",
    "    print(i)\n",
    "    if i != (len(out_coord)-1):\n",
    "        if out_coord[i][2]==out_coord[i+1][0]:\n",
    "            if (height[out_coord[i][2]] < height[start_index]) and (height[out_coord[i][2]] < height[out_coord[i+1][2]]):\n",
    "                end_index = out_coord[i+1][2]\n",
    "            else:\n",
    "                out_coord_merged.append([start_index, end_index])\n",
    "                start_index = out_coord[i+1][0]\n",
    "                end_index = out_coord[i+1][2]\n",
    "\n",
    "\n",
    "        else:\n",
    "            out_coord_merged.append([start_index, end_index])\n",
    "            start_index = out_coord[i+1][0]\n",
    "            end_index = out_coord[i+1][2]\n",
    "    else:\n",
    "        out_coord_merged.append([start_index, end_index])\n",
    "        \n",
    "    i = i+1"
   ]
  },
  {
   "cell_type": "code",
   "execution_count": 167,
   "id": "6baa03a0-865b-4348-ab9e-123707847167",
   "metadata": {},
   "outputs": [
    {
     "data": {
      "text/plain": [
       "[[1, 3], [3, 4], [5, 6], [6, 8]]"
      ]
     },
     "execution_count": 167,
     "metadata": {},
     "output_type": "execute_result"
    }
   ],
   "source": [
    "out_coord_merged"
   ]
  },
  {
   "cell_type": "code",
   "execution_count": 168,
   "id": "eb9cffaa-fd3a-4a43-b88a-04fa7fb8951b",
   "metadata": {},
   "outputs": [
    {
     "name": "stdout",
     "output_type": "stream",
     "text": [
      "2 4\n",
      "7 3\n"
     ]
    }
   ],
   "source": [
    "volume = 0\n",
    "for item in out_coord_merged:\n",
    "    volume = volume + compute_volume_2(item[0], item[1], height)"
   ]
  },
  {
   "cell_type": "code",
   "execution_count": 154,
   "id": "38efad5b-4818-4b95-b860-bcbf6a1043f9",
   "metadata": {},
   "outputs": [
    {
     "data": {
      "text/plain": [
       "[[0, 3]]"
      ]
     },
     "execution_count": 154,
     "metadata": {},
     "output_type": "execute_result"
    }
   ],
   "source": [
    "out_coord_merged"
   ]
  },
  {
   "cell_type": "code",
   "execution_count": 169,
   "id": "07fa5c5b-2561-44e7-babc-bc486ba4a132",
   "metadata": {},
   "outputs": [
    {
     "data": {
      "text/plain": [
       "7"
      ]
     },
     "execution_count": 169,
     "metadata": {},
     "output_type": "execute_result"
    }
   ],
   "source": [
    "volume"
   ]
  },
  {
   "cell_type": "code",
   "execution_count": 155,
   "id": "12d243c4-d35e-425a-902d-cafb6de943c4",
   "metadata": {},
   "outputs": [
    {
     "name": "stdout",
     "output_type": "stream",
     "text": [
      "1 -2\n",
      "2 1\n",
      "-1\n"
     ]
    }
   ],
   "source": [
    "aa = compute_volume_2(0, 3, height)\n",
    "print(aa)"
   ]
  },
  {
   "cell_type": "code",
   "execution_count": 109,
   "id": "db4aa9a7-264d-4f1e-9bd0-36e645ccdbf5",
   "metadata": {},
   "outputs": [],
   "source": [
    "aa"
   ]
  },
  {
   "cell_type": "code",
   "execution_count": 79,
   "id": "98ca8af2-f5e0-4543-9961-52be0ee5c2d8",
   "metadata": {},
   "outputs": [
    {
     "name": "stdout",
     "output_type": "stream",
     "text": [
      "temp 3\n",
      "temp 7\n"
     ]
    }
   ],
   "source": [
    "out_coord_merged = []\n",
    "start_index = out_coord[0][0]\n",
    "for i in range(0, len(out_coord)):\n",
    "    \n",
    "    if i>0:\n",
    "        temp = out_coord[i][0]\n",
    "        print(\"temp\", temp)\n",
    "        if temp==out_coord[i-1][2]:\n",
    "            if (height[temp]<height[start]) and (height[temp]<height[out_coord[i][2]]):\n",
    "                print(\"here\")\n",
    "                end_index = out_coord[i][2]\n",
    "            else:\n",
    "                end_index = out_coord[i-1][2]\n",
    "                \n",
    "                out_coord_merged.append([start_index, out_coord[i][1], end_index])\n",
    "                start_index =  out_coord[i][0]\n",
    "        else:\n",
    "            end_index = out_coord[i-1][2]\n",
    "            out_coord_merged.append([start_index, out_coord[i][1], end_index])\n",
    "            start_index =  out_coord[i][0]\n",
    "\n",
    "out_coord_merged.append([start_index, out_coord[i][1], end_index])    "
   ]
  },
  {
   "cell_type": "code",
   "execution_count": 80,
   "id": "7124c37b-fcbf-4ed4-89d3-3cb4d09d842e",
   "metadata": {},
   "outputs": [
    {
     "data": {
      "text/plain": [
       "[[1, 2, 3], [3, 5, 7], [7, 9, 10]]"
      ]
     },
     "execution_count": 80,
     "metadata": {},
     "output_type": "execute_result"
    }
   ],
   "source": [
    "out_coord"
   ]
  },
  {
   "cell_type": "code",
   "execution_count": 81,
   "id": "04917a4a-9513-45e6-9730-3633d86a015d",
   "metadata": {},
   "outputs": [
    {
     "data": {
      "text/plain": [
       "[[1, 5, 3], [3, 9, 7], [7, 9, 7]]"
      ]
     },
     "execution_count": 81,
     "metadata": {},
     "output_type": "execute_result"
    }
   ],
   "source": [
    "out_coord_merged"
   ]
  },
  {
   "cell_type": "code",
   "execution_count": 70,
   "id": "997aa15f-f449-484c-a998-ba2d04d0b1c5",
   "metadata": {},
   "outputs": [
    {
     "data": {
      "text/plain": [
       "5"
      ]
     },
     "execution_count": 70,
     "metadata": {},
     "output_type": "execute_result"
    }
   ],
   "source": [
    "start = 0\n",
    "height[5]"
   ]
  },
  {
   "cell_type": "code",
   "execution_count": 60,
   "id": "50b83366-041f-4b0c-9af4-ad6172f4e4a1",
   "metadata": {},
   "outputs": [
    {
     "name": "stdout",
     "output_type": "stream",
     "text": [
      "inside compute volumne 3 5\n",
      "ind 4\n",
      "inside compute volumne first condition\n",
      "incremental height 1\n"
     ]
    },
    {
     "data": {
      "text/plain": [
       "1"
      ]
     },
     "execution_count": 60,
     "metadata": {},
     "output_type": "execute_result"
    }
   ],
   "source": [
    "compute_volume(3, 5, height)"
   ]
  },
  {
   "cell_type": "code",
   "execution_count": 16,
   "id": "3a478bd0-6c62-4f99-ba06-d5311d984d40",
   "metadata": {},
   "outputs": [],
   "source": [
    "compute_volume(start_index, end_index, height)"
   ]
  },
  {
   "cell_type": "code",
   "execution_count": 4,
   "id": "afef0e01-c126-4457-8dca-a7ab7ce36659",
   "metadata": {},
   "outputs": [
    {
     "data": {
      "text/plain": [
       "[0, 0, 1, 0, 1, 1, 0, 0, 1, 1, 0, 1]"
      ]
     },
     "execution_count": 4,
     "metadata": {},
     "output_type": "execute_result"
    }
   ],
   "source": [
    "fall_list"
   ]
  },
  {
   "cell_type": "code",
   "execution_count": 5,
   "id": "0334b46c-07d2-4683-87b1-18a15ab10382",
   "metadata": {},
   "outputs": [
    {
     "data": {
      "text/plain": [
       "[0, 1, 0, 1, 0, 0, 1, 1, 0, 0, 1, 0]"
      ]
     },
     "execution_count": 5,
     "metadata": {},
     "output_type": "execute_result"
    }
   ],
   "source": [
    "rise_list"
   ]
  },
  {
   "cell_type": "code",
   "execution_count": null,
   "id": "330721db-c16a-4ce6-93f7-6eab8bcacb03",
   "metadata": {},
   "outputs": [],
   "source": []
  }
 ],
 "metadata": {
  "kernelspec": {
   "display_name": "Python 3",
   "language": "python",
   "name": "python3"
  },
  "language_info": {
   "codemirror_mode": {
    "name": "ipython",
    "version": 3
   },
   "file_extension": ".py",
   "mimetype": "text/x-python",
   "name": "python",
   "nbconvert_exporter": "python",
   "pygments_lexer": "ipython3",
   "version": "3.8.8"
  }
 },
 "nbformat": 4,
 "nbformat_minor": 5
}
