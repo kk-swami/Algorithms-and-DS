{
 "cells": [
  {
   "cell_type": "markdown",
   "id": "2194d8da-1a4f-41dc-96c1-92ed333ac3f3",
   "metadata": {},
   "source": [
    "https://leetcode.com/problems/unique-email-addresses/\n",
    "\n",
    "\n",
    "Every valid email consists of a local name and a domain name, separated by the '@' sign. Besides lowercase letters, the email may contain one or more '.' or '+'.\n",
    "\n",
    "For example, in \"alice@leetcode.com\", \"alice\" is the local name, and \"leetcode.com\" is the domain name.\n",
    "If you add periods '.' between some characters in the local name part of an email address, mail sent there will be forwarded to the same address without dots in the local name. Note that this rule does not apply to domain names.\n",
    "\n",
    "For example, \"alice.z@leetcode.com\" and \"alicez@leetcode.com\" forward to the same email address.\n",
    "If you add a plus '+' in the local name, everything after the first plus sign will be ignored. This allows certain emails to be filtered. Note that this rule does not apply to domain names.\n",
    "\n",
    "For example, \"m.y+name@email.com\" will be forwarded to \"my@email.com\".\n",
    "It is possible to use both of these rules at the same time.\n",
    "\n",
    "Given an array of strings emails where we send one email to each emails[i], return the number of different addresses that actually receive mails."
   ]
  },
  {
   "cell_type": "code",
   "execution_count": 8,
   "id": "a43103e6-e8a4-420e-b6d3-3f2e49ea6e37",
   "metadata": {},
   "outputs": [],
   "source": [
    "from typing import List\n",
    "import re\n",
    "class Solution:\n",
    "    def numUniqueEmails(self, emails: List[str]) -> int:\n",
    "        outdict = {}\n",
    "        count = 0\n",
    "        for email in emails:\n",
    "            local_name, domain_name = str(email).split(\"@\")\n",
    "            if \".\" in local_name:\n",
    "                local_name = re.sub(\"\\.\",\"\", local_name)\n",
    "            if \"+\" in local_name:\n",
    "                local_name = str(local_name).split(\"+\")[0]\n",
    "            hash_key = local_name + \"##\" + domain_name\n",
    "            if hash_key in outdict.keys():\n",
    "                pass\n",
    "            else:\n",
    "                outdict[hash_key] = 1\n",
    "                count = count + 1\n",
    "        return count\n",
    "    "
   ]
  },
  {
   "cell_type": "code",
   "execution_count": 2,
   "id": "1ec98785-73d8-4df5-8f2f-03a1ba984b9e",
   "metadata": {},
   "outputs": [],
   "source": [
    "email = \"alice.z@leetcode.com\""
   ]
  },
  {
   "cell_type": "code",
   "execution_count": 3,
   "id": "4ac2d91c-8513-441f-a21d-07c2325f43e5",
   "metadata": {},
   "outputs": [],
   "source": [
    "local_name, domain_name = str(email).split(\"@\")"
   ]
  },
  {
   "cell_type": "code",
   "execution_count": 9,
   "id": "fbd940e9-4544-4d81-b90f-1f31627a0a05",
   "metadata": {},
   "outputs": [],
   "source": [
    "a = Solution()"
   ]
  },
  {
   "cell_type": "code",
   "execution_count": 10,
   "id": "8f9e2330-5199-4ded-933a-c36f73795d29",
   "metadata": {},
   "outputs": [],
   "source": [
    "emails = [\"test.email+alex@leetcode.com\",\"test.e.mail+bob.cathy@leetcode.com\",\"testemail+david@lee.tcode.com\"]"
   ]
  },
  {
   "cell_type": "code",
   "execution_count": 12,
   "id": "67900ba4-77f5-4661-8fb2-3178ff204f3a",
   "metadata": {},
   "outputs": [],
   "source": [
    "emails = [\"a@leetcode.com\",\"b@leetcode.com\",\"c@leetcode.com\"]"
   ]
  },
  {
   "cell_type": "code",
   "execution_count": 13,
   "id": "1b045048-85f2-4ec3-89ef-9e928e274f34",
   "metadata": {},
   "outputs": [
    {
     "data": {
      "text/plain": [
       "3"
      ]
     },
     "execution_count": 13,
     "metadata": {},
     "output_type": "execute_result"
    }
   ],
   "source": [
    "a.numUniqueEmails(emails)"
   ]
  },
  {
   "cell_type": "code",
   "execution_count": null,
   "id": "debdbf68-04cf-4235-a01d-088e1754ee66",
   "metadata": {},
   "outputs": [],
   "source": []
  }
 ],
 "metadata": {
  "kernelspec": {
   "display_name": "Python 3",
   "language": "python",
   "name": "python3"
  },
  "language_info": {
   "codemirror_mode": {
    "name": "ipython",
    "version": 3
   },
   "file_extension": ".py",
   "mimetype": "text/x-python",
   "name": "python",
   "nbconvert_exporter": "python",
   "pygments_lexer": "ipython3",
   "version": "3.8.8"
  }
 },
 "nbformat": 4,
 "nbformat_minor": 5
}
