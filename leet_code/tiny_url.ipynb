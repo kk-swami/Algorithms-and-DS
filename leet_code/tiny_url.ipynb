{
 "cells": [
  {
   "cell_type": "markdown",
   "id": "b459972f-2aa8-4204-acd8-5f76f131a8bf",
   "metadata": {},
   "source": [
    "https://leetcode.com/problems/encode-and-decode-tinyurl/\n"
   ]
  },
  {
   "cell_type": "raw",
   "id": "1700249e-e83e-4248-9291-ef3ebba1301d",
   "metadata": {},
   "source": [
    "Implement using d"
   ]
  },
  {
   "cell_type": "code",
   "execution_count": 12,
   "id": "7c56737b-8320-4d84-ab16-c9d4ee4b54fd",
   "metadata": {},
   "outputs": [],
   "source": [
    "class Codec:\n",
    "    \n",
    "    def __init__(self):\n",
    "        self.long_to_short = {}\n",
    "        self.short_to_long = {}\n",
    "        self.count = 0\n",
    "\n",
    "    def encode(self, longUrl: str) -> str:\n",
    "        \"\"\"Encodes a URL to a shortened URL.\n",
    "        \"\"\"\n",
    "        small_url = str(self.count)\n",
    "        if longUrl in self.long_to_short.keys():\n",
    "            return self.long_to_short[longUrl]\n",
    "        else:\n",
    "                            \n",
    "            self.long_to_short[longUrl] = small_url\n",
    "            self.short_to_long[small_url] = longUrl\n",
    "            self.count = self.count + 1\n",
    "        return small_url\n",
    "        \n",
    "        \n",
    "        \n",
    "\n",
    "    def decode(self, shortUrl: str) -> str:\n",
    "        \"\"\"Decodes a shortened URL to its original URL.\n",
    "        \"\"\"\n",
    "        return self.short_to_long[shortUrl]\n",
    "        "
   ]
  },
  {
   "cell_type": "code",
   "execution_count": 13,
   "id": "74667ebd-4bc2-4b03-a394-facc67b5e2c3",
   "metadata": {},
   "outputs": [],
   "source": [
    "url = \"https://leetcode.com/problems/design-tinyurl\""
   ]
  },
  {
   "cell_type": "code",
   "execution_count": 14,
   "id": "076737a5-3f88-4fee-8e12-80feb5ecc8ab",
   "metadata": {},
   "outputs": [],
   "source": [
    "a = Codec()"
   ]
  },
  {
   "cell_type": "code",
   "execution_count": 17,
   "id": "a885c55e-138e-436b-b92b-839c19b824c7",
   "metadata": {},
   "outputs": [
    {
     "data": {
      "text/plain": [
       "'https://leetcode.com/problems/design-tinyurl'"
      ]
     },
     "execution_count": 17,
     "metadata": {},
     "output_type": "execute_result"
    }
   ],
   "source": [
    "a.decode(a.encode(url))"
   ]
  },
  {
   "cell_type": "code",
   "execution_count": null,
   "id": "3c47e6ee-dba5-4491-b989-d015e1a011eb",
   "metadata": {},
   "outputs": [],
   "source": []
  }
 ],
 "metadata": {
  "kernelspec": {
   "display_name": "Python 3",
   "language": "python",
   "name": "python3"
  },
  "language_info": {
   "codemirror_mode": {
    "name": "ipython",
    "version": 3
   },
   "file_extension": ".py",
   "mimetype": "text/x-python",
   "name": "python",
   "nbconvert_exporter": "python",
   "pygments_lexer": "ipython3",
   "version": "3.8.8"
  }
 },
 "nbformat": 4,
 "nbformat_minor": 5
}
