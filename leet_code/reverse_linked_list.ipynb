{
 "cells": [
  {
   "cell_type": "markdown",
   "id": "9cb79972-fc65-458e-b201-0c48ac333caa",
   "metadata": {},
   "source": [
    "https://leetcode.com/problems/reverse-linked-list/"
   ]
  },
  {
   "cell_type": "code",
   "execution_count": 6,
   "id": "69e2a0c2-ea71-4ce3-8080-493151b411b0",
   "metadata": {},
   "outputs": [],
   "source": [
    "class ListNode:\n",
    "    def __init__(self, val=0, next=None):\n",
    "        self.val = val\n",
    "        self.next = next"
   ]
  },
  {
   "cell_type": "code",
   "execution_count": 25,
   "id": "dfdca551-d649-49cc-a53f-6cd560cb7a33",
   "metadata": {},
   "outputs": [],
   "source": [
    "def create_list_from_LL(ll : Optional[ListNode]):\n",
    "    output_list = []\n",
    "    while ll is not None:\n",
    "        output_list.append((ll.val))\n",
    "        ll = ll.next\n",
    "    return output_list"
   ]
  },
  {
   "cell_type": "code",
   "execution_count": 8,
   "id": "a5f6ec27-1f90-409e-beef-ea38f0ba4495",
   "metadata": {},
   "outputs": [],
   "source": [
    "def create_LL_from_array(List):  ## given a list, convert to LL in reverse order (first element becomes tail of LL, etc. The reason this is done is insertion at beginning of LL is O(1)\n",
    "## whereas insertion at end is O(n) for a single element. For n elements in array, insertion at beginning is O(n) (n*O(1)),\n",
    "## insertion at end is O(n**2)\n",
    "    head = None\n",
    "    for elem in List:\n",
    "        node = ListNode(val = elem)\n",
    "        node.next = head\n",
    "        head = node\n",
    "    return head\n",
    "        "
   ]
  },
  {
   "cell_type": "code",
   "execution_count": 29,
   "id": "34c2f1b1-5217-481f-bcf1-452b52e19f82",
   "metadata": {},
   "outputs": [],
   "source": [
    "from typing import Optional\n",
    "class Solution:\n",
    "    def reverseList(self, head: Optional[ListNode]) -> Optional[ListNode]:\n",
    "        a = create_list_from_LL(head)\n",
    "        output = create_LL_from_array([int(x) for x in a])\n",
    "        return output\n",
    "        "
   ]
  },
  {
   "cell_type": "code",
   "execution_count": 24,
   "id": "0223836b-743f-48ce-b4ba-865f81e4564a",
   "metadata": {},
   "outputs": [],
   "source": [
    "l1_list = [0,1,4,-2]"
   ]
  },
  {
   "cell_type": "code",
   "execution_count": 26,
   "id": "587fbde1-1e24-4b30-a03a-c611cf67f313",
   "metadata": {},
   "outputs": [],
   "source": [
    "ll = create_LL_from_array(l1_list)"
   ]
  },
  {
   "cell_type": "code",
   "execution_count": 27,
   "id": "97b6cf4d-5221-41b3-9d47-0648b8223411",
   "metadata": {},
   "outputs": [
    {
     "data": {
      "text/plain": [
       "-2"
      ]
     },
     "execution_count": 27,
     "metadata": {},
     "output_type": "execute_result"
    }
   ],
   "source": [
    "ll.val"
   ]
  },
  {
   "cell_type": "code",
   "execution_count": 28,
   "id": "e0412e15-5f4a-4f5d-9a28-b26b7d477104",
   "metadata": {},
   "outputs": [
    {
     "data": {
      "text/plain": [
       "[-2, 4, 1, 0]"
      ]
     },
     "execution_count": 28,
     "metadata": {},
     "output_type": "execute_result"
    }
   ],
   "source": [
    "create_list_from_LL(ll)"
   ]
  },
  {
   "cell_type": "code",
   "execution_count": 30,
   "id": "c1809864-39bd-4eac-ab0e-ecc8e44a83f1",
   "metadata": {},
   "outputs": [],
   "source": [
    "b = Solution()"
   ]
  },
  {
   "cell_type": "code",
   "execution_count": null,
   "id": "8466abfa-959b-451c-b529-a20bea6f8256",
   "metadata": {},
   "outputs": [],
   "source": []
  },
  {
   "cell_type": "code",
   "execution_count": 31,
   "id": "f5423c72-31a0-4878-9628-3f44b29cd4ff",
   "metadata": {},
   "outputs": [],
   "source": [
    "output = b.reverseList(ll)"
   ]
  },
  {
   "cell_type": "code",
   "execution_count": 32,
   "id": "dec72eaa-24f7-4e74-b944-de7170c0ebcf",
   "metadata": {},
   "outputs": [
    {
     "data": {
      "text/plain": [
       "0"
      ]
     },
     "execution_count": 32,
     "metadata": {},
     "output_type": "execute_result"
    }
   ],
   "source": [
    "output.val"
   ]
  },
  {
   "cell_type": "code",
   "execution_count": null,
   "id": "b7a2e5cf-370f-4376-9f2e-89bca1167791",
   "metadata": {},
   "outputs": [],
   "source": []
  }
 ],
 "metadata": {
  "kernelspec": {
   "display_name": "Python 3",
   "language": "python",
   "name": "python3"
  },
  "language_info": {
   "codemirror_mode": {
    "name": "ipython",
    "version": 3
   },
   "file_extension": ".py",
   "mimetype": "text/x-python",
   "name": "python",
   "nbconvert_exporter": "python",
   "pygments_lexer": "ipython3",
   "version": "3.8.8"
  }
 },
 "nbformat": 4,
 "nbformat_minor": 5
}
