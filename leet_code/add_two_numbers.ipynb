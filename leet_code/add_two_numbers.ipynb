{
 "cells": [
  {
   "cell_type": "markdown",
   "id": "38867ff4-e961-469c-b435-5038d18569d1",
   "metadata": {},
   "source": [
    "https://leetcode.com/problems/add-two-numbers/"
   ]
  },
  {
   "cell_type": "markdown",
   "id": "89c5e515-aa11-46ff-87af-0ca0389565c1",
   "metadata": {},
   "source": [
    "You are given two non-empty linked lists representing two non-negative integers. The digits are stored in reverse order, and each of their nodes contains a single digit. Add the two numbers and return the sum as a linked list.\n",
    "\n",
    "You may assume the two numbers do not contain any leading zero, except the number 0 itself."
   ]
  },
  {
   "cell_type": "code",
   "execution_count": 47,
   "id": "2b116715-4162-4612-a550-7203358ec436",
   "metadata": {},
   "outputs": [],
   "source": [
    "# Definition for singly-linked list.\n",
    "from typing import Optional\n",
    "class ListNode:\n",
    "    def __init__(self, val=0, next=None):\n",
    "        self.val = val\n",
    "        self.next = next\n",
    "        \n",
    "def create_LL_from_array(List): ## given a list, convert to LL in reverse order (first element becomes tail of LL, etc. The reason this is done is insertion at beginning of LL is O(1)\n",
    "## whereas insertion at end is O(n) for a single element. For n elements in array, insertion at beginning is O(n) (n*O(1)),\n",
    "## insertion at end is O(n**2)\n",
    "    root = None\n",
    "    for i in List:\n",
    "        temp = ListNode()\n",
    "        temp.val = i\n",
    "        temp.next = root\n",
    "        root = temp\n",
    "    return root\n",
    "\n",
    "def create_string_from_LL(ll : Optional[ListNode]):\n",
    "    ll_string = \"\"\n",
    "    while ll is not None:\n",
    "        ll_string = ll_string + str(ll.val)\n",
    "        ll = ll.next\n",
    "    return ll_string\n",
    "    \n",
    "    \n",
    "class Solution:\n",
    "    def addTwoNumbers(self, l1: Optional[ListNode], l2: Optional[ListNode]) -> Optional[ListNode]:\n",
    "        l1_string = \"\"\n",
    "        l2_string = \"\"\n",
    "        \n",
    "        ## iterating through first LL l1\n",
    "        \n",
    "        l1_string = create_string_from_LL(l1)\n",
    "        l2_string = create_string_from_LL(l2)\n",
    "        \n",
    "        print(\"l1_string\", l1_string)\n",
    "        print(\"l2_string\", l2_string)\n",
    "\n",
    "        ## add both after reversing\n",
    "        \n",
    "        l3_string = str(int(l1_string[::-1]) + int(l2_string[::-1]))\n",
    "        print(\"l3_string\", l3_string)\n",
    "        \n",
    "        ## create new LL from l3_string\n",
    "        l3_string_list = [int(x) for x in list(l3_string)]\n",
    "        output = create_LL_from_array(l3_string_list)\n",
    "        return output\n",
    "\n",
    "        \n",
    "\n",
    "            \n",
    "        \n",
    "        \n",
    "            \n",
    "            "
   ]
  },
  {
   "cell_type": "code",
   "execution_count": 22,
   "id": "a16038b0-0dc1-4ab0-8ce2-f4b87ce34c4b",
   "metadata": {},
   "outputs": [],
   "source": [
    "l1_list = [2,4,3]\n",
    "l2_list = [5,6,4]"
   ]
  },
  {
   "cell_type": "code",
   "execution_count": 23,
   "id": "3778a6c5-60bd-477f-9258-2273bd0cd77f",
   "metadata": {},
   "outputs": [],
   "source": [
    "l1_ll = create_LL_from_array(l1_list)\n",
    "l2_ll = create_LL_from_array(l2_list)"
   ]
  },
  {
   "cell_type": "code",
   "execution_count": 44,
   "id": "664d9ccf-66a1-4253-8ac6-823813d5bc47",
   "metadata": {},
   "outputs": [],
   "source": [
    "l1_string = create_string_from_LL(l1_ll)"
   ]
  },
  {
   "cell_type": "code",
   "execution_count": 45,
   "id": "40ae5b55-a5ca-49d5-986a-8f80c63e48c0",
   "metadata": {},
   "outputs": [
    {
     "data": {
      "text/plain": [
       "'342'"
      ]
     },
     "execution_count": 45,
     "metadata": {},
     "output_type": "execute_result"
    }
   ],
   "source": [
    "l1_string"
   ]
  },
  {
   "cell_type": "code",
   "execution_count": 48,
   "id": "1ef4cfe5-cd87-462c-9886-7c759c6079af",
   "metadata": {},
   "outputs": [],
   "source": [
    "a = Solution()"
   ]
  },
  {
   "cell_type": "code",
   "execution_count": 49,
   "id": "ef56fd34-b980-4c26-9f84-d24fdbd54490",
   "metadata": {},
   "outputs": [
    {
     "name": "stdout",
     "output_type": "stream",
     "text": [
      "l1_string 342\n",
      "l2_string 465\n",
      "l3_string 807\n"
     ]
    }
   ],
   "source": [
    "outp = a.addTwoNumbers(l1_ll, l2_ll)"
   ]
  },
  {
   "cell_type": "code",
   "execution_count": 53,
   "id": "2e6d554e-1221-4af6-aebb-e1b97a99a723",
   "metadata": {},
   "outputs": [],
   "source": [
    "outp.next.next.next"
   ]
  },
  {
   "cell_type": "code",
   "execution_count": 27,
   "id": "43b2606d-c908-4eed-bc6e-35a1f44f85d8",
   "metadata": {},
   "outputs": [
    {
     "data": {
      "text/plain": [
       "708"
      ]
     },
     "execution_count": 27,
     "metadata": {},
     "output_type": "execute_result"
    }
   ],
   "source": [
    "465+243"
   ]
  },
  {
   "cell_type": "code",
   "execution_count": null,
   "id": "bea05dcc-2f8e-4cb8-9dbd-0df7e80fd10e",
   "metadata": {},
   "outputs": [],
   "source": [
    "None"
   ]
  },
  {
   "cell_type": "code",
   "execution_count": 9,
   "id": "bb4e5244-f0bd-4d4d-a513-5ec41e0128af",
   "metadata": {},
   "outputs": [],
   "source": [
    "def make_list(elements):\n",
    "   head = ListNode(elements[0])\n",
    "   for element in elements[1:]:\n",
    "      ptr = head\n",
    "      while ptr.next:\n",
    "         ptr = ptr.next\n",
    "      ptr.next = ListNode(element)\n",
    "   return head\n",
    "def print_list(head):\n",
    "   ptr = head\n",
    "   print('[', end = \"\")\n",
    "   while ptr:\n",
    "      print(ptr.val, end = \", \")\n",
    "      ptr = ptr.next\n",
    "   print(']')"
   ]
  },
  {
   "cell_type": "code",
   "execution_count": 11,
   "id": "9d4bb835-3b6d-47bb-aa36-03b544629c44",
   "metadata": {},
   "outputs": [],
   "source": [
    "b = make_list([1,2,3])"
   ]
  },
  {
   "cell_type": "code",
   "execution_count": 12,
   "id": "f93dbe90-edcf-4b4e-98cb-cd223d57aaf6",
   "metadata": {},
   "outputs": [
    {
     "data": {
      "text/plain": [
       "<__main__.ListNode at 0x1adde5ff970>"
      ]
     },
     "execution_count": 12,
     "metadata": {},
     "output_type": "execute_result"
    }
   ],
   "source": [
    "b"
   ]
  },
  {
   "cell_type": "code",
   "execution_count": 17,
   "id": "ef1bd70f-0ee0-4b92-b1d3-cefe9e508352",
   "metadata": {},
   "outputs": [
    {
     "data": {
      "text/plain": [
       "<__main__.ListNode at 0x1adde5ff970>"
      ]
     },
     "execution_count": 17,
     "metadata": {},
     "output_type": "execute_result"
    }
   ],
   "source": [
    "b"
   ]
  },
  {
   "cell_type": "code",
   "execution_count": null,
   "id": "6fe4ea97-0420-4ded-9d4f-b2c1ac8d55eb",
   "metadata": {},
   "outputs": [],
   "source": [
    "val"
   ]
  },
  {
   "cell_type": "code",
   "execution_count": 18,
   "id": "4edc9a28-b4db-4c71-9c56-6022b2b2ef0a",
   "metadata": {},
   "outputs": [
    {
     "data": {
      "text/plain": [
       "'cba'"
      ]
     },
     "execution_count": 18,
     "metadata": {},
     "output_type": "execute_result"
    }
   ],
   "source": [
    "'abc'[::-1]"
   ]
  },
  {
   "cell_type": "code",
   "execution_count": null,
   "id": "b8d5f85d-7934-4ab4-8f54-e510075e7c1b",
   "metadata": {},
   "outputs": [],
   "source": []
  }
 ],
 "metadata": {
  "kernelspec": {
   "display_name": "Python 3",
   "language": "python",
   "name": "python3"
  },
  "language_info": {
   "codemirror_mode": {
    "name": "ipython",
    "version": 3
   },
   "file_extension": ".py",
   "mimetype": "text/x-python",
   "name": "python",
   "nbconvert_exporter": "python",
   "pygments_lexer": "ipython3",
   "version": "3.8.8"
  }
 },
 "nbformat": 4,
 "nbformat_minor": 5
}
