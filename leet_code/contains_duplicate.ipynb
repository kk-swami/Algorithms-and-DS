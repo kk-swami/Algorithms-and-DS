{
 "cells": [
  {
   "cell_type": "markdown",
   "id": "d1134318-02c9-4480-b9f0-dff5def4866b",
   "metadata": {},
   "source": [
    "https://leetcode.com/problems/contains-duplicate/"
   ]
  },
  {
   "cell_type": "markdown",
   "id": "56d42187-8912-4931-8d3b-094bfbf56bbb",
   "metadata": {},
   "source": [
    "Given an integer array nums, return true if any value appears at least twice in the array, and return false if every element is distinct."
   ]
  },
  {
   "cell_type": "code",
   "execution_count": 3,
   "id": "077ba40b-d8fe-493b-ae97-2d5c15e66755",
   "metadata": {},
   "outputs": [],
   "source": [
    "from typing import List\n",
    "class Solution:\n",
    "    def containsDuplicate(self, nums: List[int]) -> bool:\n",
    "        if len(nums)==len(set(nums)): ## not duplicate\n",
    "            return False\n",
    "        else:\n",
    "            return True\n",
    "        "
   ]
  },
  {
   "cell_type": "code",
   "execution_count": 4,
   "id": "c9791b27-9958-4da5-b927-7c02bb5a1ce8",
   "metadata": {},
   "outputs": [],
   "source": [
    "a = Solution()"
   ]
  },
  {
   "cell_type": "code",
   "execution_count": 5,
   "id": "d9c5bbdc-cbb5-41ae-87ee-610c9c16ba9c",
   "metadata": {},
   "outputs": [
    {
     "data": {
      "text/plain": [
       "False"
      ]
     },
     "execution_count": 5,
     "metadata": {},
     "output_type": "execute_result"
    }
   ],
   "source": [
    "a.containsDuplicate([1,1,2,2])"
   ]
  },
  {
   "cell_type": "code",
   "execution_count": null,
   "id": "f08e57f3-8109-4a31-9839-c155cdc9b837",
   "metadata": {},
   "outputs": [],
   "source": []
  }
 ],
 "metadata": {
  "kernelspec": {
   "display_name": "Python 3",
   "language": "python",
   "name": "python3"
  },
  "language_info": {
   "codemirror_mode": {
    "name": "ipython",
    "version": 3
   },
   "file_extension": ".py",
   "mimetype": "text/x-python",
   "name": "python",
   "nbconvert_exporter": "python",
   "pygments_lexer": "ipython3",
   "version": "3.8.8"
  }
 },
 "nbformat": 4,
 "nbformat_minor": 5
}
