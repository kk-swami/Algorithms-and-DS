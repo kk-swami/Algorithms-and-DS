{
 "cells": [
  {
   "cell_type": "markdown",
   "id": "1c2c3b1a-e889-4573-8d61-a1c76c76c4c8",
   "metadata": {},
   "source": [
    "https://leetcode.com/problems/next-permutation/\n",
    "\n",
    "A permutation of an array of integers is an arrangement of its members into a sequence or linear order.\n",
    "\n",
    "For example, for arr = [1,2,3], the following are considered permutations of arr: [1,2,3], [1,3,2], [3,1,2], [2,3,1].\n",
    "The next permutation of an array of integers is the next lexicographically greater permutation of its integer. More formally, if all the permutations of the array are sorted in one container according to their lexicographical order, then the next permutation of that array is the permutation that follows it in the sorted container. If such arrangement is not possible, the array must be rearranged as the lowest possible order (i.e., sorted in ascending order).\n",
    "\n",
    "For example, the next permutation of arr = [1,2,3] is [1,3,2].\n",
    "Similarly, the next permutation of arr = [2,3,1] is [3,1,2].\n",
    "While the next permutation of arr = [3,2,1] is [1,2,3] because [3,2,1] does not have a lexicographical larger rearrangement.\n",
    "Given an array of integers nums, find the next permutation of nums.\n",
    "\n",
    "The replacement must be in place and use only constant extra memory."
   ]
  },
  {
   "cell_type": "code",
   "execution_count": null,
   "id": "cd5ce182-a9eb-451d-a52c-5c998d2656a5",
   "metadata": {},
   "outputs": [],
   "source": [
    "from typing import List\n",
    "import numpy as np\n",
    "from collections import OrderedDict\n",
    "class Solution:\n",
    "    def nextPermutation(self, nums: List[int]) -> None:\n",
    "        \"\"\"\n",
    "        Do not return anything, modify nums in-place instead.\n",
    "        \"\"\"\n",
    "        \n",
    "        n = len(nums)\n",
    "        found = False\n",
    "        for i in range(0, n-1): ## iterating through in reverse\n",
    "\n",
    "            if nums[n-i-2] < nums[n-i-1]:  ## take closest value greater than x in n-i-1:, swap with n-i-2 and then sort n-i\n",
    "                ##int(\"yes\",n-i-2, nums[n-i-2], n-i-1, nums[n-i-1])\n",
    "                \n",
    "                br = False\n",
    "                for idx in range(n-i-1,n):\n",
    "                    print(\"idx\",idx)\n",
    "                    ## numbers expected to be sorted in descending order. so at any time value at idx <= value at n-i-2, break\n",
    "                    index, val = idx, nums[idx]\n",
    "                    if  (val <= nums[n-i-2]) :\n",
    "                        print(\"break here\")\n",
    "                        br = True\n",
    "                        break\n",
    "                if br==True:\n",
    "                    index = idx - 1\n",
    "                else:\n",
    "                    index = idx\n",
    "                val = nums[index]\n",
    "\n",
    "                temp = nums[n-i-2]\n",
    "                #       print(\"temp\", temp)\n",
    "               #        print(\"nums0\", nums)\n",
    "               #        print(number_dict)\n",
    "                nums[n-i-2] = val\n",
    "                        \n",
    "              #         print(\"nums1\",nums)\n",
    "                nums[index] = temp\n",
    "                        \n",
    "                        \n",
    "                found = True\n",
    "                ## we now sort everything from n-i-1 onwards in ascending order\n",
    "         ##     print(\"nums\", nums)\n",
    "                #       print(\" nums[:(n-i-1)]\",  nums[:(n-i-1)])\n",
    "                \n",
    "                  ##    nums = nums[:(n-i-1)] + sorted(nums[(n-i-1):]) - sorted like this not allowed as want in place\n",
    "                m = n-1\n",
    "                for b in range(n-i-1,n):\n",
    "                    if m<b:\n",
    "                        break\n",
    "                    temp = nums[b]\n",
    "                    nums[b]=nums[m]\n",
    "                    nums[m] = temp\n",
    "                    m = m-1\n",
    "                break\n",
    "            if found==True:\n",
    "                break\n",
    "        if found == False: ## list in descending order\n",
    "            for i in range(0,n):\n",
    "                j = n-i-1\n",
    "                ## print(i, j)\n",
    "                if j < i:\n",
    "                    break\n",
    "                temp = nums[j]\n",
    "                nums[j] = nums[i]\n",
    "                nums[i] = temp\n",
    "        return nums\n",
    "        \n",
    "        \n",
    "                        \n",
    "\n",
    "                \n",
    "            \n",
    "            "
   ]
  },
  {
   "cell_type": "code",
   "execution_count": 196,
   "id": "9859f050-0a44-4a25-ad7a-cd04b94700d2",
   "metadata": {},
   "outputs": [],
   "source": [
    "a = Solution()"
   ]
  },
  {
   "cell_type": "code",
   "execution_count": 174,
   "id": "dcc88c6b-5ba5-4377-8378-03a1b272016b",
   "metadata": {},
   "outputs": [],
   "source": [
    "nums = [16,27,25,23,25,16,12,9,1,2,7,20,19,23,16,0,6,22,16,11,8,27,9,2,20,2,13,7,25,29,12,12,18,29,27,13,16,1,22,9,3,21,29,14,7,8,14,5,0,23,16,1,20]"
   ]
  },
  {
   "cell_type": "code",
   "execution_count": 197,
   "id": "84d68f8c-fd53-4774-8fa6-2e9e5cd3839a",
   "metadata": {},
   "outputs": [
    {
     "name": "stdout",
     "output_type": "stream",
     "text": [
      "idx 2\n"
     ]
    },
    {
     "data": {
      "text/plain": [
       "[2, 3, 1]"
      ]
     },
     "execution_count": 197,
     "metadata": {},
     "output_type": "execute_result"
    }
   ],
   "source": [
    "a.nextPermutation(nums = [2,1,3])"
   ]
  },
  {
   "cell_type": "code",
   "execution_count": 193,
   "id": "02798739-25e6-47a6-aeb9-8aec563de4f0",
   "metadata": {},
   "outputs": [
    {
     "ename": "SyntaxError",
     "evalue": "invalid syntax (<ipython-input-193-9be28f1fc2b3>, line 1)",
     "output_type": "error",
     "traceback": [
      "\u001b[1;36m  File \u001b[1;32m\"<ipython-input-193-9be28f1fc2b3>\"\u001b[1;36m, line \u001b[1;32m1\u001b[0m\n\u001b[1;33m    1,3,2 -> 2,1,3\u001b[0m\n\u001b[1;37m          ^\u001b[0m\n\u001b[1;31mSyntaxError\u001b[0m\u001b[1;31m:\u001b[0m invalid syntax\n"
     ]
    }
   ],
   "source": [
    "1,3,2 -> 2,1,3"
   ]
  },
  {
   "cell_type": "code",
   "execution_count": null,
   "id": "9200cf0e-db35-48db-9e6a-edb61c9cd91a",
   "metadata": {},
   "outputs": [],
   "source": [
    "2,3,1 -> 3,1,2"
   ]
  },
  {
   "cell_type": "code",
   "execution_count": null,
   "id": "1a96268e-d244-45bb-8dd3-156dcbfffaaa",
   "metadata": {},
   "outputs": [],
   "source": [
    "[1,2,3,9,8,7]"
   ]
  },
  {
   "cell_type": "code",
   "execution_count": 48,
   "id": "3e271a14-0978-443f-b62a-d076517203a4",
   "metadata": {},
   "outputs": [],
   "source": [
    "a = [2,3,1] -> [3,1,2]"
   ]
  },
  {
   "cell_type": "code",
   "execution_count": 49,
   "id": "55d2ece8-9522-4e9d-b42a-7206a7242e0e",
   "metadata": {},
   "outputs": [
    {
     "data": {
      "text/plain": [
       "[3]"
      ]
     },
     "execution_count": 49,
     "metadata": {},
     "output_type": "execute_result"
    }
   ],
   "source": [
    "a[2:]"
   ]
  },
  {
   "cell_type": "code",
   "execution_count": 50,
   "id": "c2903b7c-9cd8-4f3f-ae4c-b6a3da3f1ffb",
   "metadata": {},
   "outputs": [],
   "source": [
    "a = [1,2,3,4]"
   ]
  },
  {
   "cell_type": "code",
   "execution_count": 51,
   "id": "a15a141f-5970-4d04-bcd3-8725641e9870",
   "metadata": {},
   "outputs": [
    {
     "data": {
      "text/plain": [
       "[2, 3, 4]"
      ]
     },
     "execution_count": 51,
     "metadata": {},
     "output_type": "execute_result"
    }
   ],
   "source": [
    "a[1:]"
   ]
  },
  {
   "cell_type": "code",
   "execution_count": 52,
   "id": "3a692423-7e34-4059-9e68-8de6a38040f5",
   "metadata": {},
   "outputs": [
    {
     "data": {
      "text/plain": [
       "[1, 2, 3]"
      ]
     },
     "execution_count": 52,
     "metadata": {},
     "output_type": "execute_result"
    }
   ],
   "source": [
    "a[:-1]"
   ]
  },
  {
   "cell_type": "code",
   "execution_count": null,
   "id": "dac4e31c-0c26-4ad6-b191-2add9afadeba",
   "metadata": {},
   "outputs": [],
   "source": [
    "[2,3,1]  -> [3,1,2]"
   ]
  },
  {
   "cell_type": "code",
   "execution_count": null,
   "id": "526639dd-ed09-4c14-ae93-cb01cdf5f47c",
   "metadata": {},
   "outputs": [],
   "source": [
    "[2,1,3] -> [2,3,1] -> [3,2,1]"
   ]
  },
  {
   "cell_type": "code",
   "execution_count": null,
   "id": "8089e972-9781-4407-bb6e-c265e47c41ee",
   "metadata": {},
   "outputs": [],
   "source": [
    "[4,1,3,3,2]"
   ]
  },
  {
   "cell_type": "code",
   "execution_count": null,
   "id": "63b42cca-8840-427e-ad0e-48808400031c",
   "metadata": {},
   "outputs": [],
   "source": [
    "[4,1,2,3]"
   ]
  },
  {
   "cell_type": "code",
   "execution_count": null,
   "id": "25af3971-0161-47b7-947d-ab10c5b7b3f5",
   "metadata": {},
   "outputs": [],
   "source": [
    "[4,2,3,1]"
   ]
  },
  {
   "cell_type": "code",
   "execution_count": null,
   "id": "66b6cba3-f50b-4c61-bfc6-4ad30eb4d405",
   "metadata": {},
   "outputs": [],
   "source": [
    "[1,2,3]"
   ]
  },
  {
   "cell_type": "code",
   "execution_count": null,
   "id": "7cde067e-34b1-40c2-b4f9-97d703a1756a",
   "metadata": {},
   "outputs": [],
   "source": [
    "[2,3,1] -> [3,1,2]"
   ]
  },
  {
   "cell_type": "code",
   "execution_count": null,
   "id": "3d3cd63b-0db4-4664-b0a3-9bb2d037fe8c",
   "metadata": {},
   "outputs": [],
   "source": [
    "[3,4,2,1]"
   ]
  },
  {
   "cell_type": "code",
   "execution_count": 85,
   "id": "5eb832f0-c2c2-41a4-b60b-89a4853ea7cd",
   "metadata": {},
   "outputs": [],
   "source": [
    "nums = [4,5,1,3,2]\n",
    "n = len(nums)"
   ]
  },
  {
   "cell_type": "code",
   "execution_count": 88,
   "id": "0448d5e8-ab44-45c4-807f-4abbf7256980",
   "metadata": {},
   "outputs": [],
   "source": [
    "i = 1"
   ]
  },
  {
   "cell_type": "code",
   "execution_count": 89,
   "id": "187c5358-aa41-49b0-bc5c-48e403ade12a",
   "metadata": {},
   "outputs": [
    {
     "data": {
      "text/plain": [
       "True"
      ]
     },
     "execution_count": 89,
     "metadata": {},
     "output_type": "execute_result"
    }
   ],
   "source": [
    "nums[n-i-2] < nums[n-i-1]"
   ]
  },
  {
   "cell_type": "code",
   "execution_count": 90,
   "id": "a610fdda-fcff-43e3-9ddc-96f54f051bbf",
   "metadata": {},
   "outputs": [
    {
     "data": {
      "text/plain": [
       "array([2, 1])"
      ]
     },
     "execution_count": 90,
     "metadata": {},
     "output_type": "execute_result"
    }
   ],
   "source": [
    "np.array(nums[n-i-1:])-nums[n-i-2]"
   ]
  },
  {
   "cell_type": "code",
   "execution_count": 100,
   "id": "2e7b4ffa-cb4b-4247-ada2-3295f69d5be3",
   "metadata": {},
   "outputs": [
    {
     "ename": "TypeError",
     "evalue": "int() argument must be a string, a bytes-like object or a number, not 'NoneType'",
     "output_type": "error",
     "traceback": [
      "\u001b[1;31m---------------------------------------------------------------------------\u001b[0m",
      "\u001b[1;31mTypeError\u001b[0m                                 Traceback (most recent call last)",
      "\u001b[1;32m<ipython-input-100-e5b5a57e93bb>\u001b[0m in \u001b[0;36m<module>\u001b[1;34m\u001b[0m\n\u001b[0;32m      1\u001b[0m \u001b[0mdiff\u001b[0m \u001b[1;33m=\u001b[0m \u001b[0mnp\u001b[0m\u001b[1;33m.\u001b[0m\u001b[0marray\u001b[0m\u001b[1;33m(\u001b[0m\u001b[0mnums\u001b[0m\u001b[1;33m[\u001b[0m\u001b[0mn\u001b[0m\u001b[1;33m-\u001b[0m\u001b[0mi\u001b[0m\u001b[1;33m-\u001b[0m\u001b[1;36m1\u001b[0m\u001b[1;33m:\u001b[0m\u001b[1;33m]\u001b[0m\u001b[1;33m)\u001b[0m\u001b[1;33m-\u001b[0m\u001b[0mnums\u001b[0m\u001b[1;33m[\u001b[0m\u001b[0mn\u001b[0m\u001b[1;33m-\u001b[0m\u001b[0mi\u001b[0m\u001b[1;33m-\u001b[0m\u001b[1;36m2\u001b[0m\u001b[1;33m]\u001b[0m\u001b[1;33m\u001b[0m\u001b[1;33m\u001b[0m\u001b[0m\n\u001b[1;32m----> 2\u001b[1;33m \u001b[0mdiff\u001b[0m\u001b[1;33m[\u001b[0m\u001b[0mdiff\u001b[0m\u001b[1;33m<\u001b[0m\u001b[1;36m0\u001b[0m\u001b[1;33m]\u001b[0m \u001b[1;33m=\u001b[0m \u001b[1;32mNone\u001b[0m\u001b[1;33m\u001b[0m\u001b[1;33m\u001b[0m\u001b[0m\n\u001b[0m",
      "\u001b[1;31mTypeError\u001b[0m: int() argument must be a string, a bytes-like object or a number, not 'NoneType'"
     ]
    }
   ],
   "source": [
    "diff = np.array(nums[n-i-1:])-nums[n-i-2]\n",
    "diff[diff<0] = None\n"
   ]
  },
  {
   "cell_type": "code",
   "execution_count": 98,
   "id": "b7e13dbf-b51a-466b-8fdc-331eaf700470",
   "metadata": {},
   "outputs": [
    {
     "data": {
      "text/plain": [
       "array([2, 1])"
      ]
     },
     "execution_count": 98,
     "metadata": {},
     "output_type": "execute_result"
    }
   ],
   "source": [
    "diff = np.array()"
   ]
  },
  {
   "cell_type": "code",
   "execution_count": 93,
   "id": "cbc6d89f-c8db-44b2-b583-d046e419de43",
   "metadata": {},
   "outputs": [
    {
     "data": {
      "text/plain": [
       "array([2, 1])"
      ]
     },
     "execution_count": 93,
     "metadata": {},
     "output_type": "execute_result"
    }
   ],
   "source": [
    "diff[diff>0]"
   ]
  },
  {
   "cell_type": "code",
   "execution_count": 97,
   "id": "acc50057-5085-477c-8569-35b472d49967",
   "metadata": {},
   "outputs": [],
   "source": [
    "u11 = np.array([2,1,0])"
   ]
  },
  {
   "cell_type": "code",
   "execution_count": 96,
   "id": "30b6c107-452f-4d98-8a47-4075c5c26cfa",
   "metadata": {},
   "outputs": [
    {
     "data": {
      "text/plain": [
       "array([0, 1, 0], dtype=int32)"
      ]
     },
     "execution_count": 96,
     "metadata": {},
     "output_type": "execute_result"
    }
   ],
   "source": [
    "u11 & (u11>0)"
   ]
  },
  {
   "cell_type": "code",
   "execution_count": 101,
   "id": "b799ff8d-5e92-4975-a850-eddda99fe039",
   "metadata": {},
   "outputs": [],
   "source": [
    "a = [3,2,1]"
   ]
  },
  {
   "cell_type": "code",
   "execution_count": 102,
   "id": "0e08389b-757c-4f48-b3e9-ea81d70daf34",
   "metadata": {},
   "outputs": [],
   "source": [
    "a.sort()"
   ]
  },
  {
   "cell_type": "code",
   "execution_count": 103,
   "id": "606b4ffa-96a1-4c77-a526-0c0d92f67c58",
   "metadata": {},
   "outputs": [
    {
     "data": {
      "text/plain": [
       "[1, 2, 3]"
      ]
     },
     "execution_count": 103,
     "metadata": {},
     "output_type": "execute_result"
    }
   ],
   "source": [
    "a"
   ]
  },
  {
   "cell_type": "code",
   "execution_count": null,
   "id": "60bcd1ed-2931-459b-a139-e07300061e3a",
   "metadata": {},
   "outputs": [],
   "source": []
  }
 ],
 "metadata": {
  "kernelspec": {
   "display_name": "Python 3",
   "language": "python",
   "name": "python3"
  },
  "language_info": {
   "codemirror_mode": {
    "name": "ipython",
    "version": 3
   },
   "file_extension": ".py",
   "mimetype": "text/x-python",
   "name": "python",
   "nbconvert_exporter": "python",
   "pygments_lexer": "ipython3",
   "version": "3.8.8"
  }
 },
 "nbformat": 4,
 "nbformat_minor": 5
}
