{
 "cells": [
  {
   "cell_type": "raw",
   "id": "8643a42f-c25a-4433-9d20-1aed1741f5f3",
   "metadata": {},
   "source": [
    "https://leetcode.com/problems/happy-number/"
   ]
  },
  {
   "cell_type": "code",
   "execution_count": 24,
   "id": "f3e2c058-f7fc-4d2b-9df2-336503787771",
   "metadata": {},
   "outputs": [],
   "source": [
    "class Solution:\n",
    "    def isHappy(self, n: int) -> bool:\n",
    "        outdict = {}\n",
    "        while True:\n",
    "            if n==1:\n",
    "                return True\n",
    "            else:\n",
    "                n = self.sum_square(n)\n",
    "                if n==1:\n",
    "                    return True\n",
    "                else:\n",
    "                    if n in outdict.keys():\n",
    "                        return False\n",
    "                    else:\n",
    "                        outdict[n] = 1\n",
    "        \n",
    "    def print_square(self, n:int, k):\n",
    "        count = 0\n",
    "        while count < k:\n",
    "            n = self.sum_square(n)\n",
    "            print(n)\n",
    "            count = count + 1\n",
    "            \n",
    "    def sum_square(self, n: int) -> int:\n",
    "        n_str = str(n)\n",
    "        s = 0\n",
    "        for i in range(0, len(n_str)):\n",
    "            s = s + int(n_str[i])**2\n",
    "        return s\n",
    "        "
   ]
  },
  {
   "cell_type": "code",
   "execution_count": 25,
   "id": "beb2532e-b0b1-4d61-978f-2a217d589693",
   "metadata": {},
   "outputs": [],
   "source": [
    "a = Solution()"
   ]
  },
  {
   "cell_type": "code",
   "execution_count": 29,
   "id": "2acd13be-7f9e-45dd-bfe5-7139200a715c",
   "metadata": {},
   "outputs": [
    {
     "data": {
      "text/plain": [
       "True"
      ]
     },
     "execution_count": 29,
     "metadata": {},
     "output_type": "execute_result"
    }
   ],
   "source": [
    "a.isHappy(19)"
   ]
  },
  {
   "cell_type": "code",
   "execution_count": 4,
   "id": "c5065fce-9de7-4ca9-8fcd-f332b55a8e57",
   "metadata": {},
   "outputs": [
    {
     "data": {
      "text/plain": [
       "'2'"
      ]
     },
     "execution_count": 4,
     "metadata": {},
     "output_type": "execute_result"
    }
   ],
   "source": [
    "str(n)[0]"
   ]
  },
  {
   "cell_type": "code",
   "execution_count": 5,
   "id": "af4e0560-ab5b-487f-b065-c11ce750682e",
   "metadata": {},
   "outputs": [
    {
     "data": {
      "text/plain": [
       "147"
      ]
     },
     "execution_count": 5,
     "metadata": {},
     "output_type": "execute_result"
    }
   ],
   "source": [
    "7**2 + 7**2 + 7**2"
   ]
  },
  {
   "cell_type": "code",
   "execution_count": 6,
   "id": "3168cfeb-e803-403d-b4ad-dc5e719641a7",
   "metadata": {},
   "outputs": [
    {
     "data": {
      "text/plain": [
       "66"
      ]
     },
     "execution_count": 6,
     "metadata": {},
     "output_type": "execute_result"
    }
   ],
   "source": [
    "1**2 + 4**2 + 7**2"
   ]
  },
  {
   "cell_type": "code",
   "execution_count": 7,
   "id": "5cd08ae2-5ca9-40aa-83e8-abba68da0228",
   "metadata": {},
   "outputs": [
    {
     "data": {
      "text/plain": [
       "72"
      ]
     },
     "execution_count": 7,
     "metadata": {},
     "output_type": "execute_result"
    }
   ],
   "source": [
    "6**2 + 6**2"
   ]
  },
  {
   "cell_type": "code",
   "execution_count": 8,
   "id": "f5f245c3-75cd-4c17-88dd-44c897d4659c",
   "metadata": {},
   "outputs": [
    {
     "data": {
      "text/plain": [
       "53"
      ]
     },
     "execution_count": 8,
     "metadata": {},
     "output_type": "execute_result"
    }
   ],
   "source": [
    "7**2 + 4"
   ]
  },
  {
   "cell_type": "code",
   "execution_count": 9,
   "id": "a08572c2-a118-4fe6-8741-493d29273109",
   "metadata": {},
   "outputs": [
    {
     "data": {
      "text/plain": [
       "34"
      ]
     },
     "execution_count": 9,
     "metadata": {},
     "output_type": "execute_result"
    }
   ],
   "source": [
    "5**2 + 3**2"
   ]
  },
  {
   "cell_type": "code",
   "execution_count": 10,
   "id": "e62884ab-8437-4bed-9e46-154ca3bc9490",
   "metadata": {},
   "outputs": [
    {
     "data": {
      "text/plain": [
       "25"
      ]
     },
     "execution_count": 10,
     "metadata": {},
     "output_type": "execute_result"
    }
   ],
   "source": [
    "3**2 + 4**2"
   ]
  },
  {
   "cell_type": "code",
   "execution_count": 21,
   "id": "a559a7b2-4032-4dd2-b13c-ddb82b51519f",
   "metadata": {},
   "outputs": [],
   "source": [
    "a = {}\n"
   ]
  },
  {
   "cell_type": "code",
   "execution_count": 22,
   "id": "0d5e53c7-eb33-4bdf-b00a-cfa898fd42f9",
   "metadata": {},
   "outputs": [],
   "source": [
    "a[2] = 1\n"
   ]
  },
  {
   "cell_type": "code",
   "execution_count": 23,
   "id": "b7197b96-6d89-48e4-b5f6-acdc6a40c5b7",
   "metadata": {},
   "outputs": [
    {
     "data": {
      "text/plain": [
       "{2: 1}"
      ]
     },
     "execution_count": 23,
     "metadata": {},
     "output_type": "execute_result"
    }
   ],
   "source": [
    "a"
   ]
  },
  {
   "cell_type": "code",
   "execution_count": null,
   "id": "dd62b604-8a8f-4440-9151-c102bccfcfa0",
   "metadata": {},
   "outputs": [],
   "source": []
  }
 ],
 "metadata": {
  "kernelspec": {
   "display_name": "Python 3",
   "language": "python",
   "name": "python3"
  },
  "language_info": {
   "codemirror_mode": {
    "name": "ipython",
    "version": 3
   },
   "file_extension": ".py",
   "mimetype": "text/x-python",
   "name": "python",
   "nbconvert_exporter": "python",
   "pygments_lexer": "ipython3",
   "version": "3.8.8"
  }
 },
 "nbformat": 4,
 "nbformat_minor": 5
}
