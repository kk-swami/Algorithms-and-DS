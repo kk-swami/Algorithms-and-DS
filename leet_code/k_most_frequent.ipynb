{
 "cells": [
  {
   "cell_type": "markdown",
   "id": "31c9e67c-082d-4f13-94fd-01e7531cc45f",
   "metadata": {},
   "source": [
    "https://leetcode.com/problems/top-k-frequent-elements/"
   ]
  },
  {
   "cell_type": "markdown",
   "id": "c6a8081a-79d5-4d17-a6a2-c4d0745fae87",
   "metadata": {},
   "source": [
    "Method : use Counter, and use most_common  - Counter is essentially a subclass of dict, so O(n)\n"
   ]
  },
  {
   "cell_type": "code",
   "execution_count": 1,
   "id": "03d38eaf-b033-4118-9236-3781fc830693",
   "metadata": {},
   "outputs": [],
   "source": [
    "from collections import Counter\n",
    "class Solution(object):\n",
    "    def topKFrequent(self, nums, k):\n",
    "        \"\"\"\n",
    "        :type nums: List[int]\n",
    "        :type k: int\n",
    "        :rtype: List[int]\n",
    "        \n",
    "        \"\"\"\n",
    "        a = Counter(nums).most_common()\n",
    "        most_common_k = [x[0] for x in a[0:k]]\n",
    "        return most_common_k"
   ]
  },
  {
   "cell_type": "code",
   "execution_count": 3,
   "id": "f4aedebf-605c-4719-b78e-9ee97cdbb0d6",
   "metadata": {},
   "outputs": [],
   "source": [
    "nums = [1,1,1,2,2,3]\n",
    "k = 2"
   ]
  },
  {
   "cell_type": "code",
   "execution_count": 4,
   "id": "08a27b96-0f29-4287-b495-800497a3d35a",
   "metadata": {},
   "outputs": [],
   "source": [
    "a = Solution()"
   ]
  },
  {
   "cell_type": "code",
   "execution_count": 5,
   "id": "0aae2645-e8ac-4c8e-81e8-94819fb22c94",
   "metadata": {},
   "outputs": [
    {
     "data": {
      "text/plain": [
       "[1, 2]"
      ]
     },
     "execution_count": 5,
     "metadata": {},
     "output_type": "execute_result"
    }
   ],
   "source": [
    "a.topKFrequent(nums, k)"
   ]
  },
  {
   "cell_type": "code",
   "execution_count": null,
   "id": "fe9c8fdd-ad7a-42d5-83a5-bf247a5810dd",
   "metadata": {},
   "outputs": [],
   "source": []
  }
 ],
 "metadata": {
  "kernelspec": {
   "display_name": "Python 3",
   "language": "python",
   "name": "python3"
  },
  "language_info": {
   "codemirror_mode": {
    "name": "ipython",
    "version": 3
   },
   "file_extension": ".py",
   "mimetype": "text/x-python",
   "name": "python",
   "nbconvert_exporter": "python",
   "pygments_lexer": "ipython3",
   "version": "3.8.8"
  }
 },
 "nbformat": 4,
 "nbformat_minor": 5
}
