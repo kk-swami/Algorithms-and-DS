{
 "cells": [
  {
   "cell_type": "markdown",
   "id": "98d42e2a-a015-4a39-b812-63cdddebcd60",
   "metadata": {},
   "source": [
    "https://leetcode.com/problems/kth-largest-element-in-an-array/\n",
    "\n",
    "Given an integer array nums and an integer k, return the kth largest element in the array.\n",
    "\n",
    "Note that it is the kth largest element in the sorted order, not the kth distinct element."
   ]
  },
  {
   "cell_type": "markdown",
   "id": "283b3ab0-aac7-4c76-84c3-05b99f3539df",
   "metadata": {},
   "source": [
    "Basic Solution. Still O(n) - Keep a list of max size k, keep shuffling list by comparing incoming value (bubble sort like ? ) such that the list is always in descending order\n",
    "space complexity is k, time complexity is n*k"
   ]
  },
  {
   "cell_type": "markdown",
   "id": "83e061a4-449c-400e-8aaf-afd7bf8e9094",
   "metadata": {},
   "source": [
    "Better solutions : heapify, quick sort like\n",
    "https://leetcode.com/problems/kth-largest-element-in-an-array/discuss/553723/Several-Python-solution-sharing.-w-Study-resource"
   ]
  },
  {
   "cell_type": "code",
   "execution_count": 111,
   "id": "32769d1d-de6a-463f-9966-68944a95780c",
   "metadata": {},
   "outputs": [],
   "source": [
    "from typing import List\n",
    "class Solution:\n",
    "    def findKthLargest(self, nums: List[int], k: int) -> int:\n",
    "        outlist = [] ## can have length k at max (monotonically decreasing stack ? )\n",
    "        for count, value in enumerate(nums):\n",
    "            ## print(count, value)\n",
    "            ## print(outlist)\n",
    "            if len(outlist)==0:\n",
    "                outlist.append(value)\n",
    "            else:\n",
    "                smallest_element = outlist[-1] ## as outlist is monotonically decreasing\n",
    "                ## print(\"smallest_element\", smallest_element)\n",
    "                ## print(\"value\", value)\n",
    "                ## print(\"len(outlist)\", k)\n",
    "                if (value<smallest_element) and (len(outlist)==k):\n",
    "                    ## print(\"pass\")\n",
    "                    pass\n",
    "                else: ## add element to list\n",
    "                    ## print(\"here\")\n",
    "                    if len(outlist)==k:\n",
    "                        outlist.pop() ## pop smallest element\n",
    "                    n = len(outlist)\n",
    "                    ## print(\"n\", n)\n",
    "                    i = n\n",
    "                    success = False\n",
    "                    while True:\n",
    "                        i = i - 1\n",
    "                        if i==-1:\n",
    "                            break\n",
    "                        ## print(\"i\", i)\n",
    "                        if outlist[i]>=value:\n",
    "                            outlist = outlist[0:(i+1)] + [value] + outlist[(i+1):]\n",
    "                            success = True\n",
    "                            break\n",
    "                    if success==False: ## even the 0th element is lesser than incoming element\n",
    "                        outlist = [value] + outlist\n",
    "                        \n",
    "        return outlist[-1]\n",
    "                \n",
    "            "
   ]
  },
  {
   "cell_type": "code",
   "execution_count": 112,
   "id": "781b9159-dafe-4c26-86f9-25c725040f8e",
   "metadata": {},
   "outputs": [],
   "source": [
    "a = Solution()"
   ]
  },
  {
   "cell_type": "code",
   "execution_count": 107,
   "id": "0920da3b-4006-4972-a892-cd912805b2f4",
   "metadata": {},
   "outputs": [],
   "source": [
    "nums =  [3,2,3,1,2,4,5,5,6]\n",
    "k = 4"
   ]
  },
  {
   "cell_type": "code",
   "execution_count": 113,
   "id": "e688fb2e-0bbd-42a6-99b4-3170439491b4",
   "metadata": {},
   "outputs": [
    {
     "data": {
      "text/plain": [
       "3"
      ]
     },
     "execution_count": 113,
     "metadata": {},
     "output_type": "execute_result"
    }
   ],
   "source": [
    "a.findKthLargest(nums,6)"
   ]
  },
  {
   "cell_type": "code",
   "execution_count": 51,
   "id": "c551936e-72c0-4150-bbf6-2530f2d43c4a",
   "metadata": {},
   "outputs": [
    {
     "data": {
      "text/plain": [
       "2"
      ]
     },
     "execution_count": 51,
     "metadata": {},
     "output_type": "execute_result"
    }
   ],
   "source": [
    "a[1]"
   ]
  },
  {
   "cell_type": "code",
   "execution_count": 50,
   "id": "f5f99f61-aa82-4025-b49e-f22d29719669",
   "metadata": {},
   "outputs": [
    {
     "data": {
      "text/plain": [
       "[1, 2]"
      ]
     },
     "execution_count": 50,
     "metadata": {},
     "output_type": "execute_result"
    }
   ],
   "source": [
    "a[0:2]"
   ]
  },
  {
   "cell_type": "code",
   "execution_count": null,
   "id": "7fc6c2cd-d46e-46a0-8535-79423f2cbdf3",
   "metadata": {},
   "outputs": [],
   "source": []
  }
 ],
 "metadata": {
  "kernelspec": {
   "display_name": "Python 3",
   "language": "python",
   "name": "python3"
  },
  "language_info": {
   "codemirror_mode": {
    "name": "ipython",
    "version": 3
   },
   "file_extension": ".py",
   "mimetype": "text/x-python",
   "name": "python",
   "nbconvert_exporter": "python",
   "pygments_lexer": "ipython3",
   "version": "3.8.8"
  }
 },
 "nbformat": 4,
 "nbformat_minor": 5
}
