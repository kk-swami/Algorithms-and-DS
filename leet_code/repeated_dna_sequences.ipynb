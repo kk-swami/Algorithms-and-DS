{
 "cells": [
  {
   "cell_type": "markdown",
   "id": "ae12202c-99ff-49c4-b85e-ab763811ecf5",
   "metadata": {},
   "source": [
    "https://leetcode.com/problems/repeated-dna-sequences/"
   ]
  },
  {
   "cell_type": "markdown",
   "id": "c6ae3e51-e9de-40f4-ac7c-77451e414764",
   "metadata": {},
   "source": [
    "The DNA sequence is composed of a series of nucleotides abbreviated as 'A', 'C', 'G', and 'T'.\n",
    "\n",
    "For example, \"ACGAATTCCG\" is a DNA sequence.\n",
    "When studying DNA, it is useful to identify repeated sequences within the DNA.\n",
    "\n",
    "Given a string s that represents a DNA sequence, return all the 10-letter-long sequences (substrings) that occur more than once in a DNA molecule. You may return the answer in any order."
   ]
  },
  {
   "cell_type": "code",
   "execution_count": 7,
   "id": "6ef4d88d-16d0-43bd-81e4-1158bd897994",
   "metadata": {},
   "outputs": [],
   "source": [
    "class Solution:\n",
    "    def findRepeatedDnaSequences(self, s: str):\n",
    "        outdict = {}\n",
    "        for i in range(0, len(s)):\n",
    "            curr_str = s[i:(i+10)]\n",
    "            if len(curr_str)==10:\n",
    "                if curr_str not in outdict.keys():\n",
    "                    outdict[curr_str] = 1\n",
    "                else:\n",
    "                    outdict[curr_str] = outdict[curr_str] + 1\n",
    "        count = 0\n",
    "        for key in outdict.keys():\n",
    "            if outdict[key]>0:\n",
    "                count = count + 1\n",
    "        return count\n",
    "            \n",
    "    "
   ]
  },
  {
   "cell_type": "code",
   "execution_count": 8,
   "id": "337ee8e6-198b-4e08-9543-e78cfd7ac9ec",
   "metadata": {},
   "outputs": [],
   "source": [
    "a = Solution()"
   ]
  },
  {
   "cell_type": "code",
   "execution_count": 6,
   "id": "cfe5069f-36fb-4801-8c3e-3d69adbfcbae",
   "metadata": {},
   "outputs": [
    {
     "data": {
      "text/plain": [
       "'c'"
      ]
     },
     "execution_count": 6,
     "metadata": {},
     "output_type": "execute_result"
    }
   ],
   "source": [
    "a.findRepeatedDnaSequences()"
   ]
  },
  {
   "cell_type": "code",
   "execution_count": null,
   "id": "c59176f2-b44c-4363-955d-747a5b0242f4",
   "metadata": {},
   "outputs": [],
   "source": []
  }
 ],
 "metadata": {
  "kernelspec": {
   "display_name": "Python 3",
   "language": "python",
   "name": "python3"
  },
  "language_info": {
   "codemirror_mode": {
    "name": "ipython",
    "version": 3
   },
   "file_extension": ".py",
   "mimetype": "text/x-python",
   "name": "python",
   "nbconvert_exporter": "python",
   "pygments_lexer": "ipython3",
   "version": "3.8.8"
  }
 },
 "nbformat": 4,
 "nbformat_minor": 5
}
