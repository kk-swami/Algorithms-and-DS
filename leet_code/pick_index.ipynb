{
 "cells": [
  {
   "cell_type": "markdown",
   "id": "1d2c38fe-7bdb-48b7-adcb-165cf1aea24c",
   "metadata": {},
   "source": [
    "https://leetcode.com/problems/random-pick-with-weight/"
   ]
  },
  {
   "cell_type": "markdown",
   "id": "93a2c611-7487-4dbe-b994-0af4893cadfc",
   "metadata": {},
   "source": [
    "You are given a 0-indexed array of positive integers w where w[i] describes the weight of the ith index.\n",
    "\n",
    "You need to implement the function pickIndex(), which randomly picks an index in the range [0, w.length - 1] (inclusive) and returns it. The probability of picking an index i is w[i] / sum(w).\n",
    "\n",
    "For example, if w = [1, 3], the probability of picking index 0 is 1 / (1 + 3) = 0.25 (i.e., 25%), and the probability of picking index 1 is 3 / (1 + 3) = 0.75 (i.e., 75%)."
   ]
  },
  {
   "cell_type": "code",
   "execution_count": 39,
   "id": "e30a69c3-1907-46f3-a467-a7e79ea53f25",
   "metadata": {},
   "outputs": [],
   "source": [
    "from typing import List\n",
    "import numpy as np\n",
    "import random\n",
    "import bisect\n",
    "\n",
    "def cdf(w):\n",
    "    weights = np.array(w)/np.sum(w)\n",
    "    cumsum = [weights[0]]\n",
    "    prev_cumsum = cumsum[0]\n",
    "    for i in range(1, len(weights)):\n",
    "        print(i, weights[i], weights[i-1], prev_cumsum)\n",
    "        curr_val = prev_cumsum + weights[i]\n",
    "        cumsum.append(curr_val)\n",
    "        prev_cumsum = curr_val\n",
    "    return cumsum\n",
    "    \n",
    "class Solution:\n",
    "\n",
    "    def __init__(self, w: List[int]):\n",
    "        self.cdf = cdf(w)\n",
    "        \n",
    "\n",
    "            \n",
    "    \n",
    "       \n",
    "    \n",
    "        \n",
    "        \n",
    "\n",
    "    def pickIndex(self) -> int:\n",
    "        prob = random.random()\n",
    "        return bisect.bisect(self.cdf, prob)"
   ]
  },
  {
   "cell_type": "code",
   "execution_count": 2,
   "id": "b878126d-6afd-4838-b42a-e13abb990c98",
   "metadata": {},
   "outputs": [],
   "source": [
    "w = [1,2,1]"
   ]
  },
  {
   "cell_type": "code",
   "execution_count": 4,
   "id": "a3bd47b4-d2df-4a47-93ee-3894be55f75d",
   "metadata": {},
   "outputs": [],
   "source": [
    "import numpy as np\n",
    "weights = np.array(w)/np.sum(w)"
   ]
  },
  {
   "cell_type": "code",
   "execution_count": 5,
   "id": "817660cb-0b5f-481c-bd60-1a0c923a86b7",
   "metadata": {},
   "outputs": [
    {
     "data": {
      "text/plain": [
       "array([0.25, 0.5 , 0.25])"
      ]
     },
     "execution_count": 5,
     "metadata": {},
     "output_type": "execute_result"
    }
   ],
   "source": [
    "weights"
   ]
  },
  {
   "cell_type": "code",
   "execution_count": 20,
   "id": "bcd3938e-735d-49c4-ad69-81065c97b9fa",
   "metadata": {},
   "outputs": [
    {
     "name": "stdout",
     "output_type": "stream",
     "text": [
      "1 0.5 0.25 0.25\n",
      "2 0.25 0.5 0.75\n"
     ]
    },
    {
     "data": {
      "text/plain": [
       "[0.25, 0.75, 1.0]"
      ]
     },
     "execution_count": 20,
     "metadata": {},
     "output_type": "execute_result"
    }
   ],
   "source": [
    "cdf(w)"
   ]
  },
  {
   "cell_type": "code",
   "execution_count": 21,
   "id": "7d1bf501-117b-4ad0-852b-cd3e7457e8a6",
   "metadata": {},
   "outputs": [],
   "source": [
    "weights = []\n",
    "sum_ = sum(w)\n",
    "for val in w:\n",
    "    if not weights:\n",
    "        weights.append(val/sum_)\n",
    "    else:\n",
    "        weights.append(weights[-1]+val/sum_)"
   ]
  },
  {
   "cell_type": "code",
   "execution_count": 22,
   "id": "4042a265-ff33-49ed-8489-5940594d62d6",
   "metadata": {},
   "outputs": [
    {
     "data": {
      "text/plain": [
       "[0.25, 0.75, 1.0]"
      ]
     },
     "execution_count": 22,
     "metadata": {},
     "output_type": "execute_result"
    }
   ],
   "source": [
    "weights"
   ]
  },
  {
   "cell_type": "code",
   "execution_count": 36,
   "id": "391c05a6-0b79-4340-9e11-b669b83c20e3",
   "metadata": {},
   "outputs": [],
   "source": [
    "prob = random.random()"
   ]
  },
  {
   "cell_type": "code",
   "execution_count": 37,
   "id": "ad635133-8d61-45f0-903d-b2a24f6ae2db",
   "metadata": {},
   "outputs": [
    {
     "data": {
      "text/plain": [
       "0.8750958905509035"
      ]
     },
     "execution_count": 37,
     "metadata": {},
     "output_type": "execute_result"
    }
   ],
   "source": [
    "prob"
   ]
  },
  {
   "cell_type": "code",
   "execution_count": 27,
   "id": "fefb4b9b-91fc-41bd-9423-06a05c5134ad",
   "metadata": {},
   "outputs": [],
   "source": [
    "import bisect\n"
   ]
  },
  {
   "cell_type": "code",
   "execution_count": 38,
   "id": "bf8b49e7-83f8-4cce-b1b4-c02ca8088024",
   "metadata": {},
   "outputs": [
    {
     "data": {
      "text/plain": [
       "2"
      ]
     },
     "execution_count": 38,
     "metadata": {},
     "output_type": "execute_result"
    }
   ],
   "source": [
    "bisect.bisect_left(weights, prob)"
   ]
  },
  {
   "cell_type": "code",
   "execution_count": 30,
   "id": "5054ed50-eb2c-4029-9832-562e1cd32f06",
   "metadata": {},
   "outputs": [
    {
     "data": {
      "text/plain": [
       "2"
      ]
     },
     "execution_count": 30,
     "metadata": {},
     "output_type": "execute_result"
    }
   ],
   "source": [
    "w[1]"
   ]
  },
  {
   "cell_type": "code",
   "execution_count": 31,
   "id": "2309ec89-3125-4294-8907-32cfef5e02db",
   "metadata": {},
   "outputs": [
    {
     "data": {
      "text/plain": [
       "[1, 2, 1]"
      ]
     },
     "execution_count": 31,
     "metadata": {},
     "output_type": "execute_result"
    }
   ],
   "source": [
    "w"
   ]
  },
  {
   "cell_type": "code",
   "execution_count": null,
   "id": "5c688bcc-3c0d-4cc6-a5ed-34a035bd332f",
   "metadata": {},
   "outputs": [],
   "source": []
  }
 ],
 "metadata": {
  "kernelspec": {
   "display_name": "Python 3",
   "language": "python",
   "name": "python3"
  },
  "language_info": {
   "codemirror_mode": {
    "name": "ipython",
    "version": 3
   },
   "file_extension": ".py",
   "mimetype": "text/x-python",
   "name": "python",
   "nbconvert_exporter": "python",
   "pygments_lexer": "ipython3",
   "version": "3.8.8"
  }
 },
 "nbformat": 4,
 "nbformat_minor": 5
}
