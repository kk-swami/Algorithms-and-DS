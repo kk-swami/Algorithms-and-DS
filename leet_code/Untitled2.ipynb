{
 "cells": [
  {
   "cell_type": "markdown",
   "id": "ed948252-bd4a-47f1-8584-81f91079b028",
   "metadata": {},
   "source": [
    "https://leetcode.com/problems/valid-parentheses/\n",
    "\n",
    "Given a string s containing just the characters '(', ')', '{', '}', '[' and ']', determine if the input string is valid.\n",
    "\n",
    "An input string is valid if:\n",
    "\n",
    "Open brackets must be closed by the same type of brackets.\n",
    "Open brackets must be closed in the correct order.\n"
   ]
  },
  {
   "cell_type": "code",
   "execution_count": 3,
   "id": "23785445-c4e8-4af9-a214-fe2be92d4642",
   "metadata": {},
   "outputs": [],
   "source": [
    "class Solution:\n",
    "    def isValid(self, s: str) -> bool:\n",
    "        mapping = { '}' : '{',\n",
    "                   ']' : '[',\n",
    "                    ')' : '('\n",
    "                }\n",
    "        stack = []\n",
    "        for i in l:\n",
    "            if i in mapping.keys():\n",
    "                if len(stack)>0 and stack[-1]==mapping[i]:\n",
    "                    stack.pop()\n",
    "                    continue\n",
    "                else:\n",
    "                    return False\n",
    "            else:\n",
    "                stack.append(i)\n",
    "        if len(stack)>0:\n",
    "            return False\n",
    "        else:\n",
    "            return True\n"
   ]
  },
  {
   "cell_type": "code",
   "execution_count": 4,
   "id": "f77682ef-a977-453f-8d8f-91f9f55c0070",
   "metadata": {},
   "outputs": [],
   "source": [
    "a = Solution()"
   ]
  },
  {
   "cell_type": "code",
   "execution_count": 9,
   "id": "2eff0131-e6ee-4b24-810f-531244c8c98a",
   "metadata": {},
   "outputs": [
    {
     "data": {
      "text/plain": [
       "True"
      ]
     },
     "execution_count": 9,
     "metadata": {},
     "output_type": "execute_result"
    }
   ],
   "source": [
    "a.isValid('(){}[]')"
   ]
  },
  {
   "cell_type": "code",
   "execution_count": 10,
   "id": "b7976a5e-bb1b-4332-94d8-1c83b1d4df89",
   "metadata": {},
   "outputs": [
    {
     "name": "stdout",
     "output_type": "stream",
     "text": [
      "b\n",
      "o\n",
      "o\n"
     ]
    }
   ],
   "source": [
    "for i in 'boo':\n",
    "    print(i)"
   ]
  },
  {
   "cell_type": "markdown",
   "id": "a48d5ddd-1ad9-4110-a6c3-2b5596942664",
   "metadata": {},
   "source": [
    "https://leetcode.com/problems/add-strings/"
   ]
  },
  {
   "cell_type": "code",
   "execution_count": 11,
   "id": "a1154863-fb80-4dfc-af39-cce59f602bb6",
   "metadata": {},
   "outputs": [
    {
     "data": {
      "text/plain": [
       "'00000'"
      ]
     },
     "execution_count": 11,
     "metadata": {},
     "output_type": "execute_result"
    }
   ],
   "source": [
    "'0'*5"
   ]
  },
  {
   "cell_type": "code",
   "execution_count": null,
   "id": "1b118ca3-647f-4a75-9c80-5406e5d88fe6",
   "metadata": {},
   "outputs": [],
   "source": []
  }
 ],
 "metadata": {
  "kernelspec": {
   "display_name": "Python 3",
   "language": "python",
   "name": "python3"
  },
  "language_info": {
   "codemirror_mode": {
    "name": "ipython",
    "version": 3
   },
   "file_extension": ".py",
   "mimetype": "text/x-python",
   "name": "python",
   "nbconvert_exporter": "python",
   "pygments_lexer": "ipython3",
   "version": "3.8.8"
  }
 },
 "nbformat": 4,
 "nbformat_minor": 5
}
