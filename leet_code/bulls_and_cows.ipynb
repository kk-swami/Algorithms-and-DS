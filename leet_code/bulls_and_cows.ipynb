{
 "cells": [
  {
   "cell_type": "markdown",
   "id": "e798fd1b-111c-48b6-9e3f-6352c3e6bc79",
   "metadata": {},
   "source": [
    "https://leetcode.com/problems/bulls-and-cows/"
   ]
  },
  {
   "cell_type": "markdown",
   "id": "2bd11e59-4957-46a9-9b77-4e7ef0bdb231",
   "metadata": {},
   "source": [
    "You are playing the Bulls and Cows game with your friend.\n",
    "\n",
    "You write down a secret number and ask your friend to guess what the number is. When your friend makes a guess, you provide a hint with the following info:\n",
    "\n",
    "The number of \"bulls\", which are digits in the guess that are in the correct position.\n",
    "The number of \"cows\", which are digits in the guess that are in your secret number but are located in the wrong position. Specifically, the non-bull digits in the guess that could be rearranged such that they become bulls.\n",
    "Given the secret number secret and your friend's guess guess, return the hint for your friend's guess.\n",
    "\n",
    "The hint should be formatted as \"xAyB\", where x is the number of bulls and y is the number of cows. Note that both secret and guess may contain duplicate digits."
   ]
  },
  {
   "cell_type": "markdown",
   "id": "d7232f44-983c-482b-a19c-4962d84cbd92",
   "metadata": {},
   "source": [
    "Solution : O(N), uses arrays and hash map\n",
    "Since we know secret length and guess length is same, first check positions of exact match to get bull count\n",
    "Remove those elements which are bulls if any from secret and guess\n",
    "Now for cows, use Counter and take intersection over secret and guess after removing bulls, sum over count"
   ]
  },
  {
   "cell_type": "code",
   "execution_count": 27,
   "id": "68751888-f7a1-4170-8faa-db80e3d54deb",
   "metadata": {},
   "outputs": [],
   "source": [
    "from collections import Counter\n",
    "class Solution:\n",
    "    def getHint(self, secret: str, guess: str) -> str:\n",
    "        number_of_bulls = 0\n",
    "        number_of_cows = 0\n",
    "        \n",
    "        bulls_index = []\n",
    "        for i in range(0, len(secret)):\n",
    "            if secret[i]==guess[i]:\n",
    "                bulls_index.append(i)\n",
    "        number_of_bulls = len(bulls_index)\n",
    "        \n",
    "        secret_list = list(secret)\n",
    "        guess_list = list(guess)\n",
    "        \n",
    "        secret_list_removing_bulls = []\n",
    "        guess_list_removing_bulls = []\n",
    "        \n",
    "        if number_of_bulls > 0:\n",
    "            for i in range(0, len(secret_list)):\n",
    "                if i not in bulls_index:\n",
    "                    secret_list_removing_bulls.append(secret_list[i])\n",
    "                    guess_list_removing_bulls.append(guess_list[i])\n",
    "        else:\n",
    "            secret_list_removing_bulls = secret_list\n",
    "            guess_list_removing_bulls = guess_list\n",
    "            \n",
    "        inter = Counter(secret_list_removing_bulls) & Counter(guess_list_removing_bulls)\n",
    "        number_of_cows = sum([x[1] for x in inter.most_common()])\n",
    "        return \"%dA%dB\"%(number_of_bulls, number_of_cows)\n",
    "            \n",
    "                    \n",
    "                \n",
    "                \n",
    "            "
   ]
  },
  {
   "cell_type": "code",
   "execution_count": 28,
   "id": "db96b80b-71ad-4d2b-a77f-85ed11149f64",
   "metadata": {},
   "outputs": [],
   "source": [
    "a = Solution()"
   ]
  },
  {
   "cell_type": "code",
   "execution_count": 29,
   "id": "cc816fa7-5352-4605-8d9d-55336170b2a1",
   "metadata": {},
   "outputs": [
    {
     "data": {
      "text/plain": [
       "'0A2B'"
      ]
     },
     "execution_count": 29,
     "metadata": {},
     "output_type": "execute_result"
    }
   ],
   "source": [
    "a.getHint(secret = \"12\", guess = \"21\")"
   ]
  },
  {
   "cell_type": "code",
   "execution_count": 6,
   "id": "cfc02e7c-32da-40d7-9198-f6344339e7be",
   "metadata": {},
   "outputs": [
    {
     "data": {
      "text/plain": [
       "'a'"
      ]
     },
     "execution_count": 6,
     "metadata": {},
     "output_type": "execute_result"
    }
   ],
   "source": [
    "\"\".join([\"a\"])"
   ]
  },
  {
   "cell_type": "code",
   "execution_count": 7,
   "id": "d6e2bc45-0f92-4831-b964-34296b5d7a73",
   "metadata": {},
   "outputs": [],
   "source": [
    "from collections import Counter"
   ]
  },
  {
   "cell_type": "code",
   "execution_count": 8,
   "id": "863d36a2-6f47-44e3-9a4e-f342031dd5b2",
   "metadata": {},
   "outputs": [
    {
     "data": {
      "text/plain": [
       "Counter({'1': 1, '2': 1, '3': 1})"
      ]
     },
     "execution_count": 8,
     "metadata": {},
     "output_type": "execute_result"
    }
   ],
   "source": [
    "Counter(\"123\")"
   ]
  },
  {
   "cell_type": "code",
   "execution_count": 9,
   "id": "f4bdb4ac-83bb-4a13-8adc-c9db5c3c8b23",
   "metadata": {},
   "outputs": [
    {
     "data": {
      "text/plain": [
       "Counter({'0': 1, '1': 2})"
      ]
     },
     "execution_count": 9,
     "metadata": {},
     "output_type": "execute_result"
    }
   ],
   "source": [
    "Counter(\"011\")"
   ]
  },
  {
   "cell_type": "code",
   "execution_count": 16,
   "id": "563a2436-3fe1-4164-b8bd-1b7e91a7b00d",
   "metadata": {},
   "outputs": [],
   "source": [
    "b = Counter([1,2,3]) & Counter([0,1,1])"
   ]
  },
  {
   "cell_type": "code",
   "execution_count": 18,
   "id": "725ee230-bad0-437e-accd-22b3e0c6ba0e",
   "metadata": {},
   "outputs": [
    {
     "data": {
      "text/plain": [
       "[(1, 1)]"
      ]
     },
     "execution_count": 18,
     "metadata": {},
     "output_type": "execute_result"
    }
   ],
   "source": [
    "list(b.most_common())"
   ]
  },
  {
   "cell_type": "code",
   "execution_count": 19,
   "id": "b551c993-6ad2-4eb6-bfe8-5207503a1896",
   "metadata": {},
   "outputs": [
    {
     "data": {
      "text/plain": [
       "1"
      ]
     },
     "execution_count": 19,
     "metadata": {},
     "output_type": "execute_result"
    }
   ],
   "source": [
    "sum([x[1] for x in b.most_common()])"
   ]
  },
  {
   "cell_type": "code",
   "execution_count": null,
   "id": "fe0828e2-17f0-46cd-b7ae-997bfe3c19a2",
   "metadata": {},
   "outputs": [],
   "source": []
  }
 ],
 "metadata": {
  "kernelspec": {
   "display_name": "Python 3",
   "language": "python",
   "name": "python3"
  },
  "language_info": {
   "codemirror_mode": {
    "name": "ipython",
    "version": 3
   },
   "file_extension": ".py",
   "mimetype": "text/x-python",
   "name": "python",
   "nbconvert_exporter": "python",
   "pygments_lexer": "ipython3",
   "version": "3.8.8"
  }
 },
 "nbformat": 4,
 "nbformat_minor": 5
}
