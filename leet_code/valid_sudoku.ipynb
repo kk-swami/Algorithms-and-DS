{
 "cells": [
  {
   "cell_type": "markdown",
   "id": "810a8aa5-d8b1-44cc-b36a-d70f960d59ed",
   "metadata": {},
   "source": [
    "https://leetcode.com/problems/valid-sudoku/"
   ]
  },
  {
   "cell_type": "code",
   "execution_count": 129,
   "id": "5f5fcabc-a0d1-4f06-ab39-17602610f906",
   "metadata": {},
   "outputs": [],
   "source": [
    "from collections import Counter\n",
    "class Solution:\n",
    "    def isValidSudoku(self, board) -> bool:\n",
    "        self.create_board(board)\n",
    "        for key in self.board.keys():\n",
    "            slic = self.board[key]## either row wise, column wise or block wise\n",
    "            for sk in slic.keys():\n",
    "                if len(slic[sk])==0:\n",
    "                    continue\n",
    "                if Counter(slic[sk]).most_common()[0][1] > 1:\n",
    "                    return False\n",
    "                if max(slic[sk])>9:\n",
    "                    return False\n",
    "                if min(slic[sk])<1:\n",
    "                    return False\n",
    "        return True\n",
    "                    \n",
    "\n",
    "        \n",
    "    def get_block_assignment(self):\n",
    "        block_assignment = []\n",
    "        for i in range(0,9):\n",
    "            block_assignment.append([0]*9)\n",
    "        for i in range(0,9):\n",
    "            for j in range(0,9):\n",
    "                if (i<=2):\n",
    "                    if (j<=2):\n",
    "                        block_assignment[i][j] = 0\n",
    "                    if (j >2) and (j<=5):\n",
    "                        block_assignment[i][j] = 1\n",
    "                    if (j >=6) and (j<=8):\n",
    "                        block_assignment[i][j] = 2\n",
    "                if (i>2) and (i<=5):\n",
    "                    if (j<=2):\n",
    "                        block_assignment[i][j] = 3\n",
    "                    if (j >2) and (j<=5):\n",
    "                        block_assignment[i][j] = 4\n",
    "                    if (j >=6) and (j<=8):\n",
    "                        block_assignment[i][j] = 5                \n",
    "                if (i>=6) and (i<=8):\n",
    "                    if (j<=2):\n",
    "                        block_assignment[i][j] = 6\n",
    "                    if (j >2) and (j<=5):\n",
    "                        block_assignment[i][j] = 7\n",
    "                    if (j >=6) and (j<=8):\n",
    "                        block_assignment[i][j] = 8\n",
    "        self.block_assignment = block_assignment\n",
    "        \n",
    "    def create_board(self, board):\n",
    "        self.get_block_assignment()\n",
    "        row_wise = {}\n",
    "        col_wise = {}\n",
    "        block_wise = {}\n",
    "        for row_index in range(0, len(board)):\n",
    "            for col_index in range(0, len(board)):\n",
    "                if row_index not in row_wise.keys():\n",
    "                    row_wise[row_index] = []\n",
    "                if board[row_index][col_index] != '.':\n",
    "                    row_wise[row_index].append(int(board[row_index][col_index]))\n",
    "\n",
    "                if col_index not in col_wise.keys():    \n",
    "                    col_wise[col_index] = []\n",
    "                if board[row_index][col_index] != '.':\n",
    "                    col_wise[col_index].append(int(board[row_index][col_index]))\n",
    "                    \n",
    "\n",
    "                    \n",
    "                block = self.block_assignment[row_index][col_index]\n",
    "                if block not in block_wise.keys():\n",
    "                    block_wise[block] = []\n",
    "                    \n",
    "                if board[row_index][col_index] != '.':\n",
    "                    block_wise[block].append(int(board[row_index][col_index]))\n",
    "\n",
    "                    \n",
    "\n",
    "\n",
    "        self.board = {}\n",
    "        self.board['row_wise'] = row_wise\n",
    "        self.board['col_wise'] = col_wise\n",
    "        self.board['block_wise'] = block_wise\n",
    "        \n",
    "            "
   ]
  },
  {
   "cell_type": "code",
   "execution_count": 117,
   "id": "e29ed5e6-6943-43ae-aa00-3ca828d16fb0",
   "metadata": {},
   "outputs": [],
   "source": [
    " board = [[\"5\",\"3\",\".\",\".\",\"7\",\".\",\".\",\".\",\".\"]\n",
    ",[\"6\",\".\",\".\",\"1\",\"9\",\"5\",\".\",\".\",\".\"]\n",
    ",[\".\",\"9\",\"8\",\".\",\".\",\".\",\".\",\"6\",\".\"]\n",
    ",[\"8\",\".\",\".\",\".\",\"6\",\".\",\".\",\".\",\"3\"]\n",
    ",[\"4\",\".\",\".\",\"8\",\".\",\"3\",\".\",\".\",\"1\"]\n",
    ",[\"7\",\".\",\".\",\".\",\"2\",\".\",\".\",\".\",\"6\"]\n",
    ",[\".\",\"6\",\".\",\".\",\".\",\".\",\"2\",\"8\",\".\"]\n",
    ",[\".\",\".\",\".\",\"4\",\"1\",\"9\",\".\",\".\",\"5\"]\n",
    ",[\".\",\".\",\".\",\".\",\"8\",\".\",\".\",\"7\",\"9\"]]"
   ]
  },
  {
   "cell_type": "code",
   "execution_count": 130,
   "id": "86bf10b8-9aef-4406-a443-4f75f17d0fc0",
   "metadata": {},
   "outputs": [],
   "source": [
    "a = Solution()"
   ]
  },
  {
   "cell_type": "code",
   "execution_count": 131,
   "id": "f9db0fb9-51a8-41d7-85f5-2d958ab13fb0",
   "metadata": {},
   "outputs": [
    {
     "data": {
      "text/plain": [
       "True"
      ]
     },
     "execution_count": 131,
     "metadata": {},
     "output_type": "execute_result"
    }
   ],
   "source": [
    "a.isValidSudoku(board)"
   ]
  },
  {
   "cell_type": "code",
   "execution_count": 132,
   "id": "e3be3e8f-8f7f-411b-93c7-f0d14484a065",
   "metadata": {},
   "outputs": [
    {
     "data": {
      "text/plain": [
       "[['.', '.', '.', '.', '.', '.', '.', '.', '.'],\n",
       " ['.', '.', '.', '.', '.', '.', '.', '.', '.'],\n",
       " ['.', '.', '.', '.', '.', '.', '.', '.', '.'],\n",
       " ['.', '.', '.', '.', '.', '.', '.', '.', '.'],\n",
       " ['.', '.', '.', '.', '.', '.', '.', '.', '.'],\n",
       " ['.', '.', '.', '.', '.', '.', '.', '.', '.'],\n",
       " ['.', '.', '.', '.', '.', '.', '.', '.', '.'],\n",
       " ['.', '.', '.', '.', '.', '.', '.', '.', '.'],\n",
       " ['.', '.', '.', '.', '.', '.', '.', '.', '.']]"
      ]
     },
     "execution_count": 132,
     "metadata": {},
     "output_type": "execute_result"
    }
   ],
   "source": [
    "board"
   ]
  },
  {
   "cell_type": "code",
   "execution_count": 109,
   "id": "8d8bd9b3-ca85-48b8-86df-c02fe18d645b",
   "metadata": {},
   "outputs": [
    {
     "data": {
      "text/plain": [
       "{'row_wise': {0: [3, 7],\n",
       "  1: [1, 9, 5],\n",
       "  2: [9, 8, 6],\n",
       "  3: [6, 3],\n",
       "  4: [8, 3, 1],\n",
       "  5: [2, 6],\n",
       "  6: [6, 2, 8],\n",
       "  7: [4, 1, 9, 5],\n",
       "  8: [8, 7, 9]},\n",
       " 'col_wise': {0: [6, 8, 4, 7],\n",
       "  1: [9, 6],\n",
       "  2: [8],\n",
       "  3: [1, 8, 4],\n",
       "  4: [9, 6, 2, 1, 8],\n",
       "  5: [5, 3, 9],\n",
       "  6: [2],\n",
       "  7: [6, 8, 7],\n",
       "  8: [3, 1, 6, 5, 9]},\n",
       " 'block_wise': {0: [3, 6, 9, 8],\n",
       "  1: [7, 1, 9, 5],\n",
       "  2: [6],\n",
       "  3: [4, 7],\n",
       "  4: [6, 8, 3, 2],\n",
       "  5: [3, 1, 6],\n",
       "  6: [6],\n",
       "  7: [4, 1, 9, 8],\n",
       "  8: [8, 5, 7, 9]}}"
      ]
     },
     "execution_count": 109,
     "metadata": {},
     "output_type": "execute_result"
    }
   ],
   "source": [
    "d"
   ]
  },
  {
   "cell_type": "code",
   "execution_count": 32,
   "id": "32d9bd2e-6e1f-4ff2-8b63-e049f744c2d5",
   "metadata": {},
   "outputs": [],
   "source": [
    "from collections import Counter\n",
    "i = 0\n",
    "row_count = Counter(d[i].values())"
   ]
  },
  {
   "cell_type": "code",
   "execution_count": 82,
   "id": "24a5890b-bb60-474d-b4f3-c80236e28ff3",
   "metadata": {},
   "outputs": [
    {
     "data": {
      "text/plain": [
       "1"
      ]
     },
     "execution_count": 82,
     "metadata": {},
     "output_type": "execute_result"
    }
   ],
   "source": [
    "Counter(d['row_wise'][0]).most_common()[0][1]"
   ]
  },
  {
   "cell_type": "code",
   "execution_count": 34,
   "id": "901f5927-d546-4803-b0b8-d3f4c32ca83c",
   "metadata": {},
   "outputs": [
    {
     "data": {
      "text/plain": [
       "Counter({'5': 1, '3': 1, '7': 1})"
      ]
     },
     "execution_count": 34,
     "metadata": {},
     "output_type": "execute_result"
    }
   ],
   "source": [
    "row_count"
   ]
  },
  {
   "cell_type": "code",
   "execution_count": 78,
   "id": "79bcfeba-9850-462e-b7b6-361866042b1b",
   "metadata": {},
   "outputs": [
    {
     "data": {
      "text/plain": [
       "['3', '7']"
      ]
     },
     "execution_count": 78,
     "metadata": {},
     "output_type": "execute_result"
    }
   ],
   "source": [
    "d['row_wise'][0]"
   ]
  },
  {
   "cell_type": "code",
   "execution_count": 48,
   "id": "7c169522-be2d-4abc-b7cb-49d488edb0bf",
   "metadata": {},
   "outputs": [],
   "source": [
    "import numpy as np"
   ]
  },
  {
   "cell_type": "code",
   "execution_count": 50,
   "id": "e8e92cdb-3548-43ef-9a87-eee5a49aef27",
   "metadata": {},
   "outputs": [
    {
     "ename": "ValueError",
     "evalue": "invalid literal for int() with base 10: '.'",
     "output_type": "error",
     "traceback": [
      "\u001b[1;31m---------------------------------------------------------------------------\u001b[0m",
      "\u001b[1;31mValueError\u001b[0m                                Traceback (most recent call last)",
      "\u001b[1;32m<ipython-input-50-b9e0809380d8>\u001b[0m in \u001b[0;36m<module>\u001b[1;34m\u001b[0m\n\u001b[1;32m----> 1\u001b[1;33m \u001b[0mnp\u001b[0m\u001b[1;33m.\u001b[0m\u001b[0mmatrix\u001b[0m\u001b[1;33m(\u001b[0m\u001b[0mboard\u001b[0m\u001b[1;33m)\u001b[0m\u001b[1;33m.\u001b[0m\u001b[0mastype\u001b[0m\u001b[1;33m(\u001b[0m\u001b[0mint\u001b[0m\u001b[1;33m)\u001b[0m\u001b[1;33m\u001b[0m\u001b[1;33m\u001b[0m\u001b[0m\n\u001b[0m",
      "\u001b[1;31mValueError\u001b[0m: invalid literal for int() with base 10: '.'"
     ]
    }
   ],
   "source": [
    "np.matrix(board).astype(int)"
   ]
  },
  {
   "cell_type": "code",
   "execution_count": null,
   "id": "4a800b0e-50e0-4488-bfff-e4bc955b6e0b",
   "metadata": {},
   "outputs": [],
   "source": [
    "d['row_wise'][0]"
   ]
  },
  {
   "cell_type": "code",
   "execution_count": 120,
   "id": "8787df6e-05ef-4dcb-94fb-e50f618ea5fd",
   "metadata": {},
   "outputs": [],
   "source": [
    "board = [[\"8\",\"3\",\".\",\".\",\"7\",\".\",\".\",\".\",\".\"]\n",
    ",[\"6\",\".\",\".\",\"1\",\"9\",\"5\",\".\",\".\",\".\"]\n",
    ",[\".\",\"9\",\"8\",\".\",\".\",\".\",\".\",\"6\",\".\"]\n",
    ",[\"8\",\".\",\".\",\".\",\"6\",\".\",\".\",\".\",\"3\"]\n",
    ",[\"4\",\".\",\".\",\"8\",\".\",\"3\",\".\",\".\",\"1\"]\n",
    ",[\"7\",\".\",\".\",\".\",\"2\",\".\",\".\",\".\",\"6\"]\n",
    ",[\".\",\"6\",\".\",\".\",\".\",\".\",\"2\",\"8\",\".\"]\n",
    ",[\".\",\".\",\".\",\"4\",\"1\",\"9\",\".\",\".\",\"5\"]\n",
    ",[\".\",\".\",\".\",\".\",\"8\",\".\",\".\",\"7\",\"9\"]]"
   ]
  },
  {
   "cell_type": "code",
   "execution_count": 121,
   "id": "6b17fd00-454d-4c00-9634-a47e46a664a9",
   "metadata": {},
   "outputs": [
    {
     "data": {
      "text/plain": [
       "False"
      ]
     },
     "execution_count": 121,
     "metadata": {},
     "output_type": "execute_result"
    }
   ],
   "source": [
    "a.isValidSudoku(board)"
   ]
  },
  {
   "cell_type": "code",
   "execution_count": 122,
   "id": "f01c6750-c88b-4b18-9647-9f6c3a60fe53",
   "metadata": {},
   "outputs": [
    {
     "data": {
      "text/plain": [
       "{'row_wise': {0: [8, 3, 7],\n",
       "  1: [6, 1, 9, 5],\n",
       "  2: [9, 8, 6],\n",
       "  3: [8, 6, 3],\n",
       "  4: [4, 8, 3, 1],\n",
       "  5: [7, 2, 6],\n",
       "  6: [6, 2, 8],\n",
       "  7: [4, 1, 9, 5],\n",
       "  8: [8, 7, 9]},\n",
       " 'col_wise': {0: [8, 6, 8, 4, 7],\n",
       "  1: [3, 9, 6],\n",
       "  2: [8],\n",
       "  3: [1, 8, 4],\n",
       "  4: [7, 9, 6, 2, 1, 8],\n",
       "  5: [5, 3, 9],\n",
       "  6: [2],\n",
       "  7: [6, 8, 7],\n",
       "  8: [3, 1, 6, 5, 9]},\n",
       " 'block_wise': {0: [8, 3, 6, 9, 8],\n",
       "  1: [7, 1, 9, 5],\n",
       "  2: [6],\n",
       "  3: [8, 4, 7],\n",
       "  4: [6, 8, 3, 2],\n",
       "  5: [3, 1, 6],\n",
       "  6: [6],\n",
       "  7: [4, 1, 9, 8],\n",
       "  8: [2, 8, 5, 7, 9]}}"
      ]
     },
     "execution_count": 122,
     "metadata": {},
     "output_type": "execute_result"
    }
   ],
   "source": [
    "a.board"
   ]
  },
  {
   "cell_type": "code",
   "execution_count": 111,
   "id": "e7da409b-1fb4-4e5d-b8e2-7d74516bc714",
   "metadata": {},
   "outputs": [
    {
     "data": {
      "text/plain": [
       "[[0, 0, 0, 1, 1, 1, 2, 2, 2],\n",
       " [0, 0, 0, 1, 1, 1, 2, 2, 2],\n",
       " [0, 0, 0, 1, 1, 1, 2, 2, 2],\n",
       " [3, 3, 3, 4, 4, 4, 5, 5, 5],\n",
       " [3, 3, 3, 4, 4, 4, 5, 5, 5],\n",
       " [3, 3, 3, 4, 4, 4, 5, 5, 5],\n",
       " [6, 6, 6, 7, 7, 7, 8, 8, 8],\n",
       " [6, 6, 6, 7, 7, 7, 8, 8, 8],\n",
       " [6, 6, 6, 7, 7, 7, 8, 8, 8]]"
      ]
     },
     "execution_count": 111,
     "metadata": {},
     "output_type": "execute_result"
    }
   ],
   "source": [
    "a.block_assignment"
   ]
  },
  {
   "cell_type": "code",
   "execution_count": 123,
   "id": "6865add4-f367-45ad-bf35-6fe4826361df",
   "metadata": {},
   "outputs": [],
   "source": [
    "board = [[\".\",\".\",\".\",\".\",\".\",\".\",\".\",\".\",\".\"],[\".\",\".\",\".\",\".\",\".\",\".\",\".\",\".\",\".\"],[\".\",\".\",\".\",\".\",\".\",\".\",\".\",\".\",\".\"],[\".\",\".\",\".\",\".\",\".\",\".\",\".\",\".\",\".\"],[\".\",\".\",\".\",\".\",\".\",\".\",\".\",\".\",\".\"],[\".\",\".\",\".\",\".\",\".\",\".\",\".\",\".\",\".\"],[\".\",\".\",\".\",\".\",\".\",\".\",\".\",\".\",\".\"],[\".\",\".\",\".\",\".\",\".\",\".\",\".\",\".\",\".\"],[\".\",\".\",\".\",\".\",\".\",\".\",\".\",\".\",\".\"]]"
   ]
  },
  {
   "cell_type": "code",
   "execution_count": 124,
   "id": "8d3e951f-7648-4e91-b702-3ee114b718cf",
   "metadata": {},
   "outputs": [
    {
     "ename": "IndexError",
     "evalue": "list index out of range",
     "output_type": "error",
     "traceback": [
      "\u001b[1;31m---------------------------------------------------------------------------\u001b[0m",
      "\u001b[1;31mIndexError\u001b[0m                                Traceback (most recent call last)",
      "\u001b[1;32m<ipython-input-124-3973d1342a06>\u001b[0m in \u001b[0;36m<module>\u001b[1;34m\u001b[0m\n\u001b[1;32m----> 1\u001b[1;33m \u001b[0ma\u001b[0m\u001b[1;33m.\u001b[0m\u001b[0misValidSudoku\u001b[0m\u001b[1;33m(\u001b[0m\u001b[0mboard\u001b[0m\u001b[1;33m)\u001b[0m\u001b[1;33m\u001b[0m\u001b[1;33m\u001b[0m\u001b[0m\n\u001b[0m",
      "\u001b[1;32m<ipython-input-116-ba557aa45723>\u001b[0m in \u001b[0;36misValidSudoku\u001b[1;34m(self, board)\u001b[0m\n\u001b[0;32m      6\u001b[0m             \u001b[0mslic\u001b[0m \u001b[1;33m=\u001b[0m \u001b[0mself\u001b[0m\u001b[1;33m.\u001b[0m\u001b[0mboard\u001b[0m\u001b[1;33m[\u001b[0m\u001b[0mkey\u001b[0m\u001b[1;33m]\u001b[0m\u001b[1;31m## either row wise, column wise or block wise\u001b[0m\u001b[1;33m\u001b[0m\u001b[1;33m\u001b[0m\u001b[0m\n\u001b[0;32m      7\u001b[0m             \u001b[1;32mfor\u001b[0m \u001b[0msk\u001b[0m \u001b[1;32min\u001b[0m \u001b[0mslic\u001b[0m\u001b[1;33m.\u001b[0m\u001b[0mkeys\u001b[0m\u001b[1;33m(\u001b[0m\u001b[1;33m)\u001b[0m\u001b[1;33m:\u001b[0m\u001b[1;33m\u001b[0m\u001b[1;33m\u001b[0m\u001b[0m\n\u001b[1;32m----> 8\u001b[1;33m                 \u001b[1;32mif\u001b[0m \u001b[0mCounter\u001b[0m\u001b[1;33m(\u001b[0m\u001b[0mslic\u001b[0m\u001b[1;33m[\u001b[0m\u001b[0msk\u001b[0m\u001b[1;33m]\u001b[0m\u001b[1;33m)\u001b[0m\u001b[1;33m.\u001b[0m\u001b[0mmost_common\u001b[0m\u001b[1;33m(\u001b[0m\u001b[1;33m)\u001b[0m\u001b[1;33m[\u001b[0m\u001b[1;36m0\u001b[0m\u001b[1;33m]\u001b[0m\u001b[1;33m[\u001b[0m\u001b[1;36m1\u001b[0m\u001b[1;33m]\u001b[0m \u001b[1;33m>\u001b[0m \u001b[1;36m1\u001b[0m\u001b[1;33m:\u001b[0m\u001b[1;33m\u001b[0m\u001b[1;33m\u001b[0m\u001b[0m\n\u001b[0m\u001b[0;32m      9\u001b[0m                     \u001b[1;32mreturn\u001b[0m \u001b[1;32mFalse\u001b[0m\u001b[1;33m\u001b[0m\u001b[1;33m\u001b[0m\u001b[0m\n\u001b[0;32m     10\u001b[0m                 \u001b[1;32mif\u001b[0m \u001b[0mmax\u001b[0m\u001b[1;33m(\u001b[0m\u001b[0mslic\u001b[0m\u001b[1;33m[\u001b[0m\u001b[0msk\u001b[0m\u001b[1;33m]\u001b[0m\u001b[1;33m)\u001b[0m\u001b[1;33m>\u001b[0m\u001b[1;36m9\u001b[0m\u001b[1;33m:\u001b[0m\u001b[1;33m\u001b[0m\u001b[1;33m\u001b[0m\u001b[0m\n",
      "\u001b[1;31mIndexError\u001b[0m: list index out of range"
     ]
    }
   ],
   "source": [
    "a.isValidSudoku(board)"
   ]
  },
  {
   "cell_type": "code",
   "execution_count": 125,
   "id": "0476da78-a669-4ade-8446-956e4c005d28",
   "metadata": {},
   "outputs": [
    {
     "data": {
      "text/plain": [
       "{'row_wise': {0: [], 1: [], 2: [], 3: [], 4: [], 5: [], 6: [], 7: [], 8: []},\n",
       " 'col_wise': {0: [], 1: [], 2: [], 3: [], 4: [], 5: [], 6: [], 7: [], 8: []},\n",
       " 'block_wise': {0: [], 1: [], 2: [], 3: [], 4: [], 5: [], 6: [], 7: [], 8: []}}"
      ]
     },
     "execution_count": 125,
     "metadata": {},
     "output_type": "execute_result"
    }
   ],
   "source": [
    "a.board"
   ]
  },
  {
   "cell_type": "code",
   "execution_count": 128,
   "id": "f10e2a65-ddad-446d-ae9b-c37c89d07907",
   "metadata": {},
   "outputs": [
    {
     "data": {
      "text/plain": [
       "False"
      ]
     },
     "execution_count": 128,
     "metadata": {},
     "output_type": "execute_result"
    }
   ],
   "source": [
    "Counter(a.board['row_wise'][0]) is None"
   ]
  },
  {
   "cell_type": "code",
   "execution_count": null,
   "id": "f20dd27b-d502-499e-a905-52d76cf69012",
   "metadata": {},
   "outputs": [],
   "source": []
  }
 ],
 "metadata": {
  "kernelspec": {
   "display_name": "Python 3",
   "language": "python",
   "name": "python3"
  },
  "language_info": {
   "codemirror_mode": {
    "name": "ipython",
    "version": 3
   },
   "file_extension": ".py",
   "mimetype": "text/x-python",
   "name": "python",
   "nbconvert_exporter": "python",
   "pygments_lexer": "ipython3",
   "version": "3.8.8"
  }
 },
 "nbformat": 4,
 "nbformat_minor": 5
}
